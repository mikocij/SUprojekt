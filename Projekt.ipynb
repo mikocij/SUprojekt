{
 "cells": [
  {
   "cell_type": "markdown",
   "id": "e247de4b",
   "metadata": {},
   "source": [
    "# STROJNO UČENJE - PROJEKT\n",
    "## EDA Student Performance Dataset\n",
    "### Predviđanje uspjeha učenika pomoću demografskih i socio-ekonomskih informacija"
   ]
  },
  {
   "cell_type": "markdown",
   "id": "33a8f5fe",
   "metadata": {},
   "source": [
    "# Sadržaj\n",
    "[Library Import](#Library-import)\n",
    "\n",
    "[Vizualizacija podataka](#Vizualizacija-podataka)\n",
    "\n",
    "- [Kategoričke varijable](#Kategoričke-značajke)\n",
    "\n",
    "- [Numeričke varijable](#Numeričke-značajke)\n",
    "\n",
    "- [Usporedba spola](#Usporedba-spola)\n",
    "\n",
    "\n",
    "[Feature Selection](#Feature-selection-&-encoding)\n",
    "\n",
    "[Modeli](#Modeli)\n",
    "- [Priprema podataka](#Priprema-podataka)\n",
    "\n",
    "    -[Label Encoding](#Label-encoding)\n",
    "    \n",
    "    -[Train-test Split](#Train-Test-Split)\n",
    "\n",
    "- [Regresija](#Modeli-linearne-regresije)\n",
    "\n",
    "    -[Linearna Regresija](#Linearna-regresija)\n",
    "    \n",
    "    -[Lasso](#MultitaskLasso-Regresija-(3-izlaza))\n",
    "    \n",
    "    -[Ridge](#Ridge-regresija)\n",
    "   \n",
    "- [Slučajne šume](#slučajne-šume)"
   ]
  },
  {
   "cell_type": "markdown",
   "id": "87de0fb5",
   "metadata": {},
   "source": [
    "# Library import"
   ]
  },
  {
   "cell_type": "code",
   "execution_count": 1,
   "id": "f8f91b17",
   "metadata": {},
   "outputs": [],
   "source": [
    "#%% Imports\n",
    "\n",
    "\n",
    "#SelectKBest, f_classif\n",
    "from sklearn.preprocessing import LabelEncoder\n",
    "from sklearn import feature_selection \n",
    "\n",
    "import squarify\n",
    "from sklearn.pipeline import Pipeline\n",
    "\n",
    "\n",
    "# Basic Imports \n",
    "import numpy as np\n",
    "import pandas as pd\n",
    "\n",
    "# Plotting \n",
    "import matplotlib.pyplot as plt\n",
    "import plotly.express as px\n",
    "import seaborn as sns\n",
    "%matplotlib inline\n",
    "\n",
    "# Preprocessing\n",
    "from sklearn.model_selection import train_test_split, KFold\n",
    "from sklearn.preprocessing import LabelEncoder\n",
    "\n",
    "# Metrics \n",
    "import sklearn.metrics\n",
    "from sklearn.metrics import mean_squared_error, mean_absolute_error, r2_score, explained_variance_score\n",
    "\n",
    "# ML Models\n",
    "import lightgbm as lgb\n",
    "from lightgbm import LGBMRegressor \n",
    "import xgboost as xg \n",
    "from sklearn.ensemble import RandomForestRegressor\n",
    "from sklearn import svm\n",
    "from sklearn.linear_model import LinearRegression, Ridge\n",
    "# Model Tuning \n",
    "from bayes_opt import BayesianOptimization\n",
    "\n",
    "# Feature Importance \n",
    "import shap\n",
    "\n",
    "# Ignore Warnings \n",
    "import warnings\n",
    "warnings.filterwarnings('ignore')\n",
    "\n"
   ]
  },
  {
   "cell_type": "markdown",
   "id": "f03095d2",
   "metadata": {},
   "source": [
    "# Import dataseta"
   ]
  },
  {
   "cell_type": "code",
   "execution_count": 2,
   "id": "227885ea",
   "metadata": {},
   "outputs": [],
   "source": [
    "df = pd.read_csv('StudentsPerformance.csv')\n",
    "\n",
    "df['AVERAGE'] = df[['math score', 'reading score','writing score']].mean(axis=1)"
   ]
  },
  {
   "cell_type": "markdown",
   "id": "4fa26408",
   "metadata": {},
   "source": [
    "# Vizualizacija podataka"
   ]
  },
  {
   "cell_type": "code",
   "execution_count": 3,
   "id": "efb0cc37",
   "metadata": {},
   "outputs": [
    {
     "data": {
      "text/html": [
       "<div>\n",
       "<style scoped>\n",
       "    .dataframe tbody tr th:only-of-type {\n",
       "        vertical-align: middle;\n",
       "    }\n",
       "\n",
       "    .dataframe tbody tr th {\n",
       "        vertical-align: top;\n",
       "    }\n",
       "\n",
       "    .dataframe thead th {\n",
       "        text-align: right;\n",
       "    }\n",
       "</style>\n",
       "<table border=\"1\" class=\"dataframe\">\n",
       "  <thead>\n",
       "    <tr style=\"text-align: right;\">\n",
       "      <th></th>\n",
       "      <th>gender</th>\n",
       "      <th>race/ethnicity</th>\n",
       "      <th>parental level of education</th>\n",
       "      <th>lunch</th>\n",
       "      <th>test preparation course</th>\n",
       "      <th>math score</th>\n",
       "      <th>reading score</th>\n",
       "      <th>writing score</th>\n",
       "      <th>AVERAGE</th>\n",
       "    </tr>\n",
       "  </thead>\n",
       "  <tbody>\n",
       "    <tr>\n",
       "      <th>0</th>\n",
       "      <td>female</td>\n",
       "      <td>group B</td>\n",
       "      <td>bachelor's degree</td>\n",
       "      <td>standard</td>\n",
       "      <td>none</td>\n",
       "      <td>72</td>\n",
       "      <td>72</td>\n",
       "      <td>74</td>\n",
       "      <td>72.666667</td>\n",
       "    </tr>\n",
       "    <tr>\n",
       "      <th>1</th>\n",
       "      <td>female</td>\n",
       "      <td>group C</td>\n",
       "      <td>some college</td>\n",
       "      <td>standard</td>\n",
       "      <td>completed</td>\n",
       "      <td>69</td>\n",
       "      <td>90</td>\n",
       "      <td>88</td>\n",
       "      <td>82.333333</td>\n",
       "    </tr>\n",
       "    <tr>\n",
       "      <th>2</th>\n",
       "      <td>female</td>\n",
       "      <td>group B</td>\n",
       "      <td>master's degree</td>\n",
       "      <td>standard</td>\n",
       "      <td>none</td>\n",
       "      <td>90</td>\n",
       "      <td>95</td>\n",
       "      <td>93</td>\n",
       "      <td>92.666667</td>\n",
       "    </tr>\n",
       "    <tr>\n",
       "      <th>3</th>\n",
       "      <td>male</td>\n",
       "      <td>group A</td>\n",
       "      <td>associate's degree</td>\n",
       "      <td>free/reduced</td>\n",
       "      <td>none</td>\n",
       "      <td>47</td>\n",
       "      <td>57</td>\n",
       "      <td>44</td>\n",
       "      <td>49.333333</td>\n",
       "    </tr>\n",
       "    <tr>\n",
       "      <th>4</th>\n",
       "      <td>male</td>\n",
       "      <td>group C</td>\n",
       "      <td>some college</td>\n",
       "      <td>standard</td>\n",
       "      <td>none</td>\n",
       "      <td>76</td>\n",
       "      <td>78</td>\n",
       "      <td>75</td>\n",
       "      <td>76.333333</td>\n",
       "    </tr>\n",
       "  </tbody>\n",
       "</table>\n",
       "</div>"
      ],
      "text/plain": [
       "   gender race/ethnicity parental level of education         lunch  \\\n",
       "0  female        group B           bachelor's degree      standard   \n",
       "1  female        group C                some college      standard   \n",
       "2  female        group B             master's degree      standard   \n",
       "3    male        group A          associate's degree  free/reduced   \n",
       "4    male        group C                some college      standard   \n",
       "\n",
       "  test preparation course  math score  reading score  writing score    AVERAGE  \n",
       "0                    none          72             72             74  72.666667  \n",
       "1               completed          69             90             88  82.333333  \n",
       "2                    none          90             95             93  92.666667  \n",
       "3                    none          47             57             44  49.333333  \n",
       "4                    none          76             78             75  76.333333  "
      ]
     },
     "execution_count": 3,
     "metadata": {},
     "output_type": "execute_result"
    }
   ],
   "source": [
    "\n",
    "df.head()"
   ]
  },
  {
   "cell_type": "raw",
   "id": "3d469c09",
   "metadata": {},
   "source": [
    "Skup podataka sastoji se od 8 stupaca i 1000 redaka, odnosno podataka o studentima:"
   ]
  },
  {
   "cell_type": "code",
   "execution_count": 4,
   "id": "6a1c0896",
   "metadata": {},
   "outputs": [
    {
     "data": {
      "text/plain": [
       "(1000, 9)"
      ]
     },
     "execution_count": 4,
     "metadata": {},
     "output_type": "execute_result"
    }
   ],
   "source": [
    "df.shape"
   ]
  },
  {
   "cell_type": "markdown",
   "id": "f8bfad76",
   "metadata": {},
   "source": [
    "## Kategoričke značajke"
   ]
  },
  {
   "cell_type": "code",
   "execution_count": 5,
   "id": "c5e7245e",
   "metadata": {},
   "outputs": [
    {
     "data": {
      "image/png": "[encoded data removed]",
      "text/plain": [
       "<Figure size 1080x1080 with 6 Axes>"
      ]
     },
     "metadata": {
      "needs_background": "light"
     },
     "output_type": "display_data"
    }
   ],
   "source": [
    "f, axes=plt.subplots(3, 2, figsize=(15, 15))\n",
    "for i in range(5):\n",
    "    plt.subplot(3, 2, i+1)\n",
    "    \n",
    "    df_grouped= df.groupby(df.columns[i]).size().reset_index(name='counts')\n",
    "    labels = df_grouped.apply(lambda x: str(x[0]) + \"\\n (\" + str(x[1]) + \")\", axis=1)\n",
    "    sizes = df_grouped['counts'].values.tolist()\n",
    "    colors = [plt.cm.Spectral(i/float(len(labels))) for i in range(len(labels))]\n",
    "    \n",
    "    if i % 2 == 1:\n",
    "       squarify.plot(sizes=sizes, label=labels, color=colors, alpha=.8)\n",
    "    else:\n",
    "        plt.pie(sizes, labels=labels, colors=colors)\n",
    "    plt.title(df.columns[i].upper())\n",
    "    plt.axis('off')\n",
    "    \n",
    "plt.subplot(3, 2, 6)\n",
    "plt.axis('off')\n",
    "plt.show()"
   ]
  },
  {
   "cell_type": "markdown",
   "id": "e4d2ec9e",
   "metadata": {},
   "source": [
    "## Numeričke značajke "
   ]
  },
  {
   "cell_type": "code",
   "execution_count": 6,
   "id": "20a90386",
   "metadata": {},
   "outputs": [
    {
     "data": {
      "image/png": "[encoded data removed]",
      "text/plain": [
       "<Figure size 720x720 with 4 Axes>"
      ]
     },
     "metadata": {
      "needs_background": "light"
     },
     "output_type": "display_data"
    }
   ],
   "source": [
    "df.hist(figsize=(10,10),bins = 20)\n",
    "plt.show()"
   ]
  },
  {
   "cell_type": "markdown",
   "id": "f1233589",
   "metadata": {},
   "source": [
    "## Usporedba spola"
   ]
  },
  {
   "cell_type": "code",
   "execution_count": 7,
   "id": "5debd57f",
   "metadata": {},
   "outputs": [
    {
     "data": {
      "image/png": "[encoded data removed]",
      "text/plain": [
       "<Figure size 720x576 with 1 Axes>"
      ]
     },
     "metadata": {
      "needs_background": "light"
     },
     "output_type": "display_data"
    }
   ],
   "source": [
    "df['Total score'] = ((df['math score']+df['writing score']+df['reading score'])/3).round(2)\n",
    "plt.figure(figsize = (10,8))\n",
    "sns.barplot(data = df, x = 'gender', y = 'Total score', ci = False)\n",
    "plt.xticks(fontsize = 12)\n",
    "plt.xlabel('Gender', fontsize = 15)\n",
    "plt.yticks(fontsize = 12)\n",
    "plt.ylabel('Total score', fontsize = 15)\n",
    "plt.show()\n",
    "\n",
    " \n",
    "    "
   ]
  },
  {
   "cell_type": "markdown",
   "id": "7f751770",
   "metadata": {},
   "source": [
    "## Utjecaj priprema za ispit na rezultate "
   ]
  },
  {
   "cell_type": "code",
   "execution_count": 8,
   "id": "a079bcc5",
   "metadata": {},
   "outputs": [
    {
     "data": {
      "image/png": "[encoded data removed]",
      "text/plain": [
       "<Figure size 864x432 with 1 Axes>"
      ]
     },
     "metadata": {
      "needs_background": "light"
     },
     "output_type": "display_data"
    }
   ],
   "source": [
    "plt.figure(figsize = (12,6))\n",
    "sns.barplot(data = df, x = 'test preparation course', y = 'Total score', hue = 'gender', ci = False)\n",
    "plt.xlabel('Test Preparation status', fontsize = 15)\n",
    "plt.xticks(rotation = 45)\n",
    "plt.ylabel('Percentage scored', fontsize = 15)\n",
    "plt.show()\n",
    "\n",
    "df = df.drop([\"Total score\"],axis = 'columns')"
   ]
  },
  {
   "cell_type": "markdown",
   "id": "16013c8a",
   "metadata": {},
   "source": [
    "# Feature selection & encoding"
   ]
  },
  {
   "cell_type": "markdown",
   "id": "5eb99bdf",
   "metadata": {},
   "source": [
    "## Kodiranje atributa"
   ]
  },
  {
   "cell_type": "markdown",
   "id": "d718287f",
   "metadata": {},
   "source": [
    "Moramo napraviti preinake u našim podacima. Točnije, smetaju nam kategoričke varijable pošto algoritmi strojnog učenja ne rade sa kategoričkim varijablama. Postoji više pristupa tom problemu: \n",
    "\n",
    "    - One Hot Encoding (funkcija get_dummies)\n",
    "    - Biblioteka LabelEncoder\n",
    "    - Ručno, pomoću funkcije replace\n",
    "    \n",
    "Referenca: https://pbpython.com/categorical-encoding.html"
   ]
  },
  {
   "cell_type": "code",
   "execution_count": 9,
   "id": "47ca786a",
   "metadata": {},
   "outputs": [
    {
     "name": "stdout",
     "output_type": "stream",
     "text": [
      "gender  -->  ['female' 'male']\n",
      "race/ethnicity  -->  ['group B' 'group C' 'group A' 'group D' 'group E']\n",
      "parental level of education  -->  [\"bachelor's degree\" 'some college' \"master's degree\" \"associate's degree\"\n",
      " 'high school' 'some high school']\n",
      "lunch  -->  ['standard' 'free/reduced']\n",
      "test preparation course  -->  ['none' 'completed']\n"
     ]
    }
   ],
   "source": [
    "# moramo napraviti label encoding\n",
    "# pogledajmo prvo koje su nam vrijednosti u svakom stupcu\n",
    "for col in df:\n",
    "    if col == 'math score':\n",
    "        break\n",
    "    print(col, ' --> ', df[col].unique())"
   ]
  },
  {
   "cell_type": "code",
   "execution_count": 10,
   "id": "39854903",
   "metadata": {},
   "outputs": [],
   "source": [
    "def find_and_replace(data):\n",
    "    cleanup_nums = {\n",
    "        'gender': { \"female\": 0, 'male': 1 },\n",
    "        'race/ethnicity': { 'group A': 0, 'group B': 1, 'group C': 2, 'group D': 3, 'group E': 4 },\n",
    "        'parental level of education': { 'some high school': 0, 'high school': 1,\n",
    "                                        \"associate's degree\": 2, 'some college': 3,\n",
    "                                        \"bachelor's degree\": 4, \"master's degree\": 5,  },\n",
    "        'lunch': { 'standard': 0, 'free/reduced': 1 },\n",
    "        'test preparation course': { 'none': 0, 'completed': 1 },\n",
    "    }\n",
    "    return df.replace(cleanup_nums)\n",
    "\n",
    "#one hot encoding\n",
    "def one_hot_encoding(data):\n",
    "    # we rename first and last columns for scalability, so we dont have to change our code in multiple places\n",
    "    return pd.get_dummies(data, columns=['gender', 'race/ethnicity', \\\n",
    "                                       'parental level of education', \\\n",
    "                                       'lunch', 'test preparation course'], \\\n",
    "                          drop_first=True) \\\n",
    "            .rename(columns={\\\n",
    "                             'gender_male' : 'gender',\\\n",
    "                             'test preparation course_none' : 'test preparation course'\\\n",
    "                            })\n",
    "\n",
    "\n",
    "\n",
    "\n",
    "def encode_data(table_input,enc_type=\"ONEHOT\",removeY=True):\n",
    "    \n",
    "    table= table_input.copy()\n",
    "    #target= table[\"AVERAGE\"]\n",
    "    if removeY:\n",
    "        table = table.drop([\"math score\",\"reading score\",\"writing score\",\"AVERAGE\"],axis = 'columns') \n",
    "    \n",
    "    \n",
    "    if enc_type == \"ONEHOT\":\n",
    "        table = table.apply(lambda x: x.astype('category')) \n",
    "        table = pd.get_dummies(table,drop_first= True)\n",
    "        return table\n",
    "        #return one_hot_encoding(table)\n",
    "        \n",
    "    elif enc_type == \"LABEL\":\n",
    "        categorical_features = table.select_dtypes(['object','category']).columns.to_list()\n",
    "        labelencoder = LabelEncoder()\n",
    "        for i in categorical_features:\n",
    "            table[i] = labelencoder.fit_transform(table[i])\n",
    "            \n",
    "        return table\n",
    "    else:\n",
    "        return find_and_replace(table)\n",
    "    \n",
    "#Kako koristiti:\n",
    "\n",
    "#X_features_encoded = encode_data(SP_csv_clean,enc_type=\"ONE HOT\")\n",
    "#X_features_encoded\n",
    "\n",
    "#X_features_encoded = encode_data(SP_csv_clean,enc_type=\"LABEL\")\n",
    "#X_features_encoded"
   ]
  },
  {
   "cell_type": "markdown",
   "id": "ac939181",
   "metadata": {},
   "source": [
    "## Feature selection"
   ]
  },
  {
   "cell_type": "code",
   "execution_count": 11,
   "id": "757c1340",
   "metadata": {},
   "outputs": [],
   "source": [
    "def odaberi(algorithm,k,train_X, train_y,yname=\"not given\"):\n",
    "    selector = feature_selection.SelectKBest(algorithm, k)\n",
    "    selector.fit(train_X, train_y)\n",
    "    scores = -np.log10(selector.pvalues_)\n",
    "    indices = np.argsort(scores)[::-1] # Vrati indekse koji sortiraju polje (obratno)\n",
    "\n",
    "    plt.figure(figsize=(7,5))\n",
    "    plt.plot(range(train_X.shape[1]), scores[indices], 'o', color='gray')\n",
    "    plt.title(f'Univarijantni odabir znacajki za najvaznijih {k_best} znacajki')\n",
    "    plt.ylabel(f'log p-vrijednosti metode {yname}')\n",
    "    plt.xlim([-1, train_X.shape[1]])\n",
    "    plt.xticks(range(train_X.shape[1]), train_X.columns.values[indices], rotation=90)\n",
    "    plt.vlines(k_best-0.5, 0, np.max(scores), color='red', linestyle='--')\n",
    "    plt.grid(True,linestyle='--')\n",
    "    plt.tight_layout()\n",
    "\n",
    "    [ i.set_color(\"red\") for i in plt.gca().get_xticklabels() if i.get_text()[:5] == 'noise' ]\n",
    "\n",
    "    plt.show()"
   ]
  },
  {
   "cell_type": "markdown",
   "id": "89dafe7c",
   "metadata": {},
   "source": [
    "### 1.Odabir encodinga za feature selection : ONE HOT ENCODING"
   ]
  },
  {
   "cell_type": "code",
   "execution_count": 12,
   "id": "e3684b07",
   "metadata": {
    "scrolled": true
   },
   "outputs": [],
   "source": [
    "X_features_encoded = encode_data(df,enc_type=\"ONEHOT\")\n",
    "Y = df[\"AVERAGE\"]\n",
    "k_best = int(len(X_features_encoded.columns)*0.8) "
   ]
  },
  {
   "cell_type": "code",
   "execution_count": 13,
   "id": "2ff8f04e",
   "metadata": {},
   "outputs": [],
   "source": [
    "train_X_N, valid_X_N, train_y_N, valid_y_N = train_test_split(\n",
    "    X_features_encoded, \n",
    "    Y, \n",
    "    test_size=0.2, \n",
    "    shuffle = True, \n",
    "    random_state=1\n",
    ")\n",
    "\n",
    "train_y_N=train_y_N.astype('int')\n"
   ]
  },
  {
   "cell_type": "markdown",
   "id": "24b8d0b3",
   "metadata": {},
   "source": [
    "### Rezultat s metodom: f_regression"
   ]
  },
  {
   "cell_type": "code",
   "execution_count": 14,
   "id": "0aa38574",
   "metadata": {},
   "outputs": [
    {
     "data": {
      "image/png": "[encoded data removed]",
      "text/plain": [
       "<Figure size 504x360 with 1 Axes>"
      ]
     },
     "metadata": {
      "needs_background": "light"
     },
     "output_type": "display_data"
    }
   ],
   "source": [
    "odaberi(feature_selection.f_regression,k_best,train_X_N, train_y_N,yname=\"f_regression\")"
   ]
  },
  {
   "cell_type": "markdown",
   "id": "07a35719",
   "metadata": {},
   "source": [
    "### Rezultat s metodom: chi2"
   ]
  },
  {
   "cell_type": "code",
   "execution_count": 15,
   "id": "ae79b78d",
   "metadata": {
    "scrolled": true
   },
   "outputs": [
    {
     "data": {
      "image/png": "[encoded data removed]",
      "text/plain": [
       "<Figure size 504x360 with 1 Axes>"
      ]
     },
     "metadata": {
      "needs_background": "light"
     },
     "output_type": "display_data"
    }
   ],
   "source": [
    "odaberi(feature_selection.chi2,k_best,train_X_N, train_y_N,yname=\"Chi2\")"
   ]
  },
  {
   "cell_type": "markdown",
   "id": "0409bec5",
   "metadata": {},
   "source": [
    "### 2.Odabir encodinga za feature selection : LABEL\n"
   ]
  },
  {
   "cell_type": "code",
   "execution_count": 16,
   "id": "b8c6c233",
   "metadata": {},
   "outputs": [],
   "source": [
    "X_features_encoded = encode_data(df,enc_type=\"LABEL\")\n",
    "Y = df[\"AVERAGE\"]\n",
    "\n",
    "k_best = int(len(X_features_encoded.columns)*0.8) "
   ]
  },
  {
   "cell_type": "code",
   "execution_count": 17,
   "id": "c8385482",
   "metadata": {},
   "outputs": [],
   "source": [
    "train_X_N, valid_X_N, train_y_N, valid_y_N = train_test_split(\n",
    "    X_features_encoded, \n",
    "    Y, \n",
    "    test_size=0.2, \n",
    "    shuffle = True, \n",
    "    random_state=1\n",
    ")\n",
    "\n",
    "train_y_N=train_y_N.astype('int')"
   ]
  },
  {
   "cell_type": "markdown",
   "id": "da4d1af6",
   "metadata": {},
   "source": [
    "### Rezultat s metodom: f_regression"
   ]
  },
  {
   "cell_type": "code",
   "execution_count": 18,
   "id": "4f3d30ca",
   "metadata": {},
   "outputs": [
    {
     "data": {
      "image/png": "[encoded data removed]",
      "text/plain": [
       "<Figure size 504x360 with 1 Axes>"
      ]
     },
     "metadata": {
      "needs_background": "light"
     },
     "output_type": "display_data"
    }
   ],
   "source": [
    "odaberi(feature_selection.f_regression,k_best,train_X_N, train_y_N,yname=\"f_regression\")"
   ]
  },
  {
   "cell_type": "markdown",
   "id": "da479200",
   "metadata": {},
   "source": [
    "### Rezultat s metodom: chi2"
   ]
  },
  {
   "cell_type": "code",
   "execution_count": 19,
   "id": "4d7ae356",
   "metadata": {},
   "outputs": [
    {
     "data": {
      "image/png": "[encoded data removed]",
      "text/plain": [
       "<Figure size 504x360 with 1 Axes>"
      ]
     },
     "metadata": {
      "needs_background": "light"
     },
     "output_type": "display_data"
    }
   ],
   "source": [
    "odaberi(feature_selection.chi2,k_best,train_X_N, train_y_N,yname=\"Chi2\")"
   ]
  },
  {
   "cell_type": "markdown",
   "id": "382f449a",
   "metadata": {},
   "source": [
    "# Modeli"
   ]
  },
  {
   "cell_type": "markdown",
   "id": "d1c1e011",
   "metadata": {},
   "source": [
    "Na raspolaganju imamo puno različitih algoritama strojnog učenja koje možemo primjeniti na ovaj problem. Ideja je da prvo krenemo od jednostavnijih, pa nadograđujemo prema onim kompleksnijim modelima. \n",
    "Za početak ćemo iskoristiti sljedeće algoritme:\n",
    "        \n",
    "        - Algoritmi regresije\n",
    "        - Support vector machines (SVM)\n",
    "        - Slučajne šume"
   ]
  },
  {
   "cell_type": "markdown",
   "id": "c69dbb86",
   "metadata": {},
   "source": [
    "## Priprema podataka"
   ]
  },
  {
   "cell_type": "markdown",
   "id": "bc4c1644",
   "metadata": {},
   "source": [
    "### Funkcije za ispis grešaka"
   ]
  },
  {
   "cell_type": "code",
   "execution_count": 20,
   "id": "af044c79",
   "metadata": {},
   "outputs": [],
   "source": [
    "def residual(true,pred):\n",
    "    resid = true - pred\n",
    "    print( np.sqrt(np.mean(resid*resid)) )\n",
    "def evaluateRegressor(true,predicted,message = \"Test set\"):\n",
    "    MSE = mean_squared_error(true,predicted,squared = True)\n",
    "    MAE = mean_absolute_error(true,predicted)\n",
    "    RMSE = mean_squared_error(true,predicted,squared = False)\n",
    "    R_squared = r2_score(true,predicted)\n",
    "    print(message)\n",
    "    print(\"MSE:\", MSE)\n",
    "    print(\"MAE:\", MAE)\n",
    "    print(\"RMSE:\", RMSE)\n",
    "    print(f\"R-squared: {R_squared} , from <0,1> \")"
   ]
  },
  {
   "cell_type": "markdown",
   "id": "4d4660a4",
   "metadata": {},
   "source": [
    "### Train Test Split\n",
    "Pošto nemamo unaprijed zadane trening i test podatke, uobičajeno je podijeliti cijelu našu bazu u dio za trening i dio za test. Najčešće se koristi sklearn funkcija train_test_split koja prima postotak podataka koji želimo da bude testni. U našem slučaju stavit ćemo 20% (800 trening, 200 test podataka)."
   ]
  },
  {
   "cell_type": "code",
   "execution_count": 21,
   "id": "40923068",
   "metadata": {},
   "outputs": [],
   "source": [
    "X_features_encoded = encode_data(df,enc_type=\"LABEL\")\n",
    "Y = df[\"AVERAGE\"]\n",
    "\n",
    "Y_class= pd.cut(Y,\n",
    "       5, labels=[1,2,3,4,5])\n",
    "\n",
    "train_X, valid_X, train_y, valid_y = train_test_split(\n",
    "    X_features_encoded, \n",
    "    Y, \n",
    "    test_size=0.2, \n",
    "    shuffle = True, \n",
    "    #random_state=1\n",
    ")\n",
    "\n",
    "#train_y_N=train_y_N.astype('int')"
   ]
  },
  {
   "cell_type": "code",
   "execution_count": 22,
   "id": "7dfa6dbf",
   "metadata": {},
   "outputs": [],
   "source": [
    "df_temp = df.copy()\n",
    "df_temp['Total score'] = ((df['math score']+df['writing score']+df['reading score'])/3).round(2)\n",
    "df_temp=df_temp.drop([\"AVERAGE\"],axis = 'columns')"
   ]
  },
  {
   "cell_type": "code",
   "execution_count": 23,
   "id": "c8fd3a27",
   "metadata": {},
   "outputs": [],
   "source": [
    "df2 = one_hot_encoding(df_temp)\n",
    "train, test = train_test_split(df2, test_size=0.2)\n",
    "features = train.loc[:, 'gender' : 'test preparation course']\n",
    "targets = train.loc[:, 'math score' : 'Total score']"
   ]
  },
  {
   "cell_type": "markdown",
   "id": "20905cb3",
   "metadata": {},
   "source": [
    "Ako ce nam trebat skalirani podaci ,tu su"
   ]
  },
  {
   "cell_type": "code",
   "execution_count": 24,
   "id": "2e78bd2d",
   "metadata": {},
   "outputs": [],
   "source": [
    "from sklearn.preprocessing import StandardScaler\n",
    "scaler = StandardScaler()\n",
    "\n",
    "train_X_scaled = scaler.fit_transform(train_X)\n",
    "valid_X_scaled = scaler.transform(valid_X)"
   ]
  },
  {
   "cell_type": "markdown",
   "id": "a19c2ca0",
   "metadata": {},
   "source": [
    "## Modeli linearne regresije"
   ]
  },
  {
   "cell_type": "markdown",
   "id": "83250207",
   "metadata": {},
   "source": [
    "Osnovni algoritam regresije (a i cijele teorije strojnog učenja) je linearna regresija. Osim nje, postoje i neke modifikacije. Svaka ima svoje prednosti i mane, zbog kojih se sve koriste u određenim situacijama. Mi ćemo iskoristiti Lasso i Ridge, te usporediti rezultate svih."
   ]
  },
  {
   "cell_type": "markdown",
   "id": "3f9b8776",
   "metadata": {},
   "source": [
    "### Linearna Regresija"
   ]
  },
  {
   "cell_type": "code",
   "execution_count": 25,
   "id": "9c85001b",
   "metadata": {},
   "outputs": [
    {
     "name": "stdout",
     "output_type": "stream",
     "text": [
      "[[60.03411265 67.27410766 64.86005934 64.05655282]\n",
      " [61.98816095 68.39951706 65.96169682 65.44941147]\n",
      " [72.31745226 80.12134538 84.31763122 78.91854872]\n",
      " [53.12986366 63.26856836 61.31320243 59.23717469]\n",
      " [69.37473496 65.17187348 63.80633934 66.1176093 ]\n",
      " [65.22195082 72.29319004 71.07647828 69.53071664]\n",
      " [49.97493115 61.48210379 58.24082905 56.56631766]\n",
      " [77.9963522  75.37046686 76.8660181  76.74444721]\n",
      " [79.2264724  72.90425965 70.82378482 74.31812151]\n",
      " [69.08267128 63.93202179 61.60008709 64.87172981]\n",
      " [63.99309274 70.98568487 70.48543585 68.48781418]\n",
      " [61.16667563 75.61973845 77.26934395 71.35194139]\n",
      " [85.96397862 79.12890356 79.89955695 81.66413565]\n",
      " [57.89148367 70.03334351 70.98592559 66.30354741]\n",
      " [62.63722875 58.94722958 54.73056721 58.77159516]\n",
      " [71.74170988 69.93391417 68.31810267 69.99747662]\n",
      " [74.08024811 77.42413874 75.72497267 75.74295342]\n",
      " [66.98008986 63.16913902 58.64537951 62.9311039 ]\n",
      " [80.97482532 87.91520302 90.15202416 86.34696167]\n",
      " [67.55583225 73.35657023 74.64490806 71.852176  ]\n",
      " [68.89240995 72.40505636 69.50855373 70.2687896 ]\n",
      " [66.77161887 73.49875156 73.93583147 71.40256696]\n",
      " [68.27662001 65.73974378 62.589599   65.535338  ]\n",
      " [64.79573267 74.03888281 74.53278249 71.12292554]\n",
      " [67.66228976 74.87126356 75.550787   72.69511531]\n",
      " [55.21941505 69.03497016 68.4414089  64.23173393]\n",
      " [69.98357083 79.0579652  80.74920143 76.59708936]\n",
      " [60.73521174 60.23561431 56.09975593 59.02344066]\n",
      " [70.8310242  78.94296517 80.92832642 76.90056998]\n",
      " [59.84454086 58.86310231 54.4848004  57.73089232]\n",
      " [70.54282937 65.54002438 62.80485173 66.29546573]\n",
      " [66.1126217  73.66570204 72.69143381 70.82326498]\n",
      " [60.3089936  61.98130708 59.55606014 60.61564957]\n",
      " [58.78215456 71.40585551 72.60088112 67.59609576]\n",
      " [72.3440613  67.2331797  65.57833941 68.38552615]\n",
      " [69.73200695 78.57037139 80.83506694 76.37887926]\n",
      " [81.2023586  72.3641284  70.2268338  74.59776293]\n",
      " [60.79185749 62.7693983  60.08391684 61.21469312]\n",
      " [68.69806701 75.21667604 76.17399809 73.36293444]\n",
      " [58.42542145 66.0286317  61.8022246  62.08504964]\n",
      " [63.99309274 70.98568487 70.48543585 68.48781418]\n",
      " [66.49722597 62.3810478  58.11752281 62.33206035]\n",
      " [74.46485238 66.1394845  61.15106167 67.25174879]\n",
      " [65.27859656 74.82697403 75.06063919 71.72196909]\n",
      " [75.62991617 78.62970026 78.58432586 77.61480374]\n",
      " [65.22195082 72.29319004 71.07647828 69.53071664]\n",
      " [61.39420891 60.06866383 57.34415359 59.60274264]\n",
      " [63.3773028  64.32037229 63.56648112 63.75436257]\n",
      " [63.99309274 70.98568487 70.48543585 68.48781418]\n",
      " [58.70230609 57.0029965  52.95571038 56.22013388]\n",
      " [72.42390977 81.63603872 85.22351015 79.76148803]\n",
      " [60.03411265 67.27410766 64.86005934 64.05655282]\n",
      " [65.60655509 61.0085358  56.50256728 61.03951201]\n",
      " [55.54737358 55.21653193 49.88333699 53.54927685]\n",
      " [63.51022885 70.19759365 69.95757915 67.88877063]\n",
      " [74.4137785  70.93228753 70.86261935 72.0692901 ]\n",
      " [66.1126217  73.66570204 72.69143381 70.82326498]\n",
      " [57.06478631 65.21280143 63.08805927 61.78863598]\n",
      " [70.79439325 66.02761819 62.71898622 66.51367582]\n",
      " [70.87424172 80.4304772  82.36415696 77.8896377 ]\n",
      " [66.15582893 66.83343898 67.01687674 66.66911536]\n",
      " [74.46485238 66.1394845  61.15106167 67.25174879]\n",
      " [62.63722875 58.94722958 54.73056721 58.77159516]\n",
      " [74.4137785  70.93228753 70.86261935 72.0692901 ]\n",
      " [58.13281889 56.76750592 53.36590126 56.08894631]\n",
      " [75.59264422 85.70774032 90.60104958 83.9669427 ]\n",
      " [70.8310242  78.94296517 80.92832642 76.90056998]\n",
      " [68.27184887 76.96236881 79.6303023  74.95514335]\n",
      " [66.77161887 73.49875156 73.93583147 71.40256696]\n",
      " [55.21941505 69.03497016 68.4414089  64.23173393]\n",
      " [59.29788268 69.25772168 70.79916545 66.45200126]\n",
      " [71.68506414 67.40013019 64.33394175 67.80622417]\n",
      " [66.1126217  73.66570204 72.69143381 70.82326498]\n",
      " [70.24773507 76.42223756 79.03335128 75.23478477]\n",
      " [56.71243736 67.70674769 67.31660118 63.9123318 ]\n",
      " [71.25884599 69.14582295 67.79024597 69.39843307]\n",
      " [64.97038694 71.80559623 71.16234379 69.31250654]\n",
      " [70.8310242  78.94296517 80.92832642 76.90056998]\n",
      " [63.99309274 70.98568487 70.48543585 68.48781418]\n",
      " [64.07971605 70.43308423 69.54738826 68.0199582 ]\n",
      " [72.42390977 81.63603872 85.22351015 79.76148803]\n",
      " [78.84186813 84.18891389 85.39769582 82.80932614]\n",
      " [69.08267128 63.93202179 61.60008709 64.87172981]\n",
      " [64.97038694 71.80559623 71.16234379 69.31250654]\n",
      " [72.31745226 80.12134538 84.31763122 78.91854872]\n",
      " [79.70933629 73.69235087 71.35164152 74.91716505]\n",
      " [46.59779781 58.83637678 55.38173015 53.60489602]\n",
      " [57.74821462 68.05216017 67.93981226 64.58015094]\n",
      " [70.87424172 80.4304772  82.36415696 77.8896377 ]\n",
      " [78.51045578 69.29846107 65.83839059 71.21515416]\n",
      " [63.32065706 61.78658831 59.58232021 61.56311012]\n",
      " [67.55583225 73.35657023 74.64490806 71.852176  ]\n",
      " [75.8201775  70.1566657  70.67585922 72.21774395]\n",
      " [69.73200695 78.57037139 80.83506694 76.37887926]\n",
      " [60.51697655 68.06219887 65.38791604 64.65559637]\n",
      " [70.3681751  67.77331095 66.17529043 68.10588473]\n",
      " [73.12827468 67.09099837 66.28741601 68.83513519]\n",
      " [70.87424172 80.4304772  82.36415696 77.8896377 ]\n",
      " [62.30927022 72.7656678  73.28863912 69.45405224]\n",
      " [60.79185749 62.7693983  60.08391684 61.21469312]\n",
      " [58.78215456 71.40585551 72.60088112 67.59609576]\n",
      " [58.78215456 71.40585551 72.60088112 67.59609576]\n",
      " [69.63194512 69.75692498 72.11439655 70.50133317]\n",
      " [55.16276931 66.50118617 64.45724799 62.04048148]\n",
      " [79.65269055 71.15856688 67.36748061 72.7259126 ]\n",
      " [74.4137785  70.93228753 70.86261935 72.0692901 ]\n",
      " [56.71243736 67.70674769 67.31660118 63.9123318 ]\n",
      " [77.9963522  75.37046686 76.8660181  76.74444721]\n",
      " [70.85103899 68.56140217 66.70314714 68.70492828]\n",
      " [77.9963522  75.37046686 76.8660181  76.74444721]\n",
      " [71.68506414 67.40013019 64.33394175 67.80622417]\n",
      " [59.03371844 71.89344932 72.51501561 67.81430585]\n",
      " [59.59297698 58.3755085  54.57066591 57.51268222]\n",
      " [52.17024024 52.57080492 47.02423809 50.5878552 ]\n",
      " [70.54282937 65.54002438 62.80485173 66.29546573]\n",
      " [65.60655509 61.0085358  56.50256728 61.03951201]\n",
      " [62.17842229 59.9264825  58.05323018 60.05235168]\n",
      " [65.87200972 75.13655316 77.44811134 72.81841407]\n",
      " [70.24773507 76.42223756 79.03335128 75.23478477]\n",
      " [79.03212946 75.71587933 77.48922918 77.41226635]\n",
      " [66.16926745 76.19948603 76.67559472 73.01451744]\n",
      " [74.46485238 66.1394845  61.15106167 67.25174879]\n",
      " [66.49722597 62.3810478  58.11752281 62.33206035]\n",
      " [67.66228976 74.87126356 75.550787   72.69511531]\n",
      " [67.35490801 76.01947917 75.83080662 73.06835217]\n",
      " [73.46445817 70.75882616 68.80601794 71.00950181]\n",
      " [72.58668692 70.73108711 70.61970931 71.31213169]\n",
      " [68.84133606 77.19785939 79.22011141 75.08633092]\n",
      " [77.8898947  73.85577352 75.96013916 75.90150791]\n",
      " [61.36759987 72.95682951 76.08344539 70.13576522]\n",
      " [72.93801335 75.56403293 74.19588264 74.23219497]\n",
      " [60.92478354 68.64661966 66.47501487 65.34910117]\n",
      " [57.2957265  70.2274753  69.21157632 65.57811701]\n",
      " [67.62978895 70.7266786  70.52680742 69.62744891]\n",
      " [71.68506414 67.40013019 64.33394175 67.80622417]\n",
      " [63.99309274 70.98568487 70.48543585 68.48781418]\n",
      " [73.12827468 67.09099837 66.28741601 68.83513519]\n",
      " [71.44445216 68.87098131 69.09061928 69.80137325]\n",
      " [71.25884599 69.14582295 67.79024597 69.39843307]\n",
      " [84.41431056 77.92334204 77.04020376 79.79228532]\n",
      " [59.59297698 58.3755085  54.57066591 57.51268222]\n",
      " [58.70230609 57.0029965  52.95571038 56.22013388]\n",
      " [69.08267128 63.93202179 61.60008709 64.87172981]\n",
      " [65.68640355 75.41139481 76.14773802 72.41547389]\n",
      " [64.79573267 74.03888281 74.53278249 71.12292554]\n",
      " [66.49722597 62.3810478  58.11752281 62.33206035]\n",
      " [56.44899637 58.54748886 56.16910454 57.05518437]\n",
      " [79.65269055 71.15856688 67.36748061 72.7259126 ]\n",
      " [75.01412622 71.96438768 71.66537113 72.88135214]\n",
      " [64.97038694 71.80559623 71.16234379 69.31250654]\n",
      " [78.51045578 69.29846107 65.83839059 71.21515416]\n",
      " [77.8898947  73.85577352 75.96013916 75.90150791]\n",
      " [70.85103899 68.56140217 66.70314714 68.70492828]\n",
      " [64.07971605 70.43308423 69.54738826 68.0199582 ]\n",
      " [68.69806701 75.21667604 76.17399809 73.36293444]\n",
      " [60.51697655 68.06219887 65.38791604 64.65559637]\n",
      " [62.05734652 76.99225045 78.88429948 72.64448973]\n",
      " [72.42390977 81.63603872 85.22351015 79.76148803]\n",
      " [57.32199647 69.79785293 71.39611647 66.17235984]\n",
      " [69.56553518 64.72011301 62.12794379 65.47077336]\n",
      " [61.63683453 63.56657124 62.38552348 62.52934819]\n",
      " [53.12986366 63.26856836 61.31320243 59.23717469]\n",
      " [60.92478354 68.64661966 66.47501487 65.34910117]\n",
      " [61.11038971 68.37177801 67.77538819 65.75204135]\n",
      " [75.01412622 71.96438768 71.66537113 72.88135214]\n",
      " [77.8898947  73.85577352 75.96013916 75.90150791]\n",
      " [72.31745226 80.12134538 84.31763122 78.91854872]\n",
      " [65.22195082 72.29319004 71.07647828 69.53071664]\n",
      " [58.42542145 66.0286317  61.8022246  62.08504964]\n",
      " [60.03411265 67.27410766 64.86005934 64.05655282]\n",
      " [51.30277208 63.06736795 61.07029239 58.48001628]\n",
      " [59.92438932 73.26596132 74.12997114 69.1068542 ]\n",
      " [54.02053454 64.64108036 62.92815796 60.52972304]\n",
      " [70.85103899 68.56140217 66.70314714 68.70492828]\n",
      " [70.8310242  78.94296517 80.92832642 76.90056998]\n",
      " [54.6567027  53.84401993 48.26838146 52.2567285 ]\n",
      " [54.27209842 65.12867417 62.84229246 60.74793313]\n",
      " [84.41431056 77.92334204 77.04020376 79.79228532]\n",
      " [51.30277208 63.06736795 61.07029239 58.48001628]\n",
      " [63.51022885 70.19759365 69.95757915 67.88877063]\n",
      " [73.23473219 68.6056917  67.19329494 69.67807449]\n",
      " [49.08426026 60.10959178 56.62587352 55.27376932]\n",
      " [68.70283816 63.99405101 59.13329479 63.94312909]\n",
      " [61.97749805 62.58939144 59.23912874 61.26852785]\n",
      " [53.12986366 63.26856836 61.31320243 59.23717469]\n",
      " [50.45779504 62.270195   58.76868575 57.16536121]\n",
      " [68.7594839  66.527835   63.1174557  66.13438155]\n",
      " [60.03411265 67.27410766 64.86005934 64.05655282]\n",
      " [56.71243736 67.70674769 67.31660118 63.9123318 ]\n",
      " [50.87655393 64.81306071 64.5265966  60.07222519]\n",
      " [68.27184887 76.96236881 79.6303023  74.95514335]\n",
      " [69.08267128 63.93202179 61.60008709 64.87172981]\n",
      " [73.8442913  70.69679695 71.27281024 71.93810253]\n",
      " [55.54737358 55.21653193 49.88333699 53.54927685]\n",
      " [66.1126217  73.66570204 72.69143381 70.82326498]\n",
      " [70.54282937 65.54002438 62.80485173 66.29546573]\n",
      " [79.70933629 73.69235087 71.35164152 74.91716505]\n",
      " [63.32065706 61.78658831 59.58232021 61.56311012]\n",
      " [79.03212946 75.71587933 77.48922918 77.41226635]\n",
      " [56.71243736 67.70674769 67.31660118 63.9123318 ]]\n",
      "Objasnjena varijanca = 0.25\n",
      "R2 = 0.25\n",
      "MSE = 175.18\n"
     ]
    }
   ],
   "source": [
    "model = Pipeline([ ('linear', LinearRegression()) ])\n",
    "model = model.fit(features, targets)\n",
    "\n",
    "regr_pred = model.predict(test.loc[:, 'gender' : 'test preparation course'])\n",
    "print(regr_pred)\n",
    "\n",
    "correct_scores = test.loc[:, 'math score' : 'Total score']\n",
    "explained_variance = explained_variance_score(correct_scores, regr_pred)\n",
    "R2 = r2_score(correct_scores, regr_pred)\n",
    "MSE = mean_squared_error(correct_scores, regr_pred)\n",
    "\n",
    "print('Objasnjena varijanca = '+'{0:.2f}'.format(explained_variance)+'\\nR2 = '+'{0:.2f}'.format(R2)+'\\nMSE = '+'{0:.2f}'.format(MSE))"
   ]
  },
  {
   "cell_type": "code",
   "execution_count": 26,
   "id": "efe50f3a",
   "metadata": {},
   "outputs": [],
   "source": [
    "def lin_reg(X,y):\n",
    "    LinearReg = LinearRegression(normalize = True)\n",
    "    LinearReg = LinearReg.fit(X,y)\n",
    "\n",
    "    return LinearReg\n"
   ]
  },
  {
   "cell_type": "code",
   "execution_count": 27,
   "id": "230d807f",
   "metadata": {},
   "outputs": [],
   "source": [
    "model_LINEAR = lin_reg(train_X,train_y)\n",
    "\n",
    "predicted_valid_y = model_LINEAR.predict(valid_X)"
   ]
  },
  {
   "cell_type": "code",
   "execution_count": 28,
   "id": "413df37e",
   "metadata": {},
   "outputs": [
    {
     "name": "stdout",
     "output_type": "stream",
     "text": [
      "12.48878197891483\n",
      "Test set\n",
      "MSE: 155.9696753168678\n",
      "MAE: 9.972645125317916\n",
      "RMSE: 12.48878197891483\n",
      "R-squared: 0.13477459309591522 , from <0,1> \n"
     ]
    }
   ],
   "source": [
    "residual(valid_y, predicted_valid_y)\n",
    "evaluateRegressor(valid_y, predicted_valid_y)"
   ]
  },
  {
   "cell_type": "markdown",
   "id": "eac4ff29",
   "metadata": {},
   "source": [
    "### MultitaskLasso Regresija (3 izlaza)"
   ]
  },
  {
   "cell_type": "code",
   "execution_count": 29,
   "id": "9b004bc2",
   "metadata": {},
   "outputs": [],
   "source": [
    "X_lasso =df.drop([\"math score\",\"reading score\",\"writing score\",\"AVERAGE\"],axis = 'columns') \n",
    "Y_3_lasso =df[[\"math score\",\"reading score\",\"writing score\"]]\n",
    "\n",
    "X_lasso = encode_data(X_lasso,enc_type=\"LABEL\",removeY=False)"
   ]
  },
  {
   "cell_type": "code",
   "execution_count": 30,
   "id": "18afe7d8",
   "metadata": {},
   "outputs": [],
   "source": [
    "train_X_lasso, valid_X_lasso, train_y_lasso, valid_y_lasso = train_test_split(\n",
    "    X_lasso, \n",
    "    Y_3_lasso, \n",
    "    test_size=0.2, \n",
    "    shuffle = True, \n",
    "    #random_state=1\n",
    ")"
   ]
  },
  {
   "cell_type": "code",
   "execution_count": 31,
   "id": "f899f9c7",
   "metadata": {},
   "outputs": [],
   "source": [
    "# import linear model library\n",
    "from sklearn import linear_model\n",
    "  \n",
    "# create MultiTaskLasso model\n",
    "MTL = linear_model.MultiTaskLasso(alpha = 0.5)\n",
    "\n",
    "# fit the model to a data\n",
    "#MTL.fit([[1, 0], [1, 3], [2, 2]], [[0, 2], [1, 4], [2, 4]])\n",
    "MTL.fit(train_X_lasso,train_y_lasso)\n",
    "\n",
    "pred=MTL.predict(valid_X_lasso)\n",
    "# perform prediction and print the result\n",
    "#print(\"Prediciton result: \\n\", MTL.predict(valid_X_lasso), \"\\n\")\n",
    "  \n",
    "# print the coefficients\n",
    "#print(\"Coefficients: \\n\", MTL.coef_, \"\\n\")\n",
    "  \n",
    "# print the intercepts\n",
    "#print(\"Intercepts: \\n\", MTL.intercept_, \"\\n\")\n",
    "  \n",
    "# print the number of iterations performed\n",
    "#print(\"Number of Iterations: \", MTL.n_iter_, \"\\n\")"
   ]
  },
  {
   "cell_type": "code",
   "execution_count": 32,
   "id": "12aa198c",
   "metadata": {},
   "outputs": [
    {
     "name": "stdout",
     "output_type": "stream",
     "text": [
      "math score       13.623600\n",
      "reading score    13.935680\n",
      "writing score    13.541493\n",
      "dtype: float64\n",
      "\n",
      "Scores:\n",
      "Test set\n",
      "MSE: 187.72589465164185\n",
      "MAE: 10.947498704598301\n",
      "RMSE: 13.700257637032381\n",
      "R-squared: 0.16810796619924104 , from <0,1> \n"
     ]
    }
   ],
   "source": [
    "residual(valid_y_lasso, pred)\n",
    "\n",
    "print(\"\\nScores:\")\n",
    "evaluateRegressor(valid_y_lasso, pred)"
   ]
  },
  {
   "cell_type": "markdown",
   "id": "5428a2ae",
   "metadata": {},
   "source": [
    "## Ridge regresija"
   ]
  },
  {
   "cell_type": "code",
   "execution_count": 33,
   "id": "e7e734bb",
   "metadata": {},
   "outputs": [
    {
     "name": "stdout",
     "output_type": "stream",
     "text": [
      "Objasnjena varijanca = 0.26\n",
      "R2 = 0.26\n",
      "MSE = 174.48\n"
     ]
    },
    {
     "data": {
      "image/png": "[encoded data removed]",
      "text/plain": [
       "<Figure size 1080x324 with 3 Axes>"
      ]
     },
     "metadata": {
      "needs_background": "light"
     },
     "output_type": "display_data"
    }
   ],
   "source": [
    "fig, ax = plt.subplots(1, 3, figsize=(15, 4.5))\n",
    "alpha_array = np.linspace(0.01, 20.0, 100)\n",
    "R2 = []\n",
    "MSE = []\n",
    "explained_variance = []\n",
    "\n",
    "for alpha in alpha_array:\n",
    "    model_ridge = Pipeline( [ ('ridge', Ridge(alpha=alpha)) ] )\n",
    "    model_ridge = model_ridge.fit(features, targets)\n",
    "    #R2_ridge = model_ridge.score(test.loc[:, 'gender' : 'test preparation course'], correct_scores)\n",
    "    regr_pred = model_ridge.predict(test.loc[:, 'gender' : 'test preparation course'])\n",
    "    explained_variance.append(explained_variance_score(correct_scores, regr_pred))\n",
    "    R2.append(r2_score(correct_scores, regr_pred))\n",
    "    MSE.append(mean_squared_error(correct_scores, regr_pred))\n",
    "\n",
    "def avg(arr):\n",
    "    return sum(arr) / len(arr)\n",
    "\n",
    "print('Objasnjena varijanca = '+'{0:.2f}'.format(avg(explained_variance))+'\\nR2 = '+'{0:.2f}'.format(avg(R2))+'\\nMSE = '+'{0:.2f}'.format(avg(MSE)))\n",
    "ax[0].plot(alpha_array, R2)\n",
    "ax[0].set(xlabel='alpha', ylabel='R^2')\n",
    "ax[1].plot(alpha_array, MSE)\n",
    "ax[1].set(xlabel='alpha', ylabel='MSE')\n",
    "ax[2].plot(alpha_array, explained_variance)\n",
    "ax[2].set(xlabel='alpha', ylabel='Objasnjena varijanca')\n",
    "\n",
    "plt.show()"
   ]
  },
  {
   "cell_type": "markdown",
   "id": "4914852e",
   "metadata": {},
   "source": [
    "## XGBoost"
   ]
  },
  {
   "cell_type": "code",
   "execution_count": null,
   "id": "727ec684",
   "metadata": {},
   "outputs": [],
   "source": []
  },
  {
   "cell_type": "code",
   "execution_count": null,
   "id": "dcb2f550",
   "metadata": {},
   "outputs": [],
   "source": []
  },
  {
   "cell_type": "markdown",
   "id": "dad5824b",
   "metadata": {},
   "source": [
    "## LightGBM"
   ]
  },
  {
   "cell_type": "code",
   "execution_count": 34,
   "id": "47fab67b",
   "metadata": {},
   "outputs": [
    {
     "name": "stdout",
     "output_type": "stream",
     "text": [
      "    Training Set\n",
      "MSE: 136.62946975410622\n",
      "MAE: 9.378511717372376\n",
      "RMSE: 11.688860926288164\n",
      "R-squared: 0.3384019985043043 , from <0,1> \n",
      "    Test Set\n",
      "MSE: 170.87290119417526\n",
      "MAE: 10.354070378606702\n",
      "RMSE: 13.071836182961261\n",
      "R-squared: 0.05210051143433547 , from <0,1> \n"
     ]
    }
   ],
   "source": [
    "LGBMReg = lgb.LGBMRegressor(random_state=0).fit(train_X,train_y)\n",
    "\n",
    "predicted_train_y = LGBMReg.predict(train_X)\n",
    "evaluateRegressor(train_y,predicted_train_y,\"    Training Set\")\n",
    "predicted_valid_y = LGBMReg.predict(valid_X)\n",
    "evaluateRegressor(valid_y,predicted_valid_y,\"    Test Set\")"
   ]
  },
  {
   "cell_type": "code",
   "execution_count": 35,
   "id": "2c2467a0",
   "metadata": {},
   "outputs": [
    {
     "data": {
      "text/plain": [
       "<AxesSubplot:title={'center':'Feature importance'}, xlabel='Feature importance', ylabel='Features'>"
      ]
     },
     "execution_count": 35,
     "metadata": {},
     "output_type": "execute_result"
    },
    {
     "data": {
      "image/png": "[encoded data removed]",
      "text/plain": [
       "<Figure size 1800x1440 with 1 Axes>"
      ]
     },
     "metadata": {
      "needs_background": "light"
     },
     "output_type": "display_data"
    }
   ],
   "source": [
    "lgb.plot_importance(LGBMReg,figsize=(25,20))"
   ]
  },
  {
   "cell_type": "code",
   "execution_count": 36,
   "id": "73e44490",
   "metadata": {},
   "outputs": [
    {
     "data": {
      "image/png": "[encoded data removed]",
      "text/plain": [
       "<Figure size 576x252 with 2 Axes>"
      ]
     },
     "metadata": {
      "needs_background": "light"
     },
     "output_type": "display_data"
    }
   ],
   "source": [
    "#LGBMReg.params['objective'] = 'regression'\n",
    "shap_values = shap.TreeExplainer(LGBMReg).shap_values(train_X)\n",
    "shap.summary_plot(shap_values, train_X)"
   ]
  },
  {
   "cell_type": "markdown",
   "id": "a4651dd3",
   "metadata": {},
   "source": [
    "## CATBoost"
   ]
  },
  {
   "cell_type": "code",
   "execution_count": 37,
   "id": "923033da",
   "metadata": {},
   "outputs": [
    {
     "name": "stdout",
     "output_type": "stream",
     "text": [
      "0:\tlearn: 13.1719877\ttotal: 136ms\tremaining: 27.1s\n",
      "1:\tlearn: 12.8803549\ttotal: 137ms\tremaining: 13.6s\n",
      "2:\tlearn: 12.6910379\ttotal: 138ms\tremaining: 9.07s\n",
      "3:\tlearn: 12.6092057\ttotal: 139ms\tremaining: 6.81s\n",
      "4:\tlearn: 12.5912744\ttotal: 142ms\tremaining: 5.53s\n",
      "5:\tlearn: 12.5741885\ttotal: 143ms\tremaining: 4.62s\n",
      "6:\tlearn: 12.5582826\ttotal: 144ms\tremaining: 3.96s\n",
      "7:\tlearn: 12.5462713\ttotal: 145ms\tremaining: 3.47s\n",
      "8:\tlearn: 12.5270601\ttotal: 146ms\tremaining: 3.09s\n",
      "9:\tlearn: 12.4937532\ttotal: 147ms\tremaining: 2.78s\n",
      "10:\tlearn: 12.4610152\ttotal: 147ms\tremaining: 2.53s\n",
      "11:\tlearn: 12.4507256\ttotal: 148ms\tremaining: 2.32s\n",
      "12:\tlearn: 12.4427831\ttotal: 149ms\tremaining: 2.15s\n",
      "13:\tlearn: 12.4273182\ttotal: 151ms\tremaining: 2s\n",
      "14:\tlearn: 12.4209541\ttotal: 152ms\tremaining: 1.87s\n",
      "15:\tlearn: 12.4086981\ttotal: 153ms\tremaining: 1.75s\n",
      "16:\tlearn: 12.4032934\ttotal: 154ms\tremaining: 1.65s\n",
      "17:\tlearn: 12.3932314\ttotal: 155ms\tremaining: 1.56s\n",
      "18:\tlearn: 12.3888057\ttotal: 156ms\tremaining: 1.49s\n",
      "19:\tlearn: 12.3875888\ttotal: 157ms\tremaining: 1.41s\n",
      "20:\tlearn: 12.3849835\ttotal: 158ms\tremaining: 1.34s\n",
      "21:\tlearn: 12.3667139\ttotal: 159ms\tremaining: 1.28s\n",
      "22:\tlearn: 12.3630516\ttotal: 160ms\tremaining: 1.23s\n",
      "23:\tlearn: 12.3621790\ttotal: 162ms\tremaining: 1.19s\n",
      "24:\tlearn: 12.3545891\ttotal: 163ms\tremaining: 1.14s\n",
      "25:\tlearn: 12.3520875\ttotal: 164ms\tremaining: 1.1s\n",
      "26:\tlearn: 12.3389155\ttotal: 165ms\tremaining: 1.06s\n",
      "27:\tlearn: 12.3358719\ttotal: 166ms\tremaining: 1.02s\n",
      "28:\tlearn: 12.3332004\ttotal: 169ms\tremaining: 995ms\n",
      "29:\tlearn: 12.3303773\ttotal: 170ms\tremaining: 966ms\n",
      "30:\tlearn: 12.3280078\ttotal: 171ms\tremaining: 934ms\n",
      "31:\tlearn: 12.3239756\ttotal: 172ms\tremaining: 905ms\n",
      "32:\tlearn: 12.3224477\ttotal: 173ms\tremaining: 877ms\n",
      "33:\tlearn: 12.3200535\ttotal: 175ms\tremaining: 853ms\n",
      "34:\tlearn: 12.3192945\ttotal: 176ms\tremaining: 828ms\n",
      "35:\tlearn: 12.3175839\ttotal: 176ms\tremaining: 804ms\n",
      "36:\tlearn: 12.3171974\ttotal: 179ms\tremaining: 787ms\n",
      "37:\tlearn: 12.3161962\ttotal: 180ms\tremaining: 769ms\n",
      "38:\tlearn: 12.3145418\ttotal: 181ms\tremaining: 748ms\n",
      "39:\tlearn: 12.3140341\ttotal: 182ms\tremaining: 728ms\n",
      "40:\tlearn: 12.3140337\ttotal: 183ms\tremaining: 710ms\n",
      "41:\tlearn: 12.3095913\ttotal: 184ms\tremaining: 692ms\n",
      "42:\tlearn: 12.3052380\ttotal: 185ms\tremaining: 676ms\n",
      "43:\tlearn: 12.3051058\ttotal: 186ms\tremaining: 660ms\n",
      "44:\tlearn: 12.3026187\ttotal: 187ms\tremaining: 644ms\n",
      "45:\tlearn: 12.2993897\ttotal: 188ms\tremaining: 630ms\n",
      "46:\tlearn: 12.2986975\ttotal: 189ms\tremaining: 615ms\n",
      "47:\tlearn: 12.2983859\ttotal: 190ms\tremaining: 601ms\n",
      "48:\tlearn: 12.2980575\ttotal: 191ms\tremaining: 587ms\n",
      "49:\tlearn: 12.2971885\ttotal: 191ms\tremaining: 574ms\n",
      "50:\tlearn: 12.2966372\ttotal: 192ms\tremaining: 562ms\n",
      "51:\tlearn: 12.2965445\ttotal: 194ms\tremaining: 552ms\n",
      "52:\tlearn: 12.2964344\ttotal: 195ms\tremaining: 540ms\n",
      "53:\tlearn: 12.2948751\ttotal: 196ms\tremaining: 529ms\n",
      "54:\tlearn: 12.2932985\ttotal: 198ms\tremaining: 522ms\n",
      "55:\tlearn: 12.2926479\ttotal: 199ms\tremaining: 512ms\n",
      "56:\tlearn: 12.2913891\ttotal: 200ms\tremaining: 501ms\n",
      "57:\tlearn: 12.2911584\ttotal: 201ms\tremaining: 491ms\n",
      "58:\tlearn: 12.2904845\ttotal: 201ms\tremaining: 481ms\n",
      "59:\tlearn: 12.2899082\ttotal: 202ms\tremaining: 472ms\n",
      "60:\tlearn: 12.2896218\ttotal: 203ms\tremaining: 463ms\n",
      "61:\tlearn: 12.2893844\ttotal: 204ms\tremaining: 454ms\n",
      "62:\tlearn: 12.2893135\ttotal: 205ms\tremaining: 446ms\n",
      "63:\tlearn: 12.2873689\ttotal: 207ms\tremaining: 440ms\n",
      "64:\tlearn: 12.2869488\ttotal: 208ms\tremaining: 432ms\n",
      "65:\tlearn: 12.2861981\ttotal: 209ms\tremaining: 424ms\n",
      "66:\tlearn: 12.2850800\ttotal: 210ms\tremaining: 416ms\n",
      "67:\tlearn: 12.2849435\ttotal: 211ms\tremaining: 409ms\n",
      "68:\tlearn: 12.2846110\ttotal: 212ms\tremaining: 403ms\n",
      "69:\tlearn: 12.2837432\ttotal: 213ms\tremaining: 396ms\n",
      "70:\tlearn: 12.2835223\ttotal: 214ms\tremaining: 389ms\n",
      "71:\tlearn: 12.2826435\ttotal: 217ms\tremaining: 385ms\n",
      "72:\tlearn: 12.2823248\ttotal: 217ms\tremaining: 378ms\n",
      "73:\tlearn: 12.2823143\ttotal: 218ms\tremaining: 372ms\n",
      "74:\tlearn: 12.2819158\ttotal: 219ms\tremaining: 365ms\n",
      "75:\tlearn: 12.2815129\ttotal: 220ms\tremaining: 359ms\n",
      "76:\tlearn: 12.2815099\ttotal: 221ms\tremaining: 352ms\n",
      "77:\tlearn: 12.2812999\ttotal: 222ms\tremaining: 346ms\n",
      "78:\tlearn: 12.2805636\ttotal: 223ms\tremaining: 341ms\n",
      "79:\tlearn: 12.2803594\ttotal: 223ms\tremaining: 335ms\n",
      "80:\tlearn: 12.2791072\ttotal: 225ms\tremaining: 331ms\n",
      "81:\tlearn: 12.2791010\ttotal: 226ms\tremaining: 326ms\n",
      "82:\tlearn: 12.2788800\ttotal: 227ms\tremaining: 320ms\n",
      "83:\tlearn: 12.2788608\ttotal: 228ms\tremaining: 315ms\n",
      "84:\tlearn: 12.2788340\ttotal: 229ms\tremaining: 310ms\n",
      "85:\tlearn: 12.2783558\ttotal: 230ms\tremaining: 304ms\n",
      "86:\tlearn: 12.2782650\ttotal: 230ms\tremaining: 299ms\n",
      "87:\tlearn: 12.2779425\ttotal: 231ms\tremaining: 294ms\n",
      "88:\tlearn: 12.2773406\ttotal: 232ms\tremaining: 289ms\n",
      "89:\tlearn: 12.2773248\ttotal: 232ms\tremaining: 284ms\n",
      "90:\tlearn: 12.2766538\ttotal: 233ms\tremaining: 279ms\n",
      "91:\tlearn: 12.2766285\ttotal: 234ms\tremaining: 274ms\n",
      "92:\tlearn: 12.2751407\ttotal: 235ms\tremaining: 270ms\n",
      "93:\tlearn: 12.2750760\ttotal: 235ms\tremaining: 265ms\n",
      "94:\tlearn: 12.2750213\ttotal: 237ms\tremaining: 261ms\n",
      "95:\tlearn: 12.2749608\ttotal: 237ms\tremaining: 257ms\n",
      "96:\tlearn: 12.2749602\ttotal: 238ms\tremaining: 253ms\n",
      "97:\tlearn: 12.2749553\ttotal: 239ms\tremaining: 249ms\n",
      "98:\tlearn: 12.2743788\ttotal: 240ms\tremaining: 245ms\n",
      "99:\tlearn: 12.2743032\ttotal: 241ms\tremaining: 241ms\n",
      "100:\tlearn: 12.2743022\ttotal: 241ms\tremaining: 237ms\n",
      "101:\tlearn: 12.2742727\ttotal: 242ms\tremaining: 233ms\n",
      "102:\tlearn: 12.2742691\ttotal: 243ms\tremaining: 229ms\n",
      "103:\tlearn: 12.2742688\ttotal: 244ms\tremaining: 225ms\n",
      "104:\tlearn: 12.2742665\ttotal: 244ms\tremaining: 221ms\n",
      "105:\tlearn: 12.2738083\ttotal: 245ms\tremaining: 217ms\n",
      "106:\tlearn: 12.2737615\ttotal: 246ms\tremaining: 214ms\n",
      "107:\tlearn: 12.2737570\ttotal: 247ms\tremaining: 210ms\n",
      "108:\tlearn: 12.2731669\ttotal: 248ms\tremaining: 207ms\n",
      "109:\tlearn: 12.2730207\ttotal: 248ms\tremaining: 203ms\n",
      "110:\tlearn: 12.2730067\ttotal: 249ms\tremaining: 200ms\n",
      "111:\tlearn: 12.2722667\ttotal: 250ms\tremaining: 196ms\n",
      "112:\tlearn: 12.2721509\ttotal: 251ms\tremaining: 193ms\n",
      "113:\tlearn: 12.2720575\ttotal: 252ms\tremaining: 190ms\n",
      "114:\tlearn: 12.2714391\ttotal: 253ms\tremaining: 187ms\n",
      "115:\tlearn: 12.2714363\ttotal: 254ms\tremaining: 184ms\n",
      "116:\tlearn: 12.2712832\ttotal: 254ms\tremaining: 180ms\n",
      "117:\tlearn: 12.2710733\ttotal: 255ms\tremaining: 177ms\n",
      "118:\tlearn: 12.2709074\ttotal: 256ms\tremaining: 174ms\n",
      "119:\tlearn: 12.2708920\ttotal: 257ms\tremaining: 171ms\n",
      "120:\tlearn: 12.2708240\ttotal: 257ms\tremaining: 168ms\n",
      "121:\tlearn: 12.2704517\ttotal: 258ms\tremaining: 165ms\n",
      "122:\tlearn: 12.2698448\ttotal: 259ms\tremaining: 162ms\n",
      "123:\tlearn: 12.2694298\ttotal: 260ms\tremaining: 159ms\n",
      "124:\tlearn: 12.2692615\ttotal: 261ms\tremaining: 157ms\n",
      "125:\tlearn: 12.2692615\ttotal: 262ms\tremaining: 154ms\n",
      "126:\tlearn: 12.2690315\ttotal: 263ms\tremaining: 151ms\n",
      "127:\tlearn: 12.2690258\ttotal: 264ms\tremaining: 148ms\n",
      "128:\tlearn: 12.2684622\ttotal: 265ms\tremaining: 146ms\n",
      "129:\tlearn: 12.2675486\ttotal: 265ms\tremaining: 143ms\n",
      "130:\tlearn: 12.2675466\ttotal: 266ms\tremaining: 140ms\n",
      "131:\tlearn: 12.2675466\ttotal: 267ms\tremaining: 138ms\n",
      "132:\tlearn: 12.2675112\ttotal: 268ms\tremaining: 135ms\n",
      "133:\tlearn: 12.2675082\ttotal: 269ms\tremaining: 132ms\n",
      "134:\tlearn: 12.2670953\ttotal: 270ms\tremaining: 130ms\n",
      "135:\tlearn: 12.2670952\ttotal: 270ms\tremaining: 127ms\n",
      "136:\tlearn: 12.2668303\ttotal: 271ms\tremaining: 125ms\n",
      "137:\tlearn: 12.2666967\ttotal: 272ms\tremaining: 122ms\n",
      "138:\tlearn: 12.2666481\ttotal: 273ms\tremaining: 120ms\n",
      "139:\tlearn: 12.2666463\ttotal: 274ms\tremaining: 118ms\n",
      "140:\tlearn: 12.2665600\ttotal: 275ms\tremaining: 115ms\n",
      "141:\tlearn: 12.2662047\ttotal: 276ms\tremaining: 113ms\n",
      "142:\tlearn: 12.2659001\ttotal: 277ms\tremaining: 110ms\n",
      "143:\tlearn: 12.2658735\ttotal: 277ms\tremaining: 108ms\n",
      "144:\tlearn: 12.2655792\ttotal: 279ms\tremaining: 106ms\n",
      "145:\tlearn: 12.2655788\ttotal: 280ms\tremaining: 104ms\n",
      "146:\tlearn: 12.2655772\ttotal: 281ms\tremaining: 101ms\n",
      "147:\tlearn: 12.2653431\ttotal: 282ms\tremaining: 99ms\n",
      "148:\tlearn: 12.2653328\ttotal: 283ms\tremaining: 96.7ms\n",
      "149:\tlearn: 12.2653270\ttotal: 283ms\tremaining: 94.5ms\n",
      "150:\tlearn: 12.2652241\ttotal: 284ms\tremaining: 92.3ms\n",
      "151:\tlearn: 12.2651554\ttotal: 285ms\tremaining: 90ms\n",
      "152:\tlearn: 12.2651526\ttotal: 286ms\tremaining: 87.8ms\n",
      "153:\tlearn: 12.2646984\ttotal: 287ms\tremaining: 85.6ms\n",
      "154:\tlearn: 12.2646948\ttotal: 288ms\tremaining: 83.5ms\n",
      "155:\tlearn: 12.2646894\ttotal: 290ms\tremaining: 81.7ms\n",
      "156:\tlearn: 12.2646889\ttotal: 291ms\tremaining: 79.6ms\n",
      "157:\tlearn: 12.2646377\ttotal: 291ms\tremaining: 77.5ms\n",
      "158:\tlearn: 12.2644003\ttotal: 292ms\tremaining: 75.4ms\n",
      "159:\tlearn: 12.2643958\ttotal: 293ms\tremaining: 73.4ms\n",
      "160:\tlearn: 12.2641559\ttotal: 295ms\tremaining: 71.5ms\n",
      "161:\tlearn: 12.2640076\ttotal: 296ms\tremaining: 69.4ms\n",
      "162:\tlearn: 12.2637883\ttotal: 297ms\tremaining: 67.5ms\n",
      "163:\tlearn: 12.2636440\ttotal: 298ms\tremaining: 65.5ms\n",
      "164:\tlearn: 12.2636157\ttotal: 299ms\tremaining: 63.4ms\n",
      "165:\tlearn: 12.2636141\ttotal: 300ms\tremaining: 61.4ms\n",
      "166:\tlearn: 12.2636140\ttotal: 301ms\tremaining: 59.4ms\n",
      "167:\tlearn: 12.2636131\ttotal: 302ms\tremaining: 57.4ms\n",
      "168:\tlearn: 12.2635661\ttotal: 302ms\tremaining: 55.5ms\n",
      "169:\tlearn: 12.2633998\ttotal: 305ms\tremaining: 53.8ms\n",
      "170:\tlearn: 12.2630998\ttotal: 306ms\tremaining: 51.9ms\n",
      "171:\tlearn: 12.2630879\ttotal: 307ms\tremaining: 49.9ms\n",
      "172:\tlearn: 12.2629873\ttotal: 308ms\tremaining: 48ms\n",
      "173:\tlearn: 12.2629865\ttotal: 308ms\tremaining: 46.1ms\n",
      "174:\tlearn: 12.2629864\ttotal: 309ms\tremaining: 44.2ms\n",
      "175:\tlearn: 12.2629864\ttotal: 310ms\tremaining: 42.3ms\n",
      "176:\tlearn: 12.2629193\ttotal: 311ms\tremaining: 40.4ms\n",
      "177:\tlearn: 12.2628985\ttotal: 312ms\tremaining: 38.6ms\n",
      "178:\tlearn: 12.2628885\ttotal: 313ms\tremaining: 36.8ms\n",
      "179:\tlearn: 12.2628868\ttotal: 315ms\tremaining: 35ms\n",
      "180:\tlearn: 12.2628771\ttotal: 316ms\tremaining: 33.2ms\n",
      "181:\tlearn: 12.2627594\ttotal: 317ms\tremaining: 31.3ms\n",
      "182:\tlearn: 12.2627460\ttotal: 318ms\tremaining: 29.5ms\n",
      "183:\tlearn: 12.2627433\ttotal: 319ms\tremaining: 27.7ms\n",
      "184:\tlearn: 12.2627409\ttotal: 320ms\tremaining: 26ms\n",
      "185:\tlearn: 12.2627408\ttotal: 321ms\tremaining: 24.2ms\n",
      "186:\tlearn: 12.2627354\ttotal: 322ms\tremaining: 22.4ms\n",
      "187:\tlearn: 12.2627349\ttotal: 323ms\tremaining: 20.6ms\n",
      "188:\tlearn: 12.2625309\ttotal: 325ms\tremaining: 18.9ms\n",
      "189:\tlearn: 12.2625207\ttotal: 326ms\tremaining: 17.1ms\n",
      "190:\tlearn: 12.2623769\ttotal: 326ms\tremaining: 15.4ms\n",
      "191:\tlearn: 12.2623737\ttotal: 327ms\tremaining: 13.6ms\n",
      "192:\tlearn: 12.2620863\ttotal: 328ms\tremaining: 11.9ms\n",
      "193:\tlearn: 12.2620376\ttotal: 329ms\tremaining: 10.2ms\n",
      "194:\tlearn: 12.2620317\ttotal: 330ms\tremaining: 8.46ms\n",
      "195:\tlearn: 12.2620156\ttotal: 331ms\tremaining: 6.75ms\n",
      "196:\tlearn: 12.2620082\ttotal: 332ms\tremaining: 5.05ms\n",
      "197:\tlearn: 12.2618269\ttotal: 333ms\tremaining: 3.37ms\n",
      "198:\tlearn: 12.2618253\ttotal: 335ms\tremaining: 1.68ms\n",
      "199:\tlearn: 12.2618242\ttotal: 336ms\tremaining: 0us\n"
     ]
    },
    {
     "data": {
      "text/plain": [
       "<catboost.core.CatBoostRegressor at 0x295360ba670>"
      ]
     },
     "execution_count": 37,
     "metadata": {},
     "output_type": "execute_result"
    }
   ],
   "source": [
    "from catboost import CatBoostRegressor\n",
    "# Initialize data\n",
    "\n",
    "train_data = train_X\n",
    "\n",
    "eval_data = valid_X\n",
    "\n",
    "train_labels = train_y\n",
    "\n",
    "# Initialize CatBoostRegressor\n",
    "model = CatBoostRegressor(iterations=200,\n",
    "                          learning_rate=1,\n",
    "                          depth=2)\n",
    "# Fit model\n",
    "model.fit(train_data, train_labels)\n"
   ]
  },
  {
   "cell_type": "code",
   "execution_count": 38,
   "id": "8390c5d7",
   "metadata": {},
   "outputs": [],
   "source": [
    "# Get predictions\n",
    "pred_train= model.predict(train_data)\n",
    "pred = model.predict(eval_data)"
   ]
  },
  {
   "cell_type": "code",
   "execution_count": 39,
   "id": "10a25926",
   "metadata": {},
   "outputs": [
    {
     "name": "stdout",
     "output_type": "stream",
     "text": [
      "12.543085485733265\n",
      "\n",
      "Scores:\n",
      "Test set\n",
      "MSE: 150.35233234548434\n",
      "MAE: 9.92277931197159\n",
      "RMSE: 12.261824185066606\n",
      "R-squared: 0.27195207023044476 , from <0,1> \n",
      "Test set\n",
      "MSE: 157.3289935024125\n",
      "MAE: 9.808836157501924\n",
      "RMSE: 12.543085485733265\n",
      "R-squared: 0.1272339181037373 , from <0,1> \n"
     ]
    }
   ],
   "source": [
    "residual(valid_y, pred)\n",
    "\n",
    "print(\"\\nScores:\")\n",
    "evaluateRegressor(train_y, pred_train)\n",
    "evaluateRegressor(valid_y, pred)"
   ]
  },
  {
   "cell_type": "markdown",
   "id": "ce2cca24",
   "metadata": {},
   "source": [
    "## ANN"
   ]
  },
  {
   "cell_type": "code",
   "execution_count": 40,
   "id": "7dd66c33",
   "metadata": {},
   "outputs": [
    {
     "name": "stdout",
     "output_type": "stream",
     "text": [
      "Epoch 1/10\n",
      "25/25 [==============================] - 2s 11ms/step - loss: 4731.6325 - mse: 4731.6325\n",
      "Epoch 2/10\n",
      "25/25 [==============================] - 0s 10ms/step - loss: 4698.0029 - mse: 4698.0029\n",
      "Epoch 3/10\n",
      "25/25 [==============================] - 0s 10ms/step - loss: 4656.6876 - mse: 4656.6876\n",
      "Epoch 4/10\n",
      "25/25 [==============================] - 0s 11ms/step - loss: 4615.0947 - mse: 4615.0947\n",
      "Epoch 5/10\n",
      "25/25 [==============================] - 0s 11ms/step - loss: 4436.7673 - mse: 4436.7673\n",
      "Epoch 6/10\n",
      "25/25 [==============================] - 0s 12ms/step - loss: 4313.3465 - mse: 4313.3465\n",
      "Epoch 7/10\n",
      "25/25 [==============================] - 0s 10ms/step - loss: 4185.7398 - mse: 4185.7398\n",
      "Epoch 8/10\n",
      "25/25 [==============================] - 0s 13ms/step - loss: 3966.8652 - mse: 3966.8652\n",
      "Epoch 9/10\n",
      "25/25 [==============================] - 0s 11ms/step - loss: 3764.3891 - mse: 3764.3891\n",
      "Epoch 10/10\n",
      "25/25 [==============================] - 0s 12ms/step - loss: 3401.5375 - mse: 3401.5375\n"
     ]
    },
    {
     "data": {
      "text/plain": [
       "<tensorflow.python.keras.callbacks.History at 0x29537f9d310>"
      ]
     },
     "execution_count": 40,
     "metadata": {},
     "output_type": "execute_result"
    }
   ],
   "source": [
    "import tensorflow as tf\n",
    "from tensorflow import keras\n",
    "from tensorflow.keras.models import Sequential\n",
    "from tensorflow.keras.layers import Dense\n",
    "# Importing necessary models for implementation of ANN\n",
    "\n",
    "\n",
    "\n",
    "model = Sequential()\n",
    "model.add(Dense(100, input_dim=train_X.columns.value_counts().sum(), activation=\"softmax\"))\n",
    "model.add(Dense(100, activation=\"relu\"))\n",
    "model.add(Dense(1, kernel_initializer=\"normal\"))\n",
    "model.compile(loss=\"mean_squared_error\", optimizer = \"adam\", metrics = [\"mse\"])\n",
    "\n",
    "model.fit(train_X, train_y, epochs=10)"
   ]
  },
  {
   "cell_type": "code",
   "execution_count": 41,
   "id": "987274c0",
   "metadata": {},
   "outputs": [],
   "source": [
    "from tensorflow.keras.models import Model, load_model\n",
    "#model.save('cnn_model.h5')\n",
    "#model = load_model('cnn_model.h5')\n",
    "\n",
    "predicted_valid_y = model.predict(valid_X)\n",
    "predicted_valid_y = pd.Series([i[0] for i in predicted_valid_y])"
   ]
  },
  {
   "cell_type": "code",
   "execution_count": 42,
   "id": "f2964ce0",
   "metadata": {},
   "outputs": [
    {
     "name": "stdout",
     "output_type": "stream",
     "text": [
      "58.29171014100116\n",
      "Test set\n",
      "MSE: 3463.8177776099437\n",
      "MAE: 57.29813720385234\n",
      "RMSE: 58.854207815668914\n",
      "R-squared: -18.215165640279103 , from <0,1> \n"
     ]
    }
   ],
   "source": [
    "residual(valid_y, predicted_valid_y)\n",
    "evaluateRegressor(valid_y, predicted_valid_y)"
   ]
  },
  {
   "cell_type": "markdown",
   "id": "8b85a2fd",
   "metadata": {},
   "source": [
    "## Slučajne šume"
   ]
  },
  {
   "cell_type": "code",
   "execution_count": 43,
   "id": "b76f6c67",
   "metadata": {},
   "outputs": [
    {
     "data": {
      "text/plain": [
       "RandomForestRegressor(n_estimators=400)"
      ]
     },
     "execution_count": 43,
     "metadata": {},
     "output_type": "execute_result"
    }
   ],
   "source": [
    "from sklearn.ensemble import RandomForestRegressor\n",
    "\n",
    "# Creating Random Forest Model\n",
    "rf = RandomForestRegressor(n_estimators=400)\n",
    "\n",
    "# Training Model\n",
    "rf.fit(train_X , train_y)"
   ]
  },
  {
   "cell_type": "code",
   "execution_count": 44,
   "id": "107b4b69",
   "metadata": {},
   "outputs": [],
   "source": [
    "# Predictions\n",
    "predictions = rf.predict(valid_X)"
   ]
  },
  {
   "cell_type": "code",
   "execution_count": 45,
   "id": "f1255a39",
   "metadata": {},
   "outputs": [
    {
     "name": "stdout",
     "output_type": "stream",
     "text": [
      "14.170162157071124\n",
      "Test set\n",
      "MSE: 200.79349555769056\n",
      "MAE: 11.31392122083585\n",
      "RMSE: 14.170162157071124\n",
      "R-squared: -0.1138808460339702 , from <0,1> \n"
     ]
    }
   ],
   "source": [
    "residual(valid_y, predictions)\n",
    "evaluateRegressor(valid_y, predictions)"
   ]
  },
  {
   "cell_type": "markdown",
   "id": "8032d391",
   "metadata": {},
   "source": [
    "## SVM"
   ]
  },
  {
   "cell_type": "code",
   "execution_count": 46,
   "id": "0624e4bb",
   "metadata": {},
   "outputs": [],
   "source": [
    "SVM = svm.SVR().fit(train_X, train_y) "
   ]
  },
  {
   "cell_type": "code",
   "execution_count": 47,
   "id": "663dacc8",
   "metadata": {},
   "outputs": [
    {
     "name": "stdout",
     "output_type": "stream",
     "text": [
      "    Training Set\n",
      "MSE: 173.91822653599164\n",
      "MAE: 10.41470211669797\n",
      "RMSE: 13.187805978857575\n",
      "R-squared: 0.15783943751688567 , from <0,1> \n",
      "    Test Set\n",
      "MSE: 158.6767879457507\n",
      "MAE: 10.115456666178202\n",
      "RMSE: 12.596697501557728\n",
      "R-squared: 0.11975716986218832 , from <0,1> \n"
     ]
    }
   ],
   "source": [
    "predicted_train_y = SVM.predict(train_X)                           #<----SVM -- Support Vector Machine\n",
    "evaluateRegressor(train_y,predicted_train_y,\"    Training Set\")\n",
    "predicted_valid_y = SVM.predict(valid_X)\n",
    "evaluateRegressor(valid_y,predicted_valid_y,\"    Test Set\")"
   ]
  },
  {
   "cell_type": "code",
   "execution_count": 48,
   "id": "8542bc68",
   "metadata": {},
   "outputs": [
    {
     "data": {
      "text/html": [
       "<div>\n",
       "<style scoped>\n",
       "    .dataframe tbody tr th:only-of-type {\n",
       "        vertical-align: middle;\n",
       "    }\n",
       "\n",
       "    .dataframe tbody tr th {\n",
       "        vertical-align: top;\n",
       "    }\n",
       "\n",
       "    .dataframe thead th {\n",
       "        text-align: right;\n",
       "    }\n",
       "</style>\n",
       "<table border=\"1\" class=\"dataframe\">\n",
       "  <thead>\n",
       "    <tr style=\"text-align: right;\">\n",
       "      <th></th>\n",
       "      <th>kernel</th>\n",
       "      <th>Test RMSE</th>\n",
       "      <th>Pred</th>\n",
       "    </tr>\n",
       "  </thead>\n",
       "  <tbody>\n",
       "    <tr>\n",
       "      <th>0</th>\n",
       "      <td>linear</td>\n",
       "      <td>12.466560</td>\n",
       "      <td>[78.68765159216447, 59.534541663720645, 68.222...</td>\n",
       "    </tr>\n",
       "    <tr>\n",
       "      <th>1</th>\n",
       "      <td>polynomial</td>\n",
       "      <td>12.879164</td>\n",
       "      <td>[72.39875959260482, 65.41464929090708, 67.5884...</td>\n",
       "    </tr>\n",
       "    <tr>\n",
       "      <th>2</th>\n",
       "      <td>sigmoid</td>\n",
       "      <td>23.853124</td>\n",
       "      <td>[91.18354121265934, 82.36338932956394, 32.8354...</td>\n",
       "    </tr>\n",
       "    <tr>\n",
       "      <th>3</th>\n",
       "      <td>rbf</td>\n",
       "      <td>12.596698</td>\n",
       "      <td>[73.39314322657718, 61.69314925127467, 69.4323...</td>\n",
       "    </tr>\n",
       "  </tbody>\n",
       "</table>\n",
       "</div>"
      ],
      "text/plain": [
       "       kernel  Test RMSE                                               Pred\n",
       "0      linear  12.466560  [78.68765159216447, 59.534541663720645, 68.222...\n",
       "1  polynomial  12.879164  [72.39875959260482, 65.41464929090708, 67.5884...\n",
       "2     sigmoid  23.853124  [91.18354121265934, 82.36338932956394, 32.8354...\n",
       "3         rbf  12.596698  [73.39314322657718, 61.69314925127467, 69.4323..."
      ]
     },
     "execution_count": 48,
     "metadata": {},
     "output_type": "execute_result"
    }
   ],
   "source": [
    "from sklearn.svm import SVR\n",
    "def SV_reg(kernel,train_X, train_Y):\n",
    "    model=SVR(kernel)\n",
    "    model.fit(train_X, train_Y)\n",
    "    return model\n",
    "\n",
    "\n",
    "SVM_model= SV_reg(\"linear\",train_X, train_y)\n",
    "pred_linear = SVM_model.predict(valid_X)\n",
    "linear_rmse = np.sqrt(mean_squared_error(valid_y,pred_linear))\n",
    "\n",
    "SVM_model= SV_reg(\"poly\",train_X, train_y)\n",
    "pred_poly = SVM_model.predict(valid_X)\n",
    "poly_rmse = np.sqrt(mean_squared_error(valid_y,pred_poly))\n",
    "\n",
    "SVM_model= SV_reg(\"sigmoid\",train_X, train_y)\n",
    "pred_sigmoid = SVM_model.predict(valid_X)\n",
    "sigmoid_rmse = np.sqrt(mean_squared_error(valid_y,pred_sigmoid))\n",
    "\n",
    "SVM_model= SV_reg(\"rbf\",train_X, train_y)\n",
    "pred_rbf = SVM_model.predict(valid_X)\n",
    "rbf_rmse = np.sqrt(mean_squared_error(valid_y,pred_rbf))\n",
    "\n",
    "\n",
    "\n",
    "data = {\"kernel\":pd.Series([\"linear\",\"polynomial\",\"sigmoid\",\"rbf\"]),\n",
    "            \"Test RMSE\":pd.Series([linear_rmse,poly_rmse,sigmoid_rmse,rbf_rmse]),\n",
    "            \"Pred\":pd.Series([pred_linear,pred_poly,pred_sigmoid,pred_rbf])}\n",
    "table_rmse=pd.DataFrame(data)\n",
    "table_rmse"
   ]
  },
  {
   "cell_type": "markdown",
   "id": "09642515",
   "metadata": {},
   "source": [
    "Grid search"
   ]
  },
  {
   "cell_type": "code",
   "execution_count": 49,
   "id": "b80e161f",
   "metadata": {},
   "outputs": [
    {
     "name": "stdout",
     "output_type": "stream",
     "text": [
      "{'C': 2, 'gamma': 0.02, 'kernel': 'linear'}\n"
     ]
    }
   ],
   "source": [
    "from sklearn.metrics import make_scorer\n",
    "from sklearn.model_selection import GridSearchCV\n",
    "\n",
    "K = 15\n",
    "parameters = [{'kernel': ['linear','sigmoid','rbf'], 'gamma': [2e-2, 2e-1, 1,  8],'C': [2e-3,2e-2, 2, 4]}]\n",
    "scorer = make_scorer(mean_squared_error, greater_is_better=False)\n",
    "svr_gs = GridSearchCV(SVR(epsilon = 0.01), parameters, cv = K, scoring=scorer)\n",
    "\n",
    "svr_gs.fit(train_X, train_y)\n",
    "print(svr_gs.best_params_)"
   ]
  },
  {
   "cell_type": "markdown",
   "id": "9d2d2e44",
   "metadata": {},
   "source": [
    "ONCE WE GET BEST RESULTS , WE ONCE AGAIN TRAIN OUR MODEL Results:\n",
    "\n",
    "{'C': 2, 'gamma': 0.002, 'kernel': 'linear'}"
   ]
  },
  {
   "cell_type": "code",
   "execution_count": 50,
   "id": "4576039d",
   "metadata": {},
   "outputs": [
    {
     "name": "stdout",
     "output_type": "stream",
     "text": [
      "       kernel  Test RMSE                                               Pred\n",
      "0      linear  12.466560  [78.68765159216447, 59.534541663720645, 68.222...\n",
      "1  polynomial  12.879164  [72.39875959260482, 65.41464929090708, 67.5884...\n",
      "2     sigmoid  23.853124  [91.18354121265934, 82.36338932956394, 32.8354...\n",
      "3         rbf  12.596698  [73.39314322657718, 61.69314925127467, 69.4323...\n",
      "0   GS Output  12.477257  [78.7546870014672, 59.1293891044441, 68.219047...\n"
     ]
    }
   ],
   "source": [
    "regressor = SVR(**svr_gs.best_params_)\n",
    "regressor.fit(train_X,train_y)\n",
    "pred=regressor.predict(valid_X)\n",
    "\n",
    "error = np.sqrt(mean_squared_error(valid_y,pred))\n",
    "data = {\"kernel\":pd.Series([\"GS Output\"]),\"Test RMSE\":pd.Series([error]),\"Pred\":pd.Series([pred])}\n",
    "table_rmse = table_rmse.append(pd.DataFrame(data))\n",
    "print(table_rmse)"
   ]
  },
  {
   "cell_type": "code",
   "execution_count": 51,
   "id": "afaecd6f",
   "metadata": {},
   "outputs": [
    {
     "name": "stdout",
     "output_type": "stream",
     "text": [
      "Test RMSE using SVR is: 12.466559612222378\n"
     ]
    }
   ],
   "source": [
    "svr_test_rmse = table_rmse[\"Test RMSE\"].min()\n",
    "print(\"Test RMSE using SVR is:\",svr_test_rmse)"
   ]
  },
  {
   "cell_type": "markdown",
   "id": "b58ad470",
   "metadata": {},
   "source": [
    "# DoWhy kauzalna analiza"
   ]
  },
  {
   "cell_type": "markdown",
   "id": "0affbb7f",
   "metadata": {},
   "source": [
    "## Priprema podataka"
   ]
  },
  {
   "cell_type": "code",
   "execution_count": 52,
   "id": "1a3439f8",
   "metadata": {},
   "outputs": [],
   "source": [
    "data_X_labeled= encode_data(df,enc_type=\"LABEL\")\n",
    "data_y_labeled= pd.cut(Y,\n",
    "       5, labels=[1,2,3,4,5])\n",
    "\n",
    "spojeno = pd.concat([data_X_labeled, data_y_labeled], axis=1)"
   ]
  },
  {
   "cell_type": "code",
   "execution_count": 53,
   "id": "7661fadb",
   "metadata": {},
   "outputs": [
    {
     "data": {
      "text/plain": [
       "Index(['gender', 'race/ethnicity', 'parental level of education', 'lunch',\n",
       "       'test preparation course', 'AVERAGE'],\n",
       "      dtype='object')"
      ]
     },
     "execution_count": 53,
     "metadata": {},
     "output_type": "execute_result"
    }
   ],
   "source": [
    "spojeno.columns"
   ]
  },
  {
   "cell_type": "markdown",
   "id": "22c6ab1a",
   "metadata": {},
   "source": [
    "## Analiza"
   ]
  },
  {
   "cell_type": "code",
   "execution_count": 54,
   "id": "04b6a6c3",
   "metadata": {},
   "outputs": [],
   "source": [
    "import dowhy\n",
    "from dowhy import CausalModel"
   ]
  },
  {
   "cell_type": "code",
   "execution_count": 55,
   "id": "8c02859a",
   "metadata": {},
   "outputs": [],
   "source": [
    "model=CausalModel(\n",
    "        data = spojeno,\n",
    "        treatment='lunch',\n",
    "        outcome='AVERAGE',\n",
    "        common_causes=['gender','test preparation course', 'parental level of education','race/ethnicity']\n",
    "        )"
   ]
  },
  {
   "cell_type": "code",
   "execution_count": 56,
   "id": "0e15f151",
   "metadata": {},
   "outputs": [
    {
     "name": "stdout",
     "output_type": "stream",
     "text": [
      "Estimand type: nonparametric-ate\n",
      "\n",
      "### Estimand : 1\n",
      "Estimand name: backdoor\n",
      "Estimand expression:\n",
      "   d                                                                          \n",
      "────────(Expectation(AVERAGE|gender,race/ethnicity,parental level of education\n",
      "d[lunch]                                                                      \n",
      "\n",
      "                          \n",
      ",test preparation course))\n",
      "                          \n",
      "Estimand assumption 1, Unconfoundedness: If U→{lunch} and U→AVERAGE then P(AVERAGE|lunch,gender,race/ethnicity,parental level of education,test preparation course,U) = P(AVERAGE|lunch,gender,race/ethnicity,parental level of education,test preparation course)\n",
      "\n",
      "### Estimand : 2\n",
      "Estimand name: iv\n",
      "No such variable found!\n",
      "\n",
      "### Estimand : 3\n",
      "Estimand name: frontdoor\n",
      "No such variable found!\n",
      "\n"
     ]
    }
   ],
   "source": [
    "identified_estimand = model.identify_effect()\n",
    "print(identified_estimand)"
   ]
  },
  {
   "cell_type": "code",
   "execution_count": 57,
   "id": "d2d31c1d",
   "metadata": {},
   "outputs": [
    {
     "name": "stdout",
     "output_type": "stream",
     "text": [
      "*** Causal Estimate ***\n",
      "\n",
      "## Identified estimand\n",
      "Estimand type: nonparametric-ate\n",
      "\n",
      "### Estimand : 1\n",
      "Estimand name: backdoor\n",
      "Estimand expression:\n",
      "   d                                                                          \n",
      "────────(Expectation(AVERAGE|gender,race/ethnicity,parental level of education\n",
      "d[lunch]                                                                      \n",
      "\n",
      "                          \n",
      ",test preparation course))\n",
      "                          \n",
      "Estimand assumption 1, Unconfoundedness: If U→{lunch} and U→AVERAGE then P(AVERAGE|lunch,gender,race/ethnicity,parental level of education,test preparation course,U) = P(AVERAGE|lunch,gender,race/ethnicity,parental level of education,test preparation course)\n",
      "\n",
      "## Realized estimand\n",
      "b: AVERAGE~lunch+gender+race/ethnicity+parental level of education+test preparation course\n",
      "Target units: ate\n",
      "\n",
      "## Estimate\n",
      "Mean value: 0.48169465924595434\n",
      "p-value: [5.06520702e-22]\n",
      "\n",
      "Causal Estimate is 0.48169465924595434\n",
      "ATE 0.4540545248671717\n"
     ]
    }
   ],
   "source": [
    "# Estimate the causal effect and compare it with Average Treatment Effect\n",
    "estimate = model.estimate_effect(identified_estimand, method_name=\"backdoor.linear_regression\", test_significance=True)\n",
    "print(estimate)\n",
    "print(\"Causal Estimate is \" + str(estimate.value))\n",
    "data_1 = spojeno[spojeno[\"lunch\"]==1]\n",
    "data_0 = spojeno[spojeno[\"race/ethnicity\"]==0]\n",
    "print(\"ATE\", np.mean(data_1[\"AVERAGE\"].cat.codes)- np.mean(data_0[\"AVERAGE\"].cat.codes))"
   ]
  },
  {
   "cell_type": "markdown",
   "id": "6ae8d933",
   "metadata": {},
   "source": [
    "refute steps\n",
    "\n",
    "    The refute steps tests the strength and validity of the causal effect found by the estimate step. There are a variety of different refutation methods, eg. Subset Validation (using only a subset of the data to estimate the causal effect) or Placebo Treatment (turning the treatment into a placebo and seeing its effect on the outcome (the placebo treatment refutation expects the causal effect to go down)) In this case, we’ll be adding an irrelevant common cause to test the strength of the causal relationship between the treatment and outcome. This is useful because it changes the causal model but not the relationship between y_factual and treatment."
   ]
  },
  {
   "cell_type": "code",
   "execution_count": 58,
   "id": "30e7147a",
   "metadata": {},
   "outputs": [
    {
     "name": "stdout",
     "output_type": "stream",
     "text": [
      "Refute: Add a Random Common Cause\n",
      "Estimated effect:0.48169465924595434\n",
      "New effect:0.4826215663218032\n",
      "\n"
     ]
    }
   ],
   "source": [
    "refute_results=model.refute_estimate(identified_estimand, estimate,\n",
    "        method_name=\"random_common_cause\")\n",
    "print(refute_results)"
   ]
  },
  {
   "cell_type": "markdown",
   "id": "eca33b58",
   "metadata": {},
   "source": [
    "Adding a random common cause didn’t have much of an effect on the causal effect (as expected) and so we can be more assured of the strength of the causal relationship."
   ]
  },
  {
   "cell_type": "markdown",
   "id": "f9e2631d",
   "metadata": {},
   "source": [
    "# Rezultati"
   ]
  },
  {
   "cell_type": "code",
   "execution_count": null,
   "id": "a4526473",
   "metadata": {},
   "outputs": [],
   "source": []
  }
 ],
 "metadata": {
  "kernelspec": {
   "display_name": "Python 3",
   "language": "python",
   "name": "python3"
  },
  "language_info": {
   "codemirror_mode": {
    "name": "ipython",
    "version": 3
   },
   "file_extension": ".py",
   "mimetype": "text/x-python",
   "name": "python",
   "nbconvert_exporter": "python",
   "pygments_lexer": "ipython3",
   "version": "3.8.6"
  }
 },
 "nbformat": 4,
 "nbformat_minor": 5
}
