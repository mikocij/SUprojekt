{
 "cells": [
  {
   "cell_type": "markdown",
   "id": "e247de4b",
   "metadata": {},
   "source": [
    "# STROJNO UČENJE - PROJEKT\n",
    "## EDA Student Performance Dataset\n",
    "### Predviđanje uspjeha učenika pomoću demografskih i socio-ekonomskih informacija"
   ]
  },
  {
   "cell_type": "markdown",
   "id": "33a8f5fe",
   "metadata": {},
   "source": [
    "# Sadržaj\n",
    "[Library Import](#Library-import)\n",
    "\n",
    "[Vizualizacija podataka](#Vizualizacija-podataka)\n",
    "\n",
    "- [Kategoričke varijable](#Kategoričke-značajke)\n",
    "\n",
    "- [Numeričke varijable](#Numeričke-značajke)\n",
    "\n",
    "- [Usporedba spola](#Usporedba-spola)\n",
    "\n",
    "\n",
    "\n",
    "[Modeli](#Modeli)\n",
    "- [Priprema podataka](#Priprema-podataka)\n",
    "\n",
    "    -[Label Encoding](#Label-encoding)\n",
    "    \n",
    "    -[Train-test Split](#Train-Test-Split)\n",
    "\n",
    "- [Regresija](#Regresija)\n",
    "\n",
    "    -[Linearna Regresija](#Linearna-regresija)\n",
    "    \n",
    "    -[Lasso](#Lasso-regresija)\n",
    "    \n",
    "    -[MultiLasso](#multilasso-regresija)\n",
    "   \n",
    "- [Slučajne šume](#slučajne-šume)"
   ]
  },
  {
   "cell_type": "markdown",
   "id": "87de0fb5",
   "metadata": {},
   "source": [
    "# Library import"
   ]
  },
  {
   "cell_type": "code",
   "execution_count": 43,
   "id": "f8f91b17",
   "metadata": {},
   "outputs": [],
   "source": [
    "#%% Imports\n",
    "\n",
    "\n",
    "#SelectKBest, f_classif\n",
    "from sklearn.preprocessing import LabelEncoder\n",
    "from sklearn import feature_selection \n",
    "\n",
    "import squarify\n",
    "from sklearn.pipeline import Pipeline\n",
    "\n",
    "\n",
    "# Basic Imports \n",
    "import numpy as np\n",
    "import pandas as pd\n",
    "\n",
    "# Plotting \n",
    "import matplotlib.pyplot as plt\n",
    "import plotly.express as px\n",
    "import seaborn as sns\n",
    "%matplotlib inline\n",
    "\n",
    "# Preprocessing\n",
    "from sklearn.model_selection import train_test_split, KFold\n",
    "from sklearn.preprocessing import LabelEncoder\n",
    "\n",
    "# Metrics \n",
    "import sklearn.metrics\n",
    "from sklearn.metrics import mean_squared_error, mean_absolute_error, r2_score, explained_variance_score\n",
    "\n",
    "# ML Models\n",
    "import lightgbm as lgb\n",
    "from lightgbm import LGBMRegressor \n",
    "import xgboost as xg \n",
    "from sklearn.ensemble import RandomForestRegressor\n",
    "from sklearn import svm\n",
    "from sklearn.linear_model import LinearRegression\n",
    "# Model Tuning \n",
    "from bayes_opt import BayesianOptimization\n",
    "\n",
    "# Feature Importance \n",
    "import shap\n",
    "\n",
    "# Ignore Warnings \n",
    "import warnings\n",
    "warnings.filterwarnings('ignore')\n",
    "\n"
   ]
  },
  {
   "cell_type": "markdown",
   "id": "f03095d2",
   "metadata": {},
   "source": [
    "# Import dataseta"
   ]
  },
  {
   "cell_type": "code",
   "execution_count": 7,
   "id": "227885ea",
   "metadata": {},
   "outputs": [],
   "source": [
    "df = pd.read_csv('StudentsPerformance.csv')\n",
    "\n",
    "df['AVERAGE'] = df[['math score', 'reading score','writing score']].mean(axis=1)"
   ]
  },
  {
   "cell_type": "markdown",
   "id": "4fa26408",
   "metadata": {},
   "source": [
    "# Vizualizacija podataka"
   ]
  },
  {
   "cell_type": "code",
   "execution_count": 3,
   "id": "efb0cc37",
   "metadata": {},
   "outputs": [
    {
     "data": {
      "text/html": [
       "<div>\n",
       "<style scoped>\n",
       "    .dataframe tbody tr th:only-of-type {\n",
       "        vertical-align: middle;\n",
       "    }\n",
       "\n",
       "    .dataframe tbody tr th {\n",
       "        vertical-align: top;\n",
       "    }\n",
       "\n",
       "    .dataframe thead th {\n",
       "        text-align: right;\n",
       "    }\n",
       "</style>\n",
       "<table border=\"1\" class=\"dataframe\">\n",
       "  <thead>\n",
       "    <tr style=\"text-align: right;\">\n",
       "      <th></th>\n",
       "      <th>gender</th>\n",
       "      <th>race/ethnicity</th>\n",
       "      <th>parental level of education</th>\n",
       "      <th>lunch</th>\n",
       "      <th>test preparation course</th>\n",
       "      <th>math score</th>\n",
       "      <th>reading score</th>\n",
       "      <th>writing score</th>\n",
       "    </tr>\n",
       "  </thead>\n",
       "  <tbody>\n",
       "    <tr>\n",
       "      <th>0</th>\n",
       "      <td>female</td>\n",
       "      <td>group B</td>\n",
       "      <td>bachelor's degree</td>\n",
       "      <td>standard</td>\n",
       "      <td>none</td>\n",
       "      <td>72</td>\n",
       "      <td>72</td>\n",
       "      <td>74</td>\n",
       "    </tr>\n",
       "    <tr>\n",
       "      <th>1</th>\n",
       "      <td>female</td>\n",
       "      <td>group C</td>\n",
       "      <td>some college</td>\n",
       "      <td>standard</td>\n",
       "      <td>completed</td>\n",
       "      <td>69</td>\n",
       "      <td>90</td>\n",
       "      <td>88</td>\n",
       "    </tr>\n",
       "    <tr>\n",
       "      <th>2</th>\n",
       "      <td>female</td>\n",
       "      <td>group B</td>\n",
       "      <td>master's degree</td>\n",
       "      <td>standard</td>\n",
       "      <td>none</td>\n",
       "      <td>90</td>\n",
       "      <td>95</td>\n",
       "      <td>93</td>\n",
       "    </tr>\n",
       "    <tr>\n",
       "      <th>3</th>\n",
       "      <td>male</td>\n",
       "      <td>group A</td>\n",
       "      <td>associate's degree</td>\n",
       "      <td>free/reduced</td>\n",
       "      <td>none</td>\n",
       "      <td>47</td>\n",
       "      <td>57</td>\n",
       "      <td>44</td>\n",
       "    </tr>\n",
       "    <tr>\n",
       "      <th>4</th>\n",
       "      <td>male</td>\n",
       "      <td>group C</td>\n",
       "      <td>some college</td>\n",
       "      <td>standard</td>\n",
       "      <td>none</td>\n",
       "      <td>76</td>\n",
       "      <td>78</td>\n",
       "      <td>75</td>\n",
       "    </tr>\n",
       "  </tbody>\n",
       "</table>\n",
       "</div>"
      ],
      "text/plain": [
       "   gender race/ethnicity parental level of education         lunch  \\\n",
       "0  female        group B           bachelor's degree      standard   \n",
       "1  female        group C                some college      standard   \n",
       "2  female        group B             master's degree      standard   \n",
       "3    male        group A          associate's degree  free/reduced   \n",
       "4    male        group C                some college      standard   \n",
       "\n",
       "  test preparation course  math score  reading score  writing score  \n",
       "0                    none          72             72             74  \n",
       "1               completed          69             90             88  \n",
       "2                    none          90             95             93  \n",
       "3                    none          47             57             44  \n",
       "4                    none          76             78             75  "
      ]
     },
     "execution_count": 3,
     "metadata": {},
     "output_type": "execute_result"
    }
   ],
   "source": [
    "\n",
    "df.head()"
   ]
  },
  {
   "cell_type": "raw",
   "id": "3d469c09",
   "metadata": {},
   "source": [
    "Skup podataka sastoji se od 8 stupaca i 1000 redaka, odnosno podataka o studentima:"
   ]
  },
  {
   "cell_type": "code",
   "execution_count": 4,
   "id": "6a1c0896",
   "metadata": {},
   "outputs": [
    {
     "data": {
      "text/plain": [
       "(1000, 8)"
      ]
     },
     "execution_count": 4,
     "metadata": {},
     "output_type": "execute_result"
    }
   ],
   "source": [
    "df.shape"
   ]
  },
  {
   "cell_type": "markdown",
   "id": "f8bfad76",
   "metadata": {},
   "source": [
    "## Kategoričke značajke"
   ]
  },
  {
   "cell_type": "code",
   "execution_count": 5,
   "id": "c5e7245e",
   "metadata": {},
   "outputs": [
    {
     "data": {
      "image/png": "[encoded data removed]",
      "text/plain": [
       "<Figure size 1080x1080 with 6 Axes>"
      ]
     },
     "metadata": {
      "needs_background": "light"
     },
     "output_type": "display_data"
    }
   ],
   "source": [
    "f, axes=plt.subplots(3, 2, figsize=(15, 15))\n",
    "for i in range(5):\n",
    "    plt.subplot(3, 2, i+1)\n",
    "    \n",
    "    df_grouped= df.groupby(df.columns[i]).size().reset_index(name='counts')\n",
    "    labels = df_grouped.apply(lambda x: str(x[0]) + \"\\n (\" + str(x[1]) + \")\", axis=1)\n",
    "    sizes = df_grouped['counts'].values.tolist()\n",
    "    colors = [plt.cm.Spectral(i/float(len(labels))) for i in range(len(labels))]\n",
    "    \n",
    "    if i % 2 == 1:\n",
    "       squarify.plot(sizes=sizes, label=labels, color=colors, alpha=.8)\n",
    "    else:\n",
    "        plt.pie(sizes, labels=labels, colors=colors)\n",
    "    plt.title(df.columns[i].upper())\n",
    "    plt.axis('off')\n",
    "    \n",
    "plt.subplot(3, 2, 6)\n",
    "plt.axis('off')\n",
    "plt.show()"
   ]
  },
  {
   "cell_type": "markdown",
   "id": "e4d2ec9e",
   "metadata": {},
   "source": [
    "## Numeričke značajke "
   ]
  },
  {
   "cell_type": "code",
   "execution_count": 6,
   "id": "20a90386",
   "metadata": {},
   "outputs": [
    {
     "data": {
      "image/png": "[encoded data removed]",
      "text/plain": [
       "<Figure size 720x720 with 4 Axes>"
      ]
     },
     "metadata": {
      "needs_background": "light"
     },
     "output_type": "display_data"
    }
   ],
   "source": [
    "df.hist(figsize=(10,10),bins = 20)\n",
    "plt.show()"
   ]
  },
  {
   "cell_type": "markdown",
   "id": "f1233589",
   "metadata": {},
   "source": [
    "## Usporedba spola"
   ]
  },
  {
   "cell_type": "code",
   "execution_count": 7,
   "id": "5debd57f",
   "metadata": {},
   "outputs": [
    {
     "data": {
      "image/png": "[encoded data removed]",
      "text/plain": [
       "<Figure size 720x576 with 1 Axes>"
      ]
     },
     "metadata": {
      "needs_background": "light"
     },
     "output_type": "display_data"
    }
   ],
   "source": [
    "df['Total score'] = ((df['math score']+df['writing score']+df['reading score'])/3).round(2)\n",
    "plt.figure(figsize = (10,8))\n",
    "sns.barplot(data = df, x = 'gender', y = 'Total score', ci = False)\n",
    "plt.xticks(fontsize = 12)\n",
    "plt.xlabel('Gender', fontsize = 15)\n",
    "plt.yticks(fontsize = 12)\n",
    "plt.ylabel('Total score', fontsize = 15)\n",
    "plt.show()"
   ]
  },
  {
   "cell_type": "markdown",
   "id": "7f751770",
   "metadata": {},
   "source": [
    "## Utjecaj priprema za ispit na rezultate "
   ]
  },
  {
   "cell_type": "code",
   "execution_count": 8,
   "id": "a079bcc5",
   "metadata": {},
   "outputs": [
    {
     "data": {
      "image/png": "[encoded data removed]",
      "text/plain": [
       "<Figure size 864x432 with 1 Axes>"
      ]
     },
     "metadata": {
      "needs_background": "light"
     },
     "output_type": "display_data"
    }
   ],
   "source": [
    "plt.figure(figsize = (12,6))\n",
    "sns.barplot(data = df, x = 'test preparation course', y = 'Total score', hue = 'gender', ci = False)\n",
    "plt.xlabel('Test Preparation status', fontsize = 15)\n",
    "plt.xticks(rotation = 45)\n",
    "plt.ylabel('Percentage scored', fontsize = 15)\n",
    "plt.show()"
   ]
  },
  {
   "cell_type": "markdown",
   "id": "16013c8a",
   "metadata": {},
   "source": [
    "# Feature selection &  encoding"
   ]
  },
  {
   "cell_type": "markdown",
   "id": "5eb99bdf",
   "metadata": {},
   "source": [
    "## Kodiranje atributa"
   ]
  },
  {
   "cell_type": "markdown",
   "id": "d718287f",
   "metadata": {},
   "source": [
    "Moramo napraviti preinake u našim podacima. Točnije, smetaju nam kategoričke varijable pošto algoritmi strojnog učenja ne rade sa kategoričkim varijablama. Postoji više pristupa tom problemu: \n",
    "\n",
    "    - One Hot Encoding (funkcija get_dummies)\n",
    "    - Ručno, pomoću funkcije replace\n",
    "    \n",
    "Referenca: https://pbpython.com/categorical-encoding.html"
   ]
  },
  {
   "cell_type": "code",
   "execution_count": 36,
   "id": "47ca786a",
   "metadata": {},
   "outputs": [
    {
     "name": "stdout",
     "output_type": "stream",
     "text": [
      "gender  -->  ['female' 'male']\n",
      "race/ethnicity  -->  ['group B' 'group C' 'group A' 'group D' 'group E']\n",
      "parental level of education  -->  [\"bachelor's degree\" 'some college' \"master's degree\" \"associate's degree\"\n",
      " 'high school' 'some high school']\n",
      "lunch  -->  ['standard' 'free/reduced']\n",
      "test preparation course  -->  ['none' 'completed']\n"
     ]
    }
   ],
   "source": [
    "# moramo napraviti label encoding\n",
    "# pogledajmo prvo koje su nam vrijednosti u svakom stupcu\n",
    "for col in df:\n",
    "    if col == 'math score':\n",
    "        break\n",
    "    print(col, ' --> ', df[col].unique())"
   ]
  },
  {
   "cell_type": "code",
   "execution_count": 8,
   "id": "39854903",
   "metadata": {},
   "outputs": [],
   "source": [
    "def encode_data(table_input,enc_type=\"ONEHOT\",removeY=True):\n",
    "    \n",
    "    table= table_input.copy()\n",
    "    #target= table[\"AVERAGE\"]\n",
    "    if removeY:\n",
    "        table = table.drop([\"math score\",\"reading score\",\"writing score\",\"AVERAGE\"],axis = 'columns') \n",
    "    \n",
    "    \n",
    "    if enc_type == \"ONEHOT\":\n",
    "        table = table.apply(lambda x: x.astype('category')) \n",
    "        table = pd.get_dummies(table,drop_first= True)\n",
    "        return table\n",
    "        \n",
    "    elif enc_type == \"LABEL\":\n",
    "        categorical_features = table.select_dtypes(['object','category']).columns.to_list()\n",
    "        labelencoder = LabelEncoder()\n",
    "        for i in categorical_features:\n",
    "            table[i] = labelencoder.fit_transform(table[i])\n",
    "            \n",
    "        return table\n",
    "    else:\n",
    "        pass\n",
    "    \n",
    "#Kako koristiti:\n",
    "\n",
    "#X_features_encoded = encode_data(SP_csv_clean,enc_type=\"ONE HOT\")\n",
    "#X_features_encoded\n",
    "\n",
    "#X_features_encoded = encode_data(SP_csv_clean,enc_type=\"LABEL\")\n",
    "#X_features_encoded"
   ]
  },
  {
   "cell_type": "code",
   "execution_count": 34,
   "id": "dfda4bd0",
   "metadata": {},
   "outputs": [],
   "source": [
    "def find_and_replace(data):\n",
    "    cleanup_nums = {\n",
    "        'gender': { \"female\": 0, 'male': 1 },\n",
    "        'race/ethnicity': { 'group A': 0, 'group B': 1, 'group C': 2, 'group D': 3, 'group E': 4 },\n",
    "        'parental level of education': { 'some high school': 0, 'high school': 1,\n",
    "                                        \"associate's degree\": 2, 'some college': 3,\n",
    "                                        \"bachelor's degree\": 4, \"master's degree\": 5,  },\n",
    "        'lunch': { 'standard': 0, 'free/reduced': 1 },\n",
    "        'test preparation course': { 'none': 0, 'completed': 1 },\n",
    "    }\n",
    "    return df.replace(cleanup_nums)\n",
    "\n",
    "#one hot encoding\n",
    "def one_hot_encoding(data):\n",
    "    # we rename first and last columns for scalability, so we dont have to cn+hange our code in multiple places\n",
    "    return pd.get_dummies(df, columns=['gender', 'race/ethnicity', \\\n",
    "                                       'parental level of education', \\\n",
    "                                       'lunch', 'test preparation course'], \\\n",
    "                          drop_first=True) \\\n",
    "            .rename(columns={\\\n",
    "                             'gender_male' : 'gender',\\\n",
    "                             'test preparation course_none' : 'test preparation course'\\\n",
    "                            })\n",
    "\n",
    "#df2 = find_and_replace(df)\n",
    "\n",
    "# jedan primjer kako nam sada izgledaju podaci u odnosu na prijašnje\n",
    "#print(df.head())"
   ]
  },
  {
   "cell_type": "markdown",
   "id": "ac939181",
   "metadata": {},
   "source": [
    "## Feature selection"
   ]
  },
  {
   "cell_type": "code",
   "execution_count": 22,
   "id": "757c1340",
   "metadata": {},
   "outputs": [],
   "source": [
    "def odaberi(algorithm,k,train_X, train_y,yname=\"not given\"):\n",
    "    selector = feature_selection.SelectKBest(algorithm, k)\n",
    "    selector.fit(train_X, train_y)\n",
    "    scores = -np.log10(selector.pvalues_)\n",
    "    indices = np.argsort(scores)[::-1] # Vrati indekse koji sortiraju polje (obratno)\n",
    "\n",
    "    plt.figure(figsize=(7,5))\n",
    "    plt.plot(range(train_X.shape[1]), scores[indices], 'o', color='gray')\n",
    "    plt.title(f'Univarijantni odabir znacajki za najvaznijih {k_best} znacajki')\n",
    "    plt.ylabel(f'log p-vrijednosti metode {yname}')\n",
    "    plt.xlim([-1, train_X.shape[1]])\n",
    "    plt.xticks(range(train_X.shape[1]), train_X.columns.values[indices], rotation=90)\n",
    "    plt.vlines(k_best-0.5, 0, np.max(scores), color='red', linestyle='--')\n",
    "    plt.grid(True,linestyle='--')\n",
    "    plt.tight_layout()\n",
    "\n",
    "    [ i.set_color(\"red\") for i in plt.gca().get_xticklabels() if i.get_text()[:5] == 'noise' ]\n",
    "\n",
    "    plt.show()"
   ]
  },
  {
   "cell_type": "markdown",
   "id": "89dafe7c",
   "metadata": {},
   "source": [
    "### 1.Odabir encodinga za feature selection : ONE HOT ENCODING"
   ]
  },
  {
   "cell_type": "code",
   "execution_count": 9,
   "id": "e3684b07",
   "metadata": {
    "scrolled": true
   },
   "outputs": [],
   "source": [
    "X_features_encoded = encode_data(df,enc_type=\"ONEHOT\")\n",
    "Y = df[\"AVERAGE\"]\n",
    "\n",
    "k_best = int(len(X_features_encoded.columns)*0.8) "
   ]
  },
  {
   "cell_type": "code",
   "execution_count": 13,
   "id": "2ff8f04e",
   "metadata": {},
   "outputs": [],
   "source": [
    "train_X_N, valid_X_N, train_y_N, valid_y_N = train_test_split(\n",
    "    X_features_encoded, \n",
    "    Y, \n",
    "    test_size=0.2, \n",
    "    shuffle = True, \n",
    "    random_state=1\n",
    ")\n",
    "\n",
    "train_y_N=train_y_N.astype('int')\n"
   ]
  },
  {
   "cell_type": "markdown",
   "id": "24b8d0b3",
   "metadata": {},
   "source": [
    "### Rezultat s metodom: f_regression"
   ]
  },
  {
   "cell_type": "code",
   "execution_count": 20,
   "id": "0aa38574",
   "metadata": {},
   "outputs": [
    {
     "data": {
      "image/png": "[encoded data removed]",
      "text/plain": [
       "<Figure size 504x360 with 1 Axes>"
      ]
     },
     "metadata": {
      "needs_background": "light"
     },
     "output_type": "display_data"
    }
   ],
   "source": [
    "odaberi(feature_selection.f_regression,k_best,train_X_N, train_y_N,yname=\"f_regression\")"
   ]
  },
  {
   "cell_type": "markdown",
   "id": "07a35719",
   "metadata": {},
   "source": [
    "### Rezultat s metodom: chi2"
   ]
  },
  {
   "cell_type": "code",
   "execution_count": 21,
   "id": "ae79b78d",
   "metadata": {
    "scrolled": true
   },
   "outputs": [
    {
     "data": {
      "image/png": "[encoded data removed]",
      "text/plain": [
       "<Figure size 504x360 with 1 Axes>"
      ]
     },
     "metadata": {
      "needs_background": "light"
     },
     "output_type": "display_data"
    }
   ],
   "source": [
    "odaberi(feature_selection.chi2,k_best,train_X_N, train_y_N,yname=\"Chi2\")"
   ]
  },
  {
   "cell_type": "markdown",
   "id": "0409bec5",
   "metadata": {},
   "source": [
    "### 2.Odabir encodinga za feature selection : LABEL\n"
   ]
  },
  {
   "cell_type": "code",
   "execution_count": 25,
   "id": "b8c6c233",
   "metadata": {},
   "outputs": [],
   "source": [
    "X_features_encoded = encode_data(df,enc_type=\"LABEL\")\n",
    "Y = df[\"AVERAGE\"]\n",
    "\n",
    "k_best = int(len(X_features_encoded.columns)*0.8) "
   ]
  },
  {
   "cell_type": "code",
   "execution_count": 26,
   "id": "c8385482",
   "metadata": {},
   "outputs": [],
   "source": [
    "train_X_N, valid_X_N, train_y_N, valid_y_N = train_test_split(\n",
    "    X_features_encoded, \n",
    "    Y, \n",
    "    test_size=0.2, \n",
    "    shuffle = True, \n",
    "    random_state=1\n",
    ")\n",
    "\n",
    "train_y_N=train_y_N.astype('int')"
   ]
  },
  {
   "cell_type": "markdown",
   "id": "da4d1af6",
   "metadata": {},
   "source": [
    "### Rezultat s metodom: f_regression"
   ]
  },
  {
   "cell_type": "code",
   "execution_count": 27,
   "id": "4f3d30ca",
   "metadata": {},
   "outputs": [
    {
     "data": {
      "image/png": "[encoded data removed]",
      "text/plain": [
       "<Figure size 504x360 with 1 Axes>"
      ]
     },
     "metadata": {
      "needs_background": "light"
     },
     "output_type": "display_data"
    }
   ],
   "source": [
    "odaberi(feature_selection.f_regression,k_best,train_X_N, train_y_N,yname=\"f_regression\")"
   ]
  },
  {
   "cell_type": "markdown",
   "id": "da479200",
   "metadata": {},
   "source": [
    "### Rezultat s metodom: chi2"
   ]
  },
  {
   "cell_type": "code",
   "execution_count": 28,
   "id": "4d7ae356",
   "metadata": {},
   "outputs": [
    {
     "data": {
      "image/png": "[encoded data removed]",
      "text/plain": [
       "<Figure size 504x360 with 1 Axes>"
      ]
     },
     "metadata": {
      "needs_background": "light"
     },
     "output_type": "display_data"
    }
   ],
   "source": [
    "odaberi(feature_selection.chi2,k_best,train_X_N, train_y_N,yname=\"Chi2\")"
   ]
  },
  {
   "cell_type": "markdown",
   "id": "382f449a",
   "metadata": {},
   "source": [
    "# Modeli"
   ]
  },
  {
   "cell_type": "markdown",
   "id": "d1c1e011",
   "metadata": {},
   "source": [
    "Na raspolaganju imamo puno različitih algoritama strojnog učenja koje možemo primjeniti na ovaj problem. Ideja je da prvo krenemo od jednostavnijih, pa nadograđujemo prema onim kompleksnijim modelima. \n",
    "Za početak ćemo iskoristiti sljedeće algoritme:\n",
    "        \n",
    "        - Algoritmi regresije\n",
    "        - Support vector machines (SVM)\n",
    "        - Slučajne šume"
   ]
  },
  {
   "cell_type": "markdown",
   "id": "c69dbb86",
   "metadata": {},
   "source": [
    "## Priprema podataka"
   ]
  },
  {
   "cell_type": "markdown",
   "id": "bc4c1644",
   "metadata": {},
   "source": [
    "### Funkcije za ispis grešaka"
   ]
  },
  {
   "cell_type": "code",
   "execution_count": 41,
   "id": "af044c79",
   "metadata": {},
   "outputs": [],
   "source": [
    "def residual(true,pred):\n",
    "    resid = true - pred\n",
    "    print( np.sqrt(np.mean(resid*resid)) )\n",
    "def evaluateRegressor(true,predicted,message = \"Test set\"):\n",
    "    MSE = mean_squared_error(true,predicted,squared = True)\n",
    "    MAE = mean_absolute_error(true,predicted)\n",
    "    RMSE = mean_squared_error(true,predicted,squared = False)\n",
    "    R_squared = r2_score(true,predicted)\n",
    "    print(message)\n",
    "    print(\"MSE:\", MSE)\n",
    "    print(\"MAE:\", MAE)\n",
    "    print(\"RMSE:\", RMSE)\n",
    "    print(f\"R-squared: {R_squared} , from <0,1> \")"
   ]
  },
  {
   "cell_type": "markdown",
   "id": "4d4660a4",
   "metadata": {},
   "source": [
    "### Train Test Split\n",
    "Pošto nemamo unaprijed zadane trening i test podatke, uobičajeno je podijeliti cijelu našu bazu u dio za trening i dio za test. Najčešće se koristi sklearn funkcija train_test_split koja prima postotak podataka koji želimo da bude testni. U našem slučaju stavit ćemo 20% (800 trening, 200 test podataka)."
   ]
  },
  {
   "cell_type": "code",
   "execution_count": 37,
   "id": "af9d114c",
   "metadata": {},
   "outputs": [],
   "source": [
    "df2 = one_hot_encoding(df)"
   ]
  },
  {
   "cell_type": "code",
   "execution_count": 32,
   "id": "40923068",
   "metadata": {},
   "outputs": [],
   "source": [
    "X_features_encoded = encode_data(df,enc_type=\"LABEL\")\n",
    "Y = df[\"AVERAGE\"]\n",
    "\n",
    "train_X, valid_X, train_y, valid_y = train_test_split(\n",
    "    X_features_encoded, \n",
    "    Y, \n",
    "    test_size=0.2, \n",
    "    shuffle = True, \n",
    "    #random_state=1\n",
    ")\n",
    "\n",
    "#train_y_N=train_y_N.astype('int')"
   ]
  },
  {
   "cell_type": "code",
   "execution_count": null,
   "id": "f18c61f9",
   "metadata": {},
   "outputs": [],
   "source": [
    "train, test = train_test_split(df2, test_size=0.2)\n",
    "features = train.loc[:, 'gender' : 'test preparation course']\n",
    "targets = train.loc[:, 'math score' : 'Total score']"
   ]
  },
  {
   "cell_type": "markdown",
   "id": "20905cb3",
   "metadata": {},
   "source": [
    "Ako ce nam trebat skalirani podaci ,tu su"
   ]
  },
  {
   "cell_type": "code",
   "execution_count": 46,
   "id": "2e78bd2d",
   "metadata": {},
   "outputs": [],
   "source": [
    "from sklearn.preprocessing import StandardScaler\n",
    "scaler = StandardScaler()\n",
    "\n",
    "train_X_scaled = scaler.fit_transform(train_X)\n",
    "valid_X_scaled = scaler.transform(valid_X)"
   ]
  },
  {
   "cell_type": "code",
   "execution_count": null,
   "id": "306b9804",
   "metadata": {},
   "outputs": [],
   "source": []
  },
  {
   "cell_type": "markdown",
   "id": "a19c2ca0",
   "metadata": {},
   "source": [
    "## Linearna Regresija\n"
   ]
  },
  {
   "cell_type": "markdown",
   "id": "83250207",
   "metadata": {},
   "source": [
    "Osnovni algoritam regresije (a i cijele teorije strojnog učenja) je linearna regresija. Osim nje, postoje i neke modifikacije. Svaka ima svoje prednosti i mane, zbog kojih se sve koriste u određenim situacijama. Mi ćemo iskoristiti Lasso i Ridge, te usporediti rezultate svih."
   ]
  },
  {
   "cell_type": "markdown",
   "id": "9fec3612",
   "metadata": {},
   "source": []
  },
  {
   "cell_type": "code",
   "execution_count": 75,
   "id": "43d8dafd",
   "metadata": {},
   "outputs": [],
   "source": []
  },
  {
   "cell_type": "markdown",
   "id": "3f9b8776",
   "metadata": {},
   "source": [
    "### 1. Linearna Regresija"
   ]
  },
  {
   "cell_type": "code",
   "execution_count": 76,
   "id": "9c85001b",
   "metadata": {},
   "outputs": [
    {
     "name": "stdout",
     "output_type": "stream",
     "text": [
      "Objasnjena varijanca = 0.20\n",
      "R2 = 0.19\n",
      "MSE = 166.77\n"
     ]
    }
   ],
   "source": [
    "model = Pipeline([ ('linear', LinearRegression()) ])\n",
    "model = model.fit(features, targets)\n",
    "\n",
    "regr_pred = model.predict(test.loc[:, 'gender' : 'test preparation course'])\n",
    "#print(regr_pred)\n",
    "\n",
    "correct_scores = test.loc[:, 'math score' : 'Total score']\n",
    "explained_variance = explained_variance_score(correct_scores, regr_pred)\n",
    "R2 = r2_score(correct_scores, regr_pred)\n",
    "MSE = mean_squared_error(correct_scores, regr_pred)\n",
    "\n",
    "print('Objasnjena varijanca = '+'{0:.2f}'.format(explained_variance)+'\\nR2 = '+'{0:.2f}'.format(R2)+'\\nMSE = '+'{0:.2f}'.format(MSE))"
   ]
  },
  {
   "cell_type": "code",
   "execution_count": 38,
   "id": "efe50f3a",
   "metadata": {},
   "outputs": [],
   "source": [
    "def lin_reg(X,y):\n",
    "    LinearReg = LinearRegression(normalize = True)\n",
    "    LinearReg = LinearReg.fit(X,y)\n",
    "\n",
    "    return LinearReg\n"
   ]
  },
  {
   "cell_type": "code",
   "execution_count": 39,
   "id": "230d807f",
   "metadata": {},
   "outputs": [],
   "source": [
    "model_LINEAR = lin_reg(train_X,train_y)\n",
    "\n",
    "predicted_valid_y = model_LINEAR.predict(valid_X)"
   ]
  },
  {
   "cell_type": "code",
   "execution_count": 44,
   "id": "413df37e",
   "metadata": {},
   "outputs": [
    {
     "name": "stdout",
     "output_type": "stream",
     "text": [
      "13.085512149193972\n",
      "Test set\n",
      "MSE: 171.23062820670307\n",
      "MAE: 10.456482113266485\n",
      "RMSE: 13.085512149193972\n",
      "R-squared: 0.23601983501499313 , from <0,1> \n"
     ]
    }
   ],
   "source": [
    "residual(valid_y, predicted_valid_y)\n",
    "evaluateRegressor(valid_y, predicted_valid_y)"
   ]
  },
  {
   "cell_type": "markdown",
   "id": "ab68233a",
   "metadata": {},
   "source": [
    "### 2. Lasso Regresija"
   ]
  },
  {
   "cell_type": "code",
   "execution_count": null,
   "id": "5059d840",
   "metadata": {},
   "outputs": [],
   "source": []
  },
  {
   "cell_type": "markdown",
   "id": "eac4ff29",
   "metadata": {},
   "source": [
    "### 3. MultitaskLasso Regresija - 3 izlaza"
   ]
  },
  {
   "cell_type": "code",
   "execution_count": 49,
   "id": "9b004bc2",
   "metadata": {},
   "outputs": [],
   "source": [
    "X_lasso =df.drop([\"math score\",\"reading score\",\"writing score\",\"AVERAGE\"],axis = 'columns') \n",
    "Y_3_lasso =df[[\"math score\",\"reading score\",\"writing score\"]]\n",
    "\n",
    "X_lasso = encode_data(X_lasso,enc_type=\"LABEL\",removeY=False)"
   ]
  },
  {
   "cell_type": "code",
   "execution_count": 50,
   "id": "18afe7d8",
   "metadata": {},
   "outputs": [],
   "source": [
    "train_X_lasso, valid_X_lasso, train_y_lasso, valid_y_lasso = train_test_split(\n",
    "    X_lasso, \n",
    "    Y_3_lasso, \n",
    "    test_size=0.2, \n",
    "    shuffle = True, \n",
    "    #random_state=1\n",
    ")"
   ]
  },
  {
   "cell_type": "code",
   "execution_count": 51,
   "id": "f899f9c7",
   "metadata": {},
   "outputs": [],
   "source": [
    "# import linear model library\n",
    "from sklearn import linear_model\n",
    "  \n",
    "# create MultiTaskLasso model\n",
    "MTL = linear_model.MultiTaskLasso(alpha = 0.5)\n",
    "\n",
    "# fit the model to a data\n",
    "#MTL.fit([[1, 0], [1, 3], [2, 2]], [[0, 2], [1, 4], [2, 4]])\n",
    "MTL.fit(train_X_lasso,train_y_lasso)\n",
    "\n",
    "pred=MTL.predict(valid_X_lasso)\n",
    "# perform prediction and print the result\n",
    "#print(\"Prediciton result: \\n\", MTL.predict(valid_X_lasso), \"\\n\")\n",
    "  \n",
    "# print the coefficients\n",
    "#print(\"Coefficients: \\n\", MTL.coef_, \"\\n\")\n",
    "  \n",
    "# print the intercepts\n",
    "#print(\"Intercepts: \\n\", MTL.intercept_, \"\\n\")\n",
    "  \n",
    "# print the number of iterations performed\n",
    "#print(\"Number of Iterations: \", MTL.n_iter_, \"\\n\")"
   ]
  },
  {
   "cell_type": "code",
   "execution_count": 52,
   "id": "12aa198c",
   "metadata": {},
   "outputs": [
    {
     "name": "stdout",
     "output_type": "stream",
     "text": [
      "math score       12.421656\n",
      "reading score    12.691789\n",
      "writing score    11.843598\n",
      "dtype: float64\n",
      "\n",
      "Scores:\n",
      "Test set\n",
      "MSE: 151.8832835503357\n",
      "MAE: 9.971737392557277\n",
      "RMSE: 12.319014207625884\n",
      "R-squared: 0.24512918211409537 , from <0,1> \n"
     ]
    }
   ],
   "source": [
    "residual(valid_y_lasso, pred)\n",
    "\n",
    "print(\"\\nScores:\")\n",
    "evaluateRegressor(valid_y_lasso, pred)"
   ]
  },
  {
   "cell_type": "markdown",
   "id": "4914852e",
   "metadata": {},
   "source": [
    "## XGBoost"
   ]
  },
  {
   "cell_type": "code",
   "execution_count": null,
   "id": "727ec684",
   "metadata": {},
   "outputs": [],
   "source": []
  },
  {
   "cell_type": "code",
   "execution_count": null,
   "id": "dcb2f550",
   "metadata": {},
   "outputs": [],
   "source": []
  },
  {
   "cell_type": "markdown",
   "id": "dad5824b",
   "metadata": {},
   "source": [
    "## LightGBM"
   ]
  },
  {
   "cell_type": "code",
   "execution_count": null,
   "id": "47fab67b",
   "metadata": {},
   "outputs": [],
   "source": [
    "LGBMReg = lgb.LGBMRegressor(random_state=0).fit(train_X,train_y)\n",
    "\n",
    "predicted_train_y = LGBMReg.predict(train_X)\n",
    "evaluateRegressor(train_y,predicted_train_y,\"    Training Set\")\n",
    "predicted_valid_y = LGBMReg.predict(valid_X)\n",
    "evaluateRegressor(valid_y,predicted_valid_y,\"    Test Set\")"
   ]
  },
  {
   "cell_type": "code",
   "execution_count": null,
   "id": "2c2467a0",
   "metadata": {},
   "outputs": [],
   "source": [
    "lgb.plot_importance(LGBMReg,figsize=(25,20))"
   ]
  },
  {
   "cell_type": "code",
   "execution_count": null,
   "id": "73e44490",
   "metadata": {},
   "outputs": [],
   "source": [
    "#LGBMReg.params['objective'] = 'regression'\n",
    "shap_values = shap.TreeExplainer(LGBMReg).shap_values(train_X)\n",
    "shap.summary_plot(shap_values, train_X)"
   ]
  },
  {
   "cell_type": "markdown",
   "id": "a4651dd3",
   "metadata": {},
   "source": [
    "## CATBoost"
   ]
  },
  {
   "cell_type": "code",
   "execution_count": null,
   "id": "923033da",
   "metadata": {},
   "outputs": [],
   "source": [
    "from catboost import CatBoostRegressor\n",
    "# Initialize data\n",
    "\n",
    "train_data = train_X\n",
    "\n",
    "eval_data = valid_X\n",
    "\n",
    "train_labels = train_y\n",
    "\n",
    "# Initialize CatBoostRegressor\n",
    "model = CatBoostRegressor(iterations=200,\n",
    "                          learning_rate=1,\n",
    "                          depth=2)\n",
    "# Fit model\n",
    "model.fit(train_data, train_labels)\n"
   ]
  },
  {
   "cell_type": "code",
   "execution_count": null,
   "id": "8390c5d7",
   "metadata": {},
   "outputs": [],
   "source": [
    "# Get predictions\n",
    "pred_train= model.predict(train_data)\n",
    "pred = model.predict(eval_data)"
   ]
  },
  {
   "cell_type": "code",
   "execution_count": null,
   "id": "10a25926",
   "metadata": {},
   "outputs": [],
   "source": [
    "residual(valid_y, pred)\n",
    "\n",
    "print(\"\\nScores:\")\n",
    "evaluateRegressor(train_y, pred_train)\n",
    "evaluateRegressor(valid_y, pred)"
   ]
  },
  {
   "cell_type": "markdown",
   "id": "ce2cca24",
   "metadata": {},
   "source": [
    "## ANN"
   ]
  },
  {
   "cell_type": "code",
   "execution_count": null,
   "id": "7dd66c33",
   "metadata": {},
   "outputs": [],
   "source": [
    "import tensorflow as tf\n",
    "from tensorflow import keras\n",
    "from tensorflow.keras.models import Sequential\n",
    "from tensorflow.keras.layers import Dense\n",
    "# Importing necessary models for implementation of ANN\n",
    "\n",
    "\n",
    "\n",
    "model = Sequential()\n",
    "model.add(Dense(100, input_dim=train_X.columns.value_counts().sum(), activation=\"softmax\"))\n",
    "model.add(Dense(100, activation=\"relu\"))\n",
    "model.add(Dense(1, kernel_initializer=\"normal\"))\n",
    "model.compile(loss=\"mean_squared_error\", optimizer = \"adam\", metrics = [\"mse\"])\n",
    "\n",
    "model.fit(train_X, train_y, epochs=300)"
   ]
  },
  {
   "cell_type": "code",
   "execution_count": null,
   "id": "987274c0",
   "metadata": {},
   "outputs": [],
   "source": [
    "from tensorflow.keras.models import Model, load_model\n",
    "#model.save('cnn_model.h5')\n",
    "model = load_model('cnn_model.h5')\n",
    "\n",
    "predicted_valid_y = model.predict(valid_X)\n",
    "predicted_valid_y = pd.Series([i[0] for i in predicted_valid_y])"
   ]
  },
  {
   "cell_type": "code",
   "execution_count": null,
   "id": "f2964ce0",
   "metadata": {},
   "outputs": [],
   "source": [
    "residual(valid_y, predicted_valid_y)\n",
    "evaluateRegressor(valid_y, predicted_valid_y)"
   ]
  },
  {
   "cell_type": "markdown",
   "id": "8b85a2fd",
   "metadata": {},
   "source": [
    "## Slučajne šume"
   ]
  },
  {
   "cell_type": "code",
   "execution_count": null,
   "id": "b76f6c67",
   "metadata": {},
   "outputs": [],
   "source": [
    "from sklearn.ensemble import RandomForestRegressor\n",
    "\n",
    "# Creating Random Forest Model\n",
    "rf = RandomForestRegressor(n_estimators=400)\n",
    "\n",
    "# Training Model\n",
    "rf.fit(train_X , train_y)"
   ]
  },
  {
   "cell_type": "code",
   "execution_count": null,
   "id": "107b4b69",
   "metadata": {},
   "outputs": [],
   "source": [
    "# Predictions\n",
    "predictions = rf.predict(valid_X)"
   ]
  },
  {
   "cell_type": "code",
   "execution_count": null,
   "id": "f1255a39",
   "metadata": {},
   "outputs": [],
   "source": [
    "residual(valid_y, predictions)\n",
    "evaluateRegressor(valid_y, predictions)"
   ]
  },
  {
   "cell_type": "markdown",
   "id": "8032d391",
   "metadata": {},
   "source": [
    "## SVM"
   ]
  },
  {
   "cell_type": "code",
   "execution_count": 56,
   "id": "0624e4bb",
   "metadata": {},
   "outputs": [],
   "source": [
    "SVM = svm.SVR().fit(train_X, train_y) "
   ]
  },
  {
   "cell_type": "code",
   "execution_count": 57,
   "id": "663dacc8",
   "metadata": {},
   "outputs": [
    {
     "name": "stdout",
     "output_type": "stream",
     "text": [
      "    Training Set\n",
      "MSE: 167.158732625368\n",
      "MAE: 10.20840998792441\n",
      "RMSE: 12.928988074299086\n",
      "R-squared: 0.15492076765481 , from <0,1> \n",
      "    Test Set\n",
      "MSE: 186.38167571832724\n",
      "MAE: 10.938768253058129\n",
      "RMSE: 13.652167436650023\n",
      "R-squared: 0.1684203646465653 , from <0,1> \n"
     ]
    }
   ],
   "source": [
    "predicted_train_y = SVM.predict(train_X)                           #<----SVM -- Support Vector Machine\n",
    "evaluateRegressor(train_y,predicted_train_y,\"    Training Set\")\n",
    "predicted_valid_y = SVM.predict(valid_X)\n",
    "evaluateRegressor(valid_y,predicted_valid_y,\"    Test Set\")"
   ]
  },
  {
   "cell_type": "code",
   "execution_count": 58,
   "id": "8542bc68",
   "metadata": {},
   "outputs": [
    {
     "data": {
      "text/html": [
       "<div>\n",
       "<style scoped>\n",
       "    .dataframe tbody tr th:only-of-type {\n",
       "        vertical-align: middle;\n",
       "    }\n",
       "\n",
       "    .dataframe tbody tr th {\n",
       "        vertical-align: top;\n",
       "    }\n",
       "\n",
       "    .dataframe thead th {\n",
       "        text-align: right;\n",
       "    }\n",
       "</style>\n",
       "<table border=\"1\" class=\"dataframe\">\n",
       "  <thead>\n",
       "    <tr style=\"text-align: right;\">\n",
       "      <th></th>\n",
       "      <th>kernel</th>\n",
       "      <th>Test RMSE</th>\n",
       "      <th>Pred</th>\n",
       "    </tr>\n",
       "  </thead>\n",
       "  <tbody>\n",
       "    <tr>\n",
       "      <th>0</th>\n",
       "      <td>linear</td>\n",
       "      <td>13.099020</td>\n",
       "      <td>[55.18195171405186, 66.83611832863174, 64.2849...</td>\n",
       "    </tr>\n",
       "    <tr>\n",
       "      <th>1</th>\n",
       "      <td>polynomial</td>\n",
       "      <td>13.739962</td>\n",
       "      <td>[58.433848100968646, 67.2789011644886, 67.7182...</td>\n",
       "    </tr>\n",
       "    <tr>\n",
       "      <th>2</th>\n",
       "      <td>sigmoid</td>\n",
       "      <td>23.807423</td>\n",
       "      <td>[96.57053393476303, 66.88590304572111, 27.3518...</td>\n",
       "    </tr>\n",
       "    <tr>\n",
       "      <th>3</th>\n",
       "      <td>rbf</td>\n",
       "      <td>13.652167</td>\n",
       "      <td>[59.792305937203054, 65.8998965801727, 66.8753...</td>\n",
       "    </tr>\n",
       "  </tbody>\n",
       "</table>\n",
       "</div>"
      ],
      "text/plain": [
       "       kernel  Test RMSE                                               Pred\n",
       "0      linear  13.099020  [55.18195171405186, 66.83611832863174, 64.2849...\n",
       "1  polynomial  13.739962  [58.433848100968646, 67.2789011644886, 67.7182...\n",
       "2     sigmoid  23.807423  [96.57053393476303, 66.88590304572111, 27.3518...\n",
       "3         rbf  13.652167  [59.792305937203054, 65.8998965801727, 66.8753..."
      ]
     },
     "execution_count": 58,
     "metadata": {},
     "output_type": "execute_result"
    }
   ],
   "source": [
    "from sklearn.svm import SVR\n",
    "def SV_reg(kernel,train_X, train_Y):\n",
    "    model=SVR(kernel)\n",
    "    model.fit(train_X, train_Y)\n",
    "    return model\n",
    "\n",
    "\n",
    "SVM_model= SV_reg(\"linear\",train_X, train_y)\n",
    "pred_linear = SVM_model.predict(valid_X)\n",
    "linear_rmse = np.sqrt(mean_squared_error(valid_y,pred_linear))\n",
    "\n",
    "SVM_model= SV_reg(\"poly\",train_X, train_y)\n",
    "pred_poly = SVM_model.predict(valid_X)\n",
    "poly_rmse = np.sqrt(mean_squared_error(valid_y,pred_poly))\n",
    "\n",
    "SVM_model= SV_reg(\"sigmoid\",train_X, train_y)\n",
    "pred_sigmoid = SVM_model.predict(valid_X)\n",
    "sigmoid_rmse = np.sqrt(mean_squared_error(valid_y,pred_sigmoid))\n",
    "\n",
    "SVM_model= SV_reg(\"rbf\",train_X, train_y)\n",
    "pred_rbf = SVM_model.predict(valid_X)\n",
    "rbf_rmse = np.sqrt(mean_squared_error(valid_y,pred_rbf))\n",
    "\n",
    "\n",
    "\n",
    "data = {\"kernel\":pd.Series([\"linear\",\"polynomial\",\"sigmoid\",\"rbf\"]),\n",
    "            \"Test RMSE\":pd.Series([linear_rmse,poly_rmse,sigmoid_rmse,rbf_rmse]),\n",
    "            \"Pred\":pd.Series([pred_linear,pred_poly,pred_sigmoid,pred_rbf])}\n",
    "table_rmse=pd.DataFrame(data)\n",
    "table_rmse"
   ]
  },
  {
   "cell_type": "markdown",
   "id": "09642515",
   "metadata": {},
   "source": [
    "Grid search"
   ]
  },
  {
   "cell_type": "code",
   "execution_count": 60,
   "id": "b80e161f",
   "metadata": {},
   "outputs": [
    {
     "name": "stdout",
     "output_type": "stream",
     "text": [
      "{'C': 2e-05, 'gamma': 0.002, 'kernel': 'linear'}\n"
     ]
    }
   ],
   "source": [
    "from sklearn.metrics import make_scorer\n",
    "from sklearn.model_selection import GridSearchCV\n",
    "\n",
    "K = 15\n",
    "parameters = [{'kernel': ['linear','sigmoid','rbf'], 'gamma': [2e-3,2e-2, 2e-1, 1, 2, 4, 8, 16],'C': [2e-5,2e-4,2e-3,2e-2, 2e-1, 1, 2, 4, 8, 16]}]\n",
    "scorer = make_scorer(mean_squared_error, greater_is_better=False)\n",
    "svr_gs = GridSearchCV(SVR(epsilon = 0.01), parameters, cv = K, scoring=scorer)\n",
    "\n",
    "svr_gs.fit(train_X, train_y)\n",
    "print(svr_gs.best_params_)"
   ]
  },
  {
   "cell_type": "markdown",
   "id": "9d2d2e44",
   "metadata": {},
   "source": [
    "ONCE WE GET BEST RESULTS , WE ONCE AGAIN TRAIN OUR MODEL Results:\n",
    "\n",
    "{'C': 2, 'gamma': 0.002, 'kernel': 'linear'}"
   ]
  },
  {
   "cell_type": "code",
   "execution_count": 61,
   "id": "4576039d",
   "metadata": {},
   "outputs": [
    {
     "name": "stdout",
     "output_type": "stream",
     "text": [
      "       kernel  Test RMSE                                               Pred\n",
      "0      linear  13.099020  [55.18195171405186, 66.83611832863174, 64.2849...\n",
      "1  polynomial  13.739962  [58.433848100968646, 67.2789011644886, 67.7182...\n",
      "2     sigmoid  23.807423  [96.57053393476303, 66.88590304572111, 27.3518...\n",
      "3         rbf  13.652167  [59.792305937203054, 65.8998965801727, 66.8753...\n",
      "0   GS Output  14.988427  [68.49054999999997, 68.50048999999997, 68.4980...\n"
     ]
    }
   ],
   "source": [
    "regressor = SVR(**svr_gs.best_params_)\n",
    "regressor.fit(train_X,train_y)\n",
    "pred=regressor.predict(valid_X)\n",
    "\n",
    "error = np.sqrt(mean_squared_error(valid_y,pred))\n",
    "data = {\"kernel\":pd.Series([\"GS Output\"]),\"Test RMSE\":pd.Series([error]),\"Pred\":pd.Series([pred])}\n",
    "table_rmse = table_rmse.append(pd.DataFrame(data))\n",
    "print(table_rmse)"
   ]
  },
  {
   "cell_type": "code",
   "execution_count": 62,
   "id": "afaecd6f",
   "metadata": {},
   "outputs": [
    {
     "name": "stdout",
     "output_type": "stream",
     "text": [
      "Test RMSE using SVR is: 13.099019573518506\n"
     ]
    }
   ],
   "source": [
    "svr_test_rmse = table_rmse[\"Test RMSE\"].min()\n",
    "print(\"Test RMSE using SVR is:\",svr_test_rmse)"
   ]
  },
  {
   "cell_type": "markdown",
   "id": "f9e2631d",
   "metadata": {},
   "source": [
    "# Rezultati"
   ]
  },
  {
   "cell_type": "code",
   "execution_count": null,
   "id": "7dd15031",
   "metadata": {},
   "outputs": [],
   "source": []
  }
 ],
 "metadata": {
  "kernelspec": {
   "display_name": "Python 3",
   "language": "python",
   "name": "python3"
  },
  "language_info": {
   "codemirror_mode": {
    "name": "ipython",
    "version": 3
   },
   "file_extension": ".py",
   "mimetype": "text/x-python",
   "name": "python",
   "nbconvert_exporter": "python",
   "pygments_lexer": "ipython3",
   "version": "3.8.6"
  }
 },
 "nbformat": 4,
 "nbformat_minor": 5
}
