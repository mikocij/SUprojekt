{
 "cells": [
  {
   "cell_type": "markdown",
   "id": "e247de4b",
   "metadata": {},
   "source": [
    "# STROJNO UČENJE - PROJEKT\n",
    "## EDA Student Performance Dataset\n",
    "### Predviđanje uspjeha učenika pomoću demografskih i socio-ekonomskih informacija"
   ]
  },
  {
   "cell_type": "markdown",
   "id": "33a8f5fe",
   "metadata": {},
   "source": [
    "# Sadržaj\n",
    "[Library Import](#Library-import)\n",
    "\n",
    "[Vizualizacija podataka](#Vizualizacija-podataka)\n",
    "\n",
    "- [Kategoričke varijable](#Kategoričke-značajke)\n",
    "\n",
    "- [Numeričke varijable](#Numeričke-značajke)\n",
    "\n",
    "- [Usporedba spola](#Usporedba-spola)\n",
    "\n",
    "\n",
    "[Feature Selection](#Feature-selection-&-encoding)\n",
    "\n",
    "[Modeli](#Modeli)\n",
    "- [Priprema podataka](#Priprema-podataka)\n",
    "\n",
    "    -[Label Encoding](#Label-encoding)\n",
    "    \n",
    "    -[Train-test Split](#Train-Test-Split)\n",
    "\n",
    "- [Regresija](#Modeli-linearne-regresije)\n",
    "\n",
    "    -[Linearna Regresija](#Linearna-regresija)\n",
    "    \n",
    "    -[Lasso](#MultitaskLasso-Regresija-(3-izlaza))\n",
    "    \n",
    "    -[Ridge](#Ridge-regresija)\n",
    "   \n",
    "- [Slučajne šume](#slučajne-šume)"
   ]
  },
  {
   "cell_type": "markdown",
   "id": "87de0fb5",
   "metadata": {},
   "source": [
    "# Library import"
   ]
  },
  {
   "cell_type": "code",
   "execution_count": 8,
   "id": "f8f91b17",
   "metadata": {},
   "outputs": [],
   "source": [
    "#%% Imports\n",
    "\n",
    "\n",
    "#SelectKBest, f_classif\n",
    "from sklearn.preprocessing import LabelEncoder\n",
    "from sklearn import feature_selection \n",
    "\n",
    "import squarify\n",
    "from sklearn.pipeline import Pipeline\n",
    "\n",
    "\n",
    "# Basic Imports \n",
    "import numpy as np\n",
    "import pandas as pd\n",
    "\n",
    "# Plotting \n",
    "import matplotlib.pyplot as plt\n",
    "import plotly.express as px\n",
    "import seaborn as sns\n",
    "%matplotlib inline\n",
    "\n",
    "# Preprocessing\n",
    "from sklearn.model_selection import train_test_split, KFold\n",
    "from sklearn.preprocessing import LabelEncoder\n",
    "\n",
    "# Metrics \n",
    "import sklearn.metrics\n",
    "from sklearn.metrics import mean_squared_error, mean_absolute_error, r2_score, explained_variance_score\n",
    "\n",
    "# ML Models\n",
    "import lightgbm as lgb\n",
    "from lightgbm import LGBMRegressor \n",
    "import xgboost as xg \n",
    "from sklearn.ensemble import RandomForestRegressor\n",
    "from sklearn import svm\n",
    "from sklearn.linear_model import LinearRegression, Ridge\n",
    "# Model Tuning \n",
    "from bayes_opt import BayesianOptimization\n",
    "\n",
    "# Feature Importance \n",
    "import shap\n",
    "\n",
    "# Ignore Warnings \n",
    "import warnings\n",
    "warnings.filterwarnings('ignore')\n",
    "\n"
   ]
  },
  {
   "cell_type": "markdown",
   "id": "f03095d2",
   "metadata": {},
   "source": [
    "# Import dataseta"
   ]
  },
  {
   "cell_type": "code",
   "execution_count": 9,
   "id": "227885ea",
   "metadata": {},
   "outputs": [],
   "source": [
    "df = pd.read_csv('StudentsPerformance.csv')\n",
    "\n",
    "df['AVERAGE'] = df[['math score', 'reading score','writing score']].mean(axis=1)"
   ]
  },
  {
   "cell_type": "markdown",
   "id": "4fa26408",
   "metadata": {},
   "source": [
    "# Vizualizacija podataka"
   ]
  },
  {
   "cell_type": "code",
   "execution_count": 3,
   "id": "efb0cc37",
   "metadata": {},
   "outputs": [
    {
     "data": {
      "text/html": [
       "<div>\n",
       "<style scoped>\n",
       "    .dataframe tbody tr th:only-of-type {\n",
       "        vertical-align: middle;\n",
       "    }\n",
       "\n",
       "    .dataframe tbody tr th {\n",
       "        vertical-align: top;\n",
       "    }\n",
       "\n",
       "    .dataframe thead th {\n",
       "        text-align: right;\n",
       "    }\n",
       "</style>\n",
       "<table border=\"1\" class=\"dataframe\">\n",
       "  <thead>\n",
       "    <tr style=\"text-align: right;\">\n",
       "      <th></th>\n",
       "      <th>gender</th>\n",
       "      <th>race/ethnicity</th>\n",
       "      <th>parental level of education</th>\n",
       "      <th>lunch</th>\n",
       "      <th>test preparation course</th>\n",
       "      <th>math score</th>\n",
       "      <th>reading score</th>\n",
       "      <th>writing score</th>\n",
       "      <th>AVERAGE</th>\n",
       "    </tr>\n",
       "  </thead>\n",
       "  <tbody>\n",
       "    <tr>\n",
       "      <th>0</th>\n",
       "      <td>female</td>\n",
       "      <td>group B</td>\n",
       "      <td>bachelor's degree</td>\n",
       "      <td>standard</td>\n",
       "      <td>none</td>\n",
       "      <td>72</td>\n",
       "      <td>72</td>\n",
       "      <td>74</td>\n",
       "      <td>72.666667</td>\n",
       "    </tr>\n",
       "    <tr>\n",
       "      <th>1</th>\n",
       "      <td>female</td>\n",
       "      <td>group C</td>\n",
       "      <td>some college</td>\n",
       "      <td>standard</td>\n",
       "      <td>completed</td>\n",
       "      <td>69</td>\n",
       "      <td>90</td>\n",
       "      <td>88</td>\n",
       "      <td>82.333333</td>\n",
       "    </tr>\n",
       "    <tr>\n",
       "      <th>2</th>\n",
       "      <td>female</td>\n",
       "      <td>group B</td>\n",
       "      <td>master's degree</td>\n",
       "      <td>standard</td>\n",
       "      <td>none</td>\n",
       "      <td>90</td>\n",
       "      <td>95</td>\n",
       "      <td>93</td>\n",
       "      <td>92.666667</td>\n",
       "    </tr>\n",
       "    <tr>\n",
       "      <th>3</th>\n",
       "      <td>male</td>\n",
       "      <td>group A</td>\n",
       "      <td>associate's degree</td>\n",
       "      <td>free/reduced</td>\n",
       "      <td>none</td>\n",
       "      <td>47</td>\n",
       "      <td>57</td>\n",
       "      <td>44</td>\n",
       "      <td>49.333333</td>\n",
       "    </tr>\n",
       "    <tr>\n",
       "      <th>4</th>\n",
       "      <td>male</td>\n",
       "      <td>group C</td>\n",
       "      <td>some college</td>\n",
       "      <td>standard</td>\n",
       "      <td>none</td>\n",
       "      <td>76</td>\n",
       "      <td>78</td>\n",
       "      <td>75</td>\n",
       "      <td>76.333333</td>\n",
       "    </tr>\n",
       "  </tbody>\n",
       "</table>\n",
       "</div>"
      ],
      "text/plain": [
       "   gender race/ethnicity parental level of education         lunch  \\\n",
       "0  female        group B           bachelor's degree      standard   \n",
       "1  female        group C                some college      standard   \n",
       "2  female        group B             master's degree      standard   \n",
       "3    male        group A          associate's degree  free/reduced   \n",
       "4    male        group C                some college      standard   \n",
       "\n",
       "  test preparation course  math score  reading score  writing score    AVERAGE  \n",
       "0                    none          72             72             74  72.666667  \n",
       "1               completed          69             90             88  82.333333  \n",
       "2                    none          90             95             93  92.666667  \n",
       "3                    none          47             57             44  49.333333  \n",
       "4                    none          76             78             75  76.333333  "
      ]
     },
     "execution_count": 3,
     "metadata": {},
     "output_type": "execute_result"
    }
   ],
   "source": [
    "\n",
    "df.head()"
   ]
  },
  {
   "cell_type": "raw",
   "id": "3d469c09",
   "metadata": {},
   "source": [
    "Skup podataka sastoji se od 8 stupaca i 1000 redaka, odnosno podataka o studentima:"
   ]
  },
  {
   "cell_type": "code",
   "execution_count": 4,
   "id": "6a1c0896",
   "metadata": {},
   "outputs": [
    {
     "data": {
      "text/plain": [
       "(1000, 9)"
      ]
     },
     "execution_count": 4,
     "metadata": {},
     "output_type": "execute_result"
    }
   ],
   "source": [
    "df.shape"
   ]
  },
  {
   "cell_type": "markdown",
   "id": "f8bfad76",
   "metadata": {},
   "source": [
    "## Kategoričke značajke"
   ]
  },
  {
   "cell_type": "code",
   "execution_count": 5,
   "id": "c5e7245e",
   "metadata": {},
   "outputs": [
    {
     "data": {
      "image/png": "[encoded data removed]",
      "text/plain": [
       "<Figure size 1080x1080 with 6 Axes>"
      ]
     },
     "metadata": {
      "needs_background": "light"
     },
     "output_type": "display_data"
    }
   ],
   "source": [
    "f, axes=plt.subplots(3, 2, figsize=(15, 15))\n",
    "for i in range(5):\n",
    "    plt.subplot(3, 2, i+1)\n",
    "    \n",
    "    df_grouped= df.groupby(df.columns[i]).size().reset_index(name='counts')\n",
    "    labels = df_grouped.apply(lambda x: str(x[0]) + \"\\n (\" + str(x[1]) + \")\", axis=1)\n",
    "    sizes = df_grouped['counts'].values.tolist()\n",
    "    colors = [plt.cm.Spectral(i/float(len(labels))) for i in range(len(labels))]\n",
    "    \n",
    "    if i % 2 == 1:\n",
    "       squarify.plot(sizes=sizes, label=labels, color=colors, alpha=.8)\n",
    "    else:\n",
    "        plt.pie(sizes, labels=labels, colors=colors)\n",
    "    plt.title(df.columns[i].upper())\n",
    "    plt.axis('off')\n",
    "    \n",
    "plt.subplot(3, 2, 6)\n",
    "plt.axis('off')\n",
    "plt.show()"
   ]
  },
  {
   "cell_type": "markdown",
   "id": "e4d2ec9e",
   "metadata": {},
   "source": [
    "## Numeričke značajke "
   ]
  },
  {
   "cell_type": "code",
   "execution_count": 6,
   "id": "20a90386",
   "metadata": {},
   "outputs": [
    {
     "data": {
      "image/png": "[encoded data removed]",
      "text/plain": [
       "<Figure size 720x720 with 4 Axes>"
      ]
     },
     "metadata": {
      "needs_background": "light"
     },
     "output_type": "display_data"
    }
   ],
   "source": [
    "df.hist(figsize=(10,10),bins = 20)\n",
    "plt.show()"
   ]
  },
  {
   "cell_type": "markdown",
   "id": "f1233589",
   "metadata": {},
   "source": [
    "## Usporedba spola"
   ]
  },
  {
   "cell_type": "code",
   "execution_count": 7,
   "id": "5debd57f",
   "metadata": {},
   "outputs": [
    {
     "data": {
      "image/png": "[encoded data removed]",
      "text/plain": [
       "<Figure size 720x576 with 1 Axes>"
      ]
     },
     "metadata": {
      "needs_background": "light"
     },
     "output_type": "display_data"
    }
   ],
   "source": [
    "df['Total score'] = ((df['math score']+df['writing score']+df['reading score'])/3).round(2)\n",
    "plt.figure(figsize = (10,8))\n",
    "sns.barplot(data = df, x = 'gender', y = 'Total score', ci = False)\n",
    "plt.xticks(fontsize = 12)\n",
    "plt.xlabel('Gender', fontsize = 15)\n",
    "plt.yticks(fontsize = 12)\n",
    "plt.ylabel('Total score', fontsize = 15)\n",
    "plt.show()\n",
    "\n",
    " \n",
    "    "
   ]
  },
  {
   "cell_type": "markdown",
   "id": "7f751770",
   "metadata": {},
   "source": [
    "## Utjecaj priprema za ispit na rezultate "
   ]
  },
  {
   "cell_type": "code",
   "execution_count": 8,
   "id": "a079bcc5",
   "metadata": {},
   "outputs": [
    {
     "data": {
      "image/png": "[encoded data removed]",
      "text/plain": [
       "<Figure size 864x432 with 1 Axes>"
      ]
     },
     "metadata": {
      "needs_background": "light"
     },
     "output_type": "display_data"
    }
   ],
   "source": [
    "plt.figure(figsize = (12,6))\n",
    "sns.barplot(data = df, x = 'test preparation course', y = 'Total score', hue = 'gender', ci = False)\n",
    "plt.xlabel('Test Preparation status', fontsize = 15)\n",
    "plt.xticks(rotation = 45)\n",
    "plt.ylabel('Percentage scored', fontsize = 15)\n",
    "plt.show()\n",
    "\n",
    "df = df.drop([\"Total score\"],axis = 'columns')"
   ]
  },
  {
   "cell_type": "markdown",
   "id": "16013c8a",
   "metadata": {},
   "source": [
    "# Feature selection & encoding"
   ]
  },
  {
   "cell_type": "markdown",
   "id": "5eb99bdf",
   "metadata": {},
   "source": [
    "## Kodiranje atributa"
   ]
  },
  {
   "cell_type": "markdown",
   "id": "d718287f",
   "metadata": {},
   "source": [
    "Moramo napraviti preinake u našim podacima. Točnije, smetaju nam kategoričke varijable pošto algoritmi strojnog učenja ne rade sa kategoričkim varijablama. Postoji više pristupa tom problemu: \n",
    "\n",
    "    - One Hot Encoding (funkcija get_dummies)\n",
    "    - Biblioteka LabelEncoder\n",
    "    - Ručno, pomoću funkcije replace\n",
    "    \n",
    "Referenca: https://pbpython.com/categorical-encoding.html"
   ]
  },
  {
   "cell_type": "code",
   "execution_count": 9,
   "id": "47ca786a",
   "metadata": {},
   "outputs": [
    {
     "name": "stdout",
     "output_type": "stream",
     "text": [
      "gender  -->  ['female' 'male']\n",
      "race/ethnicity  -->  ['group B' 'group C' 'group A' 'group D' 'group E']\n",
      "parental level of education  -->  [\"bachelor's degree\" 'some college' \"master's degree\" \"associate's degree\"\n",
      " 'high school' 'some high school']\n",
      "lunch  -->  ['standard' 'free/reduced']\n",
      "test preparation course  -->  ['none' 'completed']\n"
     ]
    }
   ],
   "source": [
    "# moramo napraviti label encoding\n",
    "# pogledajmo prvo koje su nam vrijednosti u svakom stupcu\n",
    "for col in df:\n",
    "    if col == 'math score':\n",
    "        break\n",
    "    print(col, ' --> ', df[col].unique())"
   ]
  },
  {
   "cell_type": "code",
   "execution_count": 10,
   "id": "39854903",
   "metadata": {},
   "outputs": [],
   "source": [
    "def find_and_replace(data):\n",
    "    cleanup_nums = {\n",
    "        'gender': { \"female\": 0, 'male': 1 },\n",
    "        'race/ethnicity': { 'group A': 0, 'group B': 1, 'group C': 2, 'group D': 3, 'group E': 4 },\n",
    "        'parental level of education': { 'some high school': 0, 'high school': 1,\n",
    "                                        \"associate's degree\": 2, 'some college': 3,\n",
    "                                        \"bachelor's degree\": 4, \"master's degree\": 5,  },\n",
    "        'lunch': { 'standard': 0, 'free/reduced': 1 },\n",
    "        'test preparation course': { 'none': 0, 'completed': 1 },\n",
    "    }\n",
    "    return df.replace(cleanup_nums)\n",
    "\n",
    "#one hot encoding\n",
    "def one_hot_encoding(data):\n",
    "    # we rename first and last columns for scalability, so we dont have to change our code in multiple places\n",
    "    return pd.get_dummies(data, columns=['gender', 'race/ethnicity', \\\n",
    "                                       'parental level of education', \\\n",
    "                                       'lunch', 'test preparation course'], \\\n",
    "                          drop_first=True) \\\n",
    "            .rename(columns={\\\n",
    "                             'gender_male' : 'gender',\\\n",
    "                             'test preparation course_none' : 'test preparation course'\\\n",
    "                            })\n",
    "\n",
    "\n",
    "\n",
    "\n",
    "def encode_data(table_input,enc_type=\"ONEHOT\",removeY=True):\n",
    "    \n",
    "    table= table_input.copy()\n",
    "    #target= table[\"AVERAGE\"]\n",
    "    if removeY:\n",
    "        table = table.drop([\"math score\",\"reading score\",\"writing score\",\"AVERAGE\"],axis = 'columns') \n",
    "    \n",
    "    \n",
    "    if enc_type == \"ONEHOT\":\n",
    "        table = table.apply(lambda x: x.astype('category')) \n",
    "        table = pd.get_dummies(table,drop_first= True)\n",
    "        return table\n",
    "        #return one_hot_encoding(table)\n",
    "        \n",
    "    elif enc_type == \"LABEL\":\n",
    "        categorical_features = table.select_dtypes(['object','category']).columns.to_list()\n",
    "        labelencoder = LabelEncoder()\n",
    "        for i in categorical_features:\n",
    "            table[i] = labelencoder.fit_transform(table[i])\n",
    "            \n",
    "        return table\n",
    "    else:\n",
    "        return find_and_replace(table)\n",
    "    \n",
    "#Kako koristiti:\n",
    "\n",
    "#X_features_encoded = encode_data(SP_csv_clean,enc_type=\"ONE HOT\")\n",
    "#X_features_encoded\n",
    "\n",
    "#X_features_encoded = encode_data(SP_csv_clean,enc_type=\"LABEL\")\n",
    "#X_features_encoded"
   ]
  },
  {
   "cell_type": "markdown",
   "id": "ac939181",
   "metadata": {},
   "source": [
    "## Feature selection"
   ]
  },
  {
   "cell_type": "code",
   "execution_count": 11,
   "id": "757c1340",
   "metadata": {},
   "outputs": [],
   "source": [
    "def odaberi(algorithm,k,train_X, train_y,yname=\"not given\"):\n",
    "    selector = feature_selection.SelectKBest(algorithm, k)\n",
    "    selector.fit(train_X, train_y)\n",
    "    scores = -np.log10(selector.pvalues_)\n",
    "    indices = np.argsort(scores)[::-1] # Vrati indekse koji sortiraju polje (obratno)\n",
    "\n",
    "    plt.figure(figsize=(7,5))\n",
    "    plt.plot(range(train_X.shape[1]), scores[indices], 'o', color='gray')\n",
    "    plt.title(f'Univarijantni odabir znacajki za najvaznijih {k_best} znacajki')\n",
    "    plt.ylabel(f'log p-vrijednosti metode {yname}')\n",
    "    plt.xlim([-1, train_X.shape[1]])\n",
    "    plt.xticks(range(train_X.shape[1]), train_X.columns.values[indices], rotation=90)\n",
    "    plt.vlines(k_best-0.5, 0, np.max(scores), color='red', linestyle='--')\n",
    "    plt.grid(True,linestyle='--')\n",
    "    plt.tight_layout()\n",
    "\n",
    "    [ i.set_color(\"red\") for i in plt.gca().get_xticklabels() if i.get_text()[:5] == 'noise' ]\n",
    "\n",
    "    plt.show()"
   ]
  },
  {
   "cell_type": "markdown",
   "id": "89dafe7c",
   "metadata": {},
   "source": [
    "### 1.Odabir encodinga za feature selection : ONE HOT ENCODING"
   ]
  },
  {
   "cell_type": "code",
   "execution_count": 12,
   "id": "e3684b07",
   "metadata": {
    "scrolled": true
   },
   "outputs": [],
   "source": [
    "X_features_encoded = encode_data(df,enc_type=\"ONEHOT\")\n",
    "Y = df[\"AVERAGE\"]\n",
    "k_best = int(len(X_features_encoded.columns)*0.8) "
   ]
  },
  {
   "cell_type": "code",
   "execution_count": 13,
   "id": "2ff8f04e",
   "metadata": {},
   "outputs": [],
   "source": [
    "train_X_N, valid_X_N, train_y_N, valid_y_N = train_test_split(\n",
    "    X_features_encoded, \n",
    "    Y, \n",
    "    test_size=0.2, \n",
    "    shuffle = True, \n",
    "    random_state=1\n",
    ")\n",
    "\n",
    "train_y_N=train_y_N.astype('int')\n"
   ]
  },
  {
   "cell_type": "markdown",
   "id": "24b8d0b3",
   "metadata": {},
   "source": [
    "### Rezultat s metodom: f_regression"
   ]
  },
  {
   "cell_type": "code",
   "execution_count": 14,
   "id": "0aa38574",
   "metadata": {},
   "outputs": [
    {
     "data": {
      "image/png": "[encoded data removed]",
      "text/plain": [
       "<Figure size 504x360 with 1 Axes>"
      ]
     },
     "metadata": {
      "needs_background": "light"
     },
     "output_type": "display_data"
    }
   ],
   "source": [
    "odaberi(feature_selection.f_regression,k_best,train_X_N, train_y_N,yname=\"f_regression\")"
   ]
  },
  {
   "cell_type": "markdown",
   "id": "07a35719",
   "metadata": {},
   "source": [
    "### Rezultat s metodom: chi2"
   ]
  },
  {
   "cell_type": "code",
   "execution_count": 15,
   "id": "ae79b78d",
   "metadata": {
    "scrolled": true
   },
   "outputs": [
    {
     "data": {
      "image/png": "[encoded data removed]",
      "text/plain": [
       "<Figure size 504x360 with 1 Axes>"
      ]
     },
     "metadata": {
      "needs_background": "light"
     },
     "output_type": "display_data"
    }
   ],
   "source": [
    "odaberi(feature_selection.chi2,k_best,train_X_N, train_y_N,yname=\"Chi2\")"
   ]
  },
  {
   "cell_type": "markdown",
   "id": "0409bec5",
   "metadata": {},
   "source": [
    "### 2.Odabir encodinga za feature selection : LABEL\n"
   ]
  },
  {
   "cell_type": "code",
   "execution_count": 16,
   "id": "b8c6c233",
   "metadata": {},
   "outputs": [],
   "source": [
    "X_features_encoded = encode_data(df,enc_type=\"LABEL\")\n",
    "Y = df[\"AVERAGE\"]\n",
    "\n",
    "k_best = int(len(X_features_encoded.columns)*0.8) "
   ]
  },
  {
   "cell_type": "code",
   "execution_count": 17,
   "id": "c8385482",
   "metadata": {},
   "outputs": [],
   "source": [
    "train_X_N, valid_X_N, train_y_N, valid_y_N = train_test_split(\n",
    "    X_features_encoded, \n",
    "    Y, \n",
    "    test_size=0.2, \n",
    "    shuffle = True, \n",
    "    random_state=1\n",
    ")\n",
    "\n",
    "train_y_N=train_y_N.astype('int')"
   ]
  },
  {
   "cell_type": "markdown",
   "id": "da4d1af6",
   "metadata": {},
   "source": [
    "### Rezultat s metodom: f_regression"
   ]
  },
  {
   "cell_type": "code",
   "execution_count": 18,
   "id": "4f3d30ca",
   "metadata": {},
   "outputs": [
    {
     "data": {
      "image/png": "[encoded data removed]",
      "text/plain": [
       "<Figure size 504x360 with 1 Axes>"
      ]
     },
     "metadata": {
      "needs_background": "light"
     },
     "output_type": "display_data"
    }
   ],
   "source": [
    "odaberi(feature_selection.f_regression,k_best,train_X_N, train_y_N,yname=\"f_regression\")"
   ]
  },
  {
   "cell_type": "markdown",
   "id": "da479200",
   "metadata": {},
   "source": [
    "### Rezultat s metodom: chi2"
   ]
  },
  {
   "cell_type": "code",
   "execution_count": 19,
   "id": "4d7ae356",
   "metadata": {},
   "outputs": [
    {
     "data": {
      "image/png": "[encoded data removed]",
      "text/plain": [
       "<Figure size 504x360 with 1 Axes>"
      ]
     },
     "metadata": {
      "needs_background": "light"
     },
     "output_type": "display_data"
    }
   ],
   "source": [
    "odaberi(feature_selection.chi2,k_best,train_X_N, train_y_N,yname=\"Chi2\")"
   ]
  },
  {
   "cell_type": "markdown",
   "id": "382f449a",
   "metadata": {},
   "source": [
    "# Modeli"
   ]
  },
  {
   "cell_type": "markdown",
   "id": "d1c1e011",
   "metadata": {},
   "source": [
    "Na raspolaganju imamo puno različitih algoritama strojnog učenja koje možemo primjeniti na ovaj problem. Ideja je da prvo krenemo od jednostavnijih, pa nadograđujemo prema onim kompleksnijim modelima. \n",
    "Za početak ćemo iskoristiti sljedeće algoritme:\n",
    "        \n",
    "        - Algoritmi regresije\n",
    "        - Support vector machines (SVM)\n",
    "        - Slučajne šume"
   ]
  },
  {
   "cell_type": "markdown",
   "id": "c69dbb86",
   "metadata": {},
   "source": [
    "## Priprema podataka"
   ]
  },
  {
   "cell_type": "markdown",
   "id": "bc4c1644",
   "metadata": {},
   "source": [
    "### Funkcije za ispis grešaka"
   ]
  },
  {
   "cell_type": "code",
   "execution_count": 198,
   "id": "af044c79",
   "metadata": {},
   "outputs": [],
   "source": [
    "def residual(true,pred):\n",
    "    resid = true - pred\n",
    "    print( np.sqrt(np.mean(resid*resid)) )\n",
    "def evaluateRegressor(true,predicted,message = \"Test set evaluation:\"):\n",
    "    MSE = mean_squared_error(true,predicted,squared = True)\n",
    "    MAE = mean_absolute_error(true,predicted)\n",
    "    RMSE = mean_squared_error(true,predicted,squared = False)\n",
    "    R_squared = r2_score(true,predicted)\n",
    "    print(message)\n",
    "    print(\"MSE:\", MSE)\n",
    "    print(\"MAE:\", MAE)\n",
    "    print(\"RMSE:\", RMSE)\n",
    "    print(f\"R-squared: {R_squared} , from <0,1> \")\n",
    "    return [MSE,MAE,RMSE,R_squared]"
   ]
  },
  {
   "cell_type": "markdown",
   "id": "4d4660a4",
   "metadata": {},
   "source": [
    "### Train Test Split\n",
    "Pošto nemamo unaprijed zadane trening i test podatke, uobičajeno je podijeliti cijelu našu bazu u dio za trening i dio za test. Najčešće se koristi sklearn funkcija train_test_split koja prima postotak podataka koji želimo da bude testni. U našem slučaju stavit ćemo 20% (800 trening, 200 test podataka)."
   ]
  },
  {
   "cell_type": "code",
   "execution_count": 12,
   "id": "40923068",
   "metadata": {},
   "outputs": [],
   "source": [
    "X_features_encoded = encode_data(df,enc_type=\"LABEL\")\n",
    "Y = df[\"AVERAGE\"]\n",
    "\n",
    "Y_class= pd.cut(Y,\n",
    "       5, labels=[1,2,3,4,5])\n",
    "\n",
    "train_X, valid_X, train_y, valid_y = train_test_split(\n",
    "    X_features_encoded, \n",
    "    Y, \n",
    "    test_size=0.2, \n",
    "    shuffle = True, \n",
    "    #random_state=1\n",
    ")\n",
    "\n",
    "#train_y_N=train_y_N.astype('int')"
   ]
  },
  {
   "cell_type": "code",
   "execution_count": 13,
   "id": "7dfa6dbf",
   "metadata": {},
   "outputs": [],
   "source": [
    "df_temp = df.copy()\n",
    "df_temp['Total score'] = ((df['math score']+df['writing score']+df['reading score'])/3).round(2)\n",
    "df_temp=df_temp.drop([\"AVERAGE\"],axis = 'columns')"
   ]
  },
  {
   "cell_type": "code",
   "execution_count": 14,
   "id": "c8fd3a27",
   "metadata": {},
   "outputs": [],
   "source": [
    "df2 = one_hot_encoding(df_temp)\n",
    "train, test = train_test_split(df2, test_size=0.2)\n",
    "features = train.loc[:, 'gender' : 'test preparation course']\n",
    "targets = train.loc[:, 'math score' : 'Total score']"
   ]
  },
  {
   "cell_type": "markdown",
   "id": "20905cb3",
   "metadata": {},
   "source": [
    "Ako ce nam trebat skalirani podaci ,tu su"
   ]
  },
  {
   "cell_type": "code",
   "execution_count": 24,
   "id": "2e78bd2d",
   "metadata": {},
   "outputs": [],
   "source": [
    "from sklearn.preprocessing import StandardScaler\n",
    "scaler = StandardScaler()\n",
    "\n",
    "train_X_scaled = scaler.fit_transform(train_X)\n",
    "valid_X_scaled = scaler.transform(valid_X)"
   ]
  },
  {
   "cell_type": "markdown",
   "id": "08df332e",
   "metadata": {},
   "source": [
    "### Evaluacije spremamo u tablicu"
   ]
  },
  {
   "cell_type": "code",
   "execution_count": 274,
   "id": "19648683",
   "metadata": {},
   "outputs": [
    {
     "data": {
      "text/html": [
       "<div>\n",
       "<style scoped>\n",
       "    .dataframe tbody tr th:only-of-type {\n",
       "        vertical-align: middle;\n",
       "    }\n",
       "\n",
       "    .dataframe tbody tr th {\n",
       "        vertical-align: top;\n",
       "    }\n",
       "\n",
       "    .dataframe thead th {\n",
       "        text-align: right;\n",
       "    }\n",
       "</style>\n",
       "<table border=\"1\" class=\"dataframe\">\n",
       "  <thead>\n",
       "    <tr style=\"text-align: right;\">\n",
       "      <th></th>\n",
       "      <th>MSE</th>\n",
       "      <th>MAE</th>\n",
       "      <th>RMSE</th>\n",
       "      <th>R^2</th>\n",
       "    </tr>\n",
       "  </thead>\n",
       "  <tbody>\n",
       "  </tbody>\n",
       "</table>\n",
       "</div>"
      ],
      "text/plain": [
       "Empty DataFrame\n",
       "Columns: [MSE, MAE, RMSE, R^2]\n",
       "Index: []"
      ]
     },
     "execution_count": 274,
     "metadata": {},
     "output_type": "execute_result"
    }
   ],
   "source": [
    "data=[]\n",
    "data=pd.DataFrame(data, columns=[\"MSE\", \"MAE\",\"RMSE\", \"R^2\"])\n",
    "data.index.astype(str, copy = False)\n",
    "\n",
    "data"
   ]
  },
  {
   "cell_type": "markdown",
   "id": "a19c2ca0",
   "metadata": {},
   "source": [
    "## Modeli linearne regresije"
   ]
  },
  {
   "cell_type": "markdown",
   "id": "83250207",
   "metadata": {},
   "source": [
    "Osnovni algoritam regresije (a i cijele teorije strojnog učenja) je linearna regresija. Osim nje, postoje i neke modifikacije. Svaka ima svoje prednosti i mane, zbog kojih se sve koriste u određenim situacijama. Mi ćemo iskoristiti Lasso i Ridge, te usporediti rezultate svih."
   ]
  },
  {
   "cell_type": "markdown",
   "id": "3f9b8776",
   "metadata": {},
   "source": [
    "### Linearna Regresija"
   ]
  },
  {
   "cell_type": "code",
   "execution_count": 275,
   "id": "9c85001b",
   "metadata": {},
   "outputs": [
    {
     "name": "stdout",
     "output_type": "stream",
     "text": [
      "Objasnjena varijanca = 0.28\n",
      "R2 = 0.27\n",
      "MSE = 168.72\n"
     ]
    }
   ],
   "source": [
    "model = Pipeline([ ('linear', LinearRegression()) ])\n",
    "model = model.fit(features, targets)\n",
    "\n",
    "regr_pred = model.predict(test.loc[:, 'gender' : 'test preparation course'])\n",
    "#print(regr_pred)\n",
    "\n",
    "correct_scores = test.loc[:, 'math score' : 'Total score']\n",
    "explained_variance = explained_variance_score(correct_scores, regr_pred)\n",
    "R2 = r2_score(correct_scores, regr_pred)\n",
    "MSE = mean_squared_error(correct_scores, regr_pred)\n",
    "\n",
    "print('Objasnjena varijanca = '+'{0:.2f}'.format(explained_variance)+'\\nR2 = '+'{0:.2f}'.format(R2)+'\\nMSE = '+'{0:.2f}'.format(MSE))"
   ]
  },
  {
   "cell_type": "code",
   "execution_count": 276,
   "id": "efe50f3a",
   "metadata": {},
   "outputs": [],
   "source": [
    "def lin_reg(X,y):\n",
    "    LinearReg = LinearRegression(normalize = True)\n",
    "    LinearReg = LinearReg.fit(X,y)\n",
    "\n",
    "    return LinearReg\n"
   ]
  },
  {
   "cell_type": "code",
   "execution_count": 277,
   "id": "230d807f",
   "metadata": {},
   "outputs": [],
   "source": [
    "model_LINEAR = lin_reg(train_X,train_y)\n",
    "\n",
    "predicted_valid_y = model_LINEAR.predict(valid_X)"
   ]
  },
  {
   "cell_type": "code",
   "execution_count": 278,
   "id": "413df37e",
   "metadata": {},
   "outputs": [
    {
     "name": "stdout",
     "output_type": "stream",
     "text": [
      "12.676343813132048\n",
      "Test set evaluation:\n",
      "MSE: 160.68969246873115\n",
      "MAE: 10.154567169775646\n",
      "RMSE: 12.676343813132048\n",
      "R-squared: 0.15637127054953737 , from <0,1> \n"
     ]
    }
   ],
   "source": [
    "residual(valid_y, predicted_valid_y)\n",
    "\n",
    "data.loc['linearna'] = evaluateRegressor(valid_y, predicted_valid_y)\n"
   ]
  },
  {
   "cell_type": "markdown",
   "id": "eac4ff29",
   "metadata": {},
   "source": [
    "### MultitaskLasso Regresija (3 izlaza)"
   ]
  },
  {
   "cell_type": "code",
   "execution_count": 279,
   "id": "9b004bc2",
   "metadata": {},
   "outputs": [],
   "source": [
    "X_lasso =df.drop([\"math score\",\"reading score\",\"writing score\",\"AVERAGE\"],axis = 'columns') \n",
    "Y_3_lasso =df[[\"math score\",\"reading score\",\"writing score\"]]\n",
    "\n",
    "X_lasso = encode_data(X_lasso,enc_type=\"LABEL\",removeY=False)"
   ]
  },
  {
   "cell_type": "code",
   "execution_count": 280,
   "id": "18afe7d8",
   "metadata": {},
   "outputs": [],
   "source": [
    "train_X_lasso, valid_X_lasso, train_y_lasso, valid_y_lasso = train_test_split(\n",
    "    X_lasso, \n",
    "    Y_3_lasso, \n",
    "    test_size=0.2, \n",
    "    shuffle = True, \n",
    "    #random_state=1\n",
    ")"
   ]
  },
  {
   "cell_type": "code",
   "execution_count": 281,
   "id": "f899f9c7",
   "metadata": {},
   "outputs": [],
   "source": [
    "# import linear model library\n",
    "from sklearn import linear_model\n",
    "  \n",
    "# create MultiTaskLasso model\n",
    "MTL = linear_model.MultiTaskLasso(alpha = 0.5)\n",
    "\n",
    "# fit the model to a data\n",
    "#MTL.fit([[1, 0], [1, 3], [2, 2]], [[0, 2], [1, 4], [2, 4]])\n",
    "MTL.fit(train_X_lasso,train_y_lasso)\n",
    "\n",
    "pred=MTL.predict(valid_X_lasso)\n",
    "# perform prediction and print the result\n",
    "#print(\"Prediciton result: \\n\", MTL.predict(valid_X_lasso), \"\\n\")\n",
    "  \n",
    "# print the coefficients\n",
    "#print(\"Coefficients: \\n\", MTL.coef_, \"\\n\")\n",
    "  \n",
    "# print the intercepts\n",
    "#print(\"Intercepts: \\n\", MTL.intercept_, \"\\n\")\n",
    "  \n",
    "# print the number of iterations performed\n",
    "#print(\"Number of Iterations: \", MTL.n_iter_, \"\\n\")"
   ]
  },
  {
   "cell_type": "code",
   "execution_count": 282,
   "id": "12aa198c",
   "metadata": {
    "scrolled": true
   },
   "outputs": [
    {
     "name": "stdout",
     "output_type": "stream",
     "text": [
      "math score       13.417021\n",
      "reading score    13.527676\n",
      "writing score    13.176069\n",
      "dtype: float64\n",
      "\n",
      "Scores:\n",
      "Test set evaluation:\n",
      "MSE: 178.87442198968702\n",
      "MAE: 10.99907421373472\n",
      "RMSE: 13.373588683723844\n",
      "R-squared: 0.2301108220132274 , from <0,1> \n"
     ]
    }
   ],
   "source": [
    "residual(valid_y_lasso, pred)\n",
    "\n",
    "print(\"\\nScores:\")\n",
    "\n",
    "data.loc['Multi-Lasso'] = evaluateRegressor(valid_y_lasso, pred)"
   ]
  },
  {
   "cell_type": "markdown",
   "id": "5428a2ae",
   "metadata": {},
   "source": [
    "## Ridge regresija"
   ]
  },
  {
   "cell_type": "code",
   "execution_count": 283,
   "id": "e7e734bb",
   "metadata": {},
   "outputs": [
    {
     "name": "stdout",
     "output_type": "stream",
     "text": [
      "Objasnjena varijanca = 0.27\n",
      "R2 = 0.27\n",
      "MSE = 170.19\n"
     ]
    },
    {
     "data": {
      "image/png": "[encoded data removed]",
      "text/plain": [
       "<Figure size 1080x324 with 3 Axes>"
      ]
     },
     "metadata": {
      "needs_background": "light"
     },
     "output_type": "display_data"
    }
   ],
   "source": [
    "fig, ax = plt.subplots(1, 3, figsize=(15, 4.5))\n",
    "alpha_array = np.linspace(0.01, 20.0, 100)\n",
    "R2 = []\n",
    "MSE = []\n",
    "explained_variance = []\n",
    "\n",
    "for alpha in alpha_array:\n",
    "    model_ridge = Pipeline( [ ('ridge', Ridge(alpha=alpha)) ] )\n",
    "    model_ridge = model_ridge.fit(features, targets)\n",
    "    #R2_ridge = model_ridge.score(test.loc[:, 'gender' : 'test preparation course'], correct_scores)\n",
    "    regr_pred = model_ridge.predict(test.loc[:, 'gender' : 'test preparation course'])\n",
    "    \n",
    "    \n",
    "    explained_variance.append(explained_variance_score(correct_scores, regr_pred))\n",
    "    R2.append(r2_score(correct_scores, regr_pred))\n",
    "    MSE.append(mean_squared_error(correct_scores, regr_pred))\n",
    "\n",
    "def avg(arr):\n",
    "    return sum(arr) / len(arr)\n",
    "\n",
    "print('Objasnjena varijanca = '+'{0:.2f}'.format(avg(explained_variance))+'\\nR2 = '+'{0:.2f}'.format(avg(R2))+'\\nMSE = '+'{0:.2f}'.format(avg(MSE)))\n",
    "\n",
    "\n",
    "ax[0].plot(alpha_array, R2)\n",
    "ax[0].set(xlabel='alpha', ylabel='R^2')\n",
    "ax[1].plot(alpha_array, MSE)\n",
    "ax[1].set(xlabel='alpha', ylabel='MSE')\n",
    "ax[2].plot(alpha_array, explained_variance)\n",
    "ax[2].set(xlabel='alpha', ylabel='Objasnjena varijanca')\n",
    "\n",
    "plt.show()"
   ]
  },
  {
   "cell_type": "markdown",
   "id": "dad5824b",
   "metadata": {},
   "source": [
    "## LightGBM"
   ]
  },
  {
   "cell_type": "code",
   "execution_count": 284,
   "id": "47fab67b",
   "metadata": {
    "scrolled": true
   },
   "outputs": [
    {
     "name": "stdout",
     "output_type": "stream",
     "text": [
      "    Training Set\n",
      "MSE: 136.47240084210512\n",
      "MAE: 9.356612289990458\n",
      "RMSE: 11.682140250917428\n",
      "R-squared: 0.33818522970221265 , from <0,1> \n",
      "Test set evaluation:\n",
      "MSE: 170.1180404746157\n",
      "MAE: 10.250945638352162\n",
      "RMSE: 13.042930670467266\n",
      "R-squared: 0.10687198327839531 , from <0,1> \n"
     ]
    }
   ],
   "source": [
    "LGBMReg = lgb.LGBMRegressor(random_state=0).fit(train_X,train_y)\n",
    "\n",
    "predicted_train_y = LGBMReg.predict(train_X)\n",
    "evaluateRegressor(train_y,predicted_train_y,\"    Training Set\")\n",
    "predicted_valid_y = LGBMReg.predict(valid_X)\n",
    "\n",
    "\n",
    "data.loc['LightGBM'] = evaluateRegressor(valid_y,predicted_valid_y)\n"
   ]
  },
  {
   "cell_type": "code",
   "execution_count": 285,
   "id": "2c2467a0",
   "metadata": {},
   "outputs": [
    {
     "data": {
      "text/plain": [
       "<AxesSubplot:title={'center':'Feature importance'}, xlabel='Feature importance', ylabel='Features'>"
      ]
     },
     "execution_count": 285,
     "metadata": {},
     "output_type": "execute_result"
    },
    {
     "data": {
      "image/png": "[encoded data removed]",
      "text/plain": [
       "<Figure size 1800x1440 with 1 Axes>"
      ]
     },
     "metadata": {
      "needs_background": "light"
     },
     "output_type": "display_data"
    }
   ],
   "source": [
    "lgb.plot_importance(LGBMReg,figsize=(25,20))"
   ]
  },
  {
   "cell_type": "code",
   "execution_count": 286,
   "id": "73e44490",
   "metadata": {},
   "outputs": [
    {
     "data": {
      "image/png": "[encoded data removed]",
      "text/plain": [
       "<Figure size 576x252 with 2 Axes>"
      ]
     },
     "metadata": {
      "needs_background": "light"
     },
     "output_type": "display_data"
    }
   ],
   "source": [
    "#LGBMReg.params['objective'] = 'regression'\n",
    "shap_values = shap.TreeExplainer(LGBMReg).shap_values(train_X)\n",
    "shap.summary_plot(shap_values, train_X)"
   ]
  },
  {
   "cell_type": "markdown",
   "id": "a4651dd3",
   "metadata": {},
   "source": [
    "## CATBoost"
   ]
  },
  {
   "cell_type": "markdown",
   "id": "82e7d359",
   "metadata": {},
   "source": [
    "### Pretraživanje hiperparametra: $iterations$"
   ]
  },
  {
   "cell_type": "code",
   "execution_count": 287,
   "id": "923033da",
   "metadata": {},
   "outputs": [
    {
     "name": "stdout",
     "output_type": "stream",
     "text": [
      "0:\tlearn: 13.0578783\ttotal: 601us\tremaining: 0us\n",
      "0:\tlearn: 13.0578783\ttotal: 1.06ms\tremaining: 1.06ms\n",
      "1:\tlearn: 12.9584530\ttotal: 2.18ms\tremaining: 0us\n",
      "0:\tlearn: 13.0578783\ttotal: 622us\tremaining: 1.24ms\n",
      "1:\tlearn: 12.9584530\ttotal: 1.2ms\tremaining: 601us\n",
      "2:\tlearn: 12.6504686\ttotal: 1.88ms\tremaining: 0us\n",
      "0:\tlearn: 13.0578783\ttotal: 621us\tremaining: 1.86ms\n",
      "1:\tlearn: 12.9584530\ttotal: 1.44ms\tremaining: 1.44ms\n",
      "2:\tlearn: 12.6504686\ttotal: 1.98ms\tremaining: 659us\n",
      "3:\tlearn: 12.6153855\ttotal: 2.69ms\tremaining: 0us\n",
      "0:\tlearn: 13.0578783\ttotal: 633us\tremaining: 2.53ms\n",
      "1:\tlearn: 12.9584530\ttotal: 1.19ms\tremaining: 1.78ms\n",
      "2:\tlearn: 12.6504686\ttotal: 1.84ms\tremaining: 1.23ms\n",
      "3:\tlearn: 12.6153855\ttotal: 2.31ms\tremaining: 577us\n",
      "4:\tlearn: 12.5517572\ttotal: 2.81ms\tremaining: 0us\n",
      "0:\tlearn: 13.0578783\ttotal: 587us\tremaining: 2.94ms\n",
      "1:\tlearn: 12.9584530\ttotal: 1.23ms\tremaining: 2.46ms\n",
      "2:\tlearn: 12.6504686\ttotal: 1.97ms\tremaining: 1.97ms\n",
      "3:\tlearn: 12.6153855\ttotal: 2.52ms\tremaining: 1.26ms\n",
      "4:\tlearn: 12.5517572\ttotal: 3.04ms\tremaining: 608us\n",
      "5:\tlearn: 12.5087184\ttotal: 3.62ms\tremaining: 0us\n",
      "0:\tlearn: 13.0578783\ttotal: 574us\tremaining: 3.45ms\n",
      "1:\tlearn: 12.9584530\ttotal: 1.37ms\tremaining: 3.44ms\n",
      "2:\tlearn: 12.6504686\ttotal: 2.04ms\tremaining: 2.71ms\n",
      "3:\tlearn: 12.6153855\ttotal: 2.56ms\tremaining: 1.92ms\n",
      "4:\tlearn: 12.5517572\ttotal: 3.14ms\tremaining: 1.25ms\n",
      "5:\tlearn: 12.5087184\ttotal: 3.63ms\tremaining: 604us\n",
      "6:\tlearn: 12.4783454\ttotal: 4.12ms\tremaining: 0us\n",
      "0:\tlearn: 13.0578783\ttotal: 784us\tremaining: 5.49ms\n",
      "1:\tlearn: 12.9584530\ttotal: 2.24ms\tremaining: 6.73ms\n",
      "2:\tlearn: 12.6504686\ttotal: 3.4ms\tremaining: 5.67ms\n",
      "3:\tlearn: 12.6153855\ttotal: 4.01ms\tremaining: 4.01ms\n",
      "4:\tlearn: 12.5517572\ttotal: 4.55ms\tremaining: 2.73ms\n",
      "5:\tlearn: 12.5087184\ttotal: 5.09ms\tremaining: 1.7ms\n",
      "6:\tlearn: 12.4783454\ttotal: 5.61ms\tremaining: 801us\n",
      "7:\tlearn: 12.4666198\ttotal: 6.2ms\tremaining: 0us\n",
      "0:\tlearn: 13.0578783\ttotal: 701us\tremaining: 5.61ms\n",
      "1:\tlearn: 12.9584530\ttotal: 1.21ms\tremaining: 4.23ms\n",
      "2:\tlearn: 12.6504686\ttotal: 1.76ms\tremaining: 3.53ms\n",
      "3:\tlearn: 12.6153855\ttotal: 2.41ms\tremaining: 3.02ms\n",
      "4:\tlearn: 12.5517572\ttotal: 3.1ms\tremaining: 2.48ms\n",
      "5:\tlearn: 12.5087184\ttotal: 3.7ms\tremaining: 1.85ms\n",
      "6:\tlearn: 12.4783454\ttotal: 5.11ms\tremaining: 1.46ms\n",
      "7:\tlearn: 12.4666198\ttotal: 5.63ms\tremaining: 703us\n",
      "8:\tlearn: 12.4522725\ttotal: 6.12ms\tremaining: 0us\n",
      "0:\tlearn: 13.0578783\ttotal: 540us\tremaining: 4.86ms\n",
      "1:\tlearn: 12.9584530\ttotal: 1.07ms\tremaining: 4.27ms\n",
      "2:\tlearn: 12.6504686\ttotal: 1.97ms\tremaining: 4.59ms\n",
      "3:\tlearn: 12.6153855\ttotal: 2.48ms\tremaining: 3.72ms\n",
      "4:\tlearn: 12.5517572\ttotal: 2.99ms\tremaining: 2.99ms\n",
      "5:\tlearn: 12.5087184\ttotal: 3.56ms\tremaining: 2.37ms\n",
      "6:\tlearn: 12.4783454\ttotal: 4.05ms\tremaining: 1.74ms\n",
      "7:\tlearn: 12.4666198\ttotal: 5.44ms\tremaining: 1.36ms\n",
      "8:\tlearn: 12.4522725\ttotal: 5.97ms\tremaining: 663us\n",
      "9:\tlearn: 12.4282418\ttotal: 6.57ms\tremaining: 0us\n",
      "0:\tlearn: 13.0578783\ttotal: 624us\tremaining: 6.24ms\n",
      "1:\tlearn: 12.9584530\ttotal: 1.22ms\tremaining: 5.47ms\n",
      "2:\tlearn: 12.6504686\ttotal: 1.94ms\tremaining: 5.17ms\n",
      "3:\tlearn: 12.6153855\ttotal: 2.5ms\tremaining: 4.38ms\n",
      "4:\tlearn: 12.5517572\ttotal: 3.12ms\tremaining: 3.74ms\n",
      "5:\tlearn: 12.5087184\ttotal: 3.85ms\tremaining: 3.21ms\n",
      "6:\tlearn: 12.4783454\ttotal: 4.55ms\tremaining: 2.6ms\n",
      "7:\tlearn: 12.4666198\ttotal: 5.12ms\tremaining: 1.92ms\n",
      "8:\tlearn: 12.4522725\ttotal: 5.67ms\tremaining: 1.26ms\n",
      "9:\tlearn: 12.4282418\ttotal: 6.23ms\tremaining: 622us\n",
      "10:\tlearn: 12.4087901\ttotal: 6.77ms\tremaining: 0us\n",
      "0:\tlearn: 13.0578783\ttotal: 607us\tremaining: 6.68ms\n",
      "1:\tlearn: 12.9584530\ttotal: 1.2ms\tremaining: 5.98ms\n",
      "2:\tlearn: 12.6504686\ttotal: 1.7ms\tremaining: 5.11ms\n",
      "3:\tlearn: 12.6153855\ttotal: 2.18ms\tremaining: 4.37ms\n",
      "4:\tlearn: 12.5517572\ttotal: 2.65ms\tremaining: 3.71ms\n",
      "5:\tlearn: 12.5087184\ttotal: 3.14ms\tremaining: 3.14ms\n",
      "6:\tlearn: 12.4783454\ttotal: 3.65ms\tremaining: 2.61ms\n",
      "7:\tlearn: 12.4666198\ttotal: 4.12ms\tremaining: 2.06ms\n",
      "8:\tlearn: 12.4522725\ttotal: 4.64ms\tremaining: 1.55ms\n",
      "9:\tlearn: 12.4282418\ttotal: 5.11ms\tremaining: 1.02ms\n",
      "10:\tlearn: 12.4087901\ttotal: 5.58ms\tremaining: 507us\n",
      "11:\tlearn: 12.3938148\ttotal: 6.05ms\tremaining: 0us\n",
      "0:\tlearn: 13.0578783\ttotal: 578us\tremaining: 6.94ms\n",
      "1:\tlearn: 12.9584530\ttotal: 1.41ms\tremaining: 7.74ms\n",
      "2:\tlearn: 12.6504686\ttotal: 4.7ms\tremaining: 15.7ms\n",
      "3:\tlearn: 12.6153855\ttotal: 5.29ms\tremaining: 11.9ms\n",
      "4:\tlearn: 12.5517572\ttotal: 5.82ms\tremaining: 9.32ms\n",
      "5:\tlearn: 12.5087184\ttotal: 6.38ms\tremaining: 7.44ms\n",
      "6:\tlearn: 12.4783454\ttotal: 7.23ms\tremaining: 6.19ms\n",
      "7:\tlearn: 12.4666198\ttotal: 7.78ms\tremaining: 4.86ms\n",
      "8:\tlearn: 12.4522725\ttotal: 8.32ms\tremaining: 3.7ms\n",
      "9:\tlearn: 12.4282418\ttotal: 9.07ms\tremaining: 2.72ms\n",
      "10:\tlearn: 12.4087901\ttotal: 10.5ms\tremaining: 1.91ms\n",
      "11:\tlearn: 12.3938148\ttotal: 14.3ms\tremaining: 1.19ms\n",
      "12:\tlearn: 12.3858347\ttotal: 14.9ms\tremaining: 0us\n",
      "0:\tlearn: 13.0578783\ttotal: 576us\tremaining: 7.49ms\n",
      "1:\tlearn: 12.9584530\ttotal: 1.08ms\tremaining: 6.48ms\n",
      "2:\tlearn: 12.6504686\ttotal: 2.96ms\tremaining: 10.9ms\n",
      "3:\tlearn: 12.6153855\ttotal: 3.53ms\tremaining: 8.82ms\n",
      "4:\tlearn: 12.5517572\ttotal: 4.03ms\tremaining: 7.25ms\n",
      "5:\tlearn: 12.5087184\ttotal: 4.53ms\tremaining: 6.04ms\n",
      "6:\tlearn: 12.4783454\ttotal: 4.97ms\tremaining: 4.97ms\n",
      "7:\tlearn: 12.4666198\ttotal: 5.42ms\tremaining: 4.07ms\n",
      "8:\tlearn: 12.4522725\ttotal: 5.9ms\tremaining: 3.28ms\n",
      "9:\tlearn: 12.4282418\ttotal: 6.37ms\tremaining: 2.55ms\n",
      "10:\tlearn: 12.4087901\ttotal: 6.85ms\tremaining: 1.87ms\n",
      "11:\tlearn: 12.3938148\ttotal: 7.33ms\tremaining: 1.22ms\n",
      "12:\tlearn: 12.3858347\ttotal: 7.8ms\tremaining: 599us\n",
      "13:\tlearn: 12.3769657\ttotal: 8.31ms\tremaining: 0us\n",
      "0:\tlearn: 13.0578783\ttotal: 595us\tremaining: 8.33ms\n",
      "1:\tlearn: 12.9584530\ttotal: 1.13ms\tremaining: 7.32ms\n",
      "2:\tlearn: 12.6504686\ttotal: 1.73ms\tremaining: 6.92ms\n",
      "3:\tlearn: 12.6153855\ttotal: 2.25ms\tremaining: 6.2ms\n",
      "4:\tlearn: 12.5517572\ttotal: 2.75ms\tremaining: 5.5ms\n",
      "5:\tlearn: 12.5087184\ttotal: 3.32ms\tremaining: 4.98ms\n",
      "6:\tlearn: 12.4783454\ttotal: 3.79ms\tremaining: 4.33ms\n",
      "7:\tlearn: 12.4666198\ttotal: 4.27ms\tremaining: 3.74ms\n",
      "8:\tlearn: 12.4522725\ttotal: 4.8ms\tremaining: 3.2ms\n",
      "9:\tlearn: 12.4282418\ttotal: 5.36ms\tremaining: 2.68ms\n",
      "10:\tlearn: 12.4087901\ttotal: 5.87ms\tremaining: 2.13ms\n",
      "11:\tlearn: 12.3938148\ttotal: 6.39ms\tremaining: 1.6ms\n",
      "12:\tlearn: 12.3858347\ttotal: 6.92ms\tremaining: 1.06ms\n",
      "13:\tlearn: 12.3769657\ttotal: 7.58ms\tremaining: 541us\n",
      "14:\tlearn: 12.3615643\ttotal: 8.28ms\tremaining: 0us\n",
      "0:\tlearn: 13.0578783\ttotal: 590us\tremaining: 8.86ms\n",
      "1:\tlearn: 12.9584530\ttotal: 1.51ms\tremaining: 10.6ms\n",
      "2:\tlearn: 12.6504686\ttotal: 2ms\tremaining: 8.65ms\n",
      "3:\tlearn: 12.6153855\ttotal: 2.8ms\tremaining: 8.41ms\n",
      "4:\tlearn: 12.5517572\ttotal: 3.29ms\tremaining: 7.24ms\n",
      "5:\tlearn: 12.5087184\ttotal: 3.79ms\tremaining: 6.31ms\n",
      "6:\tlearn: 12.4783454\ttotal: 4.29ms\tremaining: 5.52ms\n",
      "7:\tlearn: 12.4666198\ttotal: 4.8ms\tremaining: 4.8ms\n",
      "8:\tlearn: 12.4522725\ttotal: 5.31ms\tremaining: 4.13ms\n",
      "9:\tlearn: 12.4282418\ttotal: 5.8ms\tremaining: 3.48ms\n",
      "10:\tlearn: 12.4087901\ttotal: 6.33ms\tremaining: 2.88ms\n",
      "11:\tlearn: 12.3938148\ttotal: 6.88ms\tremaining: 2.29ms\n",
      "12:\tlearn: 12.3858347\ttotal: 7.34ms\tremaining: 1.69ms\n",
      "13:\tlearn: 12.3769657\ttotal: 7.92ms\tremaining: 1.13ms\n",
      "14:\tlearn: 12.3615643\ttotal: 8.4ms\tremaining: 559us\n",
      "15:\tlearn: 12.3546051\ttotal: 8.89ms\tremaining: 0us\n",
      "0:\tlearn: 13.0578783\ttotal: 894us\tremaining: 14.3ms\n",
      "1:\tlearn: 12.9584530\ttotal: 1.75ms\tremaining: 13.1ms\n",
      "2:\tlearn: 12.6504686\ttotal: 2.37ms\tremaining: 11ms\n",
      "3:\tlearn: 12.6153855\ttotal: 2.89ms\tremaining: 9.4ms\n",
      "4:\tlearn: 12.5517572\ttotal: 3.55ms\tremaining: 8.53ms\n",
      "5:\tlearn: 12.5087184\ttotal: 4.06ms\tremaining: 7.44ms\n",
      "6:\tlearn: 12.4783454\ttotal: 4.56ms\tremaining: 6.51ms\n",
      "7:\tlearn: 12.4666198\ttotal: 5.08ms\tremaining: 5.72ms\n",
      "8:\tlearn: 12.4522725\ttotal: 5.76ms\tremaining: 5.12ms\n",
      "9:\tlearn: 12.4282418\ttotal: 6.41ms\tremaining: 4.49ms\n",
      "10:\tlearn: 12.4087901\ttotal: 7.15ms\tremaining: 3.9ms\n",
      "11:\tlearn: 12.3938148\ttotal: 7.73ms\tremaining: 3.22ms\n",
      "12:\tlearn: 12.3858347\ttotal: 8.24ms\tremaining: 2.53ms\n",
      "13:\tlearn: 12.3769657\ttotal: 17.1ms\tremaining: 3.65ms\n",
      "14:\tlearn: 12.3615643\ttotal: 17.7ms\tremaining: 2.36ms\n",
      "15:\tlearn: 12.3546051\ttotal: 18.2ms\tremaining: 1.14ms\n",
      "16:\tlearn: 12.3510371\ttotal: 18.8ms\tremaining: 0us\n",
      "0:\tlearn: 13.0578783\ttotal: 667us\tremaining: 11.3ms\n",
      "1:\tlearn: 12.9584530\ttotal: 1.18ms\tremaining: 9.47ms\n",
      "2:\tlearn: 12.6504686\ttotal: 1.67ms\tremaining: 8.33ms\n",
      "3:\tlearn: 12.6153855\ttotal: 2.14ms\tremaining: 7.49ms\n",
      "4:\tlearn: 12.5517572\ttotal: 2.62ms\tremaining: 6.81ms\n",
      "5:\tlearn: 12.5087184\ttotal: 5.07ms\tremaining: 10.1ms\n",
      "6:\tlearn: 12.4783454\ttotal: 5.72ms\tremaining: 8.98ms\n",
      "7:\tlearn: 12.4666198\ttotal: 6.4ms\tremaining: 8ms\n",
      "8:\tlearn: 12.4522725\ttotal: 6.98ms\tremaining: 6.98ms\n",
      "9:\tlearn: 12.4282418\ttotal: 7.56ms\tremaining: 6.05ms\n",
      "10:\tlearn: 12.4087901\ttotal: 8.05ms\tremaining: 5.12ms\n",
      "11:\tlearn: 12.3938148\ttotal: 8.53ms\tremaining: 4.26ms\n",
      "12:\tlearn: 12.3858347\ttotal: 8.98ms\tremaining: 3.45ms\n",
      "13:\tlearn: 12.3769657\ttotal: 9.45ms\tremaining: 2.7ms\n",
      "14:\tlearn: 12.3615643\ttotal: 9.92ms\tremaining: 1.98ms\n",
      "15:\tlearn: 12.3546051\ttotal: 10.4ms\tremaining: 1.3ms\n",
      "16:\tlearn: 12.3510371\ttotal: 10.9ms\tremaining: 638us\n",
      "17:\tlearn: 12.3437469\ttotal: 11.4ms\tremaining: 0us\n"
     ]
    },
    {
     "name": "stdout",
     "output_type": "stream",
     "text": [
      "0:\tlearn: 13.0578783\ttotal: 595us\tremaining: 10.7ms\n",
      "1:\tlearn: 12.9584530\ttotal: 1.14ms\tremaining: 9.67ms\n",
      "2:\tlearn: 12.6504686\ttotal: 1.67ms\tremaining: 8.92ms\n",
      "3:\tlearn: 12.6153855\ttotal: 2.2ms\tremaining: 8.27ms\n",
      "4:\tlearn: 12.5517572\ttotal: 2.91ms\tremaining: 8.15ms\n",
      "5:\tlearn: 12.5087184\ttotal: 3.61ms\tremaining: 7.82ms\n",
      "6:\tlearn: 12.4783454\ttotal: 4.14ms\tremaining: 7.1ms\n",
      "7:\tlearn: 12.4666198\ttotal: 4.67ms\tremaining: 6.41ms\n",
      "8:\tlearn: 12.4522725\ttotal: 5.18ms\tremaining: 5.76ms\n",
      "9:\tlearn: 12.4282418\ttotal: 5.69ms\tremaining: 5.12ms\n",
      "10:\tlearn: 12.4087901\ttotal: 6.21ms\tremaining: 4.52ms\n",
      "11:\tlearn: 12.3938148\ttotal: 6.7ms\tremaining: 3.91ms\n",
      "12:\tlearn: 12.3858347\ttotal: 7.35ms\tremaining: 3.39ms\n",
      "13:\tlearn: 12.3769657\ttotal: 8.8ms\tremaining: 3.14ms\n",
      "14:\tlearn: 12.3615643\ttotal: 9.68ms\tremaining: 2.58ms\n",
      "15:\tlearn: 12.3546051\ttotal: 10.3ms\tremaining: 1.93ms\n",
      "16:\tlearn: 12.3510371\ttotal: 11.9ms\tremaining: 1.4ms\n",
      "17:\tlearn: 12.3437469\ttotal: 12.5ms\tremaining: 694us\n",
      "18:\tlearn: 12.3352356\ttotal: 13.2ms\tremaining: 0us\n",
      "0:\tlearn: 13.0578783\ttotal: 572us\tremaining: 10.9ms\n",
      "1:\tlearn: 12.9584530\ttotal: 1.09ms\tremaining: 9.83ms\n",
      "2:\tlearn: 12.6504686\ttotal: 1.57ms\tremaining: 8.93ms\n",
      "3:\tlearn: 12.6153855\ttotal: 2.03ms\tremaining: 8.13ms\n",
      "4:\tlearn: 12.5517572\ttotal: 2.5ms\tremaining: 7.51ms\n",
      "5:\tlearn: 12.5087184\ttotal: 3.01ms\tremaining: 7.01ms\n",
      "6:\tlearn: 12.4783454\ttotal: 3.5ms\tremaining: 6.5ms\n",
      "7:\tlearn: 12.4666198\ttotal: 4ms\tremaining: 6.01ms\n",
      "8:\tlearn: 12.4522725\ttotal: 4.67ms\tremaining: 5.71ms\n",
      "9:\tlearn: 12.4282418\ttotal: 5.52ms\tremaining: 5.52ms\n",
      "10:\tlearn: 12.4087901\ttotal: 6.08ms\tremaining: 4.98ms\n",
      "11:\tlearn: 12.3938148\ttotal: 6.6ms\tremaining: 4.4ms\n",
      "12:\tlearn: 12.3858347\ttotal: 7.13ms\tremaining: 3.84ms\n",
      "13:\tlearn: 12.3769657\ttotal: 7.59ms\tremaining: 3.25ms\n",
      "14:\tlearn: 12.3615643\ttotal: 8.09ms\tremaining: 2.7ms\n",
      "15:\tlearn: 12.3546051\ttotal: 8.55ms\tremaining: 2.14ms\n",
      "16:\tlearn: 12.3510371\ttotal: 9.08ms\tremaining: 1.6ms\n",
      "17:\tlearn: 12.3437469\ttotal: 9.54ms\tremaining: 1.06ms\n",
      "18:\tlearn: 12.3352356\ttotal: 10ms\tremaining: 526us\n",
      "19:\tlearn: 12.3299746\ttotal: 10.5ms\tremaining: 0us\n",
      "0:\tlearn: 13.0578783\ttotal: 593us\tremaining: 11.9ms\n",
      "1:\tlearn: 12.9584530\ttotal: 1.28ms\tremaining: 12.2ms\n",
      "2:\tlearn: 12.6504686\ttotal: 2.76ms\tremaining: 16.6ms\n",
      "3:\tlearn: 12.6153855\ttotal: 3.33ms\tremaining: 14.1ms\n",
      "4:\tlearn: 12.5517572\ttotal: 3.85ms\tremaining: 12.3ms\n",
      "5:\tlearn: 12.5087184\ttotal: 4.95ms\tremaining: 12.4ms\n",
      "6:\tlearn: 12.4783454\ttotal: 7.24ms\tremaining: 14.5ms\n",
      "7:\tlearn: 12.4666198\ttotal: 8.47ms\tremaining: 13.8ms\n",
      "8:\tlearn: 12.4522725\ttotal: 9.1ms\tremaining: 12.1ms\n",
      "9:\tlearn: 12.4282418\ttotal: 9.57ms\tremaining: 10.5ms\n",
      "10:\tlearn: 12.4087901\ttotal: 10.1ms\tremaining: 9.19ms\n",
      "11:\tlearn: 12.3938148\ttotal: 10.6ms\tremaining: 7.94ms\n",
      "12:\tlearn: 12.3858347\ttotal: 11ms\tremaining: 6.8ms\n",
      "13:\tlearn: 12.3769657\ttotal: 11.5ms\tremaining: 5.77ms\n",
      "14:\tlearn: 12.3615643\ttotal: 12ms\tremaining: 4.81ms\n",
      "15:\tlearn: 12.3546051\ttotal: 12.5ms\tremaining: 3.9ms\n",
      "16:\tlearn: 12.3510371\ttotal: 12.9ms\tremaining: 3.04ms\n",
      "17:\tlearn: 12.3437469\ttotal: 13.8ms\tremaining: 2.3ms\n",
      "18:\tlearn: 12.3352356\ttotal: 14.3ms\tremaining: 1.51ms\n",
      "19:\tlearn: 12.3299746\ttotal: 14.9ms\tremaining: 743us\n",
      "20:\tlearn: 12.3257477\ttotal: 15.5ms\tremaining: 0us\n",
      "0:\tlearn: 13.0578783\ttotal: 613us\tremaining: 12.9ms\n",
      "1:\tlearn: 12.9584530\ttotal: 1.78ms\tremaining: 17.9ms\n",
      "2:\tlearn: 12.6504686\ttotal: 2.31ms\tremaining: 14.6ms\n",
      "3:\tlearn: 12.6153855\ttotal: 2.86ms\tremaining: 12.9ms\n",
      "4:\tlearn: 12.5517572\ttotal: 3.45ms\tremaining: 11.7ms\n",
      "5:\tlearn: 12.5087184\ttotal: 3.96ms\tremaining: 10.6ms\n",
      "6:\tlearn: 12.4783454\ttotal: 4.95ms\tremaining: 10.6ms\n",
      "7:\tlearn: 12.4666198\ttotal: 5.65ms\tremaining: 9.88ms\n",
      "8:\tlearn: 12.4522725\ttotal: 6.37ms\tremaining: 9.19ms\n",
      "9:\tlearn: 12.4282418\ttotal: 7.08ms\tremaining: 8.5ms\n",
      "10:\tlearn: 12.4087901\ttotal: 7.75ms\tremaining: 7.75ms\n",
      "11:\tlearn: 12.3938148\ttotal: 8.35ms\tremaining: 6.95ms\n",
      "12:\tlearn: 12.3858347\ttotal: 8.83ms\tremaining: 6.11ms\n",
      "13:\tlearn: 12.3769657\ttotal: 9.36ms\tremaining: 5.35ms\n",
      "14:\tlearn: 12.3615643\ttotal: 9.82ms\tremaining: 4.58ms\n",
      "15:\tlearn: 12.3546051\ttotal: 10.3ms\tremaining: 3.85ms\n",
      "16:\tlearn: 12.3510371\ttotal: 10.7ms\tremaining: 3.16ms\n",
      "17:\tlearn: 12.3437469\ttotal: 11.6ms\tremaining: 2.57ms\n",
      "18:\tlearn: 12.3352356\ttotal: 12.3ms\tremaining: 1.94ms\n",
      "19:\tlearn: 12.3299746\ttotal: 13ms\tremaining: 1.3ms\n",
      "20:\tlearn: 12.3257477\ttotal: 13.6ms\tremaining: 645us\n",
      "21:\tlearn: 12.3213673\ttotal: 14.1ms\tremaining: 0us\n",
      "0:\tlearn: 13.0578783\ttotal: 567us\tremaining: 12.5ms\n",
      "1:\tlearn: 12.9584530\ttotal: 1.11ms\tremaining: 11.7ms\n",
      "2:\tlearn: 12.6504686\ttotal: 1.58ms\tremaining: 10.5ms\n",
      "3:\tlearn: 12.6153855\ttotal: 2.04ms\tremaining: 9.69ms\n",
      "4:\tlearn: 12.5517572\ttotal: 2.5ms\tremaining: 9.01ms\n",
      "5:\tlearn: 12.5087184\ttotal: 3.09ms\tremaining: 8.76ms\n",
      "6:\tlearn: 12.4783454\ttotal: 3.67ms\tremaining: 8.4ms\n",
      "7:\tlearn: 12.4666198\ttotal: 4.25ms\tremaining: 7.96ms\n",
      "8:\tlearn: 12.4522725\ttotal: 4.98ms\tremaining: 7.75ms\n",
      "9:\tlearn: 12.4282418\ttotal: 5.48ms\tremaining: 7.13ms\n",
      "10:\tlearn: 12.4087901\ttotal: 6.17ms\tremaining: 6.73ms\n",
      "11:\tlearn: 12.3938148\ttotal: 7.15ms\tremaining: 6.56ms\n",
      "12:\tlearn: 12.3858347\ttotal: 7.81ms\tremaining: 6ms\n",
      "13:\tlearn: 12.3769657\ttotal: 8.31ms\tremaining: 5.34ms\n",
      "14:\tlearn: 12.3615643\ttotal: 8.77ms\tremaining: 4.67ms\n",
      "15:\tlearn: 12.3546051\ttotal: 9.22ms\tremaining: 4.03ms\n",
      "16:\tlearn: 12.3510371\ttotal: 9.68ms\tremaining: 3.42ms\n",
      "17:\tlearn: 12.3437469\ttotal: 10.1ms\tremaining: 2.81ms\n",
      "18:\tlearn: 12.3352356\ttotal: 10.6ms\tremaining: 2.23ms\n",
      "19:\tlearn: 12.3299746\ttotal: 11.1ms\tremaining: 1.66ms\n",
      "20:\tlearn: 12.3257477\ttotal: 11.5ms\tremaining: 1.1ms\n",
      "21:\tlearn: 12.3213673\ttotal: 12ms\tremaining: 543us\n",
      "22:\tlearn: 12.3178344\ttotal: 12.6ms\tremaining: 0us\n",
      "0:\tlearn: 13.0578783\ttotal: 590us\tremaining: 13.6ms\n",
      "1:\tlearn: 12.9584530\ttotal: 1.15ms\tremaining: 12.7ms\n",
      "2:\tlearn: 12.6504686\ttotal: 1.65ms\tremaining: 11.6ms\n",
      "3:\tlearn: 12.6153855\ttotal: 2.69ms\tremaining: 13.5ms\n",
      "4:\tlearn: 12.5517572\ttotal: 3.24ms\tremaining: 12.3ms\n",
      "5:\tlearn: 12.5087184\ttotal: 3.76ms\tremaining: 11.3ms\n",
      "6:\tlearn: 12.4783454\ttotal: 4.45ms\tremaining: 10.8ms\n",
      "7:\tlearn: 12.4666198\ttotal: 5.09ms\tremaining: 10.2ms\n",
      "8:\tlearn: 12.4522725\ttotal: 5.66ms\tremaining: 9.43ms\n",
      "9:\tlearn: 12.4282418\ttotal: 7.13ms\tremaining: 9.98ms\n",
      "10:\tlearn: 12.4087901\ttotal: 7.69ms\tremaining: 9.09ms\n",
      "11:\tlearn: 12.3938148\ttotal: 8.2ms\tremaining: 8.2ms\n",
      "12:\tlearn: 12.3858347\ttotal: 8.75ms\tremaining: 7.41ms\n",
      "13:\tlearn: 12.3769657\ttotal: 9.76ms\tremaining: 6.97ms\n",
      "14:\tlearn: 12.3615643\ttotal: 10.3ms\tremaining: 6.17ms\n",
      "15:\tlearn: 12.3546051\ttotal: 11ms\tremaining: 5.52ms\n",
      "16:\tlearn: 12.3510371\ttotal: 12.3ms\tremaining: 5.07ms\n",
      "17:\tlearn: 12.3437469\ttotal: 13.1ms\tremaining: 4.35ms\n",
      "18:\tlearn: 12.3352356\ttotal: 13.7ms\tremaining: 3.61ms\n",
      "19:\tlearn: 12.3299746\ttotal: 14.8ms\tremaining: 2.96ms\n",
      "20:\tlearn: 12.3257477\ttotal: 15.3ms\tremaining: 2.19ms\n",
      "21:\tlearn: 12.3213673\ttotal: 15.8ms\tremaining: 1.44ms\n",
      "22:\tlearn: 12.3178344\ttotal: 16.4ms\tremaining: 712us\n",
      "23:\tlearn: 12.3116198\ttotal: 16.9ms\tremaining: 0us\n",
      "0:\tlearn: 13.0578783\ttotal: 593us\tremaining: 14.3ms\n",
      "1:\tlearn: 12.9584530\ttotal: 1.17ms\tremaining: 13.4ms\n",
      "2:\tlearn: 12.6504686\ttotal: 1.67ms\tremaining: 12.3ms\n",
      "3:\tlearn: 12.6153855\ttotal: 2.16ms\tremaining: 11.3ms\n",
      "4:\tlearn: 12.5517572\ttotal: 2.67ms\tremaining: 10.7ms\n",
      "5:\tlearn: 12.5087184\ttotal: 3.17ms\tremaining: 10.1ms\n",
      "6:\tlearn: 12.4783454\ttotal: 3.77ms\tremaining: 9.71ms\n",
      "7:\tlearn: 12.4666198\ttotal: 4.4ms\tremaining: 9.36ms\n",
      "8:\tlearn: 12.4522725\ttotal: 7.1ms\tremaining: 12.6ms\n",
      "9:\tlearn: 12.4282418\ttotal: 7.91ms\tremaining: 11.9ms\n",
      "10:\tlearn: 12.4087901\ttotal: 8.76ms\tremaining: 11.2ms\n",
      "11:\tlearn: 12.3938148\ttotal: 9.6ms\tremaining: 10.4ms\n",
      "12:\tlearn: 12.3858347\ttotal: 10.2ms\tremaining: 9.43ms\n",
      "13:\tlearn: 12.3769657\ttotal: 10.9ms\tremaining: 8.54ms\n",
      "14:\tlearn: 12.3615643\ttotal: 11.5ms\tremaining: 7.67ms\n",
      "15:\tlearn: 12.3546051\ttotal: 12.1ms\tremaining: 6.78ms\n",
      "16:\tlearn: 12.3510371\ttotal: 12.5ms\tremaining: 5.9ms\n",
      "17:\tlearn: 12.3437469\ttotal: 13ms\tremaining: 5.07ms\n",
      "18:\tlearn: 12.3352356\ttotal: 13.9ms\tremaining: 4.39ms\n",
      "19:\tlearn: 12.3299746\ttotal: 14.5ms\tremaining: 3.61ms\n",
      "20:\tlearn: 12.3257477\ttotal: 15ms\tremaining: 2.86ms\n",
      "21:\tlearn: 12.3213673\ttotal: 15.6ms\tremaining: 2.12ms\n",
      "22:\tlearn: 12.3178344\ttotal: 16.2ms\tremaining: 1.41ms\n",
      "23:\tlearn: 12.3116198\ttotal: 17.5ms\tremaining: 727us\n",
      "24:\tlearn: 12.3110103\ttotal: 18.2ms\tremaining: 0us\n",
      "0:\tlearn: 13.0578783\ttotal: 566us\tremaining: 14.2ms\n",
      "1:\tlearn: 12.9584530\ttotal: 1.13ms\tremaining: 13.5ms\n",
      "2:\tlearn: 12.6504686\ttotal: 1.61ms\tremaining: 12.4ms\n",
      "3:\tlearn: 12.6153855\ttotal: 2.07ms\tremaining: 11.4ms\n",
      "4:\tlearn: 12.5517572\ttotal: 2.53ms\tremaining: 10.6ms\n",
      "5:\tlearn: 12.5087184\ttotal: 2.97ms\tremaining: 9.9ms\n",
      "6:\tlearn: 12.4783454\ttotal: 3.44ms\tremaining: 9.33ms\n"
     ]
    },
    {
     "name": "stdout",
     "output_type": "stream",
     "text": [
      "7:\tlearn: 12.4666198\ttotal: 4.62ms\tremaining: 10.4ms\n",
      "8:\tlearn: 12.4522725\ttotal: 5.22ms\tremaining: 9.86ms\n",
      "9:\tlearn: 12.4282418\ttotal: 6ms\tremaining: 9.59ms\n",
      "10:\tlearn: 12.4087901\ttotal: 6.73ms\tremaining: 9.18ms\n",
      "11:\tlearn: 12.3938148\ttotal: 7.29ms\tremaining: 8.5ms\n",
      "12:\tlearn: 12.3858347\ttotal: 8.3ms\tremaining: 8.3ms\n",
      "13:\tlearn: 12.3769657\ttotal: 8.78ms\tremaining: 7.52ms\n",
      "14:\tlearn: 12.3615643\ttotal: 9.26ms\tremaining: 6.79ms\n",
      "15:\tlearn: 12.3546051\ttotal: 9.76ms\tremaining: 6.1ms\n",
      "16:\tlearn: 12.3510371\ttotal: 10.3ms\tremaining: 5.43ms\n",
      "17:\tlearn: 12.3437469\ttotal: 10.7ms\tremaining: 4.76ms\n",
      "18:\tlearn: 12.3352356\ttotal: 11.2ms\tremaining: 4.11ms\n",
      "19:\tlearn: 12.3299746\ttotal: 11.6ms\tremaining: 3.49ms\n",
      "20:\tlearn: 12.3257477\ttotal: 12.1ms\tremaining: 2.89ms\n",
      "21:\tlearn: 12.3213673\ttotal: 12.6ms\tremaining: 2.3ms\n",
      "22:\tlearn: 12.3178344\ttotal: 13.2ms\tremaining: 1.72ms\n",
      "23:\tlearn: 12.3116198\ttotal: 14ms\tremaining: 1.17ms\n",
      "24:\tlearn: 12.3110103\ttotal: 14.5ms\tremaining: 580us\n",
      "25:\tlearn: 12.3021519\ttotal: 15.2ms\tremaining: 0us\n",
      "0:\tlearn: 13.0578783\ttotal: 623us\tremaining: 16.2ms\n",
      "1:\tlearn: 12.9584530\ttotal: 1.21ms\tremaining: 15.1ms\n",
      "2:\tlearn: 12.6504686\ttotal: 1.74ms\tremaining: 13.9ms\n",
      "3:\tlearn: 12.6153855\ttotal: 2.72ms\tremaining: 15.6ms\n",
      "4:\tlearn: 12.5517572\ttotal: 3.27ms\tremaining: 14.4ms\n",
      "5:\tlearn: 12.5087184\ttotal: 3.85ms\tremaining: 13.5ms\n",
      "6:\tlearn: 12.4783454\ttotal: 4.49ms\tremaining: 12.8ms\n",
      "7:\tlearn: 12.4666198\ttotal: 5.13ms\tremaining: 12.2ms\n",
      "8:\tlearn: 12.4522725\ttotal: 5.65ms\tremaining: 11.3ms\n",
      "9:\tlearn: 12.4282418\ttotal: 6.8ms\tremaining: 11.6ms\n",
      "10:\tlearn: 12.4087901\ttotal: 7.38ms\tremaining: 10.7ms\n",
      "11:\tlearn: 12.3938148\ttotal: 7.94ms\tremaining: 9.92ms\n",
      "12:\tlearn: 12.3858347\ttotal: 8.7ms\tremaining: 9.37ms\n",
      "13:\tlearn: 12.3769657\ttotal: 9.25ms\tremaining: 8.59ms\n",
      "14:\tlearn: 12.3615643\ttotal: 9.76ms\tremaining: 7.81ms\n",
      "15:\tlearn: 12.3546051\ttotal: 10.3ms\tremaining: 7.08ms\n",
      "16:\tlearn: 12.3510371\ttotal: 10.8ms\tremaining: 6.35ms\n",
      "17:\tlearn: 12.3437469\ttotal: 11.3ms\tremaining: 5.63ms\n",
      "18:\tlearn: 12.3352356\ttotal: 11.8ms\tremaining: 4.97ms\n",
      "19:\tlearn: 12.3299746\ttotal: 12.5ms\tremaining: 4.38ms\n",
      "20:\tlearn: 12.3257477\ttotal: 13.6ms\tremaining: 3.89ms\n",
      "21:\tlearn: 12.3213673\ttotal: 14.3ms\tremaining: 3.24ms\n",
      "22:\tlearn: 12.3178344\ttotal: 14.8ms\tremaining: 2.58ms\n",
      "23:\tlearn: 12.3116198\ttotal: 15.4ms\tremaining: 1.92ms\n",
      "24:\tlearn: 12.3110103\ttotal: 16.5ms\tremaining: 1.32ms\n",
      "25:\tlearn: 12.3021519\ttotal: 17ms\tremaining: 653us\n",
      "26:\tlearn: 12.3003740\ttotal: 17.5ms\tremaining: 0us\n",
      "0:\tlearn: 13.0578783\ttotal: 1.47ms\tremaining: 39.6ms\n",
      "1:\tlearn: 12.9584530\ttotal: 2.24ms\tremaining: 29.1ms\n",
      "2:\tlearn: 12.6504686\ttotal: 2.77ms\tremaining: 23.1ms\n",
      "3:\tlearn: 12.6153855\ttotal: 3.3ms\tremaining: 19.8ms\n",
      "4:\tlearn: 12.5517572\ttotal: 3.79ms\tremaining: 17.4ms\n",
      "5:\tlearn: 12.5087184\ttotal: 4.32ms\tremaining: 15.8ms\n",
      "6:\tlearn: 12.4783454\ttotal: 4.96ms\tremaining: 14.9ms\n",
      "7:\tlearn: 12.4666198\ttotal: 5.62ms\tremaining: 14ms\n",
      "8:\tlearn: 12.4522725\ttotal: 6.69ms\tremaining: 14.1ms\n",
      "9:\tlearn: 12.4282418\ttotal: 7.33ms\tremaining: 13.2ms\n",
      "10:\tlearn: 12.4087901\ttotal: 8.95ms\tremaining: 13.8ms\n",
      "11:\tlearn: 12.3938148\ttotal: 9.61ms\tremaining: 12.8ms\n",
      "12:\tlearn: 12.3858347\ttotal: 10.5ms\tremaining: 12.2ms\n",
      "13:\tlearn: 12.3769657\ttotal: 11.1ms\tremaining: 11.1ms\n",
      "14:\tlearn: 12.3615643\ttotal: 11.6ms\tremaining: 10ms\n",
      "15:\tlearn: 12.3546051\ttotal: 12.1ms\tremaining: 9.06ms\n",
      "16:\tlearn: 12.3510371\ttotal: 12.6ms\tremaining: 8.12ms\n",
      "17:\tlearn: 12.3437469\ttotal: 13ms\tremaining: 7.25ms\n",
      "18:\tlearn: 12.3352356\ttotal: 13.6ms\tremaining: 6.46ms\n",
      "19:\tlearn: 12.3299746\ttotal: 14.2ms\tremaining: 5.67ms\n",
      "20:\tlearn: 12.3257477\ttotal: 14.8ms\tremaining: 4.94ms\n",
      "21:\tlearn: 12.3213673\ttotal: 15.6ms\tremaining: 4.25ms\n",
      "22:\tlearn: 12.3178344\ttotal: 16.5ms\tremaining: 3.58ms\n",
      "23:\tlearn: 12.3116198\ttotal: 17.3ms\tremaining: 2.88ms\n",
      "24:\tlearn: 12.3110103\ttotal: 17.9ms\tremaining: 2.15ms\n",
      "25:\tlearn: 12.3021519\ttotal: 18.4ms\tremaining: 1.41ms\n",
      "26:\tlearn: 12.3003740\ttotal: 18.9ms\tremaining: 700us\n",
      "27:\tlearn: 12.2958833\ttotal: 19.5ms\tremaining: 0us\n",
      "0:\tlearn: 13.0578783\ttotal: 557us\tremaining: 15.6ms\n",
      "1:\tlearn: 12.9584530\ttotal: 1.1ms\tremaining: 14.9ms\n",
      "2:\tlearn: 12.6504686\ttotal: 2.04ms\tremaining: 17.7ms\n",
      "3:\tlearn: 12.6153855\ttotal: 2.89ms\tremaining: 18.1ms\n",
      "4:\tlearn: 12.5517572\ttotal: 3.64ms\tremaining: 17.5ms\n",
      "5:\tlearn: 12.5087184\ttotal: 4.36ms\tremaining: 16.7ms\n",
      "6:\tlearn: 12.4783454\ttotal: 4.95ms\tremaining: 15.5ms\n",
      "7:\tlearn: 12.4666198\ttotal: 5.54ms\tremaining: 14.6ms\n",
      "8:\tlearn: 12.4522725\ttotal: 6.33ms\tremaining: 14.1ms\n",
      "9:\tlearn: 12.4282418\ttotal: 6.86ms\tremaining: 13ms\n",
      "10:\tlearn: 12.4087901\ttotal: 8.75ms\tremaining: 14.3ms\n",
      "11:\tlearn: 12.3938148\ttotal: 9.44ms\tremaining: 13.4ms\n",
      "12:\tlearn: 12.3858347\ttotal: 9.96ms\tremaining: 12.3ms\n",
      "13:\tlearn: 12.3769657\ttotal: 10.6ms\tremaining: 11.3ms\n",
      "14:\tlearn: 12.3615643\ttotal: 11.1ms\tremaining: 10.4ms\n",
      "15:\tlearn: 12.3546051\ttotal: 11.7ms\tremaining: 9.48ms\n",
      "16:\tlearn: 12.3510371\ttotal: 12.4ms\tremaining: 8.75ms\n",
      "17:\tlearn: 12.3437469\ttotal: 13ms\tremaining: 7.94ms\n",
      "18:\tlearn: 12.3352356\ttotal: 13.5ms\tremaining: 7.13ms\n",
      "19:\tlearn: 12.3299746\ttotal: 14.1ms\tremaining: 6.35ms\n",
      "20:\tlearn: 12.3257477\ttotal: 14.7ms\tremaining: 5.59ms\n",
      "21:\tlearn: 12.3213673\ttotal: 15.3ms\tremaining: 4.85ms\n",
      "22:\tlearn: 12.3178344\ttotal: 15.8ms\tremaining: 4.12ms\n",
      "23:\tlearn: 12.3116198\ttotal: 16.3ms\tremaining: 3.39ms\n",
      "24:\tlearn: 12.3110103\ttotal: 16.8ms\tremaining: 2.69ms\n",
      "25:\tlearn: 12.3021519\ttotal: 17.4ms\tremaining: 2ms\n",
      "26:\tlearn: 12.3003740\ttotal: 17.9ms\tremaining: 1.32ms\n",
      "27:\tlearn: 12.2958833\ttotal: 18.6ms\tremaining: 664us\n",
      "28:\tlearn: 12.2937687\ttotal: 19.1ms\tremaining: 0us\n",
      "0:\tlearn: 13.0578783\ttotal: 594us\tremaining: 17.2ms\n",
      "1:\tlearn: 12.9584530\ttotal: 1.15ms\tremaining: 16.1ms\n",
      "2:\tlearn: 12.6504686\ttotal: 1.74ms\tremaining: 15.7ms\n",
      "3:\tlearn: 12.6153855\ttotal: 2.68ms\tremaining: 17.4ms\n",
      "4:\tlearn: 12.5517572\ttotal: 3.4ms\tremaining: 17ms\n",
      "5:\tlearn: 12.5087184\ttotal: 4.13ms\tremaining: 16.5ms\n",
      "6:\tlearn: 12.4783454\ttotal: 4.86ms\tremaining: 16ms\n",
      "7:\tlearn: 12.4666198\ttotal: 5.61ms\tremaining: 15.4ms\n",
      "8:\tlearn: 12.4522725\ttotal: 6.36ms\tremaining: 14.8ms\n",
      "9:\tlearn: 12.4282418\ttotal: 6.9ms\tremaining: 13.8ms\n",
      "10:\tlearn: 12.4087901\ttotal: 7.61ms\tremaining: 13.1ms\n",
      "11:\tlearn: 12.3938148\ttotal: 8.09ms\tremaining: 12.1ms\n",
      "12:\tlearn: 12.3858347\ttotal: 8.6ms\tremaining: 11.2ms\n",
      "13:\tlearn: 12.3769657\ttotal: 9.1ms\tremaining: 10.4ms\n",
      "14:\tlearn: 12.3615643\ttotal: 9.62ms\tremaining: 9.62ms\n",
      "15:\tlearn: 12.3546051\ttotal: 10.1ms\tremaining: 8.86ms\n",
      "16:\tlearn: 12.3510371\ttotal: 11.4ms\tremaining: 8.74ms\n",
      "17:\tlearn: 12.3437469\ttotal: 12ms\tremaining: 7.98ms\n",
      "18:\tlearn: 12.3352356\ttotal: 12.5ms\tremaining: 7.22ms\n",
      "19:\tlearn: 12.3299746\ttotal: 13ms\tremaining: 6.52ms\n",
      "20:\tlearn: 12.3257477\ttotal: 13.6ms\tremaining: 5.84ms\n",
      "21:\tlearn: 12.3213673\ttotal: 14.3ms\tremaining: 5.19ms\n",
      "22:\tlearn: 12.3178344\ttotal: 15ms\tremaining: 4.55ms\n",
      "23:\tlearn: 12.3116198\ttotal: 15.9ms\tremaining: 3.98ms\n",
      "24:\tlearn: 12.3110103\ttotal: 16.5ms\tremaining: 3.29ms\n",
      "25:\tlearn: 12.3021519\ttotal: 17ms\tremaining: 2.61ms\n",
      "26:\tlearn: 12.3003740\ttotal: 17.5ms\tremaining: 1.95ms\n",
      "27:\tlearn: 12.2958833\ttotal: 18.2ms\tremaining: 1.3ms\n",
      "28:\tlearn: 12.2937687\ttotal: 18.7ms\tremaining: 644us\n",
      "29:\tlearn: 12.2928413\ttotal: 19.2ms\tremaining: 0us\n",
      "0:\tlearn: 13.0578783\ttotal: 701us\tremaining: 21.1ms\n",
      "1:\tlearn: 12.9584530\ttotal: 1.23ms\tremaining: 17.9ms\n",
      "2:\tlearn: 12.6504686\ttotal: 1.68ms\tremaining: 15.7ms\n",
      "3:\tlearn: 12.6153855\ttotal: 2.17ms\tremaining: 14.6ms\n",
      "4:\tlearn: 12.5517572\ttotal: 2.72ms\tremaining: 14.1ms\n",
      "5:\tlearn: 12.5087184\ttotal: 3.24ms\tremaining: 13.5ms\n",
      "6:\tlearn: 12.4783454\ttotal: 3.73ms\tremaining: 12.8ms\n",
      "7:\tlearn: 12.4666198\ttotal: 4.26ms\tremaining: 12.3ms\n",
      "8:\tlearn: 12.4522725\ttotal: 4.82ms\tremaining: 11.8ms\n",
      "9:\tlearn: 12.4282418\ttotal: 5.33ms\tremaining: 11.2ms\n",
      "10:\tlearn: 12.4087901\ttotal: 5.88ms\tremaining: 10.7ms\n",
      "11:\tlearn: 12.3938148\ttotal: 6.39ms\tremaining: 10.1ms\n",
      "12:\tlearn: 12.3858347\ttotal: 7.71ms\tremaining: 10.7ms\n",
      "13:\tlearn: 12.3769657\ttotal: 8.6ms\tremaining: 10.4ms\n",
      "14:\tlearn: 12.3615643\ttotal: 9.17ms\tremaining: 9.78ms\n",
      "15:\tlearn: 12.3546051\ttotal: 9.74ms\tremaining: 9.13ms\n",
      "16:\tlearn: 12.3510371\ttotal: 10.5ms\tremaining: 8.68ms\n",
      "17:\tlearn: 12.3437469\ttotal: 11.2ms\tremaining: 8.1ms\n",
      "18:\tlearn: 12.3352356\ttotal: 12.8ms\tremaining: 8.07ms\n",
      "19:\tlearn: 12.3299746\ttotal: 14.4ms\tremaining: 7.93ms\n",
      "20:\tlearn: 12.3257477\ttotal: 15.7ms\tremaining: 7.47ms\n",
      "21:\tlearn: 12.3213673\ttotal: 16.2ms\tremaining: 6.64ms\n",
      "22:\tlearn: 12.3178344\ttotal: 16.9ms\tremaining: 5.89ms\n",
      "23:\tlearn: 12.3116198\ttotal: 17.5ms\tremaining: 5.11ms\n",
      "24:\tlearn: 12.3110103\ttotal: 18ms\tremaining: 4.33ms\n",
      "25:\tlearn: 12.3021519\ttotal: 18.7ms\tremaining: 3.6ms\n",
      "26:\tlearn: 12.3003740\ttotal: 19.3ms\tremaining: 2.85ms\n",
      "27:\tlearn: 12.2958833\ttotal: 19.8ms\tremaining: 2.12ms\n",
      "28:\tlearn: 12.2937687\ttotal: 20.3ms\tremaining: 1.4ms\n",
      "29:\tlearn: 12.2928413\ttotal: 20.8ms\tremaining: 694us\n",
      "30:\tlearn: 12.2925955\ttotal: 21.3ms\tremaining: 0us\n",
      "0:\tlearn: 13.0578783\ttotal: 561us\tremaining: 17.4ms\n",
      "1:\tlearn: 12.9584530\ttotal: 1.08ms\tremaining: 16.2ms\n",
      "2:\tlearn: 12.6504686\ttotal: 1.55ms\tremaining: 15ms\n",
      "3:\tlearn: 12.6153855\ttotal: 3.07ms\tremaining: 21.5ms\n",
      "4:\tlearn: 12.5517572\ttotal: 4.56ms\tremaining: 24.6ms\n",
      "5:\tlearn: 12.5087184\ttotal: 5.13ms\tremaining: 22.2ms\n",
      "6:\tlearn: 12.4783454\ttotal: 5.78ms\tremaining: 20.6ms\n",
      "7:\tlearn: 12.4666198\ttotal: 6.46ms\tremaining: 19.4ms\n",
      "8:\tlearn: 12.4522725\ttotal: 7.27ms\tremaining: 18.6ms\n",
      "9:\tlearn: 12.4282418\ttotal: 7.93ms\tremaining: 17.4ms\n",
      "10:\tlearn: 12.4087901\ttotal: 8.48ms\tremaining: 16.2ms\n",
      "11:\tlearn: 12.3938148\ttotal: 8.94ms\tremaining: 14.9ms\n",
      "12:\tlearn: 12.3858347\ttotal: 9.57ms\tremaining: 14ms\n",
      "13:\tlearn: 12.3769657\ttotal: 10ms\tremaining: 12.9ms\n",
      "14:\tlearn: 12.3615643\ttotal: 10.5ms\tremaining: 11.9ms\n",
      "15:\tlearn: 12.3546051\ttotal: 11ms\tremaining: 11ms\n",
      "16:\tlearn: 12.3510371\ttotal: 12.3ms\tremaining: 10.8ms\n",
      "17:\tlearn: 12.3437469\ttotal: 12.8ms\tremaining: 9.98ms\n",
      "18:\tlearn: 12.3352356\ttotal: 13.4ms\tremaining: 9.16ms\n",
      "19:\tlearn: 12.3299746\ttotal: 14ms\tremaining: 8.37ms\n",
      "20:\tlearn: 12.3257477\ttotal: 14.5ms\tremaining: 7.59ms\n",
      "21:\tlearn: 12.3213673\ttotal: 15.2ms\tremaining: 6.92ms\n",
      "22:\tlearn: 12.3178344\ttotal: 16.3ms\tremaining: 6.37ms\n",
      "23:\tlearn: 12.3116198\ttotal: 16.8ms\tremaining: 5.6ms\n",
      "24:\tlearn: 12.3110103\ttotal: 17.3ms\tremaining: 4.83ms\n",
      "25:\tlearn: 12.3021519\ttotal: 17.7ms\tremaining: 4.09ms\n",
      "26:\tlearn: 12.3003740\ttotal: 18.2ms\tremaining: 3.36ms\n",
      "27:\tlearn: 12.2958833\ttotal: 18.7ms\tremaining: 2.67ms\n"
     ]
    },
    {
     "name": "stdout",
     "output_type": "stream",
     "text": [
      "28:\tlearn: 12.2937687\ttotal: 19.5ms\tremaining: 2.02ms\n",
      "29:\tlearn: 12.2928413\ttotal: 20ms\tremaining: 1.33ms\n",
      "30:\tlearn: 12.2925955\ttotal: 20.5ms\tremaining: 660us\n",
      "31:\tlearn: 12.2913228\ttotal: 21.2ms\tremaining: 0us\n",
      "0:\tlearn: 13.0578783\ttotal: 620us\tremaining: 19.9ms\n",
      "1:\tlearn: 12.9584530\ttotal: 1.18ms\tremaining: 18.2ms\n",
      "2:\tlearn: 12.6504686\ttotal: 1.65ms\tremaining: 16.5ms\n",
      "3:\tlearn: 12.6153855\ttotal: 2.09ms\tremaining: 15.2ms\n",
      "4:\tlearn: 12.5517572\ttotal: 2.54ms\tremaining: 14.2ms\n",
      "5:\tlearn: 12.5087184\ttotal: 3ms\tremaining: 13.5ms\n",
      "6:\tlearn: 12.4783454\ttotal: 3.45ms\tremaining: 12.8ms\n",
      "7:\tlearn: 12.4666198\ttotal: 3.92ms\tremaining: 12.3ms\n",
      "8:\tlearn: 12.4522725\ttotal: 5.4ms\tremaining: 14.4ms\n",
      "9:\tlearn: 12.4282418\ttotal: 5.96ms\tremaining: 13.7ms\n",
      "10:\tlearn: 12.4087901\ttotal: 6.51ms\tremaining: 13ms\n",
      "11:\tlearn: 12.3938148\ttotal: 7.03ms\tremaining: 12.3ms\n",
      "12:\tlearn: 12.3858347\ttotal: 7.66ms\tremaining: 11.8ms\n",
      "13:\tlearn: 12.3769657\ttotal: 8.27ms\tremaining: 11.2ms\n",
      "14:\tlearn: 12.3615643\ttotal: 9.07ms\tremaining: 10.9ms\n",
      "15:\tlearn: 12.3546051\ttotal: 9.57ms\tremaining: 10.2ms\n",
      "16:\tlearn: 12.3510371\ttotal: 10ms\tremaining: 9.46ms\n",
      "17:\tlearn: 12.3437469\ttotal: 10.5ms\tremaining: 8.76ms\n",
      "18:\tlearn: 12.3352356\ttotal: 10.9ms\tremaining: 8.06ms\n",
      "19:\tlearn: 12.3299746\ttotal: 11.4ms\tremaining: 7.4ms\n",
      "20:\tlearn: 12.3257477\ttotal: 11.8ms\tremaining: 6.76ms\n",
      "21:\tlearn: 12.3213673\ttotal: 12.3ms\tremaining: 6.15ms\n",
      "22:\tlearn: 12.3178344\ttotal: 12.8ms\tremaining: 5.55ms\n",
      "23:\tlearn: 12.3116198\ttotal: 13.2ms\tremaining: 4.95ms\n",
      "24:\tlearn: 12.3110103\ttotal: 13.6ms\tremaining: 4.36ms\n",
      "25:\tlearn: 12.3021519\ttotal: 14.1ms\tremaining: 3.79ms\n",
      "26:\tlearn: 12.3003740\ttotal: 15ms\tremaining: 3.33ms\n",
      "27:\tlearn: 12.2958833\ttotal: 15.7ms\tremaining: 2.8ms\n",
      "28:\tlearn: 12.2937687\ttotal: 16.2ms\tremaining: 2.23ms\n",
      "29:\tlearn: 12.2928413\ttotal: 16.8ms\tremaining: 1.68ms\n",
      "30:\tlearn: 12.2925955\ttotal: 17.3ms\tremaining: 1.12ms\n",
      "31:\tlearn: 12.2913228\ttotal: 18ms\tremaining: 561us\n",
      "32:\tlearn: 12.2871028\ttotal: 18.7ms\tremaining: 0us\n",
      "0:\tlearn: 13.0578783\ttotal: 599us\tremaining: 19.8ms\n",
      "1:\tlearn: 12.9584530\ttotal: 1.17ms\tremaining: 18.7ms\n",
      "2:\tlearn: 12.6504686\ttotal: 1.81ms\tremaining: 18.7ms\n",
      "3:\tlearn: 12.6153855\ttotal: 2.34ms\tremaining: 17.5ms\n",
      "4:\tlearn: 12.5517572\ttotal: 3.56ms\tremaining: 20.6ms\n",
      "5:\tlearn: 12.5087184\ttotal: 5.48ms\tremaining: 25.6ms\n",
      "6:\tlearn: 12.4783454\ttotal: 6.16ms\tremaining: 23.7ms\n",
      "7:\tlearn: 12.4666198\ttotal: 6.73ms\tremaining: 21.9ms\n",
      "8:\tlearn: 12.4522725\ttotal: 9.14ms\tremaining: 25.4ms\n",
      "9:\tlearn: 12.4282418\ttotal: 9.66ms\tremaining: 23.2ms\n",
      "10:\tlearn: 12.4087901\ttotal: 10.2ms\tremaining: 21.3ms\n",
      "11:\tlearn: 12.3938148\ttotal: 10.7ms\tremaining: 19.7ms\n",
      "12:\tlearn: 12.3858347\ttotal: 11.3ms\tremaining: 18.3ms\n",
      "13:\tlearn: 12.3769657\ttotal: 11.9ms\tremaining: 17ms\n",
      "14:\tlearn: 12.3615643\ttotal: 12.5ms\tremaining: 15.8ms\n",
      "15:\tlearn: 12.3546051\ttotal: 13ms\tremaining: 14.7ms\n",
      "16:\tlearn: 12.3510371\ttotal: 13.6ms\tremaining: 13.6ms\n",
      "17:\tlearn: 12.3437469\ttotal: 14.1ms\tremaining: 12.6ms\n",
      "18:\tlearn: 12.3352356\ttotal: 14.7ms\tremaining: 11.6ms\n",
      "19:\tlearn: 12.3299746\ttotal: 15.2ms\tremaining: 10.6ms\n",
      "20:\tlearn: 12.3257477\ttotal: 15.7ms\tremaining: 9.72ms\n",
      "21:\tlearn: 12.3213673\ttotal: 16.2ms\tremaining: 8.83ms\n",
      "22:\tlearn: 12.3178344\ttotal: 16.6ms\tremaining: 7.96ms\n",
      "23:\tlearn: 12.3116198\ttotal: 17.2ms\tremaining: 7.18ms\n",
      "24:\tlearn: 12.3110103\ttotal: 18.1ms\tremaining: 6.5ms\n",
      "25:\tlearn: 12.3021519\ttotal: 18.6ms\tremaining: 5.73ms\n",
      "26:\tlearn: 12.3003740\ttotal: 19.2ms\tremaining: 4.98ms\n",
      "27:\tlearn: 12.2958833\ttotal: 19.7ms\tremaining: 4.22ms\n",
      "28:\tlearn: 12.2937687\ttotal: 20.4ms\tremaining: 3.51ms\n",
      "29:\tlearn: 12.2928413\ttotal: 21.1ms\tremaining: 2.81ms\n",
      "30:\tlearn: 12.2925955\ttotal: 21.6ms\tremaining: 2.09ms\n",
      "31:\tlearn: 12.2913228\ttotal: 22.1ms\tremaining: 1.38ms\n",
      "32:\tlearn: 12.2871028\ttotal: 22.6ms\tremaining: 684us\n",
      "33:\tlearn: 12.2842046\ttotal: 23.1ms\tremaining: 0us\n",
      "0:\tlearn: 13.0578783\ttotal: 572us\tremaining: 19.5ms\n",
      "1:\tlearn: 12.9584530\ttotal: 1.12ms\tremaining: 18.5ms\n",
      "2:\tlearn: 12.6504686\ttotal: 1.72ms\tremaining: 18.4ms\n",
      "3:\tlearn: 12.6153855\ttotal: 2.27ms\tremaining: 17.6ms\n",
      "4:\tlearn: 12.5517572\ttotal: 3.1ms\tremaining: 18.6ms\n",
      "5:\tlearn: 12.5087184\ttotal: 3.72ms\tremaining: 18ms\n",
      "6:\tlearn: 12.4783454\ttotal: 4.29ms\tremaining: 17.2ms\n",
      "7:\tlearn: 12.4666198\ttotal: 4.82ms\tremaining: 16.3ms\n",
      "8:\tlearn: 12.4522725\ttotal: 5.34ms\tremaining: 15.4ms\n",
      "9:\tlearn: 12.4282418\ttotal: 5.82ms\tremaining: 14.6ms\n",
      "10:\tlearn: 12.4087901\ttotal: 6.34ms\tremaining: 13.8ms\n",
      "11:\tlearn: 12.3938148\ttotal: 7.08ms\tremaining: 13.6ms\n",
      "12:\tlearn: 12.3858347\ttotal: 7.57ms\tremaining: 12.8ms\n",
      "13:\tlearn: 12.3769657\ttotal: 9.68ms\tremaining: 14.5ms\n",
      "14:\tlearn: 12.3615643\ttotal: 10.5ms\tremaining: 14ms\n",
      "15:\tlearn: 12.3546051\ttotal: 11.1ms\tremaining: 13.2ms\n",
      "16:\tlearn: 12.3510371\ttotal: 11.8ms\tremaining: 12.5ms\n",
      "17:\tlearn: 12.3437469\ttotal: 12.6ms\tremaining: 11.9ms\n",
      "18:\tlearn: 12.3352356\ttotal: 13.2ms\tremaining: 11.1ms\n",
      "19:\tlearn: 12.3299746\ttotal: 13.8ms\tremaining: 10.3ms\n",
      "20:\tlearn: 12.3257477\ttotal: 14.3ms\tremaining: 9.54ms\n",
      "21:\tlearn: 12.3213673\ttotal: 14.8ms\tremaining: 8.74ms\n",
      "22:\tlearn: 12.3178344\ttotal: 15.3ms\tremaining: 7.96ms\n",
      "23:\tlearn: 12.3116198\ttotal: 15.8ms\tremaining: 7.23ms\n",
      "24:\tlearn: 12.3110103\ttotal: 16.8ms\tremaining: 6.7ms\n",
      "25:\tlearn: 12.3021519\ttotal: 17.8ms\tremaining: 6.15ms\n",
      "26:\tlearn: 12.3003740\ttotal: 18.3ms\tremaining: 5.42ms\n",
      "27:\tlearn: 12.2958833\ttotal: 18.8ms\tremaining: 4.7ms\n",
      "28:\tlearn: 12.2937687\ttotal: 19.3ms\tremaining: 3.99ms\n",
      "29:\tlearn: 12.2928413\ttotal: 19.9ms\tremaining: 3.31ms\n",
      "30:\tlearn: 12.2925955\ttotal: 20.6ms\tremaining: 2.66ms\n",
      "31:\tlearn: 12.2913228\ttotal: 21.2ms\tremaining: 1.98ms\n",
      "32:\tlearn: 12.2871028\ttotal: 21.7ms\tremaining: 1.31ms\n",
      "33:\tlearn: 12.2842046\ttotal: 22.1ms\tremaining: 650us\n",
      "34:\tlearn: 12.2822384\ttotal: 22.6ms\tremaining: 0us\n",
      "0:\tlearn: 13.0578783\ttotal: 578us\tremaining: 20.3ms\n",
      "1:\tlearn: 12.9584530\ttotal: 1.08ms\tremaining: 18.4ms\n",
      "2:\tlearn: 12.6504686\ttotal: 1.55ms\tremaining: 17ms\n",
      "3:\tlearn: 12.6153855\ttotal: 2.01ms\tremaining: 16.1ms\n",
      "4:\tlearn: 12.5517572\ttotal: 2.51ms\tremaining: 15.6ms\n",
      "5:\tlearn: 12.5087184\ttotal: 2.97ms\tremaining: 14.9ms\n",
      "6:\tlearn: 12.4783454\ttotal: 3.41ms\tremaining: 14.1ms\n",
      "7:\tlearn: 12.4666198\ttotal: 3.89ms\tremaining: 13.6ms\n",
      "8:\tlearn: 12.4522725\ttotal: 4.5ms\tremaining: 13.5ms\n",
      "9:\tlearn: 12.4282418\ttotal: 5.02ms\tremaining: 13ms\n",
      "10:\tlearn: 12.4087901\ttotal: 5.62ms\tremaining: 12.8ms\n",
      "11:\tlearn: 12.3938148\ttotal: 6.11ms\tremaining: 12.2ms\n",
      "12:\tlearn: 12.3858347\ttotal: 6.63ms\tremaining: 11.7ms\n",
      "13:\tlearn: 12.3769657\ttotal: 7.44ms\tremaining: 11.7ms\n",
      "14:\tlearn: 12.3615643\ttotal: 7.97ms\tremaining: 11.2ms\n",
      "15:\tlearn: 12.3546051\ttotal: 8.44ms\tremaining: 10.5ms\n",
      "16:\tlearn: 12.3510371\ttotal: 8.93ms\tremaining: 9.97ms\n",
      "17:\tlearn: 12.3437469\ttotal: 9.38ms\tremaining: 9.38ms\n",
      "18:\tlearn: 12.3352356\ttotal: 9.82ms\tremaining: 8.79ms\n",
      "19:\tlearn: 12.3299746\ttotal: 10.3ms\tremaining: 8.21ms\n",
      "20:\tlearn: 12.3257477\ttotal: 10.9ms\tremaining: 7.76ms\n",
      "21:\tlearn: 12.3213673\ttotal: 11.3ms\tremaining: 7.2ms\n",
      "22:\tlearn: 12.3178344\ttotal: 11.8ms\tremaining: 6.66ms\n",
      "23:\tlearn: 12.3116198\ttotal: 12.2ms\tremaining: 6.11ms\n",
      "24:\tlearn: 12.3110103\ttotal: 12.7ms\tremaining: 5.58ms\n",
      "25:\tlearn: 12.3021519\ttotal: 13.2ms\tremaining: 5.07ms\n",
      "26:\tlearn: 12.3003740\ttotal: 14ms\tremaining: 4.66ms\n",
      "27:\tlearn: 12.2958833\ttotal: 14.5ms\tremaining: 4.14ms\n",
      "28:\tlearn: 12.2937687\ttotal: 15ms\tremaining: 3.63ms\n",
      "29:\tlearn: 12.2928413\ttotal: 15.6ms\tremaining: 3.13ms\n",
      "30:\tlearn: 12.2925955\ttotal: 16.4ms\tremaining: 2.64ms\n",
      "31:\tlearn: 12.2913228\ttotal: 17.2ms\tremaining: 2.14ms\n",
      "32:\tlearn: 12.2871028\ttotal: 17.7ms\tremaining: 1.61ms\n",
      "33:\tlearn: 12.2842046\ttotal: 18.2ms\tremaining: 1.07ms\n",
      "34:\tlearn: 12.2822384\ttotal: 18.7ms\tremaining: 532us\n",
      "35:\tlearn: 12.2813986\ttotal: 19.1ms\tremaining: 0us\n",
      "0:\tlearn: 13.0578783\ttotal: 710us\tremaining: 25.6ms\n",
      "1:\tlearn: 12.9584530\ttotal: 1.43ms\tremaining: 25.1ms\n",
      "2:\tlearn: 12.6504686\ttotal: 1.93ms\tremaining: 21.9ms\n",
      "3:\tlearn: 12.6153855\ttotal: 2.45ms\tremaining: 20.2ms\n",
      "4:\tlearn: 12.5517572\ttotal: 3.06ms\tremaining: 19.6ms\n",
      "5:\tlearn: 12.5087184\ttotal: 3.64ms\tremaining: 18.8ms\n",
      "6:\tlearn: 12.4783454\ttotal: 4.14ms\tremaining: 17.7ms\n",
      "7:\tlearn: 12.4666198\ttotal: 4.61ms\tremaining: 16.7ms\n",
      "8:\tlearn: 12.4522725\ttotal: 5.11ms\tremaining: 15.9ms\n",
      "9:\tlearn: 12.4282418\ttotal: 5.59ms\tremaining: 15.1ms\n",
      "10:\tlearn: 12.4087901\ttotal: 6.04ms\tremaining: 14.3ms\n",
      "11:\tlearn: 12.3938148\ttotal: 6.54ms\tremaining: 13.6ms\n",
      "12:\tlearn: 12.3858347\ttotal: 7.02ms\tremaining: 13ms\n",
      "13:\tlearn: 12.3769657\ttotal: 7.48ms\tremaining: 12.3ms\n",
      "14:\tlearn: 12.3615643\ttotal: 8.29ms\tremaining: 12.2ms\n",
      "15:\tlearn: 12.3546051\ttotal: 8.94ms\tremaining: 11.7ms\n",
      "16:\tlearn: 12.3510371\ttotal: 9.47ms\tremaining: 11.1ms\n",
      "17:\tlearn: 12.3437469\ttotal: 10.1ms\tremaining: 10.6ms\n",
      "18:\tlearn: 12.3352356\ttotal: 10.6ms\tremaining: 10ms\n",
      "19:\tlearn: 12.3299746\ttotal: 11.1ms\tremaining: 9.42ms\n",
      "20:\tlearn: 12.3257477\ttotal: 11.6ms\tremaining: 8.81ms\n",
      "21:\tlearn: 12.3213673\ttotal: 12.1ms\tremaining: 8.27ms\n",
      "22:\tlearn: 12.3178344\ttotal: 12.7ms\tremaining: 7.73ms\n",
      "23:\tlearn: 12.3116198\ttotal: 13.2ms\tremaining: 7.15ms\n",
      "24:\tlearn: 12.3110103\ttotal: 13.7ms\tremaining: 6.57ms\n",
      "25:\tlearn: 12.3021519\ttotal: 14.2ms\tremaining: 6ms\n",
      "26:\tlearn: 12.3003740\ttotal: 14.6ms\tremaining: 5.42ms\n",
      "27:\tlearn: 12.2958833\ttotal: 15.1ms\tremaining: 4.86ms\n",
      "28:\tlearn: 12.2937687\ttotal: 15.9ms\tremaining: 4.38ms\n",
      "29:\tlearn: 12.2928413\ttotal: 16.4ms\tremaining: 3.83ms\n",
      "30:\tlearn: 12.2925955\ttotal: 16.9ms\tremaining: 3.27ms\n",
      "31:\tlearn: 12.2913228\ttotal: 17.5ms\tremaining: 2.73ms\n",
      "32:\tlearn: 12.2871028\ttotal: 18.2ms\tremaining: 2.21ms\n",
      "33:\tlearn: 12.2842046\ttotal: 18.9ms\tremaining: 1.67ms\n",
      "34:\tlearn: 12.2822384\ttotal: 19.4ms\tremaining: 1.11ms\n",
      "35:\tlearn: 12.2813986\ttotal: 19.8ms\tremaining: 550us\n",
      "36:\tlearn: 12.2773761\ttotal: 20.2ms\tremaining: 0us\n",
      "0:\tlearn: 13.0578783\ttotal: 580us\tremaining: 21.5ms\n",
      "1:\tlearn: 12.9584530\ttotal: 1.12ms\tremaining: 20.2ms\n",
      "2:\tlearn: 12.6504686\ttotal: 1.61ms\tremaining: 18.8ms\n",
      "3:\tlearn: 12.6153855\ttotal: 2.08ms\tremaining: 17.7ms\n",
      "4:\tlearn: 12.5517572\ttotal: 2.56ms\tremaining: 16.9ms\n",
      "5:\tlearn: 12.5087184\ttotal: 3.02ms\tremaining: 16.1ms\n",
      "6:\tlearn: 12.4783454\ttotal: 3.46ms\tremaining: 15.3ms\n",
      "7:\tlearn: 12.4666198\ttotal: 3.9ms\tremaining: 14.6ms\n",
      "8:\tlearn: 12.4522725\ttotal: 4.38ms\tremaining: 14.1ms\n",
      "9:\tlearn: 12.4282418\ttotal: 4.82ms\tremaining: 13.5ms\n",
      "10:\tlearn: 12.4087901\ttotal: 5.26ms\tremaining: 12.9ms\n",
      "11:\tlearn: 12.3938148\ttotal: 5.74ms\tremaining: 12.4ms\n",
      "12:\tlearn: 12.3858347\ttotal: 6.23ms\tremaining: 12ms\n",
      "13:\tlearn: 12.3769657\ttotal: 6.83ms\tremaining: 11.7ms\n",
      "14:\tlearn: 12.3615643\ttotal: 7.41ms\tremaining: 11.4ms\n",
      "15:\tlearn: 12.3546051\ttotal: 7.96ms\tremaining: 10.9ms\n",
      "16:\tlearn: 12.3510371\ttotal: 8.47ms\tremaining: 10.5ms\n",
      "17:\tlearn: 12.3437469\ttotal: 8.95ms\tremaining: 9.95ms\n",
      "18:\tlearn: 12.3352356\ttotal: 9.41ms\tremaining: 9.41ms\n",
      "19:\tlearn: 12.3299746\ttotal: 9.85ms\tremaining: 8.87ms\n",
      "20:\tlearn: 12.3257477\ttotal: 10.3ms\tremaining: 8.33ms\n",
      "21:\tlearn: 12.3213673\ttotal: 10.8ms\tremaining: 7.84ms\n",
      "22:\tlearn: 12.3178344\ttotal: 11.3ms\tremaining: 7.34ms\n",
      "23:\tlearn: 12.3116198\ttotal: 11.7ms\tremaining: 6.83ms\n",
      "24:\tlearn: 12.3110103\ttotal: 12.1ms\tremaining: 6.31ms\n",
      "25:\tlearn: 12.3021519\ttotal: 12.6ms\tremaining: 5.8ms\n",
      "26:\tlearn: 12.3003740\ttotal: 13ms\tremaining: 5.31ms\n",
      "27:\tlearn: 12.2958833\ttotal: 13.5ms\tremaining: 4.82ms\n",
      "28:\tlearn: 12.2937687\ttotal: 13.9ms\tremaining: 4.32ms\n",
      "29:\tlearn: 12.2928413\ttotal: 14.4ms\tremaining: 3.84ms\n",
      "30:\tlearn: 12.2925955\ttotal: 14.9ms\tremaining: 3.36ms\n",
      "31:\tlearn: 12.2913228\ttotal: 15.3ms\tremaining: 2.88ms\n",
      "32:\tlearn: 12.2871028\ttotal: 15.8ms\tremaining: 2.4ms\n",
      "33:\tlearn: 12.2842046\ttotal: 16.4ms\tremaining: 1.93ms\n",
      "34:\tlearn: 12.2822384\ttotal: 17.4ms\tremaining: 1.49ms\n",
      "35:\tlearn: 12.2813986\ttotal: 18ms\tremaining: 1ms\n",
      "36:\tlearn: 12.2773761\ttotal: 18.5ms\tremaining: 500us\n",
      "37:\tlearn: 12.2740745\ttotal: 19ms\tremaining: 0us\n",
      "0:\tlearn: 13.0578783\ttotal: 603us\tremaining: 22.9ms\n",
      "1:\tlearn: 12.9584530\ttotal: 1.15ms\tremaining: 21.3ms\n",
      "2:\tlearn: 12.6504686\ttotal: 1.61ms\tremaining: 19.4ms\n",
      "3:\tlearn: 12.6153855\ttotal: 2.07ms\tremaining: 18.1ms\n",
      "4:\tlearn: 12.5517572\ttotal: 2.53ms\tremaining: 17.2ms\n",
      "5:\tlearn: 12.5087184\ttotal: 2.97ms\tremaining: 16.3ms\n",
      "6:\tlearn: 12.4783454\ttotal: 3.41ms\tremaining: 15.6ms\n",
      "7:\tlearn: 12.4666198\ttotal: 3.88ms\tremaining: 15ms\n",
      "8:\tlearn: 12.4522725\ttotal: 4.43ms\tremaining: 14.8ms\n",
      "9:\tlearn: 12.4282418\ttotal: 5.31ms\tremaining: 15.4ms\n",
      "10:\tlearn: 12.4087901\ttotal: 5.97ms\tremaining: 15.2ms\n",
      "11:\tlearn: 12.3938148\ttotal: 6.61ms\tremaining: 14.9ms\n",
      "12:\tlearn: 12.3858347\ttotal: 7.13ms\tremaining: 14.3ms\n",
      "13:\tlearn: 12.3769657\ttotal: 7.63ms\tremaining: 13.6ms\n",
      "14:\tlearn: 12.3615643\ttotal: 8.08ms\tremaining: 12.9ms\n",
      "15:\tlearn: 12.3546051\ttotal: 8.57ms\tremaining: 12.3ms\n",
      "16:\tlearn: 12.3510371\ttotal: 9.04ms\tremaining: 11.7ms\n",
      "17:\tlearn: 12.3437469\ttotal: 9.48ms\tremaining: 11.1ms\n",
      "18:\tlearn: 12.3352356\ttotal: 9.96ms\tremaining: 10.5ms\n",
      "19:\tlearn: 12.3299746\ttotal: 10.5ms\tremaining: 9.94ms\n",
      "20:\tlearn: 12.3257477\ttotal: 10.9ms\tremaining: 9.38ms\n",
      "21:\tlearn: 12.3213673\ttotal: 11.4ms\tremaining: 8.82ms\n",
      "22:\tlearn: 12.3178344\ttotal: 11.9ms\tremaining: 8.27ms\n",
      "23:\tlearn: 12.3116198\ttotal: 12.4ms\tremaining: 7.72ms\n",
      "24:\tlearn: 12.3110103\ttotal: 12.8ms\tremaining: 7.2ms\n",
      "25:\tlearn: 12.3021519\ttotal: 13.3ms\tremaining: 6.67ms\n",
      "26:\tlearn: 12.3003740\ttotal: 13.8ms\tremaining: 6.13ms\n",
      "27:\tlearn: 12.2958833\ttotal: 14.6ms\tremaining: 5.74ms\n",
      "28:\tlearn: 12.2937687\ttotal: 15.1ms\tremaining: 5.21ms\n",
      "29:\tlearn: 12.2928413\ttotal: 15.7ms\tremaining: 4.71ms\n",
      "30:\tlearn: 12.2925955\ttotal: 16.4ms\tremaining: 4.22ms\n",
      "31:\tlearn: 12.2913228\ttotal: 16.9ms\tremaining: 3.7ms\n",
      "32:\tlearn: 12.2871028\ttotal: 17.4ms\tremaining: 3.17ms\n"
     ]
    },
    {
     "name": "stdout",
     "output_type": "stream",
     "text": [
      "33:\tlearn: 12.2842046\ttotal: 18.3ms\tremaining: 2.68ms\n",
      "34:\tlearn: 12.2822384\ttotal: 18.8ms\tremaining: 2.14ms\n",
      "35:\tlearn: 12.2813986\ttotal: 19.3ms\tremaining: 1.61ms\n",
      "36:\tlearn: 12.2773761\ttotal: 19.9ms\tremaining: 1.07ms\n",
      "37:\tlearn: 12.2740745\ttotal: 20.4ms\tremaining: 535us\n",
      "38:\tlearn: 12.2722739\ttotal: 20.8ms\tremaining: 0us\n",
      "0:\tlearn: 13.0578783\ttotal: 614us\tremaining: 24ms\n",
      "1:\tlearn: 12.9584530\ttotal: 1.46ms\tremaining: 27.7ms\n",
      "2:\tlearn: 12.6504686\ttotal: 2ms\tremaining: 24.7ms\n",
      "3:\tlearn: 12.6153855\ttotal: 2.54ms\tremaining: 22.8ms\n",
      "4:\tlearn: 12.5517572\ttotal: 3.07ms\tremaining: 21.5ms\n",
      "5:\tlearn: 12.5087184\ttotal: 3.8ms\tremaining: 21.6ms\n",
      "6:\tlearn: 12.4783454\ttotal: 4.65ms\tremaining: 21.9ms\n",
      "7:\tlearn: 12.4666198\ttotal: 5.29ms\tremaining: 21.2ms\n",
      "8:\tlearn: 12.4522725\ttotal: 5.85ms\tremaining: 20.1ms\n",
      "9:\tlearn: 12.4282418\ttotal: 6.35ms\tremaining: 19ms\n",
      "10:\tlearn: 12.4087901\ttotal: 6.82ms\tremaining: 18ms\n",
      "11:\tlearn: 12.3938148\ttotal: 7.36ms\tremaining: 17.2ms\n",
      "12:\tlearn: 12.3858347\ttotal: 7.96ms\tremaining: 16.5ms\n",
      "13:\tlearn: 12.3769657\ttotal: 8.41ms\tremaining: 15.6ms\n",
      "14:\tlearn: 12.3615643\ttotal: 8.91ms\tremaining: 14.9ms\n",
      "15:\tlearn: 12.3546051\ttotal: 9.47ms\tremaining: 14.2ms\n",
      "16:\tlearn: 12.3510371\ttotal: 9.93ms\tremaining: 13.4ms\n",
      "17:\tlearn: 12.3437469\ttotal: 10.5ms\tremaining: 12.8ms\n",
      "18:\tlearn: 12.3352356\ttotal: 11ms\tremaining: 12.1ms\n",
      "19:\tlearn: 12.3299746\ttotal: 11.4ms\tremaining: 11.4ms\n",
      "20:\tlearn: 12.3257477\ttotal: 12.6ms\tremaining: 11.4ms\n",
      "21:\tlearn: 12.3213673\ttotal: 13.5ms\tremaining: 11ms\n",
      "22:\tlearn: 12.3178344\ttotal: 14.1ms\tremaining: 10.4ms\n",
      "23:\tlearn: 12.3116198\ttotal: 14.6ms\tremaining: 9.72ms\n",
      "24:\tlearn: 12.3110103\ttotal: 15.1ms\tremaining: 9.04ms\n",
      "25:\tlearn: 12.3021519\ttotal: 15.6ms\tremaining: 8.38ms\n",
      "26:\tlearn: 12.3003740\ttotal: 16.1ms\tremaining: 7.75ms\n",
      "27:\tlearn: 12.2958833\ttotal: 16.6ms\tremaining: 7.12ms\n",
      "28:\tlearn: 12.2937687\ttotal: 17.1ms\tremaining: 6.5ms\n",
      "29:\tlearn: 12.2928413\ttotal: 17.6ms\tremaining: 5.87ms\n",
      "30:\tlearn: 12.2925955\ttotal: 18.1ms\tremaining: 5.24ms\n",
      "31:\tlearn: 12.2913228\ttotal: 18.6ms\tremaining: 4.65ms\n",
      "32:\tlearn: 12.2871028\ttotal: 19.1ms\tremaining: 4.05ms\n",
      "33:\tlearn: 12.2842046\ttotal: 19.9ms\tremaining: 3.5ms\n",
      "34:\tlearn: 12.2822384\ttotal: 20.5ms\tremaining: 2.92ms\n",
      "35:\tlearn: 12.2813986\ttotal: 22ms\tremaining: 2.45ms\n",
      "36:\tlearn: 12.2773761\ttotal: 23.1ms\tremaining: 1.87ms\n",
      "37:\tlearn: 12.2740745\ttotal: 23.7ms\tremaining: 1.25ms\n",
      "38:\tlearn: 12.2722739\ttotal: 24.3ms\tremaining: 623us\n",
      "39:\tlearn: 12.2720532\ttotal: 24.9ms\tremaining: 0us\n",
      "0:\tlearn: 13.0578783\ttotal: 562us\tremaining: 22.5ms\n",
      "1:\tlearn: 12.9584530\ttotal: 1.04ms\tremaining: 20.3ms\n",
      "2:\tlearn: 12.6504686\ttotal: 1.67ms\tremaining: 21.2ms\n",
      "3:\tlearn: 12.6153855\ttotal: 2.63ms\tremaining: 24.4ms\n",
      "4:\tlearn: 12.5517572\ttotal: 3.36ms\tremaining: 24.2ms\n",
      "5:\tlearn: 12.5087184\ttotal: 3.84ms\tremaining: 22.4ms\n",
      "6:\tlearn: 12.4783454\ttotal: 4.32ms\tremaining: 21ms\n",
      "7:\tlearn: 12.4666198\ttotal: 4.78ms\tremaining: 19.7ms\n",
      "8:\tlearn: 12.4522725\ttotal: 5.23ms\tremaining: 18.6ms\n",
      "9:\tlearn: 12.4282418\ttotal: 5.66ms\tremaining: 17.6ms\n",
      "10:\tlearn: 12.4087901\ttotal: 6.11ms\tremaining: 16.7ms\n",
      "11:\tlearn: 12.3938148\ttotal: 6.55ms\tremaining: 15.8ms\n",
      "12:\tlearn: 12.3858347\ttotal: 6.98ms\tremaining: 15ms\n",
      "13:\tlearn: 12.3769657\ttotal: 7.45ms\tremaining: 14.4ms\n",
      "14:\tlearn: 12.3615643\ttotal: 7.94ms\tremaining: 13.8ms\n",
      "15:\tlearn: 12.3546051\ttotal: 8.38ms\tremaining: 13.1ms\n",
      "16:\tlearn: 12.3510371\ttotal: 8.88ms\tremaining: 12.5ms\n",
      "17:\tlearn: 12.3437469\ttotal: 9.36ms\tremaining: 12ms\n",
      "18:\tlearn: 12.3352356\ttotal: 9.81ms\tremaining: 11.4ms\n",
      "19:\tlearn: 12.3299746\ttotal: 10.2ms\tremaining: 10.8ms\n",
      "20:\tlearn: 12.3257477\ttotal: 10.8ms\tremaining: 10.3ms\n",
      "21:\tlearn: 12.3213673\ttotal: 11.3ms\tremaining: 9.8ms\n",
      "22:\tlearn: 12.3178344\ttotal: 11.9ms\tremaining: 9.3ms\n",
      "23:\tlearn: 12.3116198\ttotal: 12.4ms\tremaining: 8.81ms\n",
      "24:\tlearn: 12.3110103\ttotal: 12.9ms\tremaining: 8.26ms\n",
      "25:\tlearn: 12.3021519\ttotal: 13.4ms\tremaining: 7.72ms\n",
      "26:\tlearn: 12.3003740\ttotal: 13.9ms\tremaining: 7.19ms\n",
      "27:\tlearn: 12.2958833\ttotal: 14.3ms\tremaining: 6.65ms\n",
      "28:\tlearn: 12.2937687\ttotal: 14.8ms\tremaining: 6.11ms\n",
      "29:\tlearn: 12.2928413\ttotal: 15.2ms\tremaining: 5.58ms\n",
      "30:\tlearn: 12.2925955\ttotal: 15.7ms\tremaining: 5.06ms\n",
      "31:\tlearn: 12.2913228\ttotal: 16.2ms\tremaining: 4.55ms\n",
      "32:\tlearn: 12.2871028\ttotal: 16.6ms\tremaining: 4.03ms\n",
      "33:\tlearn: 12.2842046\ttotal: 17.1ms\tremaining: 3.52ms\n",
      "34:\tlearn: 12.2822384\ttotal: 17.5ms\tremaining: 3ms\n",
      "35:\tlearn: 12.2813986\ttotal: 18ms\tremaining: 2.5ms\n",
      "36:\tlearn: 12.2773761\ttotal: 18.4ms\tremaining: 1.99ms\n",
      "37:\tlearn: 12.2740745\ttotal: 18.9ms\tremaining: 1.49ms\n",
      "38:\tlearn: 12.2722739\ttotal: 19.3ms\tremaining: 991us\n",
      "39:\tlearn: 12.2720532\ttotal: 19.8ms\tremaining: 494us\n",
      "40:\tlearn: 12.2704325\ttotal: 20.2ms\tremaining: 0us\n",
      "0:\tlearn: 13.0578783\ttotal: 610us\tremaining: 25ms\n",
      "1:\tlearn: 12.9584530\ttotal: 1.23ms\tremaining: 24.7ms\n",
      "2:\tlearn: 12.6504686\ttotal: 1.7ms\tremaining: 22.2ms\n",
      "3:\tlearn: 12.6153855\ttotal: 2.22ms\tremaining: 21.1ms\n",
      "4:\tlearn: 12.5517572\ttotal: 2.76ms\tremaining: 20.5ms\n",
      "5:\tlearn: 12.5087184\ttotal: 3.3ms\tremaining: 19.8ms\n",
      "6:\tlearn: 12.4783454\ttotal: 3.98ms\tremaining: 19.9ms\n",
      "7:\tlearn: 12.4666198\ttotal: 4.55ms\tremaining: 19.3ms\n",
      "8:\tlearn: 12.4522725\ttotal: 5.03ms\tremaining: 18.5ms\n",
      "9:\tlearn: 12.4282418\ttotal: 5.48ms\tremaining: 17.5ms\n",
      "10:\tlearn: 12.4087901\ttotal: 6.03ms\tremaining: 17ms\n",
      "11:\tlearn: 12.3938148\ttotal: 6.56ms\tremaining: 16.4ms\n",
      "12:\tlearn: 12.3858347\ttotal: 7.31ms\tremaining: 16.3ms\n",
      "13:\tlearn: 12.3769657\ttotal: 7.89ms\tremaining: 15.8ms\n",
      "14:\tlearn: 12.3615643\ttotal: 8.49ms\tremaining: 15.3ms\n",
      "15:\tlearn: 12.3546051\ttotal: 9.06ms\tremaining: 14.7ms\n",
      "16:\tlearn: 12.3510371\ttotal: 9.58ms\tremaining: 14.1ms\n",
      "17:\tlearn: 12.3437469\ttotal: 10.1ms\tremaining: 13.4ms\n",
      "18:\tlearn: 12.3352356\ttotal: 10.5ms\tremaining: 12.7ms\n",
      "19:\tlearn: 12.3299746\ttotal: 11.3ms\tremaining: 12.4ms\n",
      "20:\tlearn: 12.3257477\ttotal: 12ms\tremaining: 12ms\n",
      "21:\tlearn: 12.3213673\ttotal: 12.5ms\tremaining: 11.4ms\n",
      "22:\tlearn: 12.3178344\ttotal: 13ms\tremaining: 10.7ms\n",
      "23:\tlearn: 12.3116198\ttotal: 13.5ms\tremaining: 10.1ms\n",
      "24:\tlearn: 12.3110103\ttotal: 14ms\tremaining: 9.52ms\n",
      "25:\tlearn: 12.3021519\ttotal: 14.5ms\tremaining: 8.94ms\n",
      "26:\tlearn: 12.3003740\ttotal: 15.2ms\tremaining: 8.46ms\n",
      "27:\tlearn: 12.2958833\ttotal: 15.7ms\tremaining: 7.86ms\n",
      "28:\tlearn: 12.2937687\ttotal: 16.2ms\tremaining: 7.26ms\n",
      "29:\tlearn: 12.2928413\ttotal: 16.8ms\tremaining: 6.71ms\n",
      "30:\tlearn: 12.2925955\ttotal: 17.3ms\tremaining: 6.15ms\n",
      "31:\tlearn: 12.2913228\ttotal: 17.8ms\tremaining: 5.57ms\n",
      "32:\tlearn: 12.2871028\ttotal: 18.3ms\tremaining: 4.99ms\n",
      "33:\tlearn: 12.2842046\ttotal: 18.8ms\tremaining: 4.42ms\n",
      "34:\tlearn: 12.2822384\ttotal: 19.3ms\tremaining: 3.85ms\n",
      "35:\tlearn: 12.2813986\ttotal: 19.8ms\tremaining: 3.3ms\n",
      "36:\tlearn: 12.2773761\ttotal: 20.6ms\tremaining: 2.78ms\n",
      "37:\tlearn: 12.2740745\ttotal: 21.3ms\tremaining: 2.24ms\n",
      "38:\tlearn: 12.2722739\ttotal: 21.8ms\tremaining: 1.68ms\n",
      "39:\tlearn: 12.2720532\ttotal: 22.5ms\tremaining: 1.12ms\n",
      "40:\tlearn: 12.2704325\ttotal: 23ms\tremaining: 561us\n",
      "41:\tlearn: 12.2690350\ttotal: 23.8ms\tremaining: 0us\n",
      "0:\tlearn: 13.0578783\ttotal: 563us\tremaining: 23.7ms\n",
      "1:\tlearn: 12.9584530\ttotal: 1.04ms\tremaining: 21.4ms\n",
      "2:\tlearn: 12.6504686\ttotal: 1.52ms\tremaining: 20.2ms\n",
      "3:\tlearn: 12.6153855\ttotal: 1.99ms\tremaining: 19.4ms\n",
      "4:\tlearn: 12.5517572\ttotal: 2.49ms\tremaining: 18.9ms\n",
      "5:\tlearn: 12.5087184\ttotal: 2.97ms\tremaining: 18.3ms\n",
      "6:\tlearn: 12.4783454\ttotal: 3.41ms\tremaining: 17.5ms\n",
      "7:\tlearn: 12.4666198\ttotal: 4.03ms\tremaining: 17.6ms\n",
      "8:\tlearn: 12.4522725\ttotal: 5.37ms\tremaining: 20.3ms\n",
      "9:\tlearn: 12.4282418\ttotal: 5.99ms\tremaining: 19.8ms\n",
      "10:\tlearn: 12.4087901\ttotal: 6.51ms\tremaining: 18.9ms\n",
      "11:\tlearn: 12.3938148\ttotal: 7.01ms\tremaining: 18.1ms\n",
      "12:\tlearn: 12.3858347\ttotal: 7.51ms\tremaining: 17.3ms\n",
      "13:\tlearn: 12.3769657\ttotal: 7.99ms\tremaining: 16.5ms\n",
      "14:\tlearn: 12.3615643\ttotal: 8.53ms\tremaining: 15.9ms\n",
      "15:\tlearn: 12.3546051\ttotal: 9.02ms\tremaining: 15.2ms\n",
      "16:\tlearn: 12.3510371\ttotal: 9.52ms\tremaining: 14.6ms\n",
      "17:\tlearn: 12.3437469\ttotal: 10ms\tremaining: 13.9ms\n",
      "18:\tlearn: 12.3352356\ttotal: 10.6ms\tremaining: 13.3ms\n",
      "19:\tlearn: 12.3299746\ttotal: 11.1ms\tremaining: 12.8ms\n",
      "20:\tlearn: 12.3257477\ttotal: 11.6ms\tremaining: 12.2ms\n",
      "21:\tlearn: 12.3213673\ttotal: 12.2ms\tremaining: 11.6ms\n",
      "22:\tlearn: 12.3178344\ttotal: 12.6ms\tremaining: 11ms\n",
      "23:\tlearn: 12.3116198\ttotal: 13.1ms\tremaining: 10.4ms\n",
      "24:\tlearn: 12.3110103\ttotal: 13.8ms\tremaining: 9.92ms\n",
      "25:\tlearn: 12.3021519\ttotal: 14.3ms\tremaining: 9.35ms\n",
      "26:\tlearn: 12.3003740\ttotal: 14.8ms\tremaining: 8.77ms\n",
      "27:\tlearn: 12.2958833\ttotal: 15.3ms\tremaining: 8.2ms\n",
      "28:\tlearn: 12.2937687\ttotal: 15.8ms\tremaining: 7.61ms\n",
      "29:\tlearn: 12.2928413\ttotal: 16.3ms\tremaining: 7.05ms\n",
      "30:\tlearn: 12.2925955\ttotal: 16.8ms\tremaining: 6.5ms\n",
      "31:\tlearn: 12.2913228\ttotal: 17.3ms\tremaining: 5.95ms\n",
      "32:\tlearn: 12.2871028\ttotal: 17.8ms\tremaining: 5.39ms\n",
      "33:\tlearn: 12.2842046\ttotal: 18.3ms\tremaining: 4.85ms\n",
      "34:\tlearn: 12.2822384\ttotal: 18.8ms\tremaining: 4.3ms\n",
      "35:\tlearn: 12.2813986\ttotal: 19.3ms\tremaining: 3.76ms\n",
      "36:\tlearn: 12.2773761\ttotal: 19.9ms\tremaining: 3.22ms\n",
      "37:\tlearn: 12.2740745\ttotal: 20.4ms\tremaining: 2.68ms\n",
      "38:\tlearn: 12.2722739\ttotal: 20.9ms\tremaining: 2.14ms\n",
      "39:\tlearn: 12.2720532\ttotal: 21.9ms\tremaining: 1.64ms\n",
      "40:\tlearn: 12.2704325\ttotal: 22.5ms\tremaining: 1.1ms\n",
      "41:\tlearn: 12.2690350\ttotal: 23ms\tremaining: 547us\n",
      "42:\tlearn: 12.2687740\ttotal: 23.6ms\tremaining: 0us\n",
      "0:\tlearn: 13.0578783\ttotal: 587us\tremaining: 25.3ms\n"
     ]
    },
    {
     "name": "stdout",
     "output_type": "stream",
     "text": [
      "1:\tlearn: 12.9584530\ttotal: 1.46ms\tremaining: 30.7ms\n",
      "2:\tlearn: 12.6504686\ttotal: 2.04ms\tremaining: 27.8ms\n",
      "3:\tlearn: 12.6153855\ttotal: 2.58ms\tremaining: 25.8ms\n",
      "4:\tlearn: 12.5517572\ttotal: 3.14ms\tremaining: 24.5ms\n",
      "5:\tlearn: 12.5087184\ttotal: 3.72ms\tremaining: 23.6ms\n",
      "6:\tlearn: 12.4783454\ttotal: 4.55ms\tremaining: 24.1ms\n",
      "7:\tlearn: 12.4666198\ttotal: 5.27ms\tremaining: 23.7ms\n",
      "8:\tlearn: 12.4522725\ttotal: 5.86ms\tremaining: 22.8ms\n",
      "9:\tlearn: 12.4282418\ttotal: 6.41ms\tremaining: 21.8ms\n",
      "10:\tlearn: 12.4087901\ttotal: 6.94ms\tremaining: 20.8ms\n",
      "11:\tlearn: 12.3938148\ttotal: 7.41ms\tremaining: 19.8ms\n",
      "12:\tlearn: 12.3858347\ttotal: 8ms\tremaining: 19.1ms\n",
      "13:\tlearn: 12.3769657\ttotal: 8.59ms\tremaining: 18.4ms\n",
      "14:\tlearn: 12.3615643\ttotal: 9.49ms\tremaining: 18.3ms\n",
      "15:\tlearn: 12.3546051\ttotal: 10.2ms\tremaining: 17.8ms\n",
      "16:\tlearn: 12.3510371\ttotal: 10.9ms\tremaining: 17.4ms\n",
      "17:\tlearn: 12.3437469\ttotal: 11.6ms\tremaining: 16.7ms\n",
      "18:\tlearn: 12.3352356\ttotal: 12.1ms\tremaining: 16ms\n",
      "19:\tlearn: 12.3299746\ttotal: 13.1ms\tremaining: 15.7ms\n",
      "20:\tlearn: 12.3257477\ttotal: 13.8ms\tremaining: 15.1ms\n",
      "21:\tlearn: 12.3213673\ttotal: 14.3ms\tremaining: 14.3ms\n",
      "22:\tlearn: 12.3178344\ttotal: 14.8ms\tremaining: 13.5ms\n",
      "23:\tlearn: 12.3116198\ttotal: 15.3ms\tremaining: 12.7ms\n",
      "24:\tlearn: 12.3110103\ttotal: 15.9ms\tremaining: 12.1ms\n",
      "25:\tlearn: 12.3021519\ttotal: 16.8ms\tremaining: 11.6ms\n",
      "26:\tlearn: 12.3003740\ttotal: 19ms\tremaining: 12ms\n",
      "27:\tlearn: 12.2958833\ttotal: 19.5ms\tremaining: 11.2ms\n",
      "28:\tlearn: 12.2937687\ttotal: 20.1ms\tremaining: 10.4ms\n",
      "29:\tlearn: 12.2928413\ttotal: 20.7ms\tremaining: 9.67ms\n",
      "30:\tlearn: 12.2925955\ttotal: 21.3ms\tremaining: 8.93ms\n",
      "31:\tlearn: 12.2913228\ttotal: 22.1ms\tremaining: 8.28ms\n",
      "32:\tlearn: 12.2871028\ttotal: 22.9ms\tremaining: 7.64ms\n",
      "33:\tlearn: 12.2842046\ttotal: 23.5ms\tremaining: 6.9ms\n",
      "34:\tlearn: 12.2822384\ttotal: 23.9ms\tremaining: 6.16ms\n",
      "35:\tlearn: 12.2813986\ttotal: 24.6ms\tremaining: 5.47ms\n",
      "36:\tlearn: 12.2773761\ttotal: 25.2ms\tremaining: 4.77ms\n",
      "37:\tlearn: 12.2740745\ttotal: 25.7ms\tremaining: 4.06ms\n",
      "38:\tlearn: 12.2722739\ttotal: 26.4ms\tremaining: 3.38ms\n",
      "39:\tlearn: 12.2720532\ttotal: 26.9ms\tremaining: 2.69ms\n",
      "40:\tlearn: 12.2704325\ttotal: 27.5ms\tremaining: 2.01ms\n",
      "41:\tlearn: 12.2690350\ttotal: 28.6ms\tremaining: 1.36ms\n",
      "42:\tlearn: 12.2687740\ttotal: 29.2ms\tremaining: 678us\n",
      "43:\tlearn: 12.2668323\ttotal: 29.6ms\tremaining: 0us\n",
      "0:\tlearn: 13.0578783\ttotal: 663us\tremaining: 29.2ms\n",
      "1:\tlearn: 12.9584530\ttotal: 1.32ms\tremaining: 28.4ms\n",
      "2:\tlearn: 12.6504686\ttotal: 1.92ms\tremaining: 26.9ms\n",
      "3:\tlearn: 12.6153855\ttotal: 2.49ms\tremaining: 25.5ms\n",
      "4:\tlearn: 12.5517572\ttotal: 3.06ms\tremaining: 24.5ms\n",
      "5:\tlearn: 12.5087184\ttotal: 3.62ms\tremaining: 23.6ms\n",
      "6:\tlearn: 12.4783454\ttotal: 4.17ms\tremaining: 22.6ms\n",
      "7:\tlearn: 12.4666198\ttotal: 4.72ms\tremaining: 21.8ms\n",
      "8:\tlearn: 12.4522725\ttotal: 5.3ms\tremaining: 21.2ms\n",
      "9:\tlearn: 12.4282418\ttotal: 5.87ms\tremaining: 20.6ms\n",
      "10:\tlearn: 12.4087901\ttotal: 6.68ms\tremaining: 20.7ms\n",
      "11:\tlearn: 12.3938148\ttotal: 7.38ms\tremaining: 20.3ms\n",
      "12:\tlearn: 12.3858347\ttotal: 7.96ms\tremaining: 19.6ms\n",
      "13:\tlearn: 12.3769657\ttotal: 8.56ms\tremaining: 19ms\n",
      "14:\tlearn: 12.3615643\ttotal: 9.22ms\tremaining: 18.4ms\n",
      "15:\tlearn: 12.3546051\ttotal: 10.3ms\tremaining: 18.7ms\n",
      "16:\tlearn: 12.3510371\ttotal: 10.9ms\tremaining: 18ms\n",
      "17:\tlearn: 12.3437469\ttotal: 11.6ms\tremaining: 17.4ms\n",
      "18:\tlearn: 12.3352356\ttotal: 12.4ms\tremaining: 16.9ms\n",
      "19:\tlearn: 12.3299746\ttotal: 12.9ms\tremaining: 16.1ms\n",
      "20:\tlearn: 12.3257477\ttotal: 13.4ms\tremaining: 15.4ms\n",
      "21:\tlearn: 12.3213673\ttotal: 14ms\tremaining: 14.6ms\n",
      "22:\tlearn: 12.3178344\ttotal: 14.5ms\tremaining: 13.8ms\n",
      "23:\tlearn: 12.3116198\ttotal: 15.1ms\tremaining: 13.2ms\n",
      "24:\tlearn: 12.3110103\ttotal: 15.7ms\tremaining: 12.5ms\n",
      "25:\tlearn: 12.3021519\ttotal: 16.2ms\tremaining: 11.8ms\n",
      "26:\tlearn: 12.3003740\ttotal: 16.7ms\tremaining: 11.2ms\n",
      "27:\tlearn: 12.2958833\ttotal: 17.4ms\tremaining: 10.5ms\n",
      "28:\tlearn: 12.2937687\ttotal: 18ms\tremaining: 9.9ms\n",
      "29:\tlearn: 12.2928413\ttotal: 19.3ms\tremaining: 9.65ms\n",
      "30:\tlearn: 12.2925955\ttotal: 19.8ms\tremaining: 8.95ms\n",
      "31:\tlearn: 12.2913228\ttotal: 20.3ms\tremaining: 8.24ms\n",
      "32:\tlearn: 12.2871028\ttotal: 20.8ms\tremaining: 7.55ms\n",
      "33:\tlearn: 12.2842046\ttotal: 21.2ms\tremaining: 6.87ms\n",
      "34:\tlearn: 12.2822384\ttotal: 21.7ms\tremaining: 6.2ms\n",
      "35:\tlearn: 12.2813986\ttotal: 22.2ms\tremaining: 5.54ms\n",
      "36:\tlearn: 12.2773761\ttotal: 22.6ms\tremaining: 4.89ms\n",
      "37:\tlearn: 12.2740745\ttotal: 23.1ms\tremaining: 4.25ms\n",
      "38:\tlearn: 12.2722739\ttotal: 23.5ms\tremaining: 3.62ms\n",
      "39:\tlearn: 12.2720532\ttotal: 24ms\tremaining: 3ms\n",
      "40:\tlearn: 12.2704325\ttotal: 25.4ms\tremaining: 2.48ms\n",
      "41:\tlearn: 12.2690350\ttotal: 25.9ms\tremaining: 1.85ms\n",
      "42:\tlearn: 12.2687740\ttotal: 26.5ms\tremaining: 1.23ms\n",
      "43:\tlearn: 12.2668323\ttotal: 27.1ms\tremaining: 615us\n",
      "44:\tlearn: 12.2657772\ttotal: 28.1ms\tremaining: 0us\n",
      "0:\tlearn: 13.0578783\ttotal: 554us\tremaining: 25ms\n",
      "1:\tlearn: 12.9584530\ttotal: 1.07ms\tremaining: 23.6ms\n",
      "2:\tlearn: 12.6504686\ttotal: 1.77ms\tremaining: 25.5ms\n",
      "3:\tlearn: 12.6153855\ttotal: 2.31ms\tremaining: 24.2ms\n",
      "4:\tlearn: 12.5517572\ttotal: 3.04ms\tremaining: 24.9ms\n",
      "5:\tlearn: 12.5087184\ttotal: 3.6ms\tremaining: 24ms\n",
      "6:\tlearn: 12.4783454\ttotal: 4.16ms\tremaining: 23.2ms\n",
      "7:\tlearn: 12.4666198\ttotal: 4.88ms\tremaining: 23.2ms\n",
      "8:\tlearn: 12.4522725\ttotal: 5.69ms\tremaining: 23.4ms\n",
      "9:\tlearn: 12.4282418\ttotal: 6.22ms\tremaining: 22.4ms\n",
      "10:\tlearn: 12.4087901\ttotal: 6.67ms\tremaining: 21.2ms\n",
      "11:\tlearn: 12.3938148\ttotal: 7.14ms\tremaining: 20.2ms\n",
      "12:\tlearn: 12.3858347\ttotal: 7.61ms\tremaining: 19.3ms\n",
      "13:\tlearn: 12.3769657\ttotal: 8.07ms\tremaining: 18.4ms\n",
      "14:\tlearn: 12.3615643\ttotal: 8.53ms\tremaining: 17.6ms\n",
      "15:\tlearn: 12.3546051\ttotal: 9ms\tremaining: 16.9ms\n",
      "16:\tlearn: 12.3510371\ttotal: 9.48ms\tremaining: 16.2ms\n",
      "17:\tlearn: 12.3437469\ttotal: 9.94ms\tremaining: 15.5ms\n",
      "18:\tlearn: 12.3352356\ttotal: 10.7ms\tremaining: 15.1ms\n",
      "19:\tlearn: 12.3299746\ttotal: 11.7ms\tremaining: 15.2ms\n",
      "20:\tlearn: 12.3257477\ttotal: 12.3ms\tremaining: 14.6ms\n",
      "21:\tlearn: 12.3213673\ttotal: 12.9ms\tremaining: 14ms\n",
      "22:\tlearn: 12.3178344\ttotal: 13.5ms\tremaining: 13.5ms\n",
      "23:\tlearn: 12.3116198\ttotal: 14ms\tremaining: 12.9ms\n",
      "24:\tlearn: 12.3110103\ttotal: 15.3ms\tremaining: 12.9ms\n",
      "25:\tlearn: 12.3021519\ttotal: 15.8ms\tremaining: 12.2ms\n",
      "26:\tlearn: 12.3003740\ttotal: 16.3ms\tremaining: 11.5ms\n",
      "27:\tlearn: 12.2958833\ttotal: 16.8ms\tremaining: 10.8ms\n",
      "28:\tlearn: 12.2937687\ttotal: 17.3ms\tremaining: 10.1ms\n",
      "29:\tlearn: 12.2928413\ttotal: 17.8ms\tremaining: 9.49ms\n",
      "30:\tlearn: 12.2925955\ttotal: 18.3ms\tremaining: 8.83ms\n",
      "31:\tlearn: 12.2913228\ttotal: 18.7ms\tremaining: 8.19ms\n",
      "32:\tlearn: 12.2871028\ttotal: 19.2ms\tremaining: 7.56ms\n",
      "33:\tlearn: 12.2842046\ttotal: 19.6ms\tremaining: 6.93ms\n",
      "34:\tlearn: 12.2822384\ttotal: 20.3ms\tremaining: 6.38ms\n",
      "35:\tlearn: 12.2813986\ttotal: 20.8ms\tremaining: 5.79ms\n",
      "36:\tlearn: 12.2773761\ttotal: 21.4ms\tremaining: 5.2ms\n",
      "37:\tlearn: 12.2740745\ttotal: 21.9ms\tremaining: 4.61ms\n",
      "38:\tlearn: 12.2722739\ttotal: 22.4ms\tremaining: 4.02ms\n",
      "39:\tlearn: 12.2720532\ttotal: 23ms\tremaining: 3.45ms\n",
      "40:\tlearn: 12.2704325\ttotal: 23.8ms\tremaining: 2.9ms\n",
      "41:\tlearn: 12.2690350\ttotal: 25ms\tremaining: 2.38ms\n",
      "42:\tlearn: 12.2687740\ttotal: 25.5ms\tremaining: 1.78ms\n",
      "43:\tlearn: 12.2668323\ttotal: 25.9ms\tremaining: 1.18ms\n",
      "44:\tlearn: 12.2657772\ttotal: 26.4ms\tremaining: 587us\n",
      "45:\tlearn: 12.2655763\ttotal: 26.9ms\tremaining: 0us\n",
      "0:\tlearn: 13.0578783\ttotal: 849us\tremaining: 39.1ms\n",
      "1:\tlearn: 12.9584530\ttotal: 1.35ms\tremaining: 30.5ms\n",
      "2:\tlearn: 12.6504686\ttotal: 1.82ms\tremaining: 26.7ms\n",
      "3:\tlearn: 12.6153855\ttotal: 2.26ms\tremaining: 24.3ms\n",
      "4:\tlearn: 12.5517572\ttotal: 2.7ms\tremaining: 22.7ms\n",
      "5:\tlearn: 12.5087184\ttotal: 3.17ms\tremaining: 21.6ms\n",
      "6:\tlearn: 12.4783454\ttotal: 3.6ms\tremaining: 20.6ms\n",
      "7:\tlearn: 12.4666198\ttotal: 4.17ms\tremaining: 20.3ms\n",
      "8:\tlearn: 12.4522725\ttotal: 5ms\tremaining: 21.1ms\n",
      "9:\tlearn: 12.4282418\ttotal: 5.55ms\tremaining: 20.5ms\n",
      "10:\tlearn: 12.4087901\ttotal: 6.01ms\tremaining: 19.7ms\n",
      "11:\tlearn: 12.3938148\ttotal: 6.63ms\tremaining: 19.3ms\n",
      "12:\tlearn: 12.3858347\ttotal: 7.33ms\tremaining: 19.2ms\n",
      "13:\tlearn: 12.3769657\ttotal: 8.1ms\tremaining: 19.1ms\n",
      "14:\tlearn: 12.3615643\ttotal: 8.62ms\tremaining: 18.4ms\n",
      "15:\tlearn: 12.3546051\ttotal: 9.17ms\tremaining: 17.8ms\n",
      "16:\tlearn: 12.3510371\ttotal: 9.71ms\tremaining: 17.1ms\n",
      "17:\tlearn: 12.3437469\ttotal: 10.9ms\tremaining: 17.6ms\n",
      "18:\tlearn: 12.3352356\ttotal: 11.4ms\tremaining: 16.9ms\n",
      "19:\tlearn: 12.3299746\ttotal: 11.9ms\tremaining: 16.1ms\n",
      "20:\tlearn: 12.3257477\ttotal: 12.4ms\tremaining: 15.3ms\n",
      "21:\tlearn: 12.3213673\ttotal: 12.9ms\tremaining: 14.6ms\n",
      "22:\tlearn: 12.3178344\ttotal: 13.3ms\tremaining: 13.9ms\n",
      "23:\tlearn: 12.3116198\ttotal: 13.7ms\tremaining: 13.2ms\n",
      "24:\tlearn: 12.3110103\ttotal: 14.3ms\tremaining: 12.5ms\n",
      "25:\tlearn: 12.3021519\ttotal: 17.4ms\tremaining: 14.1ms\n",
      "26:\tlearn: 12.3003740\ttotal: 18ms\tremaining: 13.4ms\n"
     ]
    },
    {
     "name": "stdout",
     "output_type": "stream",
     "text": [
      "27:\tlearn: 12.2958833\ttotal: 19ms\tremaining: 12.9ms\n",
      "28:\tlearn: 12.2937687\ttotal: 19.8ms\tremaining: 12.3ms\n",
      "29:\tlearn: 12.2928413\ttotal: 20.4ms\tremaining: 11.5ms\n",
      "30:\tlearn: 12.2925955\ttotal: 20.9ms\tremaining: 10.8ms\n",
      "31:\tlearn: 12.2913228\ttotal: 22.4ms\tremaining: 10.5ms\n",
      "32:\tlearn: 12.2871028\ttotal: 22.9ms\tremaining: 9.72ms\n",
      "33:\tlearn: 12.2842046\ttotal: 23.4ms\tremaining: 8.96ms\n",
      "34:\tlearn: 12.2822384\ttotal: 24ms\tremaining: 8.22ms\n",
      "35:\tlearn: 12.2813986\ttotal: 24.9ms\tremaining: 7.61ms\n",
      "36:\tlearn: 12.2773761\ttotal: 25.4ms\tremaining: 6.88ms\n",
      "37:\tlearn: 12.2740745\ttotal: 25.9ms\tremaining: 6.14ms\n",
      "38:\tlearn: 12.2722739\ttotal: 26.6ms\tremaining: 5.46ms\n",
      "39:\tlearn: 12.2720532\ttotal: 27.1ms\tremaining: 4.75ms\n",
      "40:\tlearn: 12.2704325\ttotal: 27.7ms\tremaining: 4.05ms\n",
      "41:\tlearn: 12.2690350\ttotal: 28.8ms\tremaining: 3.43ms\n",
      "42:\tlearn: 12.2687740\ttotal: 29.4ms\tremaining: 2.74ms\n",
      "43:\tlearn: 12.2668323\ttotal: 29.9ms\tremaining: 2.04ms\n",
      "44:\tlearn: 12.2657772\ttotal: 30.4ms\tremaining: 1.35ms\n",
      "45:\tlearn: 12.2655763\ttotal: 30.9ms\tremaining: 671us\n",
      "46:\tlearn: 12.2629060\ttotal: 31.4ms\tremaining: 0us\n",
      "0:\tlearn: 13.0578783\ttotal: 764us\tremaining: 35.9ms\n",
      "1:\tlearn: 12.9584530\ttotal: 1.28ms\tremaining: 29.6ms\n",
      "2:\tlearn: 12.6504686\ttotal: 1.8ms\tremaining: 27.1ms\n",
      "3:\tlearn: 12.6153855\ttotal: 2.3ms\tremaining: 25.3ms\n",
      "4:\tlearn: 12.5517572\ttotal: 2.76ms\tremaining: 23.8ms\n",
      "5:\tlearn: 12.5087184\ttotal: 3.22ms\tremaining: 22.5ms\n",
      "6:\tlearn: 12.4783454\ttotal: 3.65ms\tremaining: 21.4ms\n",
      "7:\tlearn: 12.4666198\ttotal: 4.09ms\tremaining: 20.5ms\n",
      "8:\tlearn: 12.4522725\ttotal: 4.53ms\tremaining: 19.6ms\n",
      "9:\tlearn: 12.4282418\ttotal: 5.01ms\tremaining: 19ms\n",
      "10:\tlearn: 12.4087901\ttotal: 5.49ms\tremaining: 18.5ms\n",
      "11:\tlearn: 12.3938148\ttotal: 6.06ms\tremaining: 18.2ms\n",
      "12:\tlearn: 12.3858347\ttotal: 6.64ms\tremaining: 17.9ms\n",
      "13:\tlearn: 12.3769657\ttotal: 7.2ms\tremaining: 17.5ms\n",
      "14:\tlearn: 12.3615643\ttotal: 7.78ms\tremaining: 17.1ms\n",
      "15:\tlearn: 12.3546051\ttotal: 8.52ms\tremaining: 17ms\n",
      "16:\tlearn: 12.3510371\ttotal: 9.13ms\tremaining: 16.6ms\n",
      "17:\tlearn: 12.3437469\ttotal: 10.2ms\tremaining: 16.9ms\n",
      "18:\tlearn: 12.3352356\ttotal: 10.7ms\tremaining: 16.3ms\n",
      "19:\tlearn: 12.3299746\ttotal: 11.1ms\tremaining: 15.6ms\n",
      "20:\tlearn: 12.3257477\ttotal: 11.6ms\tremaining: 14.9ms\n",
      "21:\tlearn: 12.3213673\ttotal: 12.1ms\tremaining: 14.3ms\n",
      "22:\tlearn: 12.3178344\ttotal: 12.5ms\tremaining: 13.6ms\n",
      "23:\tlearn: 12.3116198\ttotal: 13ms\tremaining: 13ms\n",
      "24:\tlearn: 12.3110103\ttotal: 13.4ms\tremaining: 12.3ms\n",
      "25:\tlearn: 12.3021519\ttotal: 13.9ms\tremaining: 11.7ms\n",
      "26:\tlearn: 12.3003740\ttotal: 14.3ms\tremaining: 11.2ms\n",
      "27:\tlearn: 12.2958833\ttotal: 14.8ms\tremaining: 10.6ms\n",
      "28:\tlearn: 12.2937687\ttotal: 15.3ms\tremaining: 10ms\n",
      "29:\tlearn: 12.2928413\ttotal: 15.8ms\tremaining: 9.48ms\n",
      "30:\tlearn: 12.2925955\ttotal: 16.4ms\tremaining: 8.97ms\n",
      "31:\tlearn: 12.2913228\ttotal: 16.9ms\tremaining: 8.43ms\n",
      "32:\tlearn: 12.2871028\ttotal: 17.5ms\tremaining: 7.93ms\n",
      "33:\tlearn: 12.2842046\ttotal: 18.1ms\tremaining: 7.44ms\n",
      "34:\tlearn: 12.2822384\ttotal: 18.7ms\tremaining: 6.94ms\n",
      "35:\tlearn: 12.2813986\ttotal: 19.6ms\tremaining: 6.52ms\n",
      "36:\tlearn: 12.2773761\ttotal: 20.1ms\tremaining: 5.96ms\n",
      "37:\tlearn: 12.2740745\ttotal: 20.7ms\tremaining: 5.46ms\n",
      "38:\tlearn: 12.2722739\ttotal: 21.2ms\tremaining: 4.9ms\n",
      "39:\tlearn: 12.2720532\ttotal: 21.7ms\tremaining: 4.33ms\n",
      "40:\tlearn: 12.2704325\ttotal: 22.1ms\tremaining: 3.78ms\n",
      "41:\tlearn: 12.2690350\ttotal: 22.6ms\tremaining: 3.22ms\n",
      "42:\tlearn: 12.2687740\ttotal: 23ms\tremaining: 2.68ms\n",
      "43:\tlearn: 12.2668323\ttotal: 23.5ms\tremaining: 2.13ms\n",
      "44:\tlearn: 12.2657772\ttotal: 23.9ms\tremaining: 1.59ms\n",
      "45:\tlearn: 12.2655763\ttotal: 24.4ms\tremaining: 1.06ms\n",
      "46:\tlearn: 12.2629060\ttotal: 25.1ms\tremaining: 533us\n",
      "47:\tlearn: 12.2609514\ttotal: 26.3ms\tremaining: 0us\n",
      "0:\tlearn: 13.0578783\ttotal: 556us\tremaining: 26.7ms\n",
      "1:\tlearn: 12.9584530\ttotal: 1.08ms\tremaining: 25.3ms\n",
      "2:\tlearn: 12.6504686\ttotal: 1.56ms\tremaining: 24ms\n",
      "3:\tlearn: 12.6153855\ttotal: 2.14ms\tremaining: 24.1ms\n",
      "4:\tlearn: 12.5517572\ttotal: 2.88ms\tremaining: 25.3ms\n",
      "5:\tlearn: 12.5087184\ttotal: 3.43ms\tremaining: 24.6ms\n",
      "6:\tlearn: 12.4783454\ttotal: 3.97ms\tremaining: 23.8ms\n",
      "7:\tlearn: 12.4666198\ttotal: 4.5ms\tremaining: 23.1ms\n",
      "8:\tlearn: 12.4522725\ttotal: 5.15ms\tremaining: 22.9ms\n",
      "9:\tlearn: 12.4282418\ttotal: 7.04ms\tremaining: 27.5ms\n",
      "10:\tlearn: 12.4087901\ttotal: 8.34ms\tremaining: 28.8ms\n",
      "11:\tlearn: 12.3938148\ttotal: 9.59ms\tremaining: 29.6ms\n",
      "12:\tlearn: 12.3858347\ttotal: 10.1ms\tremaining: 27.9ms\n",
      "13:\tlearn: 12.3769657\ttotal: 10.6ms\tremaining: 26.5ms\n",
      "14:\tlearn: 12.3615643\ttotal: 11.1ms\tremaining: 25.1ms\n",
      "15:\tlearn: 12.3546051\ttotal: 11.7ms\tremaining: 24.1ms\n",
      "16:\tlearn: 12.3510371\ttotal: 12.2ms\tremaining: 23ms\n",
      "17:\tlearn: 12.3437469\ttotal: 12.7ms\tremaining: 21.9ms\n",
      "18:\tlearn: 12.3352356\ttotal: 13.5ms\tremaining: 21.3ms\n",
      "19:\tlearn: 12.3299746\ttotal: 14.1ms\tremaining: 20.4ms\n",
      "20:\tlearn: 12.3257477\ttotal: 14.7ms\tremaining: 19.6ms\n",
      "21:\tlearn: 12.3213673\ttotal: 15.8ms\tremaining: 19.4ms\n",
      "22:\tlearn: 12.3178344\ttotal: 16.3ms\tremaining: 18.5ms\n",
      "23:\tlearn: 12.3116198\ttotal: 16.8ms\tremaining: 17.5ms\n",
      "24:\tlearn: 12.3110103\ttotal: 17.6ms\tremaining: 16.9ms\n",
      "25:\tlearn: 12.3021519\ttotal: 18.1ms\tremaining: 16ms\n",
      "26:\tlearn: 12.3003740\ttotal: 18.6ms\tremaining: 15.2ms\n",
      "27:\tlearn: 12.2958833\ttotal: 19.3ms\tremaining: 14.5ms\n",
      "28:\tlearn: 12.2937687\ttotal: 19.9ms\tremaining: 13.7ms\n",
      "29:\tlearn: 12.2928413\ttotal: 20.4ms\tremaining: 12.9ms\n",
      "30:\tlearn: 12.2925955\ttotal: 23ms\tremaining: 13.3ms\n",
      "31:\tlearn: 12.2913228\ttotal: 23.8ms\tremaining: 12.7ms\n",
      "32:\tlearn: 12.2871028\ttotal: 24.4ms\tremaining: 11.8ms\n",
      "33:\tlearn: 12.2842046\ttotal: 25ms\tremaining: 11ms\n",
      "34:\tlearn: 12.2822384\ttotal: 26.5ms\tremaining: 10.6ms\n",
      "35:\tlearn: 12.2813986\ttotal: 27ms\tremaining: 9.76ms\n",
      "36:\tlearn: 12.2773761\ttotal: 27.6ms\tremaining: 8.94ms\n",
      "37:\tlearn: 12.2740745\ttotal: 28.1ms\tremaining: 8.13ms\n",
      "38:\tlearn: 12.2722739\ttotal: 28.6ms\tremaining: 7.32ms\n",
      "39:\tlearn: 12.2720532\ttotal: 29ms\tremaining: 6.53ms\n",
      "40:\tlearn: 12.2704325\ttotal: 29.6ms\tremaining: 5.77ms\n",
      "41:\tlearn: 12.2690350\ttotal: 30.1ms\tremaining: 5.01ms\n",
      "42:\tlearn: 12.2687740\ttotal: 30.5ms\tremaining: 4.26ms\n",
      "43:\tlearn: 12.2668323\ttotal: 32.4ms\tremaining: 3.68ms\n",
      "44:\tlearn: 12.2657772\ttotal: 32.9ms\tremaining: 2.92ms\n",
      "45:\tlearn: 12.2655763\ttotal: 33.5ms\tremaining: 2.18ms\n",
      "46:\tlearn: 12.2629060\ttotal: 34.7ms\tremaining: 1.47ms\n",
      "47:\tlearn: 12.2609514\ttotal: 35.3ms\tremaining: 735us\n",
      "48:\tlearn: 12.2593440\ttotal: 36.2ms\tremaining: 0us\n",
      "0:\tlearn: 13.0578783\ttotal: 639us\tremaining: 31.3ms\n",
      "1:\tlearn: 12.9584530\ttotal: 1.2ms\tremaining: 28.7ms\n",
      "2:\tlearn: 12.6504686\ttotal: 1.95ms\tremaining: 30.6ms\n",
      "3:\tlearn: 12.6153855\ttotal: 2.56ms\tremaining: 29.4ms\n",
      "4:\tlearn: 12.5517572\ttotal: 3.06ms\tremaining: 27.6ms\n",
      "5:\tlearn: 12.5087184\ttotal: 3.52ms\tremaining: 25.8ms\n",
      "6:\tlearn: 12.4783454\ttotal: 3.98ms\tremaining: 24.5ms\n",
      "7:\tlearn: 12.4666198\ttotal: 4.47ms\tremaining: 23.5ms\n",
      "8:\tlearn: 12.4522725\ttotal: 4.91ms\tremaining: 22.4ms\n",
      "9:\tlearn: 12.4282418\ttotal: 5.36ms\tremaining: 21.4ms\n",
      "10:\tlearn: 12.4087901\ttotal: 5.8ms\tremaining: 20.6ms\n",
      "11:\tlearn: 12.3938148\ttotal: 6.26ms\tremaining: 19.8ms\n",
      "12:\tlearn: 12.3858347\ttotal: 6.71ms\tremaining: 19.1ms\n",
      "13:\tlearn: 12.3769657\ttotal: 7.4ms\tremaining: 19ms\n",
      "14:\tlearn: 12.3615643\ttotal: 8.45ms\tremaining: 19.7ms\n",
      "15:\tlearn: 12.3546051\ttotal: 9.01ms\tremaining: 19.2ms\n",
      "16:\tlearn: 12.3510371\ttotal: 9.68ms\tremaining: 18.8ms\n",
      "17:\tlearn: 12.3437469\ttotal: 10.2ms\tremaining: 18.2ms\n",
      "18:\tlearn: 12.3352356\ttotal: 10.8ms\tremaining: 17.6ms\n",
      "19:\tlearn: 12.3299746\ttotal: 12ms\tremaining: 18.1ms\n",
      "20:\tlearn: 12.3257477\ttotal: 12.6ms\tremaining: 17.4ms\n",
      "21:\tlearn: 12.3213673\ttotal: 13.1ms\tremaining: 16.7ms\n",
      "22:\tlearn: 12.3178344\ttotal: 13.6ms\tremaining: 15.9ms\n",
      "23:\tlearn: 12.3116198\ttotal: 14.1ms\tremaining: 15.2ms\n",
      "24:\tlearn: 12.3110103\ttotal: 14.5ms\tremaining: 14.5ms\n",
      "25:\tlearn: 12.3021519\ttotal: 14.9ms\tremaining: 13.8ms\n",
      "26:\tlearn: 12.3003740\ttotal: 15.4ms\tremaining: 13.1ms\n",
      "27:\tlearn: 12.2958833\ttotal: 15.8ms\tremaining: 12.4ms\n",
      "28:\tlearn: 12.2937687\ttotal: 16.3ms\tremaining: 11.8ms\n",
      "29:\tlearn: 12.2928413\ttotal: 16.8ms\tremaining: 11.2ms\n",
      "30:\tlearn: 12.2925955\ttotal: 17.4ms\tremaining: 10.7ms\n",
      "31:\tlearn: 12.2913228\ttotal: 18ms\tremaining: 10.1ms\n",
      "32:\tlearn: 12.2871028\ttotal: 18.5ms\tremaining: 9.55ms\n",
      "33:\tlearn: 12.2842046\ttotal: 19.1ms\tremaining: 8.98ms\n",
      "34:\tlearn: 12.2822384\ttotal: 19.6ms\tremaining: 8.4ms\n",
      "35:\tlearn: 12.2813986\ttotal: 20.1ms\tremaining: 7.83ms\n",
      "36:\tlearn: 12.2773761\ttotal: 20.8ms\tremaining: 7.32ms\n",
      "37:\tlearn: 12.2740745\ttotal: 21.4ms\tremaining: 6.76ms\n",
      "38:\tlearn: 12.2722739\ttotal: 21.9ms\tremaining: 6.17ms\n",
      "39:\tlearn: 12.2720532\ttotal: 22.4ms\tremaining: 5.6ms\n",
      "40:\tlearn: 12.2704325\ttotal: 22.9ms\tremaining: 5.03ms\n",
      "41:\tlearn: 12.2690350\ttotal: 23.4ms\tremaining: 4.45ms\n",
      "42:\tlearn: 12.2687740\ttotal: 23.8ms\tremaining: 3.88ms\n",
      "43:\tlearn: 12.2668323\ttotal: 24.3ms\tremaining: 3.31ms\n",
      "44:\tlearn: 12.2657772\ttotal: 24.8ms\tremaining: 2.75ms\n",
      "45:\tlearn: 12.2655763\ttotal: 25.2ms\tremaining: 2.19ms\n",
      "46:\tlearn: 12.2629060\ttotal: 25.9ms\tremaining: 1.66ms\n",
      "47:\tlearn: 12.2609514\ttotal: 27.1ms\tremaining: 1.13ms\n",
      "48:\tlearn: 12.2593440\ttotal: 27.7ms\tremaining: 565us\n",
      "49:\tlearn: 12.2571020\ttotal: 28.3ms\tremaining: 0us\n"
     ]
    }
   ],
   "source": [
    "from catboost import CatBoostRegressor\n",
    "\n",
    "train_data = train_X\n",
    "eval_data = valid_X\n",
    "train_labels = train_y\n",
    "\n",
    "\n",
    "k=50\n",
    "\n",
    "treeScoresTest1=np.zeros(k)\n",
    "treeScoresTrain1=np.zeros(k)\n",
    "treeScoresTest2=np.zeros(k)\n",
    "treeScoresTrain2=np.zeros(k)\n",
    "treeScoresTest3=np.zeros(k)\n",
    "treeScoresTrain3=np.zeros(k)\n",
    "\n",
    "\n",
    "for i in np.arange(1,k+1):\n",
    "        # Initialize CatBoostRegressor\n",
    "    model = CatBoostRegressor(iterations=i,\n",
    "                              learning_rate=1,\n",
    "                              depth=2)\n",
    "    # Fit model\n",
    "    model.fit(train_data, train_labels)\n",
    "    \n",
    "    \n",
    "    treeScoresTrain1[i-1]=r2_score(train_y, model.predict(train_X))\n",
    "    treeScoresTest1[i-1] =r2_score(valid_y, model.predict(valid_X))\n",
    "    treeScoresTrain2[i-1]= max_error(train_y, model.predict(train_X))\n",
    "    treeScoresTest2[i-1] = max_error(valid_y, model.predict(valid_X))\n",
    "    treeScoresTrain3[i-1]= mean_squared_error (train_y, model.predict(train_X))\n",
    "    treeScoresTest3[i-1] = mean_squared_error (valid_y, model.predict(valid_X))\n"
   ]
  },
  {
   "cell_type": "code",
   "execution_count": 288,
   "id": "c54cb98a",
   "metadata": {},
   "outputs": [
    {
     "name": "stdout",
     "output_type": "stream",
     "text": [
      "Max test: 0.188\n",
      "Max train:0.271\n",
      "Max test index:11\n"
     ]
    },
    {
     "data": {
      "image/png": "[encoded data removed]",
      "text/plain": [
       "<Figure size 1080x324 with 3 Axes>"
      ]
     },
     "metadata": {
      "needs_background": "light"
     },
     "output_type": "display_data"
    }
   ],
   "source": [
    "maximumTE = np.max(treeScoresTest1)\n",
    "minimumTR = np.max(treeScoresTrain1)\n",
    "\n",
    "print(\"Max test: \" + str(round(maximumTE,3)) )\n",
    "print(\"Max train:\" + str(round(minimumTR,3)) )\n",
    "\n",
    "index_of_maximum = np.where(treeScoresTest1 == maximumTE)[0][0]\n",
    "print(\"Max test index:\" + str(index_of_maximum) )\n",
    "\n",
    "\n",
    "fig, ax = plt.subplots(1, 3, figsize=(15, 4.5))\n",
    "\n",
    "ax[0].plot(np.arange(1,k+1),treeScoresTrain1,label='train')\n",
    "ax[0].plot(np.arange(1,k+1),treeScoresTest1,label='test')\n",
    "ax[0].set(xlabel='k', ylabel='r^2')\n",
    "ax[0].title.set_text(f\"R-squared mjera za iterations = <1,{k}>\")\n",
    "ax[0].legend()\n",
    "\n",
    "ax[1].plot(np.arange(1,k+1),treeScoresTrain2,label='train')\n",
    "ax[1].plot(np.arange(1,k+1),treeScoresTest2,label='test')\n",
    "ax[1].set(xlabel='max_error', ylabel='variance')\n",
    "ax[1].title.set_text(f\"max_error za iterations = <1,{k}>\")\n",
    "ax[1].legend()\n",
    "\n",
    "ax[2].plot(np.arange(1,k+1),treeScoresTrain3,label='train')\n",
    "ax[2].plot(np.arange(1,k+1),treeScoresTest3,label='test')\n",
    "ax[2].set(xlabel='k', ylabel='MSE')\n",
    "ax[2].title.set_text(f\"MSE za iterations = <1,{k}>\")\n",
    "ax[2].legend()\n",
    "\n",
    "\n",
    "plt.show()"
   ]
  },
  {
   "cell_type": "markdown",
   "id": "4fdba3d5",
   "metadata": {},
   "source": [
    "### Najbolji hiperparametar $iterations$ nađen"
   ]
  },
  {
   "cell_type": "code",
   "execution_count": 289,
   "id": "8390c5d7",
   "metadata": {},
   "outputs": [
    {
     "name": "stdout",
     "output_type": "stream",
     "text": [
      "0:\tlearn: 13.0578783\ttotal: 604us\tremaining: 6.04ms\n",
      "1:\tlearn: 12.9584530\ttotal: 1.36ms\tremaining: 6.11ms\n",
      "2:\tlearn: 12.6504686\ttotal: 1.88ms\tremaining: 5.02ms\n",
      "3:\tlearn: 12.6153855\ttotal: 2.43ms\tremaining: 4.26ms\n",
      "4:\tlearn: 12.5517572\ttotal: 3.02ms\tremaining: 3.63ms\n",
      "5:\tlearn: 12.5087184\ttotal: 3.76ms\tremaining: 3.13ms\n",
      "6:\tlearn: 12.4783454\ttotal: 4.43ms\tremaining: 2.53ms\n",
      "7:\tlearn: 12.4666198\ttotal: 5.76ms\tremaining: 2.16ms\n",
      "8:\tlearn: 12.4522725\ttotal: 6.26ms\tremaining: 1.39ms\n",
      "9:\tlearn: 12.4282418\ttotal: 6.78ms\tremaining: 678us\n",
      "10:\tlearn: 12.4087901\ttotal: 7.49ms\tremaining: 0us\n"
     ]
    }
   ],
   "source": [
    "\n",
    "model = CatBoostRegressor(iterations=index_of_maximum,\n",
    "                          learning_rate=1,\n",
    "                          depth=2)\n",
    "\n",
    "model.fit(train_data, train_labels)\n",
    "\n",
    "pred = model.predict(eval_data)"
   ]
  },
  {
   "cell_type": "code",
   "execution_count": 290,
   "id": "10a25926",
   "metadata": {},
   "outputs": [
    {
     "name": "stdout",
     "output_type": "stream",
     "text": [
      "\n",
      "Scores:\n",
      "Test set evaluation:\n",
      "MSE: 156.03802002908412\n",
      "MAE: 9.927863053601639\n",
      "RMSE: 12.491517923338385\n",
      "R-squared: 0.1807927779268247 , from <0,1> \n"
     ]
    }
   ],
   "source": [
    "print(\"\\nScores:\")\n",
    "data.loc['CATBoost'] = evaluateRegressor(valid_y, pred)"
   ]
  },
  {
   "cell_type": "markdown",
   "id": "ce2cca24",
   "metadata": {},
   "source": [
    "## ANN"
   ]
  },
  {
   "cell_type": "code",
   "execution_count": 291,
   "id": "7dd66c33",
   "metadata": {},
   "outputs": [
    {
     "ename": "ModuleNotFoundError",
     "evalue": "No module named 'tensorflow'",
     "output_type": "error",
     "traceback": [
      "\u001b[1;31m---------------------------------------------------------------------------\u001b[0m",
      "\u001b[1;31mModuleNotFoundError\u001b[0m                       Traceback (most recent call last)",
      "\u001b[1;32m<ipython-input-291-64d70ee81ab9>\u001b[0m in \u001b[0;36m<module>\u001b[1;34m\u001b[0m\n\u001b[1;32m----> 1\u001b[1;33m \u001b[1;32mimport\u001b[0m \u001b[0mtensorflow\u001b[0m \u001b[1;32mas\u001b[0m \u001b[0mtf\u001b[0m\u001b[1;33m\u001b[0m\u001b[1;33m\u001b[0m\u001b[0m\n\u001b[0m\u001b[0;32m      2\u001b[0m \u001b[1;32mfrom\u001b[0m \u001b[0mtensorflow\u001b[0m \u001b[1;32mimport\u001b[0m \u001b[0mkeras\u001b[0m\u001b[1;33m\u001b[0m\u001b[1;33m\u001b[0m\u001b[0m\n\u001b[0;32m      3\u001b[0m \u001b[1;32mfrom\u001b[0m \u001b[0mtensorflow\u001b[0m\u001b[1;33m.\u001b[0m\u001b[0mkeras\u001b[0m\u001b[1;33m.\u001b[0m\u001b[0mmodels\u001b[0m \u001b[1;32mimport\u001b[0m \u001b[0mSequential\u001b[0m\u001b[1;33m\u001b[0m\u001b[1;33m\u001b[0m\u001b[0m\n\u001b[0;32m      4\u001b[0m \u001b[1;32mfrom\u001b[0m \u001b[0mtensorflow\u001b[0m\u001b[1;33m.\u001b[0m\u001b[0mkeras\u001b[0m\u001b[1;33m.\u001b[0m\u001b[0mlayers\u001b[0m \u001b[1;32mimport\u001b[0m \u001b[0mDense\u001b[0m\u001b[1;33m\u001b[0m\u001b[1;33m\u001b[0m\u001b[0m\n\u001b[0;32m      5\u001b[0m \u001b[1;33m\u001b[0m\u001b[0m\n",
      "\u001b[1;31mModuleNotFoundError\u001b[0m: No module named 'tensorflow'"
     ]
    }
   ],
   "source": [
    "import tensorflow as tf\n",
    "from tensorflow import keras\n",
    "from tensorflow.keras.models import Sequential\n",
    "from tensorflow.keras.layers import Dense\n",
    "\n",
    "\n",
    "model = Sequential()\n",
    "model.add(Dense(100, input_dim=train_X.columns.value_counts().sum(), activation=\"softmax\"))\n",
    "model.add(Dense(100, activation=\"relu\"))\n",
    "model.add(Dense(1, kernel_initializer=\"normal\"))\n",
    "model.compile(loss=\"mean_squared_error\", optimizer = \"adam\", metrics = [\"mse\"])\n",
    "\n",
    "model.fit(train_X, train_y, epochs=10)"
   ]
  },
  {
   "cell_type": "code",
   "execution_count": null,
   "id": "987274c0",
   "metadata": {},
   "outputs": [],
   "source": [
    "from tensorflow.keras.models import Model, load_model\n",
    "#model.save('cnn_model.h5')\n",
    "#model = load_model('cnn_model.h5')\n",
    "\n",
    "predicted_valid_y = model.predict(valid_X)\n",
    "predicted_valid_y = pd.Series([i[0] for i in predicted_valid_y])"
   ]
  },
  {
   "cell_type": "code",
   "execution_count": null,
   "id": "f2964ce0",
   "metadata": {},
   "outputs": [],
   "source": [
    "data.loc['ANN'] = evaluateRegressor(valid_y, predicted_valid_y)"
   ]
  },
  {
   "cell_type": "markdown",
   "id": "8b85a2fd",
   "metadata": {},
   "source": [
    "## Slučajne šume"
   ]
  },
  {
   "cell_type": "markdown",
   "id": "126968c1",
   "metadata": {},
   "source": [
    "### Pretraživanje hiperparametra: $n\\_estimators$"
   ]
  },
  {
   "cell_type": "code",
   "execution_count": 68,
   "id": "7590ec12",
   "metadata": {},
   "outputs": [],
   "source": [
    "from sklearn.ensemble import RandomForestRegressor\n",
    "from sklearn.metrics import accuracy_score,max_error"
   ]
  },
  {
   "cell_type": "code",
   "execution_count": 86,
   "id": "318e573d",
   "metadata": {
    "scrolled": true
   },
   "outputs": [],
   "source": [
    "k=50\n",
    "\n",
    "treeScoresTest1=np.zeros(k)\n",
    "treeScoresTrain1=np.zeros(k)\n",
    "treeScoresTest2=np.zeros(k)\n",
    "treeScoresTrain2=np.zeros(k)\n",
    "treeScoresTest3=np.zeros(k)\n",
    "treeScoresTrain3=np.zeros(k)\n",
    "\n",
    "\n",
    "\n",
    "#train_X, valid_X, train_y, valid_y \n",
    "\n",
    "\n",
    "for k in np.arange(1,k+1):\n",
    "    rf = RandomForestRegressor(n_estimators=k)\n",
    "    rf.fit(train_X,train_y)\n",
    "    treeScoresTrain1[k-1]=r2_score(train_y, rf.predict(train_X))\n",
    "    treeScoresTest1[k-1] =r2_score(valid_y, rf.predict(valid_X))\n",
    "    treeScoresTrain2[k-1]= max_error(train_y, rf.predict(train_X))\n",
    "    treeScoresTest2[k-1] = max_error(valid_y, rf.predict(valid_X))\n",
    "    treeScoresTrain3[k-1]= mean_squared_error (train_y, rf.predict(train_X))\n",
    "    treeScoresTest3[k-1] = mean_squared_error (valid_y, rf.predict(valid_X))"
   ]
  },
  {
   "cell_type": "code",
   "execution_count": 87,
   "id": "a30b7281",
   "metadata": {
    "scrolled": true
   },
   "outputs": [
    {
     "name": "stdout",
     "output_type": "stream",
     "text": [
      "Max test: 0.011\n",
      "Max train:0.4\n",
      "Max test index:2\n"
     ]
    },
    {
     "data": {
      "image/png": "[encoded data removed]",
      "text/plain": [
       "<Figure size 1080x324 with 3 Axes>"
      ]
     },
     "metadata": {
      "needs_background": "light"
     },
     "output_type": "display_data"
    }
   ],
   "source": [
    "\n",
    "maximumTE = np.max(treeScoresTest1)\n",
    "minimumTR = np.max(treeScoresTrain1)\n",
    "\n",
    "print(\"Max test: \" + str(round(maximumTE,3)) )\n",
    "print(\"Max train:\" + str(round(minimumTR,3)) )\n",
    "\n",
    "index_of_maximum = np.where(treeScoresTest1 == maximumTE)[0][0]\n",
    "print(\"Max test index:\" + str(index_of_maximum) )\n",
    "\n",
    "\n",
    "fig, ax = plt.subplots(1, 3, figsize=(15, 4.5))\n",
    "\n",
    "ax[0].plot(np.arange(1,k+1),treeScoresTrain1,label='train')\n",
    "ax[0].plot(np.arange(1,k+1),treeScoresTest1,label='test')\n",
    "ax[0].set(xlabel='k', ylabel='r^2')\n",
    "ax[0].title.set_text(f\"R-squared mjera za n_estimators = <1,{k}>\")\n",
    "ax[0].legend()\n",
    "\n",
    "ax[1].plot(np.arange(1,k+1),treeScoresTrain2,label='train')\n",
    "ax[1].plot(np.arange(1,k+1),treeScoresTest2,label='test')\n",
    "ax[1].set(xlabel='max_error', ylabel='variance')\n",
    "ax[1].title.set_text(f\"max_error za n_estimators = <1,{k}>\")\n",
    "ax[1].legend()\n",
    "\n",
    "ax[2].plot(np.arange(1,k+1),treeScoresTrain3,label='train')\n",
    "ax[2].plot(np.arange(1,k+1),treeScoresTest3,label='test')\n",
    "ax[2].set(xlabel='k', ylabel='MSE')\n",
    "ax[2].title.set_text(f\"MSE za n_estimators = <1,{k}>\")\n",
    "ax[2].legend()\n",
    "\n",
    "\n",
    "plt.show()\n",
    "\n"
   ]
  },
  {
   "cell_type": "markdown",
   "id": "1ada12c8",
   "metadata": {},
   "source": [
    "### Našli smo $\\text{n_estimators}$ koji daje najmanju grešku nad $test$ skupom:"
   ]
  },
  {
   "cell_type": "code",
   "execution_count": 88,
   "id": "107b4b69",
   "metadata": {},
   "outputs": [],
   "source": [
    "rf = RandomForestRegressor(n_estimators=index_of_maximum)\n",
    "rf.fit(train_X,train_y)\n",
    "# Predictions\n",
    "predictions = rf.predict(valid_X)"
   ]
  },
  {
   "cell_type": "code",
   "execution_count": 227,
   "id": "f1255a39",
   "metadata": {},
   "outputs": [
    {
     "name": "stdout",
     "output_type": "stream",
     "text": [
      "Test set evaluation:\n",
      "MSE: 210.8590083750539\n",
      "MAE: 11.507384384542474\n",
      "RMSE: 14.52098510346505\n",
      "R-squared: -0.1070200869495499 , from <0,1> \n"
     ]
    }
   ],
   "source": [
    "\n",
    "data.loc['Random forest'] =evaluateRegressor(valid_y, predictions)"
   ]
  },
  {
   "cell_type": "markdown",
   "id": "8032d391",
   "metadata": {},
   "source": [
    "## SVM"
   ]
  },
  {
   "cell_type": "code",
   "execution_count": 270,
   "id": "8542bc68",
   "metadata": {},
   "outputs": [
    {
     "data": {
      "text/html": [
       "<div>\n",
       "<style scoped>\n",
       "    .dataframe tbody tr th:only-of-type {\n",
       "        vertical-align: middle;\n",
       "    }\n",
       "\n",
       "    .dataframe tbody tr th {\n",
       "        vertical-align: top;\n",
       "    }\n",
       "\n",
       "    .dataframe thead th {\n",
       "        text-align: right;\n",
       "    }\n",
       "</style>\n",
       "<table border=\"1\" class=\"dataframe\">\n",
       "  <thead>\n",
       "    <tr style=\"text-align: right;\">\n",
       "      <th></th>\n",
       "      <th>kernel</th>\n",
       "      <th>Test RMSE</th>\n",
       "    </tr>\n",
       "  </thead>\n",
       "  <tbody>\n",
       "    <tr>\n",
       "      <th>0</th>\n",
       "      <td>linear</td>\n",
       "      <td>12.621032</td>\n",
       "    </tr>\n",
       "    <tr>\n",
       "      <th>1</th>\n",
       "      <td>polynomial</td>\n",
       "      <td>12.974213</td>\n",
       "    </tr>\n",
       "    <tr>\n",
       "      <th>2</th>\n",
       "      <td>sigmoid</td>\n",
       "      <td>23.503523</td>\n",
       "    </tr>\n",
       "    <tr>\n",
       "      <th>3</th>\n",
       "      <td>rbf</td>\n",
       "      <td>12.717795</td>\n",
       "    </tr>\n",
       "  </tbody>\n",
       "</table>\n",
       "</div>"
      ],
      "text/plain": [
       "       kernel  Test RMSE\n",
       "0      linear  12.621032\n",
       "1  polynomial  12.974213\n",
       "2     sigmoid  23.503523\n",
       "3         rbf  12.717795"
      ]
     },
     "execution_count": 270,
     "metadata": {},
     "output_type": "execute_result"
    }
   ],
   "source": [
    "from sklearn.svm import SVR\n",
    "def SV_reg(kernel,train_X, train_Y):\n",
    "    model=SVR(kernel)\n",
    "    model.fit(train_X, train_Y)\n",
    "    return model\n",
    "\n",
    "\n",
    "SVM_model= SV_reg(\"linear\",train_X, train_y)\n",
    "pred_linear = SVM_model.predict(valid_X)\n",
    "linear_rmse = np.sqrt(mean_squared_error(valid_y,pred_linear))\n",
    "\n",
    "SVM_model= SV_reg(\"poly\",train_X, train_y)\n",
    "pred_poly = SVM_model.predict(valid_X)\n",
    "poly_rmse = np.sqrt(mean_squared_error(valid_y,pred_poly))\n",
    "\n",
    "SVM_model= SV_reg(\"sigmoid\",train_X, train_y)\n",
    "pred_sigmoid = SVM_model.predict(valid_X)\n",
    "sigmoid_rmse = np.sqrt(mean_squared_error(valid_y,pred_sigmoid))\n",
    "\n",
    "SVM_model= SV_reg(\"rbf\",train_X, train_y)\n",
    "pred_rbf = SVM_model.predict(valid_X)\n",
    "rbf_rmse = np.sqrt(mean_squared_error(valid_y,pred_rbf))\n",
    "\n",
    "\n",
    "\n",
    "data = {\"kernel\":pd.Series([\"linear\",\"polynomial\",\"sigmoid\",\"rbf\"]),\n",
    "            \"Test RMSE\":pd.Series([linear_rmse,poly_rmse,sigmoid_rmse,rbf_rmse])}\n",
    "table_rmse=pd.DataFrame(data)\n",
    "table_rmse"
   ]
  },
  {
   "cell_type": "markdown",
   "id": "09642515",
   "metadata": {},
   "source": [
    "### Umjesto ručnog pretraživanja hiperparametara $C$ i $\\text{gamma}\\ \\gamma$ , koristimo funkciju $GridSearchCV$ za traženje hp. za 3 jezgrene fje. s najmanjom greškom"
   ]
  },
  {
   "cell_type": "code",
   "execution_count": 50,
   "id": "b80e161f",
   "metadata": {},
   "outputs": [
    {
     "name": "stdout",
     "output_type": "stream",
     "text": [
      "{'C': 4, 'gamma': 0.02, 'kernel': 'linear'}\n"
     ]
    }
   ],
   "source": [
    "from sklearn.metrics import make_scorer\n",
    "from sklearn.model_selection import GridSearchCV\n",
    "\n",
    "K = 15\n",
    "parameters = [{'kernel': ['linear','polynomial','rbf'], 'gamma': [2e-2, 2e-1, 1,  8],'C': [2e-3,2e-2, 2, 4]}]\n",
    "scorer = make_scorer(mean_squared_error, greater_is_better=False)\n",
    "svr_gs = GridSearchCV(SVR(epsilon = 0.01), parameters, cv = K, scoring=scorer)\n",
    "\n",
    "svr_gs.fit(train_X, train_y)\n",
    "print(svr_gs.best_params_)"
   ]
  },
  {
   "cell_type": "markdown",
   "id": "9d2d2e44",
   "metadata": {},
   "source": [
    " Naći čemo npr. {'C': 2, 'gamma': 0.002, 'kernel': 'linear'}"
   ]
  },
  {
   "cell_type": "code",
   "execution_count": 272,
   "id": "4576039d",
   "metadata": {},
   "outputs": [],
   "source": [
    "regressor = SVR(C=2,gamma=0.002,kernel='linear')\n",
    "#regressor = SVR(**svr_gs.best_params_)\n",
    "regressor.fit(train_X,train_y)\n",
    "pred=regressor.predict(valid_X)"
   ]
  },
  {
   "cell_type": "code",
   "execution_count": 273,
   "id": "afaecd6f",
   "metadata": {
    "scrolled": true
   },
   "outputs": [
    {
     "name": "stdout",
     "output_type": "stream",
     "text": [
      "Test set evaluation:\n",
      "MSE: 159.6791484623105\n",
      "MAE: 10.118204685761626\n",
      "RMSE: 12.63642150540692\n",
      "R-squared: 0.1616766759124627 , from <0,1> \n"
     ]
    },
    {
     "ename": "AttributeError",
     "evalue": "'dict' object has no attribute 'loc'",
     "output_type": "error",
     "traceback": [
      "\u001b[1;31m---------------------------------------------------------------------------\u001b[0m",
      "\u001b[1;31mAttributeError\u001b[0m                            Traceback (most recent call last)",
      "\u001b[1;32m<ipython-input-273-4d835e872836>\u001b[0m in \u001b[0;36m<module>\u001b[1;34m\u001b[0m\n\u001b[1;32m----> 1\u001b[1;33m \u001b[0mdata\u001b[0m\u001b[1;33m.\u001b[0m\u001b[0mloc\u001b[0m\u001b[1;33m[\u001b[0m\u001b[1;34m'SVR best'\u001b[0m\u001b[1;33m]\u001b[0m \u001b[1;33m=\u001b[0m \u001b[0mevaluateRegressor\u001b[0m\u001b[1;33m(\u001b[0m\u001b[0mvalid_y\u001b[0m\u001b[1;33m,\u001b[0m\u001b[0mpred\u001b[0m\u001b[1;33m)\u001b[0m\u001b[1;33m\u001b[0m\u001b[1;33m\u001b[0m\u001b[0m\n\u001b[0m",
      "\u001b[1;31mAttributeError\u001b[0m: 'dict' object has no attribute 'loc'"
     ]
    }
   ],
   "source": [
    "data.loc['SVR best'] = evaluateRegressor(valid_y,pred)"
   ]
  },
  {
   "cell_type": "markdown",
   "id": "b58ad470",
   "metadata": {},
   "source": [
    "# DoWhy kauzalna analiza"
   ]
  },
  {
   "cell_type": "markdown",
   "id": "0affbb7f",
   "metadata": {},
   "source": [
    "## Priprema podataka"
   ]
  },
  {
   "cell_type": "code",
   "execution_count": 231,
   "id": "1a3439f8",
   "metadata": {},
   "outputs": [],
   "source": [
    "data_X_labeled= encode_data(df,enc_type=\"LABEL\")\n",
    "data_y_labeled= pd.cut(Y,\n",
    "       5, labels=[1,2,3,4,5])\n",
    "\n",
    "spojeno = pd.concat([data_X_labeled, data_y_labeled], axis=1)"
   ]
  },
  {
   "cell_type": "code",
   "execution_count": 232,
   "id": "7661fadb",
   "metadata": {},
   "outputs": [
    {
     "data": {
      "text/plain": [
       "Index(['gender', 'race/ethnicity', 'parental level of education', 'lunch',\n",
       "       'test preparation course', 'AVERAGE'],\n",
       "      dtype='object')"
      ]
     },
     "execution_count": 232,
     "metadata": {},
     "output_type": "execute_result"
    }
   ],
   "source": [
    "spojeno.columns"
   ]
  },
  {
   "cell_type": "markdown",
   "id": "22c6ab1a",
   "metadata": {},
   "source": [
    "## Analiza"
   ]
  },
  {
   "cell_type": "code",
   "execution_count": 233,
   "id": "04b6a6c3",
   "metadata": {},
   "outputs": [],
   "source": [
    "import dowhy\n",
    "from dowhy import CausalModel"
   ]
  },
  {
   "cell_type": "code",
   "execution_count": 234,
   "id": "8c02859a",
   "metadata": {},
   "outputs": [],
   "source": [
    "model=CausalModel(\n",
    "        data = spojeno,\n",
    "        treatment='lunch',\n",
    "        outcome='AVERAGE',\n",
    "        common_causes=['gender','test preparation course', 'parental level of education','race/ethnicity']\n",
    "        )"
   ]
  },
  {
   "cell_type": "code",
   "execution_count": 235,
   "id": "0e15f151",
   "metadata": {},
   "outputs": [
    {
     "name": "stdout",
     "output_type": "stream",
     "text": [
      "Estimand type: nonparametric-ate\n",
      "\n",
      "### Estimand : 1\n",
      "Estimand name: backdoor\n",
      "Estimand expression:\n",
      "   d                                                                          \n",
      "────────(Expectation(AVERAGE|parental level of education,gender,test preparati\n",
      "d[lunch]                                                                      \n",
      "\n",
      "                          \n",
      "on course,race/ethnicity))\n",
      "                          \n",
      "Estimand assumption 1, Unconfoundedness: If U→{lunch} and U→AVERAGE then P(AVERAGE|lunch,parental level of education,gender,test preparation course,race/ethnicity,U) = P(AVERAGE|lunch,parental level of education,gender,test preparation course,race/ethnicity)\n",
      "\n",
      "### Estimand : 2\n",
      "Estimand name: iv\n",
      "No such variable found!\n",
      "\n",
      "### Estimand : 3\n",
      "Estimand name: frontdoor\n",
      "No such variable found!\n",
      "\n"
     ]
    }
   ],
   "source": [
    "identified_estimand = model.identify_effect()\n",
    "print(identified_estimand)"
   ]
  },
  {
   "cell_type": "code",
   "execution_count": 236,
   "id": "d2d31c1d",
   "metadata": {},
   "outputs": [
    {
     "name": "stdout",
     "output_type": "stream",
     "text": [
      "*** Causal Estimate ***\n",
      "\n",
      "## Identified estimand\n",
      "Estimand type: nonparametric-ate\n",
      "\n",
      "### Estimand : 1\n",
      "Estimand name: backdoor\n",
      "Estimand expression:\n",
      "   d                                                                          \n",
      "────────(Expectation(AVERAGE|parental level of education,gender,test preparati\n",
      "d[lunch]                                                                      \n",
      "\n",
      "                          \n",
      "on course,race/ethnicity))\n",
      "                          \n",
      "Estimand assumption 1, Unconfoundedness: If U→{lunch} and U→AVERAGE then P(AVERAGE|lunch,parental level of education,gender,test preparation course,race/ethnicity,U) = P(AVERAGE|lunch,parental level of education,gender,test preparation course,race/ethnicity)\n",
      "\n",
      "## Realized estimand\n",
      "b: AVERAGE~lunch+parental level of education+gender+test preparation course+race/ethnicity\n",
      "Target units: ate\n",
      "\n",
      "## Estimate\n",
      "Mean value: 0.48169465924595434\n",
      "p-value: [5.06520702e-22]\n",
      "\n",
      "Causal Estimate is 0.48169465924595434\n",
      "ATE 0.4540545248671717\n"
     ]
    }
   ],
   "source": [
    "# Estimate the causal effect and compare it with Average Treatment Effect\n",
    "estimate = model.estimate_effect(identified_estimand, method_name=\"backdoor.linear_regression\", test_significance=True)\n",
    "print(estimate)\n",
    "print(\"Causal Estimate is \" + str(estimate.value))\n",
    "data_1 = spojeno[spojeno[\"lunch\"]==1]\n",
    "data_0 = spojeno[spojeno[\"race/ethnicity\"]==0]\n",
    "print(\"ATE\", np.mean(data_1[\"AVERAGE\"].cat.codes)- np.mean(data_0[\"AVERAGE\"].cat.codes))"
   ]
  },
  {
   "cell_type": "markdown",
   "id": "6ae8d933",
   "metadata": {},
   "source": [
    "refute steps\n",
    "\n",
    "    The refute steps tests the strength and validity of the causal effect found by the estimate step. There are a variety of different refutation methods, eg. Subset Validation (using only a subset of the data to estimate the causal effect) or Placebo Treatment (turning the treatment into a placebo and seeing its effect on the outcome (the placebo treatment refutation expects the causal effect to go down)) In this case, we’ll be adding an irrelevant common cause to test the strength of the causal relationship between the treatment and outcome. This is useful because it changes the causal model but not the relationship between y_factual and treatment."
   ]
  },
  {
   "cell_type": "code",
   "execution_count": 237,
   "id": "30e7147a",
   "metadata": {},
   "outputs": [
    {
     "name": "stdout",
     "output_type": "stream",
     "text": [
      "Refute: Add a Random Common Cause\n",
      "Estimated effect:0.48169465924595434\n",
      "New effect:0.48171404025395903\n",
      "\n"
     ]
    }
   ],
   "source": [
    "refute_results=model.refute_estimate(identified_estimand, estimate,\n",
    "        method_name=\"random_common_cause\")\n",
    "print(refute_results)"
   ]
  },
  {
   "cell_type": "markdown",
   "id": "eca33b58",
   "metadata": {},
   "source": [
    "Adding a random common cause didn’t have much of an effect on the causal effect (as expected) and so we can be more assured of the strength of the causal relationship."
   ]
  },
  {
   "cell_type": "markdown",
   "id": "f9e2631d",
   "metadata": {},
   "source": [
    "# Rezultati"
   ]
  },
  {
   "cell_type": "markdown",
   "id": "8564d53c",
   "metadata": {},
   "source": [
    "Usporedimo rezultate koje smo dobili:"
   ]
  },
  {
   "cell_type": "code",
   "execution_count": 293,
   "id": "54b8c5ad",
   "metadata": {
    "scrolled": true
   },
   "outputs": [
    {
     "data": {
      "text/html": [
       "<div>\n",
       "<style scoped>\n",
       "    .dataframe tbody tr th:only-of-type {\n",
       "        vertical-align: middle;\n",
       "    }\n",
       "\n",
       "    .dataframe tbody tr th {\n",
       "        vertical-align: top;\n",
       "    }\n",
       "\n",
       "    .dataframe thead th {\n",
       "        text-align: right;\n",
       "    }\n",
       "</style>\n",
       "<table border=\"1\" class=\"dataframe\">\n",
       "  <thead>\n",
       "    <tr style=\"text-align: right;\">\n",
       "      <th></th>\n",
       "      <th>MSE</th>\n",
       "      <th>MAE</th>\n",
       "      <th>RMSE</th>\n",
       "      <th>R^2</th>\n",
       "    </tr>\n",
       "  </thead>\n",
       "  <tbody>\n",
       "    <tr>\n",
       "      <th>linearna</th>\n",
       "      <td>160.689692</td>\n",
       "      <td>10.154567</td>\n",
       "      <td>12.676344</td>\n",
       "      <td>0.156371</td>\n",
       "    </tr>\n",
       "    <tr>\n",
       "      <th>Multi-Lasso</th>\n",
       "      <td>178.874422</td>\n",
       "      <td>10.999074</td>\n",
       "      <td>13.373589</td>\n",
       "      <td>0.230111</td>\n",
       "    </tr>\n",
       "    <tr>\n",
       "      <th>LightGBM</th>\n",
       "      <td>170.118040</td>\n",
       "      <td>10.250946</td>\n",
       "      <td>13.042931</td>\n",
       "      <td>0.106872</td>\n",
       "    </tr>\n",
       "    <tr>\n",
       "      <th>CATBoost</th>\n",
       "      <td>156.038020</td>\n",
       "      <td>9.927863</td>\n",
       "      <td>12.491518</td>\n",
       "      <td>0.180793</td>\n",
       "    </tr>\n",
       "  </tbody>\n",
       "</table>\n",
       "</div>"
      ],
      "text/plain": [
       "                    MSE        MAE       RMSE       R^2\n",
       "linearna     160.689692  10.154567  12.676344  0.156371\n",
       "Multi-Lasso  178.874422  10.999074  13.373589  0.230111\n",
       "LightGBM     170.118040  10.250946  13.042931  0.106872\n",
       "CATBoost     156.038020   9.927863  12.491518  0.180793"
      ]
     },
     "execution_count": 293,
     "metadata": {},
     "output_type": "execute_result"
    }
   ],
   "source": [
    "data"
   ]
  },
  {
   "cell_type": "markdown",
   "id": "01488b7f",
   "metadata": {},
   "source": [
    "### 1) Linearna regresija\n",
    "\n",
    "Objasnjena varijanca = 0.31\n",
    "\n",
    "R2 = 0.30\n",
    "\n",
    "MSE = 146.31\n",
    "\n",
    "\n",
    "### 2) Lasso regresija\n",
    "\n",
    "math score       13.860696\n",
    "\n",
    "reading score    12.818428\n",
    "\n",
    "writing score    12.563250\n",
    "\n",
    "dtype: float64\n",
    "\n",
    "Scores:\n",
    "\n",
    "MSE: 171.4220845033959\n",
    "\n",
    "MAE: 10.427402013978332\n",
    "\n",
    "RMSE: 13.080791496714767\n",
    "\n",
    "R-squared: 0.256177633475969 , from <0,1> \n",
    "\n",
    "### 3) Ridge regresija\n",
    "\n",
    "Objasnjena varijanca = 0.31\n",
    "\n",
    "R2 = 0.30\n",
    "\n",
    "MSE = 147.49\n",
    "\n",
    "### 4) LightGBM\n",
    "\n",
    "#### Training set: \n",
    "\n",
    "MSE: 137.64572706425244\n",
    "\n",
    "MAE: 9.370538765975732\n",
    "\n",
    "RMSE: 11.732251576924714\n",
    "\n",
    "R-squared: 0.3197861707087939 , from <0,1> \n",
    "\n",
    "#### Test set:\n",
    "\n",
    "MSE: 157.60183185692952\n",
    "\n",
    "MAE: 10.030038841736843\n",
    "\n",
    "RMSE: 12.55395682073702\n",
    "\n",
    "R-squared: 0.23452270735099223 , from <0,1> \n",
    "\n",
    "### 5) CATBoost\n",
    "\n",
    "residual: 12.201670629835073\n",
    "\n",
    "Scores:\n",
    "\n",
    "#### Training set:\n",
    "\n",
    "MSE: 151.84207703449752\n",
    "\n",
    "MAE: 9.851195477728904\n",
    "\n",
    "RMSE: 12.322421719552432\n",
    "\n",
    "R-squared: 0.24963104289497606 , from <0,1> \n",
    "\n",
    "#### Test set:\n",
    "\n",
    "MSE: 148.8807661589799\n",
    "\n",
    "MAE: 9.798469509213694\n",
    "\n",
    "RMSE: 12.201670629835077\n",
    "\n",
    "R-squared: 0.27688121093450935 , from <0,1> \n",
    "\n",
    "### 6) ANN\n",
    "\n",
    "residual: 55.85805384144501\n",
    "\n",
    "#### Test set\n",
    "\n",
    "MSE: 3049.504034898524\n",
    "\n",
    "MAE: 53.3235610850652\n",
    "\n",
    "RMSE: 55.22231464633227\n",
    "\n",
    "R-squared: -13.811541623928848 , from <0,1> \n",
    "\n",
    "### 7) Slučajne šume\n",
    "\n",
    "residual: 13.338086174261672\n",
    "\n",
    "#### Test set\n",
    "\n",
    "MSE: 177.90454279203027\n",
    "\n",
    "MAE: 10.439747508369027\n",
    "\n",
    "RMSE: 13.338086174261669\n",
    "\n",
    "R-squared: 0.1359117710634964 , from <0,1> \n",
    "\n",
    "### 8) SVM\n",
    "\n",
    "#### Training Set\n",
    "\n",
    "MSE: 171.80606176871777\n",
    "\n",
    "MAE: 10.350196062160261\n",
    "\n",
    "RMSE: 13.107481137454204\n",
    "\n",
    "R-squared: 0.15097357786784782 , from <0,1> \n",
    "\n",
    "#### Test Set\n",
    "\n",
    "MSE: 167.5987303747367\n",
    "\n",
    "MAE: 10.30968181798135\n",
    "\n",
    "RMSE: 12.945992830785004\n",
    "\n",
    "R-squared: 0.18596744170379642 , from <0,1> "
   ]
  },
  {
   "cell_type": "code",
   "execution_count": null,
   "id": "664b1912",
   "metadata": {},
   "outputs": [],
   "source": []
  }
 ],
 "metadata": {
  "kernelspec": {
   "display_name": "Python 3",
   "language": "python",
   "name": "python3"
  },
  "language_info": {
   "codemirror_mode": {
    "name": "ipython",
    "version": 3
   },
   "file_extension": ".py",
   "mimetype": "text/x-python",
   "name": "python",
   "nbconvert_exporter": "python",
   "pygments_lexer": "ipython3",
   "version": "3.8.10"
  }
 },
 "nbformat": 4,
 "nbformat_minor": 5
}
