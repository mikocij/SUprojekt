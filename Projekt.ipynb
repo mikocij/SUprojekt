{
 "cells": [
  {
   "cell_type": "markdown",
   "id": "e247de4b",
   "metadata": {},
   "source": [
    "# STROJNO UČENJE - PROJEKT\n",
    "## EDA Student Performance Dataset\n",
    "### Predviđanje uspjeha učenika pomoću demografskih i socio-ekonomskih informacija"
   ]
  },
  {
   "cell_type": "markdown",
   "id": "33a8f5fe",
   "metadata": {},
   "source": [
    "# Sadržaj\n",
    "[Library Import](#Library-import)\n",
    "\n",
    "[Vizualizacija podataka](#Vizualizacija-podataka)\n",
    "\n",
    "- [Kategoričke varijable](#Kategoričke-značajke)\n",
    "\n",
    "- [Numeričke varijable](#Numeričke-značajke)\n",
    "\n",
    "- [Usporedba spola](#Usporedba-spola)\n",
    "\n",
    "[Modeli](#Modeli)\n",
    "- [Priprema podataka](#Priprema-podataka)\n",
    "\n",
    "    -[Label Encoding](#Label-encoding)\n",
    "    \n",
    "    -[Train-test Split](#Train-Test-Split)\n",
    "\n",
    "- [Regresija](#Regresija)\n",
    "\n",
    "    -[Linearna Regresija](#Linearna-regresija)\n",
    "    \n",
    "    -[Lasso](#Lasso-regresija)\n",
    "    \n",
    "    -[Ridge](#Rigde-regresija)\n",
    "   \n",
    "- [Slučajne šume](#slučajne-šume)"
   ]
  },
  {
   "cell_type": "markdown",
   "id": "87de0fb5",
   "metadata": {},
   "source": [
    "# Library import"
   ]
  },
  {
   "cell_type": "code",
   "execution_count": 2,
   "id": "f8f91b17",
   "metadata": {},
   "outputs": [],
   "source": [
    "import pandas as pd\n",
    "import numpy as np\n",
    "import seaborn as sns\n",
    "import matplotlib.pyplot as plt\n",
    "import squarify"
   ]
  },
  {
   "cell_type": "markdown",
   "id": "4fa26408",
   "metadata": {},
   "source": [
    "# Vizualizacija podataka"
   ]
  },
  {
   "cell_type": "code",
   "execution_count": 3,
   "id": "efb0cc37",
   "metadata": {},
   "outputs": [
    {
     "data": {
      "text/html": [
       "<div>\n",
       "<style scoped>\n",
       "    .dataframe tbody tr th:only-of-type {\n",
       "        vertical-align: middle;\n",
       "    }\n",
       "\n",
       "    .dataframe tbody tr th {\n",
       "        vertical-align: top;\n",
       "    }\n",
       "\n",
       "    .dataframe thead th {\n",
       "        text-align: right;\n",
       "    }\n",
       "</style>\n",
       "<table border=\"1\" class=\"dataframe\">\n",
       "  <thead>\n",
       "    <tr style=\"text-align: right;\">\n",
       "      <th></th>\n",
       "      <th>gender</th>\n",
       "      <th>race/ethnicity</th>\n",
       "      <th>parental level of education</th>\n",
       "      <th>lunch</th>\n",
       "      <th>test preparation course</th>\n",
       "      <th>math score</th>\n",
       "      <th>reading score</th>\n",
       "      <th>writing score</th>\n",
       "    </tr>\n",
       "  </thead>\n",
       "  <tbody>\n",
       "    <tr>\n",
       "      <th>0</th>\n",
       "      <td>female</td>\n",
       "      <td>group B</td>\n",
       "      <td>bachelor's degree</td>\n",
       "      <td>standard</td>\n",
       "      <td>none</td>\n",
       "      <td>72</td>\n",
       "      <td>72</td>\n",
       "      <td>74</td>\n",
       "    </tr>\n",
       "    <tr>\n",
       "      <th>1</th>\n",
       "      <td>female</td>\n",
       "      <td>group C</td>\n",
       "      <td>some college</td>\n",
       "      <td>standard</td>\n",
       "      <td>completed</td>\n",
       "      <td>69</td>\n",
       "      <td>90</td>\n",
       "      <td>88</td>\n",
       "    </tr>\n",
       "    <tr>\n",
       "      <th>2</th>\n",
       "      <td>female</td>\n",
       "      <td>group B</td>\n",
       "      <td>master's degree</td>\n",
       "      <td>standard</td>\n",
       "      <td>none</td>\n",
       "      <td>90</td>\n",
       "      <td>95</td>\n",
       "      <td>93</td>\n",
       "    </tr>\n",
       "    <tr>\n",
       "      <th>3</th>\n",
       "      <td>male</td>\n",
       "      <td>group A</td>\n",
       "      <td>associate's degree</td>\n",
       "      <td>free/reduced</td>\n",
       "      <td>none</td>\n",
       "      <td>47</td>\n",
       "      <td>57</td>\n",
       "      <td>44</td>\n",
       "    </tr>\n",
       "    <tr>\n",
       "      <th>4</th>\n",
       "      <td>male</td>\n",
       "      <td>group C</td>\n",
       "      <td>some college</td>\n",
       "      <td>standard</td>\n",
       "      <td>none</td>\n",
       "      <td>76</td>\n",
       "      <td>78</td>\n",
       "      <td>75</td>\n",
       "    </tr>\n",
       "  </tbody>\n",
       "</table>\n",
       "</div>"
      ],
      "text/plain": [
       "   gender race/ethnicity parental level of education         lunch  \\\n",
       "0  female        group B           bachelor's degree      standard   \n",
       "1  female        group C                some college      standard   \n",
       "2  female        group B             master's degree      standard   \n",
       "3    male        group A          associate's degree  free/reduced   \n",
       "4    male        group C                some college      standard   \n",
       "\n",
       "  test preparation course  math score  reading score  writing score  \n",
       "0                    none          72             72             74  \n",
       "1               completed          69             90             88  \n",
       "2                    none          90             95             93  \n",
       "3                    none          47             57             44  \n",
       "4                    none          76             78             75  "
      ]
     },
     "execution_count": 3,
     "metadata": {},
     "output_type": "execute_result"
    }
   ],
   "source": [
    "df = pd.read_csv('StudentsPerformance.csv')\n",
    "df.head()"
   ]
  },
  {
   "cell_type": "raw",
   "id": "3d469c09",
   "metadata": {},
   "source": [
    "Skup podataka sastoji se od 8 stupaca i 1000 redaka, odnosno podataka o studentima:"
   ]
  },
  {
   "cell_type": "code",
   "execution_count": 4,
   "id": "6a1c0896",
   "metadata": {},
   "outputs": [
    {
     "data": {
      "text/plain": [
       "(1000, 8)"
      ]
     },
     "execution_count": 4,
     "metadata": {},
     "output_type": "execute_result"
    }
   ],
   "source": [
    "df.shape"
   ]
  },
  {
   "cell_type": "markdown",
   "id": "f8bfad76",
   "metadata": {},
   "source": [
    "## Kategoričke značajke"
   ]
  },
  {
   "cell_type": "code",
   "execution_count": 5,
   "id": "c5e7245e",
   "metadata": {},
   "outputs": [
    {
     "data": {
      "image/png": "[encoded data removed]",
      "text/plain": [
       "<Figure size 1080x1080 with 6 Axes>"
      ]
     },
     "metadata": {
      "needs_background": "light"
     },
     "output_type": "display_data"
    }
   ],
   "source": [
    "f, axes=plt.subplots(3, 2, figsize=(15, 15))\n",
    "for i in range(5):\n",
    "    plt.subplot(3, 2, i+1)\n",
    "    \n",
    "    df_grouped= df.groupby(df.columns[i]).size().reset_index(name='counts')\n",
    "    labels = df_grouped.apply(lambda x: str(x[0]) + \"\\n (\" + str(x[1]) + \")\", axis=1)\n",
    "    sizes = df_grouped['counts'].values.tolist()\n",
    "    colors = [plt.cm.Spectral(i/float(len(labels))) for i in range(len(labels))]\n",
    "    \n",
    "    if i % 2 == 1:\n",
    "       squarify.plot(sizes=sizes, label=labels, color=colors, alpha=.8)\n",
    "    else:\n",
    "        plt.pie(sizes, labels=labels, colors=colors)\n",
    "    plt.title(df.columns[i].upper())\n",
    "    plt.axis('off')\n",
    "    \n",
    "plt.subplot(3, 2, 6)\n",
    "plt.axis('off')\n",
    "plt.show()"
   ]
  },
  {
   "cell_type": "markdown",
   "id": "e4d2ec9e",
   "metadata": {},
   "source": [
    "## Numeričke značajke "
   ]
  },
  {
   "cell_type": "code",
   "execution_count": 6,
   "id": "20a90386",
   "metadata": {},
   "outputs": [
    {
     "data": {
      "image/png": "[encoded data removed]",
      "text/plain": [
       "<Figure size 720x720 with 4 Axes>"
      ]
     },
     "metadata": {
      "needs_background": "light"
     },
     "output_type": "display_data"
    }
   ],
   "source": [
    "df.hist(figsize=(10,10),bins = 20)\n",
    "plt.show()"
   ]
  },
  {
   "cell_type": "markdown",
   "id": "f1233589",
   "metadata": {},
   "source": [
    "## Usporedba spola"
   ]
  },
  {
   "cell_type": "code",
   "execution_count": 7,
   "id": "5debd57f",
   "metadata": {},
   "outputs": [
    {
     "data": {
      "image/png": "[encoded data removed]",
      "text/plain": [
       "<Figure size 720x576 with 1 Axes>"
      ]
     },
     "metadata": {
      "needs_background": "light"
     },
     "output_type": "display_data"
    }
   ],
   "source": [
    "df['Total score'] = ((df['math score']+df['writing score']+df['reading score'])/3).round(2)\n",
    "plt.figure(figsize = (10,8))\n",
    "sns.barplot(data = df, x = 'gender', y = 'Total score', ci = False)\n",
    "plt.xticks(fontsize = 12)\n",
    "plt.xlabel('Gender', fontsize = 15)\n",
    "plt.yticks(fontsize = 12)\n",
    "plt.ylabel('Total score', fontsize = 15)\n",
    "plt.show()"
   ]
  },
  {
   "cell_type": "markdown",
   "id": "7f751770",
   "metadata": {},
   "source": [
    "## Utjecaj priprema za ispit na rezultate "
   ]
  },
  {
   "cell_type": "code",
   "execution_count": 8,
   "id": "a079bcc5",
   "metadata": {},
   "outputs": [
    {
     "data": {
      "image/png": "[encoded data removed]",
      "text/plain": [
       "<Figure size 864x432 with 1 Axes>"
      ]
     },
     "metadata": {
      "needs_background": "light"
     },
     "output_type": "display_data"
    }
   ],
   "source": [
    "plt.figure(figsize = (12,6))\n",
    "sns.barplot(data = df, x = 'test preparation course', y = 'Total score', hue = 'gender', ci = False)\n",
    "plt.xlabel('Test Preparation status', fontsize = 15)\n",
    "plt.xticks(rotation = 45)\n",
    "plt.ylabel('Percentage scored', fontsize = 15)\n",
    "plt.show()"
   ]
  },
  {
   "cell_type": "markdown",
   "id": "382f449a",
   "metadata": {},
   "source": [
    "# Modeli"
   ]
  },
  {
   "cell_type": "markdown",
   "id": "d1c1e011",
   "metadata": {},
   "source": [
    "Na raspolaganju imamo puno različitih algoritama strojnog učenja koje možemo primjeniti na ovaj problem. Ideja je da prvo krenemo od jednostavnijih, pa nadograđujemo prema onim kompleksnijim modelima. \n",
    "Za početak ćemo iskoristiti sljedeće algoritme:\n",
    "        \n",
    "        - Algoritmi regresije\n",
    "        - Support vector machines (SVM)\n",
    "        - Slučajne šume"
   ]
  },
  {
   "cell_type": "markdown",
   "id": "c69dbb86",
   "metadata": {},
   "source": [
    "## Priprema podataka"
   ]
  },
  {
   "cell_type": "code",
   "execution_count": 17,
   "id": "00b55030",
   "metadata": {},
   "outputs": [
    {
     "name": "stdout",
     "output_type": "stream",
     "text": [
      "gender  -->  ['female' 'male']\n",
      "race/ethnicity  -->  ['group B' 'group C' 'group A' 'group D' 'group E']\n",
      "parental level of education  -->  [\"bachelor's degree\" 'some college' \"master's degree\" \"associate's degree\"\n",
      " 'high school' 'some high school']\n",
      "lunch  -->  ['standard' 'free/reduced']\n",
      "test preparation course  -->  ['none' 'completed']\n"
     ]
    }
   ],
   "source": [
    "from sklearn.linear_model import LinearRegression\n",
    "from sklearn.model_selection import train_test_split\n",
    "from sklearn.pipeline import Pipeline\n",
    "from sklearn.metrics import mean_squared_error, r2_score, explained_variance_score\n",
    "\n",
    "# moramo napraviti label encoding\n",
    "# pogledajmo prvo koje su nam vrijednosti u svakom stupcu\n",
    "for col in df:\n",
    "    if col == 'math score':\n",
    "        break\n",
    "    print(col, ' --> ', df[col].unique())"
   ]
  },
  {
   "cell_type": "markdown",
   "id": "53477a54",
   "metadata": {},
   "source": [
    "## Label encoding"
   ]
  },
  {
   "cell_type": "markdown",
   "id": "70d3022b",
   "metadata": {},
   "source": [
    "Moramo napraviti preinake u našim podacima. Točnije, smetaju nam kategoričke varijable pošto algoritmi strojnog učenja ne rade sa kategoričkim varijablama. Postoji više pristupa tom problemu: \n",
    "\n",
    "    - One Hot Encoding (funkcija get_dummies)\n",
    "    - Ručno, pomoću funkcije replace\n",
    "    \n",
    "Referenca: https://pbpython.com/categorical-encoding.html"
   ]
  },
  {
   "cell_type": "code",
   "execution_count": 74,
   "id": "12cbe4cb",
   "metadata": {},
   "outputs": [
    {
     "name": "stdout",
     "output_type": "stream",
     "text": [
      "   math score  reading score  writing score  Total score  gender  \\\n",
      "0          72             72             74        72.67       0   \n",
      "1          69             90             88        82.33       0   \n",
      "2          90             95             93        92.67       0   \n",
      "3          47             57             44        49.33       1   \n",
      "4          76             78             75        76.33       1   \n",
      "\n",
      "   race/ethnicity_group B  race/ethnicity_group C  race/ethnicity_group D  \\\n",
      "0                       1                       0                       0   \n",
      "1                       0                       1                       0   \n",
      "2                       1                       0                       0   \n",
      "3                       0                       0                       0   \n",
      "4                       0                       1                       0   \n",
      "\n",
      "   race/ethnicity_group E  parental level of education_bachelor's degree  \\\n",
      "0                       0                                              1   \n",
      "1                       0                                              0   \n",
      "2                       0                                              0   \n",
      "3                       0                                              0   \n",
      "4                       0                                              0   \n",
      "\n",
      "   parental level of education_high school  \\\n",
      "0                                        0   \n",
      "1                                        0   \n",
      "2                                        0   \n",
      "3                                        0   \n",
      "4                                        0   \n",
      "\n",
      "   parental level of education_master's degree  \\\n",
      "0                                            0   \n",
      "1                                            0   \n",
      "2                                            1   \n",
      "3                                            0   \n",
      "4                                            0   \n",
      "\n",
      "   parental level of education_some college  \\\n",
      "0                                         0   \n",
      "1                                         1   \n",
      "2                                         0   \n",
      "3                                         0   \n",
      "4                                         1   \n",
      "\n",
      "   parental level of education_some high school  lunch_standard  \\\n",
      "0                                             0               1   \n",
      "1                                             0               1   \n",
      "2                                             0               1   \n",
      "3                                             0               0   \n",
      "4                                             0               1   \n",
      "\n",
      "   test preparation course  \n",
      "0                        1  \n",
      "1                        0  \n",
      "2                        1  \n",
      "3                        1  \n",
      "4                        1  \n"
     ]
    }
   ],
   "source": [
    "def find_and_replace(data):\n",
    "    cleanup_nums = {\n",
    "        'gender': { \"female\": 0, 'male': 1 },\n",
    "        'race/ethnicity': { 'group A': 0, 'group B': 1, 'group C': 2, 'group D': 3, 'group E': 4 },\n",
    "        'parental level of education': { 'some high school': 0, 'high school': 1,\n",
    "                                        \"associate's degree\": 2, 'some college': 3,\n",
    "                                        \"bachelor's degree\": 4, \"master's degree\": 5,  },\n",
    "        'lunch': { 'standard': 0, 'free/reduced': 1 },\n",
    "        'test preparation course': { 'none': 0, 'completed': 1 },\n",
    "    }\n",
    "    return df.replace(cleanup_nums)\n",
    "\n",
    "#one hot encoding\n",
    "def one_hot_encoding(data):\n",
    "    # we rename first and last columns for scalability, so we dont have to cn+hange our code in multiple places\n",
    "    return pd.get_dummies(df, columns=['gender', 'race/ethnicity', \\\n",
    "                                       'parental level of education', \\\n",
    "                                       'lunch', 'test preparation course'], \\\n",
    "                          drop_first=True) \\\n",
    "            .rename(columns={\\\n",
    "                             'gender_male' : 'gender',\\\n",
    "                             'test preparation course_none' : 'test preparation course'\\\n",
    "                            })\n",
    "\n",
    "df2 = one_hot_encoding(df)\n",
    "#df2 = find_and_replace(df)\n",
    "\n",
    "# jedan primjer kako nam sada izgledaju podaci u odnosu na prijašnje\n",
    "#print(df.head())\n",
    "print(df2.head())"
   ]
  },
  {
   "cell_type": "markdown",
   "id": "f0a9aee4",
   "metadata": {},
   "source": [
    "## Train Test Split "
   ]
  },
  {
   "cell_type": "markdown",
   "id": "9fec3612",
   "metadata": {},
   "source": [
    "Pošto nemamo unaprijed zadane trening i test podatke, uobičajeno je podijeliti cijelu našu bazu u dio za trening i dio za test. Najčešće se koristi sklearn funkcija train_test_split koja prima postotak podataka koji želimo da bude testni. U našem slučaju stavit ćemo 20% (800 trening, 200 test podataka)."
   ]
  },
  {
   "cell_type": "code",
   "execution_count": 75,
   "id": "43d8dafd",
   "metadata": {},
   "outputs": [],
   "source": [
    "train, test = train_test_split(df2, test_size=0.2)\n",
    "features = train.loc[:, 'gender' : 'test preparation course']\n",
    "targets = train.loc[:, 'math score' : 'Total score']"
   ]
  },
  {
   "cell_type": "markdown",
   "id": "a19c2ca0",
   "metadata": {},
   "source": [
    "## Regresija\n"
   ]
  },
  {
   "cell_type": "markdown",
   "id": "83250207",
   "metadata": {},
   "source": [
    "Osnovni algoritam regresije (a i cijele teorije strojnog učenja) je linearna regresija. Osim nje, postoje i neke modifikacije. Svaka ima svoje prednosti i mane, zbog kojih se sve koriste u određenim situacijama. Mi ćemo iskoristiti Lasso i Ridge, te usporediti rezultate svih."
   ]
  },
  {
   "cell_type": "markdown",
   "id": "3f9b8776",
   "metadata": {},
   "source": [
    "## Linearna Regresija"
   ]
  },
  {
   "cell_type": "code",
   "execution_count": 76,
   "id": "9c85001b",
   "metadata": {},
   "outputs": [
    {
     "name": "stdout",
     "output_type": "stream",
     "text": [
      "Objasnjena varijanca = 0.20\n",
      "R2 = 0.19\n",
      "MSE = 166.77\n"
     ]
    }
   ],
   "source": [
    "model = Pipeline([ ('linear', LinearRegression()) ])\n",
    "model = model.fit(features, targets)\n",
    "\n",
    "regr_pred = model.predict(test.loc[:, 'gender' : 'test preparation course'])\n",
    "#print(regr_pred)\n",
    "\n",
    "correct_scores = test.loc[:, 'math score' : 'Total score']\n",
    "explained_variance = explained_variance_score(correct_scores, regr_pred)\n",
    "R2 = r2_score(correct_scores, regr_pred)\n",
    "MSE = mean_squared_error(correct_scores, regr_pred)\n",
    "\n",
    "print('Objasnjena varijanca = '+'{0:.2f}'.format(explained_variance)+'\\nR2 = '+'{0:.2f}'.format(R2)+'\\nMSE = '+'{0:.2f}'.format(MSE))"
   ]
  },
  {
   "cell_type": "markdown",
   "id": "ab68233a",
   "metadata": {},
   "source": [
    "## Lasso regresija"
   ]
  },
  {
   "cell_type": "code",
   "execution_count": null,
   "id": "5059d840",
   "metadata": {},
   "outputs": [],
   "source": []
  }
 ],
 "metadata": {
  "kernelspec": {
   "display_name": "Python 3",
   "language": "python",
   "name": "python3"
  },
  "language_info": {
   "codemirror_mode": {
    "name": "ipython",
    "version": 3
   },
   "file_extension": ".py",
   "mimetype": "text/x-python",
   "name": "python",
   "nbconvert_exporter": "python",
   "pygments_lexer": "ipython3",
   "version": "3.8.6"
  }
 },
 "nbformat": 4,
 "nbformat_minor": 5
}
