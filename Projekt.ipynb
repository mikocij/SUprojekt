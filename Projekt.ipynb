{
 "cells": [
  {
   "cell_type": "markdown",
   "id": "e247de4b",
   "metadata": {},
   "source": [
    "# STROJNO UČENJE - PROJEKT\n",
    "## EDA Student Performance Dataset\n",
    "### Predviđanje uspjeha učenika pomoću demografskih i socio-ekonomskih informacija"
   ]
  },
  {
   "cell_type": "markdown",
   "id": "33a8f5fe",
   "metadata": {},
   "source": [
    "# Sadržaj\n",
    "[Library Import](#Library-import)\n",
    "\n",
    "[Vizualizacija podataka](#Vizualizacija-podataka)\n",
    "\n",
    "- [Kategoričke varijable](#Kategoričke-značajke)\n",
    "\n",
    "- [Numeričke varijable](#Numeričke-značajke)\n",
    "\n",
    "- [Usporedba spola](#Usporedba-spola)\n",
    "\n",
    "\n",
    "[Feature Selection](#Feature-selection-&-encoding)\n",
    "\n",
    "[Modeli](#Modeli)\n",
    "- [Priprema podataka](#Priprema-podataka)\n",
    "\n",
    "    -[Label Encoding](#Label-encoding)\n",
    "    \n",
    "    -[Train-test Split](#Train-Test-Split)\n",
    "\n",
    "- [Regresija](#Modeli-linearne-regresije)\n",
    "\n",
    "    -[Linearna Regresija](#Linearna-regresija)\n",
    "    \n",
    "    -[Lasso](#MultitaskLasso-Regresija-(3-izlaza))\n",
    "    \n",
    "    -[Ridge](#Ridge-regresija)\n",
    "   \n",
    "- [Slučajne šume](#slučajne-šume)"
   ]
  },
  {
   "cell_type": "markdown",
   "id": "87de0fb5",
   "metadata": {},
   "source": [
    "# Library import"
   ]
  },
  {
   "cell_type": "code",
   "execution_count": 1,
   "id": "f8f91b17",
   "metadata": {},
   "outputs": [],
   "source": [
    "#%% Imports\n",
    "\n",
    "\n",
    "#SelectKBest, f_classif\n",
    "from sklearn.preprocessing import LabelEncoder\n",
    "from sklearn import feature_selection \n",
    "\n",
    "import squarify\n",
    "from sklearn.pipeline import Pipeline\n",
    "\n",
    "\n",
    "# Basic Imports \n",
    "import numpy as np\n",
    "import pandas as pd\n",
    "\n",
    "# Plotting \n",
    "import matplotlib.pyplot as plt\n",
    "import plotly.express as px\n",
    "import seaborn as sns\n",
    "%matplotlib inline\n",
    "\n",
    "# Preprocessing\n",
    "from sklearn.model_selection import train_test_split, KFold\n",
    "from sklearn.preprocessing import LabelEncoder\n",
    "\n",
    "# Metrics \n",
    "import sklearn.metrics\n",
    "from sklearn.metrics import mean_squared_error, mean_absolute_error, r2_score, explained_variance_score\n",
    "\n",
    "# ML Models\n",
    "import lightgbm as lgb\n",
    "from lightgbm import LGBMRegressor \n",
    "import xgboost as xg \n",
    "from sklearn.ensemble import RandomForestRegressor\n",
    "from sklearn import svm\n",
    "from sklearn.linear_model import LinearRegression, Ridge\n",
    "# Model Tuning \n",
    "from bayes_opt import BayesianOptimization\n",
    "\n",
    "# Feature Importance \n",
    "import shap\n",
    "\n",
    "# Ignore Warnings \n",
    "import warnings\n",
    "warnings.filterwarnings('ignore')\n",
    "\n"
   ]
  },
  {
   "cell_type": "markdown",
   "id": "f03095d2",
   "metadata": {},
   "source": [
    "# Import dataseta"
   ]
  },
  {
   "cell_type": "code",
   "execution_count": 2,
   "id": "227885ea",
   "metadata": {},
   "outputs": [],
   "source": [
    "df = pd.read_csv('StudentsPerformance.csv')\n",
    "\n",
    "df['AVERAGE'] = df[['math score', 'reading score','writing score']].mean(axis=1)"
   ]
  },
  {
   "cell_type": "markdown",
   "id": "4fa26408",
   "metadata": {},
   "source": [
    "# Vizualizacija podataka"
   ]
  },
  {
   "cell_type": "code",
   "execution_count": 3,
   "id": "efb0cc37",
   "metadata": {},
   "outputs": [
    {
     "data": {
      "text/html": [
       "<div>\n",
       "<style scoped>\n",
       "    .dataframe tbody tr th:only-of-type {\n",
       "        vertical-align: middle;\n",
       "    }\n",
       "\n",
       "    .dataframe tbody tr th {\n",
       "        vertical-align: top;\n",
       "    }\n",
       "\n",
       "    .dataframe thead th {\n",
       "        text-align: right;\n",
       "    }\n",
       "</style>\n",
       "<table border=\"1\" class=\"dataframe\">\n",
       "  <thead>\n",
       "    <tr style=\"text-align: right;\">\n",
       "      <th></th>\n",
       "      <th>gender</th>\n",
       "      <th>race/ethnicity</th>\n",
       "      <th>parental level of education</th>\n",
       "      <th>lunch</th>\n",
       "      <th>test preparation course</th>\n",
       "      <th>math score</th>\n",
       "      <th>reading score</th>\n",
       "      <th>writing score</th>\n",
       "      <th>AVERAGE</th>\n",
       "    </tr>\n",
       "  </thead>\n",
       "  <tbody>\n",
       "    <tr>\n",
       "      <th>0</th>\n",
       "      <td>female</td>\n",
       "      <td>group B</td>\n",
       "      <td>bachelor's degree</td>\n",
       "      <td>standard</td>\n",
       "      <td>none</td>\n",
       "      <td>72</td>\n",
       "      <td>72</td>\n",
       "      <td>74</td>\n",
       "      <td>72.666667</td>\n",
       "    </tr>\n",
       "    <tr>\n",
       "      <th>1</th>\n",
       "      <td>female</td>\n",
       "      <td>group C</td>\n",
       "      <td>some college</td>\n",
       "      <td>standard</td>\n",
       "      <td>completed</td>\n",
       "      <td>69</td>\n",
       "      <td>90</td>\n",
       "      <td>88</td>\n",
       "      <td>82.333333</td>\n",
       "    </tr>\n",
       "    <tr>\n",
       "      <th>2</th>\n",
       "      <td>female</td>\n",
       "      <td>group B</td>\n",
       "      <td>master's degree</td>\n",
       "      <td>standard</td>\n",
       "      <td>none</td>\n",
       "      <td>90</td>\n",
       "      <td>95</td>\n",
       "      <td>93</td>\n",
       "      <td>92.666667</td>\n",
       "    </tr>\n",
       "    <tr>\n",
       "      <th>3</th>\n",
       "      <td>male</td>\n",
       "      <td>group A</td>\n",
       "      <td>associate's degree</td>\n",
       "      <td>free/reduced</td>\n",
       "      <td>none</td>\n",
       "      <td>47</td>\n",
       "      <td>57</td>\n",
       "      <td>44</td>\n",
       "      <td>49.333333</td>\n",
       "    </tr>\n",
       "    <tr>\n",
       "      <th>4</th>\n",
       "      <td>male</td>\n",
       "      <td>group C</td>\n",
       "      <td>some college</td>\n",
       "      <td>standard</td>\n",
       "      <td>none</td>\n",
       "      <td>76</td>\n",
       "      <td>78</td>\n",
       "      <td>75</td>\n",
       "      <td>76.333333</td>\n",
       "    </tr>\n",
       "  </tbody>\n",
       "</table>\n",
       "</div>"
      ],
      "text/plain": [
       "   gender race/ethnicity parental level of education         lunch  \\\n",
       "0  female        group B           bachelor's degree      standard   \n",
       "1  female        group C                some college      standard   \n",
       "2  female        group B             master's degree      standard   \n",
       "3    male        group A          associate's degree  free/reduced   \n",
       "4    male        group C                some college      standard   \n",
       "\n",
       "  test preparation course  math score  reading score  writing score    AVERAGE  \n",
       "0                    none          72             72             74  72.666667  \n",
       "1               completed          69             90             88  82.333333  \n",
       "2                    none          90             95             93  92.666667  \n",
       "3                    none          47             57             44  49.333333  \n",
       "4                    none          76             78             75  76.333333  "
      ]
     },
     "execution_count": 3,
     "metadata": {},
     "output_type": "execute_result"
    }
   ],
   "source": [
    "\n",
    "df.head()"
   ]
  },
  {
   "cell_type": "raw",
   "id": "3d469c09",
   "metadata": {},
   "source": [
    "Skup podataka sastoji se od 8 stupaca i 1000 redaka, odnosno podataka o studentima:"
   ]
  },
  {
   "cell_type": "code",
   "execution_count": 4,
   "id": "6a1c0896",
   "metadata": {},
   "outputs": [
    {
     "data": {
      "text/plain": [
       "(1000, 9)"
      ]
     },
     "execution_count": 4,
     "metadata": {},
     "output_type": "execute_result"
    }
   ],
   "source": [
    "df.shape"
   ]
  },
  {
   "cell_type": "markdown",
   "id": "f8bfad76",
   "metadata": {},
   "source": [
    "## Kategoričke značajke"
   ]
  },
  {
   "cell_type": "code",
   "execution_count": 5,
   "id": "c5e7245e",
   "metadata": {},
   "outputs": [
    {
     "data": {
      "image/png": "[encoded data removed]",
      "text/plain": [
       "<Figure size 1080x1080 with 6 Axes>"
      ]
     },
     "metadata": {
      "needs_background": "light"
     },
     "output_type": "display_data"
    }
   ],
   "source": [
    "f, axes=plt.subplots(3, 2, figsize=(15, 15))\n",
    "for i in range(5):\n",
    "    plt.subplot(3, 2, i+1)\n",
    "    \n",
    "    df_grouped= df.groupby(df.columns[i]).size().reset_index(name='counts')\n",
    "    labels = df_grouped.apply(lambda x: str(x[0]) + \"\\n (\" + str(x[1]) + \")\", axis=1)\n",
    "    sizes = df_grouped['counts'].values.tolist()\n",
    "    colors = [plt.cm.Spectral(i/float(len(labels))) for i in range(len(labels))]\n",
    "    \n",
    "    if i % 2 == 1:\n",
    "       squarify.plot(sizes=sizes, label=labels, color=colors, alpha=.8)\n",
    "    else:\n",
    "        plt.pie(sizes, labels=labels, colors=colors)\n",
    "    plt.title(df.columns[i].upper())\n",
    "    plt.axis('off')\n",
    "    \n",
    "plt.subplot(3, 2, 6)\n",
    "plt.axis('off')\n",
    "plt.show()"
   ]
  },
  {
   "cell_type": "markdown",
   "id": "e4d2ec9e",
   "metadata": {},
   "source": [
    "## Numeričke značajke "
   ]
  },
  {
   "cell_type": "code",
   "execution_count": 6,
   "id": "20a90386",
   "metadata": {},
   "outputs": [
    {
     "data": {
      "image/png": "[encoded data removed]",
      "text/plain": [
       "<Figure size 720x720 with 4 Axes>"
      ]
     },
     "metadata": {
      "needs_background": "light"
     },
     "output_type": "display_data"
    }
   ],
   "source": [
    "df.hist(figsize=(10,10),bins = 20)\n",
    "plt.show()"
   ]
  },
  {
   "cell_type": "markdown",
   "id": "f1233589",
   "metadata": {},
   "source": [
    "## Usporedba spola"
   ]
  },
  {
   "cell_type": "code",
   "execution_count": 7,
   "id": "5debd57f",
   "metadata": {},
   "outputs": [
    {
     "data": {
      "image/png": "[encoded data removed]",
      "text/plain": [
       "<Figure size 720x576 with 1 Axes>"
      ]
     },
     "metadata": {
      "needs_background": "light"
     },
     "output_type": "display_data"
    }
   ],
   "source": [
    "df['Total score'] = ((df['math score']+df['writing score']+df['reading score'])/3).round(2)\n",
    "plt.figure(figsize = (10,8))\n",
    "sns.barplot(data = df, x = 'gender', y = 'Total score', ci = False)\n",
    "plt.xticks(fontsize = 12)\n",
    "plt.xlabel('Gender', fontsize = 15)\n",
    "plt.yticks(fontsize = 12)\n",
    "plt.ylabel('Total score', fontsize = 15)\n",
    "plt.show()\n",
    "\n",
    " \n",
    "    "
   ]
  },
  {
   "cell_type": "markdown",
   "id": "7f751770",
   "metadata": {},
   "source": [
    "## Utjecaj priprema za ispit na rezultate "
   ]
  },
  {
   "cell_type": "code",
   "execution_count": 8,
   "id": "a079bcc5",
   "metadata": {},
   "outputs": [
    {
     "data": {
      "image/png": "[encoded data removed]",
      "text/plain": [
       "<Figure size 864x432 with 1 Axes>"
      ]
     },
     "metadata": {
      "needs_background": "light"
     },
     "output_type": "display_data"
    }
   ],
   "source": [
    "plt.figure(figsize = (12,6))\n",
    "sns.barplot(data = df, x = 'test preparation course', y = 'Total score', hue = 'gender', ci = False)\n",
    "plt.xlabel('Test Preparation status', fontsize = 15)\n",
    "plt.xticks(rotation = 45)\n",
    "plt.ylabel('Percentage scored', fontsize = 15)\n",
    "plt.show()\n",
    "\n",
    "df = df.drop([\"Total score\"],axis = 'columns')"
   ]
  },
  {
   "cell_type": "markdown",
   "id": "16013c8a",
   "metadata": {},
   "source": [
    "# Feature selection & encoding"
   ]
  },
  {
   "cell_type": "markdown",
   "id": "5eb99bdf",
   "metadata": {},
   "source": [
    "## Kodiranje atributa"
   ]
  },
  {
   "cell_type": "markdown",
   "id": "d718287f",
   "metadata": {},
   "source": [
    "Moramo napraviti preinake u našim podacima. Točnije, smetaju nam kategoričke varijable pošto algoritmi strojnog učenja ne rade sa kategoričkim varijablama. Postoji više pristupa tom problemu: \n",
    "\n",
    "    - One Hot Encoding (funkcija get_dummies)\n",
    "    - Biblioteka LabelEncoder\n",
    "    - Ručno, pomoću funkcije replace\n",
    "    \n",
    "Referenca: https://pbpython.com/categorical-encoding.html"
   ]
  },
  {
   "cell_type": "code",
   "execution_count": 9,
   "id": "47ca786a",
   "metadata": {},
   "outputs": [
    {
     "name": "stdout",
     "output_type": "stream",
     "text": [
      "gender  -->  ['female' 'male']\n",
      "race/ethnicity  -->  ['group B' 'group C' 'group A' 'group D' 'group E']\n",
      "parental level of education  -->  [\"bachelor's degree\" 'some college' \"master's degree\" \"associate's degree\"\n",
      " 'high school' 'some high school']\n",
      "lunch  -->  ['standard' 'free/reduced']\n",
      "test preparation course  -->  ['none' 'completed']\n"
     ]
    }
   ],
   "source": [
    "# moramo napraviti label encoding\n",
    "# pogledajmo prvo koje su nam vrijednosti u svakom stupcu\n",
    "for col in df:\n",
    "    if col == 'math score':\n",
    "        break\n",
    "    print(col, ' --> ', df[col].unique())"
   ]
  },
  {
   "cell_type": "code",
   "execution_count": 10,
   "id": "39854903",
   "metadata": {},
   "outputs": [],
   "source": [
    "def find_and_replace(data):\n",
    "    cleanup_nums = {\n",
    "        'gender': { \"female\": 0, 'male': 1 },\n",
    "        'race/ethnicity': { 'group A': 0, 'group B': 1, 'group C': 2, 'group D': 3, 'group E': 4 },\n",
    "        'parental level of education': { 'some high school': 0, 'high school': 1,\n",
    "                                        \"associate's degree\": 2, 'some college': 3,\n",
    "                                        \"bachelor's degree\": 4, \"master's degree\": 5,  },\n",
    "        'lunch': { 'standard': 0, 'free/reduced': 1 },\n",
    "        'test preparation course': { 'none': 0, 'completed': 1 },\n",
    "    }\n",
    "    return df.replace(cleanup_nums)\n",
    "\n",
    "#one hot encoding\n",
    "def one_hot_encoding(data):\n",
    "    # we rename first and last columns for scalability, so we dont have to change our code in multiple places\n",
    "    return pd.get_dummies(data, columns=['gender', 'race/ethnicity', \\\n",
    "                                       'parental level of education', \\\n",
    "                                       'lunch', 'test preparation course'], \\\n",
    "                          drop_first=True) \\\n",
    "            .rename(columns={\\\n",
    "                             'gender_male' : 'gender',\\\n",
    "                             'test preparation course_none' : 'test preparation course'\\\n",
    "                            })\n",
    "\n",
    "\n",
    "\n",
    "\n",
    "def encode_data(table_input,enc_type=\"ONEHOT\",removeY=True):\n",
    "    \n",
    "    table= table_input.copy()\n",
    "    #target= table[\"AVERAGE\"]\n",
    "    if removeY:\n",
    "        table = table.drop([\"math score\",\"reading score\",\"writing score\",\"AVERAGE\"],axis = 'columns') \n",
    "    \n",
    "    \n",
    "    if enc_type == \"ONEHOT\":\n",
    "        table = table.apply(lambda x: x.astype('category')) \n",
    "        table = pd.get_dummies(table,drop_first= True)\n",
    "        return table\n",
    "        #return one_hot_encoding(table)\n",
    "        \n",
    "    elif enc_type == \"LABEL\":\n",
    "        categorical_features = table.select_dtypes(['object','category']).columns.to_list()\n",
    "        labelencoder = LabelEncoder()\n",
    "        for i in categorical_features:\n",
    "            table[i] = labelencoder.fit_transform(table[i])\n",
    "            \n",
    "        return table\n",
    "    else:\n",
    "        return find_and_replace(table)\n",
    "    \n",
    "#Kako koristiti:\n",
    "\n",
    "#X_features_encoded = encode_data(SP_csv_clean,enc_type=\"ONE HOT\")\n",
    "#X_features_encoded\n",
    "\n",
    "#X_features_encoded = encode_data(SP_csv_clean,enc_type=\"LABEL\")\n",
    "#X_features_encoded"
   ]
  },
  {
   "cell_type": "markdown",
   "id": "ac939181",
   "metadata": {},
   "source": [
    "## Feature selection"
   ]
  },
  {
   "cell_type": "code",
   "execution_count": 11,
   "id": "757c1340",
   "metadata": {},
   "outputs": [],
   "source": [
    "def odaberi(algorithm,k,train_X, train_y,yname=\"not given\"):\n",
    "    selector = feature_selection.SelectKBest(algorithm, k)\n",
    "    selector.fit(train_X, train_y)\n",
    "    scores = -np.log10(selector.pvalues_)\n",
    "    indices = np.argsort(scores)[::-1] # Vrati indekse koji sortiraju polje (obratno)\n",
    "\n",
    "    plt.figure(figsize=(7,5))\n",
    "    plt.plot(range(train_X.shape[1]), scores[indices], 'o', color='gray')\n",
    "    plt.title(f'Univarijantni odabir znacajki za najvaznijih {k_best} znacajki')\n",
    "    plt.ylabel(f'log p-vrijednosti metode {yname}')\n",
    "    plt.xlim([-1, train_X.shape[1]])\n",
    "    plt.xticks(range(train_X.shape[1]), train_X.columns.values[indices], rotation=90)\n",
    "    plt.vlines(k_best-0.5, 0, np.max(scores), color='red', linestyle='--')\n",
    "    plt.grid(True,linestyle='--')\n",
    "    plt.tight_layout()\n",
    "\n",
    "    [ i.set_color(\"red\") for i in plt.gca().get_xticklabels() if i.get_text()[:5] == 'noise' ]\n",
    "\n",
    "    plt.show()"
   ]
  },
  {
   "cell_type": "markdown",
   "id": "89dafe7c",
   "metadata": {},
   "source": [
    "### 1.Odabir encodinga za feature selection : ONE HOT ENCODING"
   ]
  },
  {
   "cell_type": "code",
   "execution_count": 12,
   "id": "e3684b07",
   "metadata": {
    "scrolled": true
   },
   "outputs": [],
   "source": [
    "X_features_encoded = encode_data(df,enc_type=\"ONEHOT\")\n",
    "Y = df[\"AVERAGE\"]\n",
    "k_best = int(len(X_features_encoded.columns)*0.8) "
   ]
  },
  {
   "cell_type": "code",
   "execution_count": 13,
   "id": "2ff8f04e",
   "metadata": {},
   "outputs": [],
   "source": [
    "train_X_N, valid_X_N, train_y_N, valid_y_N = train_test_split(\n",
    "    X_features_encoded, \n",
    "    Y, \n",
    "    test_size=0.2, \n",
    "    shuffle = True, \n",
    "    random_state=1\n",
    ")\n",
    "\n",
    "train_y_N=train_y_N.astype('int')\n"
   ]
  },
  {
   "cell_type": "markdown",
   "id": "24b8d0b3",
   "metadata": {},
   "source": [
    "### Rezultat s metodom: f_regression"
   ]
  },
  {
   "cell_type": "code",
   "execution_count": 14,
   "id": "0aa38574",
   "metadata": {},
   "outputs": [
    {
     "data": {
      "image/png": "[encoded data removed]",
      "text/plain": [
       "<Figure size 504x360 with 1 Axes>"
      ]
     },
     "metadata": {
      "needs_background": "light"
     },
     "output_type": "display_data"
    }
   ],
   "source": [
    "odaberi(feature_selection.f_regression,k_best,train_X_N, train_y_N,yname=\"f_regression\")"
   ]
  },
  {
   "cell_type": "markdown",
   "id": "07a35719",
   "metadata": {},
   "source": [
    "### Rezultat s metodom: chi2"
   ]
  },
  {
   "cell_type": "code",
   "execution_count": 15,
   "id": "ae79b78d",
   "metadata": {
    "scrolled": true
   },
   "outputs": [
    {
     "data": {
      "image/png": "[encoded data removed]",
      "text/plain": [
       "<Figure size 504x360 with 1 Axes>"
      ]
     },
     "metadata": {
      "needs_background": "light"
     },
     "output_type": "display_data"
    }
   ],
   "source": [
    "odaberi(feature_selection.chi2,k_best,train_X_N, train_y_N,yname=\"Chi2\")"
   ]
  },
  {
   "cell_type": "markdown",
   "id": "0409bec5",
   "metadata": {},
   "source": [
    "### 2.Odabir encodinga za feature selection : LABEL\n"
   ]
  },
  {
   "cell_type": "code",
   "execution_count": 16,
   "id": "b8c6c233",
   "metadata": {},
   "outputs": [],
   "source": [
    "X_features_encoded = encode_data(df,enc_type=\"LABEL\")\n",
    "Y = df[\"AVERAGE\"]\n",
    "\n",
    "k_best = int(len(X_features_encoded.columns)*0.8) "
   ]
  },
  {
   "cell_type": "code",
   "execution_count": 17,
   "id": "c8385482",
   "metadata": {},
   "outputs": [],
   "source": [
    "train_X_N, valid_X_N, train_y_N, valid_y_N = train_test_split(\n",
    "    X_features_encoded, \n",
    "    Y, \n",
    "    test_size=0.2, \n",
    "    shuffle = True, \n",
    "    random_state=1\n",
    ")\n",
    "\n",
    "train_y_N=train_y_N.astype('int')"
   ]
  },
  {
   "cell_type": "markdown",
   "id": "da4d1af6",
   "metadata": {},
   "source": [
    "### Rezultat s metodom: f_regression"
   ]
  },
  {
   "cell_type": "code",
   "execution_count": 18,
   "id": "4f3d30ca",
   "metadata": {},
   "outputs": [
    {
     "data": {
      "image/png": "[encoded data removed]",
      "text/plain": [
       "<Figure size 504x360 with 1 Axes>"
      ]
     },
     "metadata": {
      "needs_background": "light"
     },
     "output_type": "display_data"
    }
   ],
   "source": [
    "odaberi(feature_selection.f_regression,k_best,train_X_N, train_y_N,yname=\"f_regression\")"
   ]
  },
  {
   "cell_type": "markdown",
   "id": "da479200",
   "metadata": {},
   "source": [
    "### Rezultat s metodom: chi2"
   ]
  },
  {
   "cell_type": "code",
   "execution_count": 19,
   "id": "4d7ae356",
   "metadata": {},
   "outputs": [
    {
     "data": {
      "image/png": "[encoded data removed]",
      "text/plain": [
       "<Figure size 504x360 with 1 Axes>"
      ]
     },
     "metadata": {
      "needs_background": "light"
     },
     "output_type": "display_data"
    }
   ],
   "source": [
    "odaberi(feature_selection.chi2,k_best,train_X_N, train_y_N,yname=\"Chi2\")"
   ]
  },
  {
   "cell_type": "markdown",
   "id": "382f449a",
   "metadata": {},
   "source": [
    "# Modeli"
   ]
  },
  {
   "cell_type": "markdown",
   "id": "d1c1e011",
   "metadata": {},
   "source": [
    "Na raspolaganju imamo puno različitih algoritama strojnog učenja koje možemo primjeniti na ovaj problem. Ideja je da prvo krenemo od jednostavnijih, pa nadograđujemo prema onim kompleksnijim modelima. \n",
    "Za početak ćemo iskoristiti sljedeće algoritme:\n",
    "        \n",
    "        - Algoritmi regresije\n",
    "        - Support vector machines (SVM)\n",
    "        - Slučajne šume"
   ]
  },
  {
   "cell_type": "markdown",
   "id": "c69dbb86",
   "metadata": {},
   "source": [
    "## Priprema podataka"
   ]
  },
  {
   "cell_type": "markdown",
   "id": "bc4c1644",
   "metadata": {},
   "source": [
    "### Funkcije za ispis grešaka"
   ]
  },
  {
   "cell_type": "code",
   "execution_count": 20,
   "id": "af044c79",
   "metadata": {},
   "outputs": [],
   "source": [
    "def residual(true,pred):\n",
    "    resid = true - pred\n",
    "    print( np.sqrt(np.mean(resid*resid)) )\n",
    "def evaluateRegressor(true,predicted,message = \"Test set\"):\n",
    "    MSE = mean_squared_error(true,predicted,squared = True)\n",
    "    MAE = mean_absolute_error(true,predicted)\n",
    "    RMSE = mean_squared_error(true,predicted,squared = False)\n",
    "    R_squared = r2_score(true,predicted)\n",
    "    print(message)\n",
    "    print(\"MSE:\", MSE)\n",
    "    print(\"MAE:\", MAE)\n",
    "    print(\"RMSE:\", RMSE)\n",
    "    print(f\"R-squared: {R_squared} , from <0,1> \")"
   ]
  },
  {
   "cell_type": "markdown",
   "id": "4d4660a4",
   "metadata": {},
   "source": [
    "### Train Test Split\n",
    "Pošto nemamo unaprijed zadane trening i test podatke, uobičajeno je podijeliti cijelu našu bazu u dio za trening i dio za test. Najčešće se koristi sklearn funkcija train_test_split koja prima postotak podataka koji želimo da bude testni. U našem slučaju stavit ćemo 20% (800 trening, 200 test podataka)."
   ]
  },
  {
   "cell_type": "code",
   "execution_count": 21,
   "id": "40923068",
   "metadata": {},
   "outputs": [],
   "source": [
    "X_features_encoded = encode_data(df,enc_type=\"LABEL\")\n",
    "Y = df[\"AVERAGE\"]\n",
    "\n",
    "Y_class= pd.cut(Y,\n",
    "       5, labels=[1,2,3,4,5])\n",
    "\n",
    "train_X, valid_X, train_y, valid_y = train_test_split(\n",
    "    X_features_encoded, \n",
    "    Y, \n",
    "    test_size=0.2, \n",
    "    shuffle = True, \n",
    "    #random_state=1\n",
    ")\n",
    "\n",
    "#train_y_N=train_y_N.astype('int')"
   ]
  },
  {
   "cell_type": "code",
   "execution_count": 22,
   "id": "7dfa6dbf",
   "metadata": {},
   "outputs": [],
   "source": [
    "df_temp = df.copy()\n",
    "df_temp['Total score'] = ((df['math score']+df['writing score']+df['reading score'])/3).round(2)\n",
    "df_temp=df_temp.drop([\"AVERAGE\"],axis = 'columns')"
   ]
  },
  {
   "cell_type": "code",
   "execution_count": 23,
   "id": "c8fd3a27",
   "metadata": {},
   "outputs": [],
   "source": [
    "df2 = one_hot_encoding(df_temp)\n",
    "train, test = train_test_split(df2, test_size=0.2)\n",
    "features = train.loc[:, 'gender' : 'test preparation course']\n",
    "targets = train.loc[:, 'math score' : 'Total score']"
   ]
  },
  {
   "cell_type": "markdown",
   "id": "20905cb3",
   "metadata": {},
   "source": [
    "Ako ce nam trebat skalirani podaci ,tu su"
   ]
  },
  {
   "cell_type": "code",
   "execution_count": 24,
   "id": "2e78bd2d",
   "metadata": {},
   "outputs": [],
   "source": [
    "from sklearn.preprocessing import StandardScaler\n",
    "scaler = StandardScaler()\n",
    "\n",
    "train_X_scaled = scaler.fit_transform(train_X)\n",
    "valid_X_scaled = scaler.transform(valid_X)"
   ]
  },
  {
   "cell_type": "markdown",
   "id": "a19c2ca0",
   "metadata": {},
   "source": [
    "## Modeli linearne regresije"
   ]
  },
  {
   "cell_type": "markdown",
   "id": "83250207",
   "metadata": {},
   "source": [
    "Osnovni algoritam regresije (a i cijele teorije strojnog učenja) je linearna regresija. Osim nje, postoje i neke modifikacije. Svaka ima svoje prednosti i mane, zbog kojih se sve koriste u određenim situacijama. Mi ćemo iskoristiti Lasso i Ridge, te usporediti rezultate svih."
   ]
  },
  {
   "cell_type": "markdown",
   "id": "3f9b8776",
   "metadata": {},
   "source": [
    "### Linearna Regresija"
   ]
  },
  {
   "cell_type": "code",
   "execution_count": 25,
   "id": "9c85001b",
   "metadata": {},
   "outputs": [
    {
     "name": "stdout",
     "output_type": "stream",
     "text": [
      "[[68.82978317 75.65367333 76.5264202  73.66978715]\n",
      " [61.43791046 69.04538718 67.23868091 65.90742088]\n",
      " [66.30005673 74.02577652 73.11160368 71.14560804]\n",
      " [58.2807336  65.64444182 61.96171883 61.96162227]\n",
      " [58.0741935  68.84461755 68.50461688 65.14102779]\n",
      " [60.89387957 68.41617614 66.14530088 65.1520576 ]\n",
      " [69.21019237 77.51525849 80.38918371 75.7051096 ]\n",
      " [66.30005673 74.02577652 73.11160368 71.14560804]\n",
      " [57.41327047 56.37489472 52.27488543 55.3539309 ]\n",
      " [70.67301671 65.42182192 62.84436233 66.31268573]\n",
      " [74.07233864 82.49564782 86.26210649 80.94329677]\n",
      " [53.21204723 63.86422822 62.6316941  59.90284062]\n",
      " [73.66028047 69.91636484 70.83603189 71.47101446]\n",
      " [70.12898581 64.79261088 61.7509823  65.55732246]\n",
      " [62.72509488 75.88538918 78.00114437 72.20422277]\n",
      " [65.15998252 65.45474064 64.55824529 65.05743598]\n",
      " [53.4207197  66.84043447 66.4048903  62.22217566]\n",
      " [67.11399007 63.86108788 61.47986104 64.15155805]\n",
      " [69.03845563 78.62987958 80.29961639 75.9891222 ]\n",
      " [69.2771121  64.10082514 61.76473786 65.04698355]\n",
      " [55.54446706 67.21672074 65.08980036 62.61684867]\n",
      " [54.07143433 64.89066301 63.29608636 60.75231932]\n",
      " [57.66213533 56.26533457 53.07854229 55.66874548]\n",
      " [73.03908243 76.40745214 75.19205267 74.87909011]\n",
      " [66.22292861 73.02071557 72.39751415 70.54678087]\n",
      " [71.97613634 68.84147722 67.35278381 69.38974522]\n",
      " [73.27987127 68.05477968 66.97326838 69.43569202]\n",
      " [66.30005673 74.02577652 73.11160368 71.14560804]\n",
      " [73.41949164 78.2690373  79.05481618 76.91441256]\n",
      " [65.88799856 61.44649353 57.68552909 61.67332574]\n",
      " [80.71097826 73.49504114 70.76234712 74.98881725]\n",
      " [61.43791046 69.04538718 67.23868091 65.90742088]\n",
      " [54.588378   54.00822672 48.57034574 52.3892031 ]\n",
      " [66.30005673 74.02577652 73.11160368 71.14560804]\n",
      " [60.89387957 68.41617614 66.14530088 65.1520576 ]\n",
      " [65.88799856 61.44649353 57.68552909 61.67332574]\n",
      " [68.82978317 75.65367333 76.5264202  73.66978715]\n",
      " [60.16586352 72.42442325 73.01801708 68.53616784]\n",
      " [74.07233864 82.49564782 86.26210649 80.94329677]\n",
      " [65.23711064 66.45980159 65.27233483 65.65626315]\n",
      " [76.50167899 72.74126233 72.09671465 73.77951429]\n",
      " [66.74738566 62.47292833 58.34992134 62.52280444]\n",
      " [66.74738566 62.47292833 58.34992134 62.52280444]\n",
      " [72.96195431 75.4023912  74.47796313 74.28026293]\n",
      " [73.20274314 67.04971874 66.25917885 68.83686484]\n",
      " [82.65459789 74.64547205 74.6604976  77.31967741]\n",
      " [71.46548408 79.86269007 82.13320043 77.82029048]\n",
      " [70.75014483 66.42688287 63.55845186 66.9115129 ]\n",
      " [60.01226585 70.67131149 71.68027461 67.45489226]\n",
      " [70.76785551 77.48036727 79.70207793 75.98365163]\n",
      " [72.62702427 63.82816916 59.76597807 65.40680781]\n",
      " [65.75602583 73.39656547 72.01822365 70.39024477]\n",
      " [78.44529862 73.89169323 75.99486513 76.11037446]\n",
      " [62.28349277 69.59839637 67.17024935 66.35033074]\n",
      " [68.417725   63.07439034 61.10034561 64.19750485]\n",
      " [70.75014483 66.42688287 63.55845186 66.9115129 ]\n",
      " [65.03569646 74.67592504 75.09108587 71.60041373]\n",
      " [68.23812908 75.85247046 76.28726141 73.45947252]\n",
      " [66.73358087 61.99950272 57.61709753 62.1162356 ]\n",
      " [77.86957974 70.67014365 69.50166436 72.68031742]\n",
      " [49.03755133 61.02489477 57.33359627 55.79814475]\n",
      " [78.44529862 73.89169323 75.99486513 76.11037446]\n",
      " [68.23812908 75.85247046 76.28726141 73.45947252]\n",
      " [72.05159089 80.34015598 81.64986647 78.01360943]\n",
      " [78.44529862 73.89169323 75.99486513 76.11037446]\n",
      " [63.71877204 70.78284414 69.84984058 68.11678541]\n",
      " [71.13055404 68.28846803 67.42121537 68.94683535]\n",
      " [72.68821718 68.25357681 66.73410959 69.22537738]\n",
      " [63.31674897 75.68659205 78.24030317 72.4145374 ]\n",
      " [72.93665365 82.06523391 84.92956766 79.97761886]\n",
      " [64.46235395 63.07241785 62.12712279 63.22079713]\n",
      " [65.23711064 66.45980159 65.27233483 65.65626315]\n",
      " [75.37154128 71.63458538 71.48666858 72.83083207]\n",
      " [71.5426122  80.86775101 82.84728997 78.41911766]\n",
      " [73.48068455 82.69444495 86.02294769 80.73298213]\n",
      " [72.62702427 63.82816916 59.76597807 65.40680781]\n",
      " [70.06957947 78.54169328 81.05357597 76.5545883 ]\n",
      " [61.93262751 61.44452104 58.71230627 60.69661801]\n",
      " [58.2807336  65.64444182 61.96171883 61.96162227]\n",
      " [73.03908243 76.40745214 75.19205267 74.87909011]\n",
      " [57.66213533 56.26533457 53.07854229 55.66874548]\n",
      " [66.22292861 73.02071557 72.39751415 70.54678087]\n",
      " [77.93077265 75.09555131 76.46979587 76.498887  ]\n",
      " [73.48641137 64.85460395 60.43037033 66.2562865 ]\n",
      " [71.44591024 68.68569178 66.9922276  69.04095078]\n",
      " [68.97783355 78.08304812 77.14166992 74.73406704]\n",
      " [57.48253941 69.04341468 68.26545809 64.93071315]\n",
      " [61.43791046 69.04538718 67.23868091 65.90742088]\n",
      " [75.44866941 72.63964632 72.20075812 73.42965924]\n",
      " [58.0741935  68.84461755 68.50461688 65.14102779]\n",
      " [59.37339615 57.98355511 53.72917898 57.02856309]\n",
      " [65.88799856 61.44649353 57.68552909 61.67332574]\n",
      " [68.417725   63.07439034 61.10034561 64.19750485]\n",
      " [77.48917053 68.8085585  65.63890085 70.64499497]\n",
      " [67.53985304 76.91379647 77.63875945 74.03040919]\n",
      " [66.99582214 76.28458543 76.54537942 73.27504591]\n",
      " [70.1840606  66.01570538 64.18643602 66.79538192]\n",
      " [74.97715478 78.23414608 78.36771039 77.19295459]\n",
      " [73.48068455 82.69444495 86.02294769 80.73298213]\n",
      " [63.46479936 78.11596684 78.85555289 73.47881729]\n",
      " [65.75602583 73.39656547 72.01822365 70.39024477]\n",
      " [70.67301671 65.42182192 62.84436233 66.31268573]\n",
      " [62.20636465 68.59333542 66.45615981 65.75150357]\n",
      " [57.41327047 56.37489472 52.27488543 55.3539309 ]\n",
      " [77.93077265 75.09555131 76.46979587 76.498887  ]\n",
      " [68.45891836 71.14628424 70.3957811  70.00008543]\n",
      " [65.88799856 61.44649353 57.68552909 61.67332574]\n",
      " [57.99706538 67.83955661 67.79052735 64.54220061]\n",
      " [68.82978317 75.65367333 76.5264202  73.66978715]\n",
      " [73.99521052 81.49058688 85.54801695 80.34446959]\n",
      " [62.29729756 70.07182197 67.90307316 66.75689957]\n",
      " [72.96195431 75.4023912  74.47796313 74.28026293]\n",
      " [53.48763943 53.42600112 47.78044445 51.56404961]\n",
      " [61.38859661 60.81530999 57.61892624 59.94125474]\n",
      " [77.29414636 87.18213047 91.38555276 85.28711904]\n",
      " [53.48763943 53.42600112 47.78044445 51.56404961]\n",
      " [66.99582214 76.28458543 76.54537942 73.27504591]\n",
      " [61.23435147 62.50584705 60.06380431 61.26755468]\n",
      " [57.99706538 67.83955661 67.79052735 64.54220061]\n",
      " [71.44591024 68.68569178 66.9922276  69.04095078]\n",
      " [65.34396767 60.81728249 56.59214906 60.91796246]\n",
      " [69.2771121  64.10082514 61.76473786 65.04698355]\n",
      " [59.91742704 58.61276615 54.82255901 57.78392636]\n",
      " [55.46733894 66.21165979 64.37571083 62.0180215 ]\n",
      " [64.827024   71.69971878 71.31788968 69.28107869]\n",
      " [71.5426122  80.86775101 82.84728997 78.41911766]\n",
      " [70.76785551 77.48036727 79.70207793 75.98365163]\n",
      " [70.1840606  66.01570538 64.18643602 66.79538192]\n",
      " [71.5426122  80.86775101 82.84728997 78.41911766]\n",
      " [77.41204241 67.80349755 64.92481131 70.0461678 ]\n",
      " [77.48917053 68.8085585  65.63890085 70.64499497]\n",
      " [60.89387957 68.41617614 66.14530088 65.1520576 ]\n",
      " [73.27987127 68.05477968 66.97326838 69.43569202]\n",
      " [71.5426122  80.86775101 82.84728997 78.41911766]\n",
      " [57.4213465  64.61800703 61.29732657 61.11214357]\n",
      " [61.23435147 62.50584705 60.06380431 61.26755468]\n",
      " [78.28163791 83.24942664 84.92773895 82.15259972]\n",
      " [64.827024   71.69971878 71.31788968 69.28107869]\n",
      " [56.26211821 69.66533196 67.66557306 64.53067549]\n",
      " [82.65459789 74.64547205 74.6604976  77.31967741]\n",
      " [67.69409818 75.22325941 75.19388138 72.70410924]\n",
      " [57.99706538 67.83955661 67.79052735 64.54220061]\n",
      " [78.20450979 82.24436569 84.21364942 81.55377255]\n",
      " [70.67301671 65.42182192 62.84436233 66.31268573]\n",
      " [55.54446706 67.21672074 65.08980036 62.61684867]\n",
      " [70.12898581 64.79261088 61.7509823  65.55732246]\n",
      " [57.99706538 67.83955661 67.79052735 64.54220061]\n",
      " [57.48253941 69.04341468 68.26545809 64.93071315]\n",
      " [73.97195255 71.11336552 68.68189814 71.25533518]\n",
      " [55.38084537 68.44909486 67.85918384 63.89680785]\n",
      " [82.73172601 75.65053299 75.37458713 77.91850459]\n",
      " [63.9676369  70.67328399 70.65349743 68.43159999]\n",
      " [57.99706538 67.83955661 67.79052735 64.54220061]\n",
      " [66.20335477 61.84371728 57.25654131 61.76744116]\n",
      " [68.417725   63.07439034 61.10034561 64.19750485]\n",
      " [63.9676369  70.67328399 70.65349743 68.43159999]\n",
      " [66.30005673 74.02577652 73.11160368 71.14560804]\n",
      " [78.44529862 73.89169323 75.99486513 76.11037446]\n",
      " [56.93850851 68.41420364 67.17207806 64.17534988]\n",
      " [55.46733894 66.21165979 64.37571083 62.0180215 ]\n",
      " [66.22292861 73.02071557 72.39751415 70.54678087]\n",
      " [62.65582594 63.21686921 62.01057172 62.62744052]\n",
      " [71.13055404 68.28846803 67.42121537 68.94683535]\n",
      " [70.67301671 65.42182192 62.84436233 66.31268573]\n",
      " [79.21450802 77.95534001 78.41758442 78.5288448 ]\n",
      " [65.50530049 74.28487901 72.29369562 70.69415302]\n",
      " [66.22292861 73.02071557 72.39751415 70.54678087]\n",
      " [70.67301671 65.42182192 62.84436233 66.31268573]\n",
      " [65.23711064 66.45980159 65.27233483 65.65626315]\n",
      " [55.1324089  54.63743776 49.66372577 53.14456637]\n",
      " [79.42724288 70.63525244 68.81455857 72.95885945]\n",
      " [77.41204241 67.80349755 64.92481131 70.0461678 ]\n",
      " [62.28349277 69.59839637 67.17024935 66.35033074]\n",
      " [63.9676369  70.67328399 70.65349743 68.43159999]\n",
      " [74.76441992 85.55423366 87.97073624 82.76293993]\n",
      " [77.41204241 67.80349755 64.92481131 70.0461678 ]\n",
      " [62.72509488 75.88538918 78.00114437 72.20422277]\n",
      " [58.7301949  60.26797562 57.51613073 58.83755922]\n",
      " [78.72896684 71.69657845 70.16605661 73.52979612]\n",
      " [71.98994114 69.31490282 68.08560763 69.79631405]\n",
      " [58.2807336  65.64444182 61.96171883 61.96162227]\n",
      " [68.417725   63.07439034 61.10034561 64.19750485]\n",
      " [73.20274314 67.04971874 66.25917885 68.83686484]\n",
      " [72.96195431 75.4023912  74.47796313 74.28026293]\n",
      " [66.99582214 76.28458543 76.54537942 73.27504591]\n",
      " [70.12898581 64.79261088 61.7509823  65.55732246]\n",
      " [67.17518298 68.28649553 68.44799255 67.97012763]\n",
      " [65.34396767 60.81728249 56.59214906 60.91796246]\n",
      " [70.06957947 78.54169328 81.05357597 76.5545883 ]\n",
      " [62.29729756 70.07182197 67.90307316 66.75689957]\n",
      " [68.417725   63.07439034 61.10034561 64.19750485]\n",
      " [50.6823208  62.2363314  59.21687759 57.37866151]\n",
      " [63.71877204 70.78284414 69.84984058 68.11678541]\n",
      " [73.48068455 82.69444495 86.02294769 80.73298213]\n",
      " [55.38084537 68.44909486 67.85918384 63.89680785]\n",
      " [66.68046594 75.88736167 76.97436719 73.18093049]\n",
      " [61.43791046 69.04538718 67.23868091 65.90742088]\n",
      " [68.16886014 63.18395049 60.29668876 63.88269027]\n",
      " [68.23812908 75.85247046 76.28726141 73.45947252]\n",
      " [55.1324089  54.63743776 49.66372577 53.14456637]]\n",
      "Objasnjena varijanca = 0.31\n",
      "R2 = 0.30\n",
      "MSE = 146.31\n"
     ]
    }
   ],
   "source": [
    "model = Pipeline([ ('linear', LinearRegression()) ])\n",
    "model = model.fit(features, targets)\n",
    "\n",
    "regr_pred = model.predict(test.loc[:, 'gender' : 'test preparation course'])\n",
    "print(regr_pred)\n",
    "\n",
    "correct_scores = test.loc[:, 'math score' : 'Total score']\n",
    "explained_variance = explained_variance_score(correct_scores, regr_pred)\n",
    "R2 = r2_score(correct_scores, regr_pred)\n",
    "MSE = mean_squared_error(correct_scores, regr_pred)\n",
    "\n",
    "print('Objasnjena varijanca = '+'{0:.2f}'.format(explained_variance)+'\\nR2 = '+'{0:.2f}'.format(R2)+'\\nMSE = '+'{0:.2f}'.format(MSE))"
   ]
  },
  {
   "cell_type": "code",
   "execution_count": 26,
   "id": "efe50f3a",
   "metadata": {},
   "outputs": [],
   "source": [
    "def lin_reg(X,y):\n",
    "    LinearReg = LinearRegression(normalize = True)\n",
    "    LinearReg = LinearReg.fit(X,y)\n",
    "\n",
    "    return LinearReg\n"
   ]
  },
  {
   "cell_type": "code",
   "execution_count": 27,
   "id": "230d807f",
   "metadata": {},
   "outputs": [],
   "source": [
    "model_LINEAR = lin_reg(train_X,train_y)\n",
    "\n",
    "predicted_valid_y = model_LINEAR.predict(valid_X)"
   ]
  },
  {
   "cell_type": "code",
   "execution_count": 28,
   "id": "413df37e",
   "metadata": {},
   "outputs": [
    {
     "name": "stdout",
     "output_type": "stream",
     "text": [
      "12.173729915781685\n",
      "Test set\n",
      "MSE: 148.19970006239797\n",
      "MAE: 9.725579943586775\n",
      "RMSE: 12.173729915781685\n",
      "R-squared: 0.28018917141684585 , from <0,1> \n"
     ]
    }
   ],
   "source": [
    "residual(valid_y, predicted_valid_y)\n",
    "evaluateRegressor(valid_y, predicted_valid_y)"
   ]
  },
  {
   "cell_type": "markdown",
   "id": "eac4ff29",
   "metadata": {},
   "source": [
    "### MultitaskLasso Regresija (3 izlaza)"
   ]
  },
  {
   "cell_type": "code",
   "execution_count": 29,
   "id": "9b004bc2",
   "metadata": {},
   "outputs": [],
   "source": [
    "X_lasso =df.drop([\"math score\",\"reading score\",\"writing score\",\"AVERAGE\"],axis = 'columns') \n",
    "Y_3_lasso =df[[\"math score\",\"reading score\",\"writing score\"]]\n",
    "\n",
    "X_lasso = encode_data(X_lasso,enc_type=\"LABEL\",removeY=False)"
   ]
  },
  {
   "cell_type": "code",
   "execution_count": 30,
   "id": "18afe7d8",
   "metadata": {},
   "outputs": [],
   "source": [
    "train_X_lasso, valid_X_lasso, train_y_lasso, valid_y_lasso = train_test_split(\n",
    "    X_lasso, \n",
    "    Y_3_lasso, \n",
    "    test_size=0.2, \n",
    "    shuffle = True, \n",
    "    #random_state=1\n",
    ")"
   ]
  },
  {
   "cell_type": "code",
   "execution_count": 31,
   "id": "f899f9c7",
   "metadata": {},
   "outputs": [],
   "source": [
    "# import linear model library\n",
    "from sklearn import linear_model\n",
    "  \n",
    "# create MultiTaskLasso model\n",
    "MTL = linear_model.MultiTaskLasso(alpha = 0.5)\n",
    "\n",
    "# fit the model to a data\n",
    "#MTL.fit([[1, 0], [1, 3], [2, 2]], [[0, 2], [1, 4], [2, 4]])\n",
    "MTL.fit(train_X_lasso,train_y_lasso)\n",
    "\n",
    "pred=MTL.predict(valid_X_lasso)\n",
    "# perform prediction and print the result\n",
    "#print(\"Prediciton result: \\n\", MTL.predict(valid_X_lasso), \"\\n\")\n",
    "  \n",
    "# print the coefficients\n",
    "#print(\"Coefficients: \\n\", MTL.coef_, \"\\n\")\n",
    "  \n",
    "# print the intercepts\n",
    "#print(\"Intercepts: \\n\", MTL.intercept_, \"\\n\")\n",
    "  \n",
    "# print the number of iterations performed\n",
    "#print(\"Number of Iterations: \", MTL.n_iter_, \"\\n\")"
   ]
  },
  {
   "cell_type": "code",
   "execution_count": 32,
   "id": "12aa198c",
   "metadata": {},
   "outputs": [
    {
     "name": "stdout",
     "output_type": "stream",
     "text": [
      "math score       13.860696\n",
      "reading score    12.818428\n",
      "writing score    12.563250\n",
      "dtype: float64\n",
      "\n",
      "Scores:\n",
      "Test set\n",
      "MSE: 171.4220845033959\n",
      "MAE: 10.427402013978332\n",
      "RMSE: 13.080791496714767\n",
      "R-squared: 0.256177633475969 , from <0,1> \n"
     ]
    }
   ],
   "source": [
    "residual(valid_y_lasso, pred)\n",
    "\n",
    "print(\"\\nScores:\")\n",
    "evaluateRegressor(valid_y_lasso, pred)"
   ]
  },
  {
   "cell_type": "markdown",
   "id": "5428a2ae",
   "metadata": {},
   "source": [
    "## Ridge regresija"
   ]
  },
  {
   "cell_type": "code",
   "execution_count": 33,
   "id": "e7e734bb",
   "metadata": {},
   "outputs": [
    {
     "name": "stdout",
     "output_type": "stream",
     "text": [
      "Objasnjena varijanca = 0.31\n",
      "R2 = 0.30\n",
      "MSE = 147.49\n"
     ]
    },
    {
     "data": {
      "image/png": "[encoded data removed]",
      "text/plain": [
       "<Figure size 1080x324 with 3 Axes>"
      ]
     },
     "metadata": {
      "needs_background": "light"
     },
     "output_type": "display_data"
    }
   ],
   "source": [
    "fig, ax = plt.subplots(1, 3, figsize=(15, 4.5))\n",
    "alpha_array = np.linspace(0.01, 20.0, 100)\n",
    "R2 = []\n",
    "MSE = []\n",
    "explained_variance = []\n",
    "\n",
    "for alpha in alpha_array:\n",
    "    model_ridge = Pipeline( [ ('ridge', Ridge(alpha=alpha)) ] )\n",
    "    model_ridge = model_ridge.fit(features, targets)\n",
    "    #R2_ridge = model_ridge.score(test.loc[:, 'gender' : 'test preparation course'], correct_scores)\n",
    "    regr_pred = model_ridge.predict(test.loc[:, 'gender' : 'test preparation course'])\n",
    "    explained_variance.append(explained_variance_score(correct_scores, regr_pred))\n",
    "    R2.append(r2_score(correct_scores, regr_pred))\n",
    "    MSE.append(mean_squared_error(correct_scores, regr_pred))\n",
    "\n",
    "def avg(arr):\n",
    "    return sum(arr) / len(arr)\n",
    "\n",
    "print('Objasnjena varijanca = '+'{0:.2f}'.format(avg(explained_variance))+'\\nR2 = '+'{0:.2f}'.format(avg(R2))+'\\nMSE = '+'{0:.2f}'.format(avg(MSE)))\n",
    "ax[0].plot(alpha_array, R2)\n",
    "ax[0].set(xlabel='alpha', ylabel='R^2')\n",
    "ax[1].plot(alpha_array, MSE)\n",
    "ax[1].set(xlabel='alpha', ylabel='MSE')\n",
    "ax[2].plot(alpha_array, explained_variance)\n",
    "ax[2].set(xlabel='alpha', ylabel='Objasnjena varijanca')\n",
    "\n",
    "plt.show()"
   ]
  },
  {
   "cell_type": "markdown",
   "id": "4914852e",
   "metadata": {},
   "source": [
    "## XGBoost"
   ]
  },
  {
   "cell_type": "code",
   "execution_count": null,
   "id": "727ec684",
   "metadata": {},
   "outputs": [],
   "source": []
  },
  {
   "cell_type": "code",
   "execution_count": null,
   "id": "dcb2f550",
   "metadata": {},
   "outputs": [],
   "source": []
  },
  {
   "cell_type": "markdown",
   "id": "dad5824b",
   "metadata": {},
   "source": [
    "## LightGBM"
   ]
  },
  {
   "cell_type": "code",
   "execution_count": 34,
   "id": "47fab67b",
   "metadata": {},
   "outputs": [
    {
     "name": "stdout",
     "output_type": "stream",
     "text": [
      "    Training Set\n",
      "MSE: 137.64572706425244\n",
      "MAE: 9.370538765975732\n",
      "RMSE: 11.732251576924714\n",
      "R-squared: 0.3197861707087939 , from <0,1> \n",
      "    Test Set\n",
      "MSE: 157.60183185692952\n",
      "MAE: 10.030038841736843\n",
      "RMSE: 12.55395682073702\n",
      "R-squared: 0.23452270735099223 , from <0,1> \n"
     ]
    }
   ],
   "source": [
    "LGBMReg = lgb.LGBMRegressor(random_state=0).fit(train_X,train_y)\n",
    "\n",
    "predicted_train_y = LGBMReg.predict(train_X)\n",
    "evaluateRegressor(train_y,predicted_train_y,\"    Training Set\")\n",
    "predicted_valid_y = LGBMReg.predict(valid_X)\n",
    "evaluateRegressor(valid_y,predicted_valid_y,\"    Test Set\")"
   ]
  },
  {
   "cell_type": "code",
   "execution_count": 35,
   "id": "2c2467a0",
   "metadata": {},
   "outputs": [
    {
     "data": {
      "text/plain": [
       "<AxesSubplot:title={'center':'Feature importance'}, xlabel='Feature importance', ylabel='Features'>"
      ]
     },
     "execution_count": 35,
     "metadata": {},
     "output_type": "execute_result"
    },
    {
     "data": {
      "image/png": "[encoded data removed]",
      "text/plain": [
       "<Figure size 1800x1440 with 1 Axes>"
      ]
     },
     "metadata": {
      "needs_background": "light"
     },
     "output_type": "display_data"
    }
   ],
   "source": [
    "lgb.plot_importance(LGBMReg,figsize=(25,20))"
   ]
  },
  {
   "cell_type": "code",
   "execution_count": 36,
   "id": "73e44490",
   "metadata": {},
   "outputs": [
    {
     "data": {
      "image/png": "[encoded data removed]",
      "text/plain": [
       "<Figure size 576x252 with 2 Axes>"
      ]
     },
     "metadata": {
      "needs_background": "light"
     },
     "output_type": "display_data"
    }
   ],
   "source": [
    "#LGBMReg.params['objective'] = 'regression'\n",
    "shap_values = shap.TreeExplainer(LGBMReg).shap_values(train_X)\n",
    "shap.summary_plot(shap_values, train_X)"
   ]
  },
  {
   "cell_type": "markdown",
   "id": "a4651dd3",
   "metadata": {},
   "source": [
    "## CATBoost"
   ]
  },
  {
   "cell_type": "code",
   "execution_count": 37,
   "id": "923033da",
   "metadata": {},
   "outputs": [
    {
     "name": "stdout",
     "output_type": "stream",
     "text": [
      "0:\tlearn: 13.2088081\ttotal: 49.9ms\tremaining: 9.93s\n",
      "1:\tlearn: 13.0730983\ttotal: 50.9ms\tremaining: 5.04s\n",
      "2:\tlearn: 12.7550367\ttotal: 51.6ms\tremaining: 3.39s\n",
      "3:\tlearn: 12.7168657\ttotal: 52.4ms\tremaining: 2.57s\n",
      "4:\tlearn: 12.6512263\ttotal: 53.2ms\tremaining: 2.07s\n",
      "5:\tlearn: 12.6367633\ttotal: 53.8ms\tremaining: 1.74s\n",
      "6:\tlearn: 12.6070540\ttotal: 54.5ms\tremaining: 1.5s\n",
      "7:\tlearn: 12.5905330\ttotal: 55.2ms\tremaining: 1.32s\n",
      "8:\tlearn: 12.5835374\ttotal: 56ms\tremaining: 1.19s\n",
      "9:\tlearn: 12.5734185\ttotal: 56.8ms\tremaining: 1.08s\n",
      "10:\tlearn: 12.5617222\ttotal: 57.6ms\tremaining: 990ms\n",
      "11:\tlearn: 12.5455422\ttotal: 58.3ms\tremaining: 913ms\n",
      "12:\tlearn: 12.5379597\ttotal: 59ms\tremaining: 848ms\n",
      "13:\tlearn: 12.5303680\ttotal: 59.7ms\tremaining: 793ms\n",
      "14:\tlearn: 12.5244373\ttotal: 60.3ms\tremaining: 744ms\n",
      "15:\tlearn: 12.5225976\ttotal: 61.1ms\tremaining: 702ms\n",
      "16:\tlearn: 12.5155032\ttotal: 61.8ms\tremaining: 665ms\n",
      "17:\tlearn: 12.5133405\ttotal: 62.4ms\tremaining: 631ms\n",
      "18:\tlearn: 12.5104069\ttotal: 63.1ms\tremaining: 601ms\n",
      "19:\tlearn: 12.4989901\ttotal: 63.7ms\tremaining: 573ms\n",
      "20:\tlearn: 12.4961787\ttotal: 64.5ms\tremaining: 550ms\n",
      "21:\tlearn: 12.4906468\ttotal: 65.3ms\tremaining: 529ms\n",
      "22:\tlearn: 12.4865058\ttotal: 66.1ms\tremaining: 509ms\n",
      "23:\tlearn: 12.4784447\ttotal: 66.8ms\tremaining: 490ms\n",
      "24:\tlearn: 12.4692990\ttotal: 67.5ms\tremaining: 473ms\n",
      "25:\tlearn: 12.4680608\ttotal: 68.3ms\tremaining: 457ms\n",
      "26:\tlearn: 12.4642294\ttotal: 69.1ms\tremaining: 443ms\n",
      "27:\tlearn: 12.4607096\ttotal: 69.9ms\tremaining: 430ms\n",
      "28:\tlearn: 12.4586232\ttotal: 70.7ms\tremaining: 417ms\n",
      "29:\tlearn: 12.4561878\ttotal: 71.3ms\tremaining: 404ms\n",
      "30:\tlearn: 12.4544981\ttotal: 72ms\tremaining: 393ms\n",
      "31:\tlearn: 12.4508467\ttotal: 72.7ms\tremaining: 382ms\n",
      "32:\tlearn: 12.4461586\ttotal: 73.4ms\tremaining: 371ms\n",
      "33:\tlearn: 12.4413452\ttotal: 74.2ms\tremaining: 362ms\n",
      "34:\tlearn: 12.4405881\ttotal: 74.9ms\tremaining: 353ms\n",
      "35:\tlearn: 12.4349184\ttotal: 75.5ms\tremaining: 344ms\n",
      "36:\tlearn: 12.4343530\ttotal: 76.2ms\tremaining: 335ms\n",
      "37:\tlearn: 12.4328927\ttotal: 76.8ms\tremaining: 327ms\n",
      "38:\tlearn: 12.4257283\ttotal: 77.5ms\tremaining: 320ms\n",
      "39:\tlearn: 12.4072596\ttotal: 78.1ms\tremaining: 313ms\n",
      "40:\tlearn: 12.4035374\ttotal: 78.8ms\tremaining: 306ms\n",
      "41:\tlearn: 12.4010962\ttotal: 79.7ms\tremaining: 300ms\n",
      "42:\tlearn: 12.3992377\ttotal: 80.4ms\tremaining: 293ms\n",
      "43:\tlearn: 12.3913817\ttotal: 81ms\tremaining: 287ms\n",
      "44:\tlearn: 12.3902147\ttotal: 81.6ms\tremaining: 281ms\n",
      "45:\tlearn: 12.3881056\ttotal: 82.3ms\tremaining: 275ms\n",
      "46:\tlearn: 12.3871934\ttotal: 82.8ms\tremaining: 270ms\n",
      "47:\tlearn: 12.3848307\ttotal: 83.5ms\tremaining: 265ms\n",
      "48:\tlearn: 12.3817842\ttotal: 84.2ms\tremaining: 260ms\n",
      "49:\tlearn: 12.3813005\ttotal: 84.8ms\tremaining: 254ms\n",
      "50:\tlearn: 12.3795708\ttotal: 85.8ms\tremaining: 251ms\n",
      "51:\tlearn: 12.3790334\ttotal: 86.5ms\tremaining: 246ms\n",
      "52:\tlearn: 12.3777768\ttotal: 87.1ms\tremaining: 242ms\n",
      "53:\tlearn: 12.3737098\ttotal: 87.7ms\tremaining: 237ms\n",
      "54:\tlearn: 12.3724774\ttotal: 88.3ms\tremaining: 233ms\n",
      "55:\tlearn: 12.3715875\ttotal: 89.2ms\tremaining: 229ms\n",
      "56:\tlearn: 12.3689045\ttotal: 89.9ms\tremaining: 225ms\n",
      "57:\tlearn: 12.3681464\ttotal: 90.7ms\tremaining: 222ms\n",
      "58:\tlearn: 12.3675437\ttotal: 91.4ms\tremaining: 218ms\n",
      "59:\tlearn: 12.3667582\ttotal: 92.1ms\tremaining: 215ms\n",
      "60:\tlearn: 12.3655951\ttotal: 92.8ms\tremaining: 212ms\n",
      "61:\tlearn: 12.3655159\ttotal: 93.5ms\tremaining: 208ms\n",
      "62:\tlearn: 12.3638619\ttotal: 94.2ms\tremaining: 205ms\n",
      "63:\tlearn: 12.3627409\ttotal: 94.8ms\tremaining: 202ms\n",
      "64:\tlearn: 12.3624010\ttotal: 95.3ms\tremaining: 198ms\n",
      "65:\tlearn: 12.3609841\ttotal: 96.1ms\tremaining: 195ms\n",
      "66:\tlearn: 12.3590446\ttotal: 96.7ms\tremaining: 192ms\n",
      "67:\tlearn: 12.3588598\ttotal: 97.3ms\tremaining: 189ms\n",
      "68:\tlearn: 12.3580351\ttotal: 98ms\tremaining: 186ms\n",
      "69:\tlearn: 12.3567756\ttotal: 98.7ms\tremaining: 183ms\n",
      "70:\tlearn: 12.3566149\ttotal: 99.3ms\tremaining: 180ms\n",
      "71:\tlearn: 12.3565406\ttotal: 100ms\tremaining: 178ms\n",
      "72:\tlearn: 12.3546965\ttotal: 101ms\tremaining: 175ms\n",
      "73:\tlearn: 12.3546023\ttotal: 101ms\tremaining: 172ms\n",
      "74:\tlearn: 12.3538390\ttotal: 102ms\tremaining: 170ms\n",
      "75:\tlearn: 12.3531093\ttotal: 103ms\tremaining: 167ms\n",
      "76:\tlearn: 12.3513616\ttotal: 103ms\tremaining: 165ms\n",
      "77:\tlearn: 12.3501630\ttotal: 104ms\tremaining: 162ms\n",
      "78:\tlearn: 12.3495661\ttotal: 105ms\tremaining: 160ms\n",
      "79:\tlearn: 12.3494856\ttotal: 105ms\tremaining: 158ms\n",
      "80:\tlearn: 12.3491762\ttotal: 106ms\tremaining: 155ms\n",
      "81:\tlearn: 12.3488474\ttotal: 106ms\tremaining: 153ms\n",
      "82:\tlearn: 12.3485352\ttotal: 107ms\tremaining: 151ms\n",
      "83:\tlearn: 12.3481692\ttotal: 108ms\tremaining: 149ms\n",
      "84:\tlearn: 12.3479916\ttotal: 108ms\tremaining: 147ms\n",
      "85:\tlearn: 12.3478439\ttotal: 109ms\tremaining: 145ms\n",
      "86:\tlearn: 12.3475178\ttotal: 110ms\tremaining: 143ms\n",
      "87:\tlearn: 12.3470858\ttotal: 110ms\tremaining: 141ms\n",
      "88:\tlearn: 12.3469720\ttotal: 111ms\tremaining: 138ms\n",
      "89:\tlearn: 12.3467087\ttotal: 112ms\tremaining: 137ms\n",
      "90:\tlearn: 12.3456306\ttotal: 112ms\tremaining: 135ms\n",
      "91:\tlearn: 12.3452921\ttotal: 113ms\tremaining: 133ms\n",
      "92:\tlearn: 12.3452915\ttotal: 114ms\tremaining: 131ms\n",
      "93:\tlearn: 12.3444012\ttotal: 114ms\tremaining: 129ms\n",
      "94:\tlearn: 12.3438449\ttotal: 115ms\tremaining: 127ms\n",
      "95:\tlearn: 12.3434355\ttotal: 116ms\tremaining: 125ms\n",
      "96:\tlearn: 12.3420191\ttotal: 117ms\tremaining: 124ms\n",
      "97:\tlearn: 12.3419208\ttotal: 117ms\tremaining: 122ms\n",
      "98:\tlearn: 12.3418473\ttotal: 118ms\tremaining: 120ms\n",
      "99:\tlearn: 12.3416302\ttotal: 119ms\tremaining: 119ms\n",
      "100:\tlearn: 12.3414866\ttotal: 119ms\tremaining: 117ms\n",
      "101:\tlearn: 12.3414542\ttotal: 120ms\tremaining: 115ms\n",
      "102:\tlearn: 12.3407695\ttotal: 120ms\tremaining: 113ms\n",
      "103:\tlearn: 12.3407674\ttotal: 121ms\tremaining: 112ms\n",
      "104:\tlearn: 12.3407624\ttotal: 122ms\tremaining: 110ms\n",
      "105:\tlearn: 12.3407457\ttotal: 123ms\tremaining: 109ms\n",
      "106:\tlearn: 12.3407449\ttotal: 123ms\tremaining: 107ms\n",
      "107:\tlearn: 12.3406330\ttotal: 124ms\tremaining: 105ms\n",
      "108:\tlearn: 12.3404518\ttotal: 124ms\tremaining: 104ms\n",
      "109:\tlearn: 12.3400264\ttotal: 125ms\tremaining: 102ms\n",
      "110:\tlearn: 12.3388228\ttotal: 126ms\tremaining: 101ms\n",
      "111:\tlearn: 12.3383696\ttotal: 127ms\tremaining: 99.5ms\n",
      "112:\tlearn: 12.3376609\ttotal: 127ms\tremaining: 98.1ms\n",
      "113:\tlearn: 12.3373431\ttotal: 128ms\tremaining: 96.6ms\n",
      "114:\tlearn: 12.3372573\ttotal: 129ms\tremaining: 95.2ms\n",
      "115:\tlearn: 12.3358165\ttotal: 129ms\tremaining: 93.8ms\n",
      "116:\tlearn: 12.3357888\ttotal: 130ms\tremaining: 92.2ms\n",
      "117:\tlearn: 12.3357114\ttotal: 131ms\tremaining: 90.7ms\n",
      "118:\tlearn: 12.3355680\ttotal: 131ms\tremaining: 89.4ms\n",
      "119:\tlearn: 12.3355007\ttotal: 132ms\tremaining: 87.9ms\n",
      "120:\tlearn: 12.3344641\ttotal: 133ms\tremaining: 86.6ms\n",
      "121:\tlearn: 12.3339013\ttotal: 133ms\tremaining: 85.1ms\n",
      "122:\tlearn: 12.3337331\ttotal: 134ms\tremaining: 83.7ms\n",
      "123:\tlearn: 12.3332275\ttotal: 134ms\tremaining: 82.4ms\n",
      "124:\tlearn: 12.3327752\ttotal: 135ms\tremaining: 81ms\n",
      "125:\tlearn: 12.3327639\ttotal: 136ms\tremaining: 79.7ms\n",
      "126:\tlearn: 12.3327565\ttotal: 136ms\tremaining: 78.3ms\n",
      "127:\tlearn: 12.3327379\ttotal: 137ms\tremaining: 77ms\n",
      "128:\tlearn: 12.3327183\ttotal: 137ms\tremaining: 75.6ms\n",
      "129:\tlearn: 12.3324549\ttotal: 138ms\tremaining: 74.3ms\n",
      "130:\tlearn: 12.3322605\ttotal: 139ms\tremaining: 73ms\n",
      "131:\tlearn: 12.3321198\ttotal: 139ms\tremaining: 71.7ms\n",
      "132:\tlearn: 12.3320051\ttotal: 140ms\tremaining: 70.4ms\n",
      "133:\tlearn: 12.3320020\ttotal: 140ms\tremaining: 69.1ms\n",
      "134:\tlearn: 12.3316162\ttotal: 141ms\tremaining: 67.9ms\n",
      "135:\tlearn: 12.3314449\ttotal: 142ms\tremaining: 66.7ms\n",
      "136:\tlearn: 12.3311381\ttotal: 142ms\tremaining: 65.4ms\n",
      "137:\tlearn: 12.3311380\ttotal: 143ms\tremaining: 64.2ms\n",
      "138:\tlearn: 12.3311380\ttotal: 143ms\tremaining: 62.9ms\n",
      "139:\tlearn: 12.3311032\ttotal: 144ms\tremaining: 61.7ms\n",
      "140:\tlearn: 12.3311020\ttotal: 145ms\tremaining: 60.5ms\n",
      "141:\tlearn: 12.3310733\ttotal: 145ms\tremaining: 59.3ms\n",
      "142:\tlearn: 12.3307315\ttotal: 146ms\tremaining: 58.1ms\n",
      "143:\tlearn: 12.3307310\ttotal: 146ms\tremaining: 56.9ms\n",
      "144:\tlearn: 12.3306132\ttotal: 147ms\tremaining: 55.7ms\n",
      "145:\tlearn: 12.3306019\ttotal: 148ms\tremaining: 54.6ms\n",
      "146:\tlearn: 12.3306000\ttotal: 148ms\tremaining: 53.5ms\n",
      "147:\tlearn: 12.3305454\ttotal: 149ms\tremaining: 52.3ms\n",
      "148:\tlearn: 12.3300377\ttotal: 150ms\tremaining: 51.2ms\n",
      "149:\tlearn: 12.3297317\ttotal: 150ms\tremaining: 50.1ms\n",
      "150:\tlearn: 12.3297265\ttotal: 151ms\tremaining: 48.9ms\n",
      "151:\tlearn: 12.3296846\ttotal: 151ms\tremaining: 47.8ms\n",
      "152:\tlearn: 12.3288202\ttotal: 152ms\tremaining: 46.6ms\n",
      "153:\tlearn: 12.3288195\ttotal: 152ms\tremaining: 45.5ms\n",
      "154:\tlearn: 12.3288153\ttotal: 153ms\tremaining: 44.4ms\n",
      "155:\tlearn: 12.3286488\ttotal: 154ms\tremaining: 43.3ms\n",
      "156:\tlearn: 12.3283556\ttotal: 154ms\tremaining: 42.3ms\n",
      "157:\tlearn: 12.3282470\ttotal: 155ms\tremaining: 41.2ms\n",
      "158:\tlearn: 12.3282446\ttotal: 156ms\tremaining: 40.1ms\n",
      "159:\tlearn: 12.3280480\ttotal: 156ms\tremaining: 39.1ms\n",
      "160:\tlearn: 12.3277103\ttotal: 157ms\tremaining: 38ms\n",
      "161:\tlearn: 12.3276957\ttotal: 158ms\tremaining: 37ms\n",
      "162:\tlearn: 12.3273352\ttotal: 158ms\tremaining: 35.9ms\n",
      "163:\tlearn: 12.3266260\ttotal: 159ms\tremaining: 34.9ms\n",
      "164:\tlearn: 12.3264116\ttotal: 160ms\tremaining: 33.9ms\n",
      "165:\tlearn: 12.3263912\ttotal: 160ms\tremaining: 32.8ms\n",
      "166:\tlearn: 12.3263717\ttotal: 161ms\tremaining: 31.8ms\n",
      "167:\tlearn: 12.3262217\ttotal: 162ms\tremaining: 30.8ms\n",
      "168:\tlearn: 12.3256858\ttotal: 163ms\tremaining: 29.8ms\n",
      "169:\tlearn: 12.3251306\ttotal: 163ms\tremaining: 28.8ms\n",
      "170:\tlearn: 12.3251202\ttotal: 164ms\tremaining: 27.8ms\n",
      "171:\tlearn: 12.3246483\ttotal: 164ms\tremaining: 26.7ms\n",
      "172:\tlearn: 12.3246374\ttotal: 165ms\tremaining: 25.7ms\n",
      "173:\tlearn: 12.3246169\ttotal: 165ms\tremaining: 24.7ms\n",
      "174:\tlearn: 12.3244540\ttotal: 166ms\tremaining: 23.6ms\n",
      "175:\tlearn: 12.3244524\ttotal: 166ms\tremaining: 22.6ms\n",
      "176:\tlearn: 12.3244343\ttotal: 166ms\tremaining: 21.6ms\n",
      "177:\tlearn: 12.3241666\ttotal: 167ms\tremaining: 20.6ms\n",
      "178:\tlearn: 12.3238746\ttotal: 167ms\tremaining: 19.6ms\n",
      "179:\tlearn: 12.3235346\ttotal: 168ms\tremaining: 18.6ms\n",
      "180:\tlearn: 12.3232150\ttotal: 168ms\tremaining: 17.7ms\n",
      "181:\tlearn: 12.3232143\ttotal: 169ms\tremaining: 16.7ms\n",
      "182:\tlearn: 12.3229136\ttotal: 169ms\tremaining: 15.7ms\n",
      "183:\tlearn: 12.3229074\ttotal: 170ms\tremaining: 14.7ms\n",
      "184:\tlearn: 12.3229066\ttotal: 170ms\tremaining: 13.8ms\n",
      "185:\tlearn: 12.3228140\ttotal: 170ms\tremaining: 12.8ms\n",
      "186:\tlearn: 12.3227002\ttotal: 171ms\tremaining: 11.9ms\n",
      "187:\tlearn: 12.3226792\ttotal: 171ms\tremaining: 10.9ms\n",
      "188:\tlearn: 12.3226774\ttotal: 171ms\tremaining: 9.98ms\n",
      "189:\tlearn: 12.3226744\ttotal: 172ms\tremaining: 9.04ms\n",
      "190:\tlearn: 12.3226718\ttotal: 172ms\tremaining: 8.11ms\n",
      "191:\tlearn: 12.3225903\ttotal: 172ms\tremaining: 7.18ms\n",
      "192:\tlearn: 12.3224949\ttotal: 173ms\tremaining: 6.26ms\n",
      "193:\tlearn: 12.3224634\ttotal: 173ms\tremaining: 5.35ms\n",
      "194:\tlearn: 12.3224620\ttotal: 173ms\tremaining: 4.45ms\n",
      "195:\tlearn: 12.3224607\ttotal: 174ms\tremaining: 3.55ms\n",
      "196:\tlearn: 12.3224329\ttotal: 174ms\tremaining: 2.65ms\n",
      "197:\tlearn: 12.3224249\ttotal: 175ms\tremaining: 1.76ms\n",
      "198:\tlearn: 12.3224242\ttotal: 175ms\tremaining: 878us\n",
      "199:\tlearn: 12.3224218\ttotal: 175ms\tremaining: 0us\n"
     ]
    },
    {
     "data": {
      "text/plain": [
       "<catboost.core.CatBoostRegressor at 0x7f987ac0fe50>"
      ]
     },
     "execution_count": 37,
     "metadata": {},
     "output_type": "execute_result"
    }
   ],
   "source": [
    "from catboost import CatBoostRegressor\n",
    "# Initialize data\n",
    "\n",
    "train_data = train_X\n",
    "\n",
    "eval_data = valid_X\n",
    "\n",
    "train_labels = train_y\n",
    "\n",
    "# Initialize CatBoostRegressor\n",
    "model = CatBoostRegressor(iterations=200,\n",
    "                          learning_rate=1,\n",
    "                          depth=2)\n",
    "# Fit model\n",
    "model.fit(train_data, train_labels)\n"
   ]
  },
  {
   "cell_type": "code",
   "execution_count": 38,
   "id": "8390c5d7",
   "metadata": {},
   "outputs": [],
   "source": [
    "# Get predictions\n",
    "pred_train= model.predict(train_data)\n",
    "pred = model.predict(eval_data)"
   ]
  },
  {
   "cell_type": "code",
   "execution_count": 39,
   "id": "10a25926",
   "metadata": {},
   "outputs": [
    {
     "name": "stdout",
     "output_type": "stream",
     "text": [
      "12.201670629835073\n",
      "\n",
      "Scores:\n",
      "Test set\n",
      "MSE: 151.84207703449752\n",
      "MAE: 9.851195477728904\n",
      "RMSE: 12.322421719552432\n",
      "R-squared: 0.24963104289497606 , from <0,1> \n",
      "Test set\n",
      "MSE: 148.8807661589799\n",
      "MAE: 9.798469509213694\n",
      "RMSE: 12.201670629835077\n",
      "R-squared: 0.27688121093450935 , from <0,1> \n"
     ]
    }
   ],
   "source": [
    "residual(valid_y, pred)\n",
    "\n",
    "print(\"\\nScores:\")\n",
    "evaluateRegressor(train_y, pred_train)\n",
    "evaluateRegressor(valid_y, pred)"
   ]
  },
  {
   "cell_type": "markdown",
   "id": "ce2cca24",
   "metadata": {},
   "source": [
    "## ANN"
   ]
  },
  {
   "cell_type": "code",
   "execution_count": 41,
   "id": "7dd66c33",
   "metadata": {},
   "outputs": [
    {
     "name": "stdout",
     "output_type": "stream",
     "text": [
      "Epoch 1/10\n",
      "25/25 [==============================] - 0s 748us/step - loss: 4791.2505 - mse: 4791.2505\n",
      "Epoch 2/10\n",
      "25/25 [==============================] - 0s 636us/step - loss: 4761.9927 - mse: 4761.9927\n",
      "Epoch 3/10\n",
      "25/25 [==============================] - 0s 682us/step - loss: 4706.2314 - mse: 4706.2314\n",
      "Epoch 4/10\n",
      "25/25 [==============================] - 0s 673us/step - loss: 4614.1074 - mse: 4614.1074\n",
      "Epoch 5/10\n",
      "25/25 [==============================] - 0s 690us/step - loss: 4481.3892 - mse: 4481.3892\n",
      "Epoch 6/10\n",
      "25/25 [==============================] - 0s 762us/step - loss: 4307.8892 - mse: 4307.8892\n",
      "Epoch 7/10\n",
      "25/25 [==============================] - 0s 667us/step - loss: 4095.7122 - mse: 4095.7122\n",
      "Epoch 8/10\n",
      "25/25 [==============================] - 0s 659us/step - loss: 3845.1985 - mse: 3845.1985\n",
      "Epoch 9/10\n",
      "25/25 [==============================] - 0s 669us/step - loss: 3556.4219 - mse: 3556.4219\n",
      "Epoch 10/10\n",
      "25/25 [==============================] - 0s 634us/step - loss: 3237.1348 - mse: 3237.1348\n"
     ]
    },
    {
     "data": {
      "text/plain": [
       "<tensorflow.python.keras.callbacks.History at 0x7f976c753e50>"
      ]
     },
     "execution_count": 41,
     "metadata": {},
     "output_type": "execute_result"
    }
   ],
   "source": [
    "import tensorflow as tf\n",
    "from tensorflow import keras\n",
    "from tensorflow.keras.models import Sequential\n",
    "from tensorflow.keras.layers import Dense\n",
    "# Importing necessary models for implementation of ANN\n",
    "\n",
    "\n",
    "\n",
    "model = Sequential()\n",
    "model.add(Dense(100, input_dim=train_X.columns.value_counts().sum(), activation=\"softmax\"))\n",
    "model.add(Dense(100, activation=\"relu\"))\n",
    "model.add(Dense(1, kernel_initializer=\"normal\"))\n",
    "model.compile(loss=\"mean_squared_error\", optimizer = \"adam\", metrics = [\"mse\"])\n",
    "\n",
    "model.fit(train_X, train_y, epochs=10)"
   ]
  },
  {
   "cell_type": "code",
   "execution_count": 42,
   "id": "987274c0",
   "metadata": {},
   "outputs": [],
   "source": [
    "from tensorflow.keras.models import Model, load_model\n",
    "#model.save('cnn_model.h5')\n",
    "#model = load_model('cnn_model.h5')\n",
    "\n",
    "predicted_valid_y = model.predict(valid_X)\n",
    "predicted_valid_y = pd.Series([i[0] for i in predicted_valid_y])"
   ]
  },
  {
   "cell_type": "code",
   "execution_count": 43,
   "id": "f2964ce0",
   "metadata": {},
   "outputs": [
    {
     "name": "stdout",
     "output_type": "stream",
     "text": [
      "55.85805384144501\n",
      "Test set\n",
      "MSE: 3049.504034898524\n",
      "MAE: 53.3235610850652\n",
      "RMSE: 55.22231464633227\n",
      "R-squared: -13.811541623928848 , from <0,1> \n"
     ]
    }
   ],
   "source": [
    "residual(valid_y, predicted_valid_y)\n",
    "evaluateRegressor(valid_y, predicted_valid_y)"
   ]
  },
  {
   "cell_type": "markdown",
   "id": "8b85a2fd",
   "metadata": {},
   "source": [
    "## Slučajne šume"
   ]
  },
  {
   "cell_type": "code",
   "execution_count": 44,
   "id": "b76f6c67",
   "metadata": {},
   "outputs": [
    {
     "data": {
      "text/plain": [
       "RandomForestRegressor(n_estimators=400)"
      ]
     },
     "execution_count": 44,
     "metadata": {},
     "output_type": "execute_result"
    }
   ],
   "source": [
    "from sklearn.ensemble import RandomForestRegressor\n",
    "\n",
    "# Creating Random Forest Model\n",
    "rf = RandomForestRegressor(n_estimators=400)\n",
    "\n",
    "# Training Model\n",
    "rf.fit(train_X , train_y)"
   ]
  },
  {
   "cell_type": "code",
   "execution_count": 45,
   "id": "107b4b69",
   "metadata": {},
   "outputs": [],
   "source": [
    "# Predictions\n",
    "predictions = rf.predict(valid_X)"
   ]
  },
  {
   "cell_type": "code",
   "execution_count": 46,
   "id": "f1255a39",
   "metadata": {},
   "outputs": [
    {
     "name": "stdout",
     "output_type": "stream",
     "text": [
      "13.338086174261672\n",
      "Test set\n",
      "MSE: 177.90454279203027\n",
      "MAE: 10.439747508369027\n",
      "RMSE: 13.338086174261669\n",
      "R-squared: 0.1359117710634964 , from <0,1> \n"
     ]
    }
   ],
   "source": [
    "residual(valid_y, predictions)\n",
    "evaluateRegressor(valid_y, predictions)"
   ]
  },
  {
   "cell_type": "markdown",
   "id": "8032d391",
   "metadata": {},
   "source": [
    "## SVM"
   ]
  },
  {
   "cell_type": "code",
   "execution_count": 47,
   "id": "0624e4bb",
   "metadata": {},
   "outputs": [],
   "source": [
    "SVM = svm.SVR().fit(train_X, train_y) "
   ]
  },
  {
   "cell_type": "code",
   "execution_count": 48,
   "id": "663dacc8",
   "metadata": {},
   "outputs": [
    {
     "name": "stdout",
     "output_type": "stream",
     "text": [
      "    Training Set\n",
      "MSE: 171.80606176871777\n",
      "MAE: 10.350196062160261\n",
      "RMSE: 13.107481137454204\n",
      "R-squared: 0.15097357786784782 , from <0,1> \n",
      "    Test Set\n",
      "MSE: 167.5987303747367\n",
      "MAE: 10.30968181798135\n",
      "RMSE: 12.945992830785004\n",
      "R-squared: 0.18596744170379642 , from <0,1> \n"
     ]
    }
   ],
   "source": [
    "predicted_train_y = SVM.predict(train_X)                           #<----SVM -- Support Vector Machine\n",
    "evaluateRegressor(train_y,predicted_train_y,\"    Training Set\")\n",
    "predicted_valid_y = SVM.predict(valid_X)\n",
    "evaluateRegressor(valid_y,predicted_valid_y,\"    Test Set\")"
   ]
  },
  {
   "cell_type": "code",
   "execution_count": 49,
   "id": "8542bc68",
   "metadata": {},
   "outputs": [
    {
     "data": {
      "text/html": [
       "<div>\n",
       "<style scoped>\n",
       "    .dataframe tbody tr th:only-of-type {\n",
       "        vertical-align: middle;\n",
       "    }\n",
       "\n",
       "    .dataframe tbody tr th {\n",
       "        vertical-align: top;\n",
       "    }\n",
       "\n",
       "    .dataframe thead th {\n",
       "        text-align: right;\n",
       "    }\n",
       "</style>\n",
       "<table border=\"1\" class=\"dataframe\">\n",
       "  <thead>\n",
       "    <tr style=\"text-align: right;\">\n",
       "      <th></th>\n",
       "      <th>kernel</th>\n",
       "      <th>Test RMSE</th>\n",
       "      <th>Pred</th>\n",
       "    </tr>\n",
       "  </thead>\n",
       "  <tbody>\n",
       "    <tr>\n",
       "      <th>0</th>\n",
       "      <td>linear</td>\n",
       "      <td>12.393679</td>\n",
       "      <td>[66.82639523031428, 66.56118988034255, 66.5611...</td>\n",
       "    </tr>\n",
       "    <tr>\n",
       "      <th>1</th>\n",
       "      <td>polynomial</td>\n",
       "      <td>12.711369</td>\n",
       "      <td>[67.04393511711818, 67.9078918540634, 67.90789...</td>\n",
       "    </tr>\n",
       "    <tr>\n",
       "      <th>2</th>\n",
       "      <td>sigmoid</td>\n",
       "      <td>23.385853</td>\n",
       "      <td>[80.37945232594635, 88.21915936949976, 88.2191...</td>\n",
       "    </tr>\n",
       "    <tr>\n",
       "      <th>3</th>\n",
       "      <td>rbf</td>\n",
       "      <td>12.945993</td>\n",
       "      <td>[67.15213689412255, 68.90016975421587, 68.9001...</td>\n",
       "    </tr>\n",
       "  </tbody>\n",
       "</table>\n",
       "</div>"
      ],
      "text/plain": [
       "       kernel  Test RMSE                                               Pred\n",
       "0      linear  12.393679  [66.82639523031428, 66.56118988034255, 66.5611...\n",
       "1  polynomial  12.711369  [67.04393511711818, 67.9078918540634, 67.90789...\n",
       "2     sigmoid  23.385853  [80.37945232594635, 88.21915936949976, 88.2191...\n",
       "3         rbf  12.945993  [67.15213689412255, 68.90016975421587, 68.9001..."
      ]
     },
     "execution_count": 49,
     "metadata": {},
     "output_type": "execute_result"
    }
   ],
   "source": [
    "from sklearn.svm import SVR\n",
    "def SV_reg(kernel,train_X, train_Y):\n",
    "    model=SVR(kernel)\n",
    "    model.fit(train_X, train_Y)\n",
    "    return model\n",
    "\n",
    "\n",
    "SVM_model= SV_reg(\"linear\",train_X, train_y)\n",
    "pred_linear = SVM_model.predict(valid_X)\n",
    "linear_rmse = np.sqrt(mean_squared_error(valid_y,pred_linear))\n",
    "\n",
    "SVM_model= SV_reg(\"poly\",train_X, train_y)\n",
    "pred_poly = SVM_model.predict(valid_X)\n",
    "poly_rmse = np.sqrt(mean_squared_error(valid_y,pred_poly))\n",
    "\n",
    "SVM_model= SV_reg(\"sigmoid\",train_X, train_y)\n",
    "pred_sigmoid = SVM_model.predict(valid_X)\n",
    "sigmoid_rmse = np.sqrt(mean_squared_error(valid_y,pred_sigmoid))\n",
    "\n",
    "SVM_model= SV_reg(\"rbf\",train_X, train_y)\n",
    "pred_rbf = SVM_model.predict(valid_X)\n",
    "rbf_rmse = np.sqrt(mean_squared_error(valid_y,pred_rbf))\n",
    "\n",
    "\n",
    "\n",
    "data = {\"kernel\":pd.Series([\"linear\",\"polynomial\",\"sigmoid\",\"rbf\"]),\n",
    "            \"Test RMSE\":pd.Series([linear_rmse,poly_rmse,sigmoid_rmse,rbf_rmse]),\n",
    "            \"Pred\":pd.Series([pred_linear,pred_poly,pred_sigmoid,pred_rbf])}\n",
    "table_rmse=pd.DataFrame(data)\n",
    "table_rmse"
   ]
  },
  {
   "cell_type": "markdown",
   "id": "09642515",
   "metadata": {},
   "source": [
    "Grid search"
   ]
  },
  {
   "cell_type": "code",
   "execution_count": 50,
   "id": "b80e161f",
   "metadata": {},
   "outputs": [
    {
     "name": "stdout",
     "output_type": "stream",
     "text": [
      "{'C': 4, 'gamma': 0.02, 'kernel': 'linear'}\n"
     ]
    }
   ],
   "source": [
    "from sklearn.metrics import make_scorer\n",
    "from sklearn.model_selection import GridSearchCV\n",
    "\n",
    "K = 15\n",
    "parameters = [{'kernel': ['linear','sigmoid','rbf'], 'gamma': [2e-2, 2e-1, 1,  8],'C': [2e-3,2e-2, 2, 4]}]\n",
    "scorer = make_scorer(mean_squared_error, greater_is_better=False)\n",
    "svr_gs = GridSearchCV(SVR(epsilon = 0.01), parameters, cv = K, scoring=scorer)\n",
    "\n",
    "svr_gs.fit(train_X, train_y)\n",
    "print(svr_gs.best_params_)"
   ]
  },
  {
   "cell_type": "markdown",
   "id": "9d2d2e44",
   "metadata": {},
   "source": [
    "ONCE WE GET BEST RESULTS , WE ONCE AGAIN TRAIN OUR MODEL Results:\n",
    "\n",
    "{'C': 2, 'gamma': 0.002, 'kernel': 'linear'}"
   ]
  },
  {
   "cell_type": "code",
   "execution_count": 51,
   "id": "4576039d",
   "metadata": {},
   "outputs": [
    {
     "name": "stdout",
     "output_type": "stream",
     "text": [
      "       kernel  Test RMSE                                               Pred\n",
      "0      linear  12.393679  [66.82639523031428, 66.56118988034255, 66.5611...\n",
      "1  polynomial  12.711369  [67.04393511711818, 67.9078918540634, 67.90789...\n",
      "2     sigmoid  23.385853  [80.37945232594635, 88.21915936949976, 88.2191...\n",
      "3         rbf  12.945993  [67.15213689412255, 68.90016975421587, 68.9001...\n",
      "0   GS Output  12.290661  [66.46374933688223, 65.64615021688071, 65.6461...\n"
     ]
    }
   ],
   "source": [
    "regressor = SVR(**svr_gs.best_params_)\n",
    "regressor.fit(train_X,train_y)\n",
    "pred=regressor.predict(valid_X)\n",
    "\n",
    "error = np.sqrt(mean_squared_error(valid_y,pred))\n",
    "data = {\"kernel\":pd.Series([\"GS Output\"]),\"Test RMSE\":pd.Series([error]),\"Pred\":pd.Series([pred])}\n",
    "table_rmse = table_rmse.append(pd.DataFrame(data))\n",
    "print(table_rmse)"
   ]
  },
  {
   "cell_type": "code",
   "execution_count": 52,
   "id": "afaecd6f",
   "metadata": {},
   "outputs": [
    {
     "name": "stdout",
     "output_type": "stream",
     "text": [
      "Test RMSE using SVR is: 12.290660672068437\n"
     ]
    }
   ],
   "source": [
    "svr_test_rmse = table_rmse[\"Test RMSE\"].min()\n",
    "print(\"Test RMSE using SVR is:\",svr_test_rmse)"
   ]
  },
  {
   "cell_type": "markdown",
   "id": "b58ad470",
   "metadata": {},
   "source": [
    "# DoWhy kauzalna analiza"
   ]
  },
  {
   "cell_type": "markdown",
   "id": "0affbb7f",
   "metadata": {},
   "source": [
    "## Priprema podataka"
   ]
  },
  {
   "cell_type": "code",
   "execution_count": 53,
   "id": "1a3439f8",
   "metadata": {},
   "outputs": [],
   "source": [
    "data_X_labeled= encode_data(df,enc_type=\"LABEL\")\n",
    "data_y_labeled= pd.cut(Y,\n",
    "       5, labels=[1,2,3,4,5])\n",
    "\n",
    "spojeno = pd.concat([data_X_labeled, data_y_labeled], axis=1)"
   ]
  },
  {
   "cell_type": "code",
   "execution_count": 54,
   "id": "7661fadb",
   "metadata": {},
   "outputs": [
    {
     "data": {
      "text/plain": [
       "Index(['gender', 'race/ethnicity', 'parental level of education', 'lunch',\n",
       "       'test preparation course', 'AVERAGE'],\n",
       "      dtype='object')"
      ]
     },
     "execution_count": 54,
     "metadata": {},
     "output_type": "execute_result"
    }
   ],
   "source": [
    "spojeno.columns"
   ]
  },
  {
   "cell_type": "markdown",
   "id": "22c6ab1a",
   "metadata": {},
   "source": [
    "## Analiza"
   ]
  },
  {
   "cell_type": "code",
   "execution_count": 55,
   "id": "04b6a6c3",
   "metadata": {},
   "outputs": [
    {
     "ename": "ModuleNotFoundError",
     "evalue": "No module named 'dowhy'",
     "output_type": "error",
     "traceback": [
      "\u001b[0;31m---------------------------------------------------------------------------\u001b[0m",
      "\u001b[0;31mModuleNotFoundError\u001b[0m                       Traceback (most recent call last)",
      "\u001b[0;32m<ipython-input-55-ca67b3875129>\u001b[0m in \u001b[0;36m<module>\u001b[0;34m\u001b[0m\n\u001b[0;32m----> 1\u001b[0;31m \u001b[0;32mimport\u001b[0m \u001b[0mdowhy\u001b[0m\u001b[0;34m\u001b[0m\u001b[0;34m\u001b[0m\u001b[0m\n\u001b[0m\u001b[1;32m      2\u001b[0m \u001b[0;32mfrom\u001b[0m \u001b[0mdowhy\u001b[0m \u001b[0;32mimport\u001b[0m \u001b[0mCausalModel\u001b[0m\u001b[0;34m\u001b[0m\u001b[0;34m\u001b[0m\u001b[0m\n",
      "\u001b[0;31mModuleNotFoundError\u001b[0m: No module named 'dowhy'"
     ]
    }
   ],
   "source": [
    "import dowhy\n",
    "from dowhy import CausalModel"
   ]
  },
  {
   "cell_type": "code",
   "execution_count": null,
   "id": "8c02859a",
   "metadata": {},
   "outputs": [],
   "source": [
    "model=CausalModel(\n",
    "        data = spojeno,\n",
    "        treatment='lunch',\n",
    "        outcome='AVERAGE',\n",
    "        common_causes=['gender','test preparation course', 'parental level of education','race/ethnicity']\n",
    "        )"
   ]
  },
  {
   "cell_type": "code",
   "execution_count": null,
   "id": "0e15f151",
   "metadata": {},
   "outputs": [],
   "source": [
    "identified_estimand = model.identify_effect()\n",
    "print(identified_estimand)"
   ]
  },
  {
   "cell_type": "code",
   "execution_count": null,
   "id": "d2d31c1d",
   "metadata": {},
   "outputs": [],
   "source": [
    "# Estimate the causal effect and compare it with Average Treatment Effect\n",
    "estimate = model.estimate_effect(identified_estimand, method_name=\"backdoor.linear_regression\", test_significance=True)\n",
    "print(estimate)\n",
    "print(\"Causal Estimate is \" + str(estimate.value))\n",
    "data_1 = spojeno[spojeno[\"lunch\"]==1]\n",
    "data_0 = spojeno[spojeno[\"race/ethnicity\"]==0]\n",
    "print(\"ATE\", np.mean(data_1[\"AVERAGE\"].cat.codes)- np.mean(data_0[\"AVERAGE\"].cat.codes))"
   ]
  },
  {
   "cell_type": "markdown",
   "id": "6ae8d933",
   "metadata": {},
   "source": [
    "refute steps\n",
    "\n",
    "    The refute steps tests the strength and validity of the causal effect found by the estimate step. There are a variety of different refutation methods, eg. Subset Validation (using only a subset of the data to estimate the causal effect) or Placebo Treatment (turning the treatment into a placebo and seeing its effect on the outcome (the placebo treatment refutation expects the causal effect to go down)) In this case, we’ll be adding an irrelevant common cause to test the strength of the causal relationship between the treatment and outcome. This is useful because it changes the causal model but not the relationship between y_factual and treatment."
   ]
  },
  {
   "cell_type": "code",
   "execution_count": null,
   "id": "30e7147a",
   "metadata": {},
   "outputs": [],
   "source": [
    "refute_results=model.refute_estimate(identified_estimand, estimate,\n",
    "        method_name=\"random_common_cause\")\n",
    "print(refute_results)"
   ]
  },
  {
   "cell_type": "markdown",
   "id": "eca33b58",
   "metadata": {},
   "source": [
    "Adding a random common cause didn’t have much of an effect on the causal effect (as expected) and so we can be more assured of the strength of the causal relationship."
   ]
  },
  {
   "cell_type": "markdown",
   "id": "f9e2631d",
   "metadata": {},
   "source": [
    "# Rezultati"
   ]
  },
  {
   "cell_type": "markdown",
   "id": "01014d24",
   "metadata": {},
   "source": [
    "Usporedimo rezultate koje smo dobili:\n",
    "\n",
    "### 1) Linearna regresija\n",
    "\n",
    "Objasnjena varijanca = 0.31\n",
    "\n",
    "R2 = 0.30\n",
    "\n",
    "MSE = 146.31\n",
    "\n",
    "\n",
    "### 2) Lasso regresija\n",
    "\n",
    "math score       13.860696\n",
    "\n",
    "reading score    12.818428\n",
    "\n",
    "writing score    12.563250\n",
    "\n",
    "dtype: float64\n",
    "\n",
    "Scores:\n",
    "\n",
    "MSE: 171.4220845033959\n",
    "\n",
    "MAE: 10.427402013978332\n",
    "\n",
    "RMSE: 13.080791496714767\n",
    "\n",
    "R-squared: 0.256177633475969 , from <0,1> \n",
    "\n",
    "### 3) Ridge regresija\n",
    "\n",
    "Objasnjena varijanca = 0.31\n",
    "\n",
    "R2 = 0.30\n",
    "\n",
    "MSE = 147.49\n",
    "\n",
    "### 4) LightGBM\n",
    "Training set: \n",
    "\n",
    "MSE: 137.64572706425244\n",
    "\n",
    "MAE: 9.370538765975732\n",
    "\n",
    "RMSE: 11.732251576924714\n",
    "\n",
    "R-squared: 0.3197861707087939 , from <0,1> \n",
    "\n",
    "Test set:\n",
    "\n",
    "MSE: 157.60183185692952\n",
    "\n",
    "MAE: 10.030038841736843\n",
    "\n",
    "RMSE: 12.55395682073702\n",
    "\n",
    "R-squared: 0.23452270735099223 , from <0,1> \n",
    "\n",
    "### 5) CATBoost\n",
    "\n",
    "residual: 12.201670629835073\n",
    "\n",
    "Scores:\n",
    "\n",
    "Traini set:\n",
    "\n",
    "MSE: 151.84207703449752\n",
    "\n",
    "MAE: 9.851195477728904\n",
    "\n",
    "RMSE: 12.322421719552432\n",
    "\n",
    "R-squared: 0.24963104289497606 , from <0,1> \n",
    "\n",
    "Test set\n",
    "\n",
    "MSE: 148.8807661589799\n",
    "\n",
    "MAE: 9.798469509213694\n",
    "\n",
    "RMSE: 12.201670629835077\n",
    "\n",
    "R-squared: 0.27688121093450935 , from <0,1> \n",
    "\n",
    "### 6) ANN\n",
    "\n",
    "residual: 55.85805384144501\n",
    "\n",
    "Test set\n",
    "\n",
    "MSE: 3049.504034898524\n",
    "\n",
    "MAE: 53.3235610850652\n",
    "\n",
    "RMSE: 55.22231464633227\n",
    "\n",
    "R-squared: -13.811541623928848 , from <0,1> \n",
    "\n",
    "### 7) Slučajne šume\n",
    "\n",
    "residual: 13.338086174261672\n",
    "\n",
    "Test set\n",
    "\n",
    "MSE: 177.90454279203027\n",
    "\n",
    "MAE: 10.439747508369027\n",
    "\n",
    "RMSE: 13.338086174261669\n",
    "\n",
    "R-squared: 0.1359117710634964 , from <0,1> \n",
    "\n",
    "### 8) SVM\n",
    "\n",
    "Training Set\n",
    "\n",
    "MSE: 171.80606176871777\n",
    "\n",
    "MAE: 10.350196062160261\n",
    "\n",
    "RMSE: 13.107481137454204\n",
    "\n",
    "R-squared: 0.15097357786784782 , from <0,1> \n",
    "\n",
    "Test Set\n",
    "\n",
    "MSE: 167.5987303747367\n",
    "\n",
    "MAE: 10.30968181798135\n",
    "\n",
    "RMSE: 12.945992830785004\n",
    "\n",
    "R-squared: 0.18596744170379642 , from <0,1> "
   ]
  },
  {
   "cell_type": "code",
   "execution_count": null,
   "id": "63828c80",
   "metadata": {},
   "outputs": [],
   "source": []
  }
 ],
 "metadata": {
  "kernelspec": {
   "display_name": "Python 3",
   "language": "python",
   "name": "python3"
  },
  "language_info": {
   "codemirror_mode": {
    "name": "ipython",
    "version": 3
   },
   "file_extension": ".py",
   "mimetype": "text/x-python",
   "name": "python",
   "nbconvert_exporter": "python",
   "pygments_lexer": "ipython3",
   "version": "3.8.8"
  }
 },
 "nbformat": 4,
 "nbformat_minor": 5
}
