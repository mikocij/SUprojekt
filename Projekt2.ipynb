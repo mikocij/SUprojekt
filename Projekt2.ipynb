{
 "cells": [
  {
   "cell_type": "code",
   "execution_count": 1,
   "id": "d9c1a46e",
   "metadata": {},
   "outputs": [],
   "source": [
    "#%% Imports\n",
    "\n",
    "from sklearn.preprocessing import LabelEncoder\n",
    "from sklearn import feature_selection \n",
    "#SelectKBest, f_classif\n",
    "\n",
    "# Basic Imports \n",
    "import numpy as np\n",
    "import pandas as pd\n",
    "\n",
    "# Plotting \n",
    "import matplotlib.pyplot as plt\n",
    "import plotly.express as px\n",
    "import seaborn as sns\n",
    "%matplotlib inline\n",
    "\n",
    "# Preprocessing\n",
    "from sklearn.model_selection import train_test_split, KFold\n",
    "from sklearn.preprocessing import LabelEncoder\n",
    "\n",
    "# Metrics \n",
    "import sklearn.metrics\n",
    "from sklearn.metrics import mean_squared_error, mean_absolute_error, r2_score\n",
    "\n",
    "# ML Models\n",
    "import lightgbm as lgb\n",
    "from lightgbm import LGBMRegressor \n",
    "import xgboost as xg \n",
    "from sklearn.ensemble import RandomForestRegressor\n",
    "from sklearn import svm\n",
    "from sklearn.linear_model import LinearRegression\n",
    "# Model Tuning \n",
    "from bayes_opt import BayesianOptimization\n",
    "\n",
    "# Feature Importance \n",
    "import shap\n",
    "\n",
    "# Ignore Warnings \n",
    "import warnings\n",
    "warnings.filterwarnings('ignore')"
   ]
  },
  {
   "cell_type": "markdown",
   "id": "2d864bfe",
   "metadata": {},
   "source": [
    "# 1. Import & visualization"
   ]
  },
  {
   "cell_type": "code",
   "execution_count": 2,
   "id": "d7705ddf",
   "metadata": {},
   "outputs": [
    {
     "name": "stdout",
     "output_type": "stream",
     "text": [
      "<class 'pandas.core.frame.DataFrame'>\n",
      "RangeIndex: 1000 entries, 0 to 999\n",
      "Data columns (total 9 columns):\n",
      " #   Column                       Non-Null Count  Dtype  \n",
      "---  ------                       --------------  -----  \n",
      " 0   gender                       1000 non-null   object \n",
      " 1   race/ethnicity               1000 non-null   object \n",
      " 2   parental level of education  1000 non-null   object \n",
      " 3   lunch                        1000 non-null   object \n",
      " 4   test preparation course      1000 non-null   object \n",
      " 5   math score                   1000 non-null   int64  \n",
      " 6   reading score                1000 non-null   int64  \n",
      " 7   writing score                1000 non-null   int64  \n",
      " 8   AVERAGE                      1000 non-null   float64\n",
      "dtypes: float64(1), int64(3), object(5)\n",
      "memory usage: 70.4+ KB\n",
      "None\n"
     ]
    }
   ],
   "source": [
    "data_csv = pd.read_csv(\"StudentsPerformance.csv\")\n",
    "data_csv['AVERAGE'] = data_csv[['math score', 'reading score','writing score']].mean(axis=1)\n",
    "\n",
    "print(data_csv.info(verbose = True,null_counts=True))\n",
    "\n",
    "#verbose bool, optional -- Whether to print the full summary."
   ]
  },
  {
   "cell_type": "code",
   "execution_count": null,
   "id": "683bcbd9",
   "metadata": {},
   "outputs": [],
   "source": [
    "df = data_csv\n",
    "categorical_features = None\n",
    "dropna = False\n",
    "\n",
    "# set a threshold of 30 unique variables, more than 50 can lead to ugly pie charts \n",
    "threshold = 30\n",
    "\n",
    "# if user did not set categorical_features \n",
    "if categorical_features == None: \n",
    "    categorical_features = df.select_dtypes(['object','category']).columns.to_list()\n",
    "\n",
    "print(\"The Categorical Features are:\",categorical_features)\n",
    "\n",
    "\n",
    "# loop through the list of categorical_features \n",
    "for cat_feature in categorical_features: \n",
    "    num_unique = df[cat_feature].nunique(dropna = dropna)\n",
    "    num_missing = df[cat_feature].isna().sum()\n",
    "    # prints pie chart and info if unique values below threshold \n",
    "    if num_unique <= threshold:\n",
    "        print('')\n",
    "        print('Feature name: ', cat_feature)\n",
    "        print('Number of Unique Values: ', num_unique)\n",
    "        print('Number of Missing Values: ', num_missing)\n",
    "        fig = px.pie(df[cat_feature].value_counts(dropna = dropna), values=cat_feature, \n",
    "                 names = df[cat_feature].value_counts(dropna = dropna).index,title = cat_feature,template='ggplot2')\n",
    "        fig.show()\n",
    "\n",
    "    else: \n",
    "        print('Pie Chart for ',cat_feature,' is unavailable due high number of Unique Values ')\n",
    "        print('Number of Unique Values: ', num_unique)\n",
    "        print('Number of Missing Values: ', num_missing)\n",
    "        print('\\n')"
   ]
  },
  {
   "cell_type": "markdown",
   "id": "0fd3c25d",
   "metadata": {},
   "source": [
    "VISUALIZATION OF TARGET VARIABLES"
   ]
  },
  {
   "cell_type": "code",
   "execution_count": null,
   "id": "2f5d1d6e",
   "metadata": {},
   "outputs": [],
   "source": [
    "data_csv.select_dtypes(['float64','int64']).columns.to_list()"
   ]
  },
  {
   "cell_type": "code",
   "execution_count": null,
   "id": "a5d8cd37",
   "metadata": {},
   "outputs": [],
   "source": [
    "continous_features = data_csv.select_dtypes(['float64','int64']).columns.to_list()\n",
    "\n",
    "for cont_feature in continous_features: \n",
    "    plt.figure()\n",
    "    plt.title(cont_feature)\n",
    "    ax = sns.distplot(data_csv[cont_feature])"
   ]
  },
  {
   "cell_type": "markdown",
   "id": "4380c663",
   "metadata": {},
   "source": [
    "Contangency matrica"
   ]
  },
  {
   "cell_type": "code",
   "execution_count": 30,
   "id": "cd872db1",
   "metadata": {},
   "outputs": [
    {
     "name": "stdout",
     "output_type": "stream",
     "text": [
      "lunch   free/reduced  standard\n",
      "gender                        \n",
      "female           189       329\n",
      "male             166       316\n"
     ]
    }
   ],
   "source": [
    "data_crosstab=pd.crosstab(data_csv['gender'],data_csv['lunch'])\n",
    "print(data_crosstab)"
   ]
  },
  {
   "cell_type": "code",
   "execution_count": null,
   "id": "a071b0fe",
   "metadata": {},
   "outputs": [],
   "source": [
    "#%% Remove outliers below lower% and above upper % quantile\n",
    "# https://nextjournal.com/schmudde/how-to-remove-outliers-in-data\n",
    "def remove_outliers(df,column_name,lower,upper):\n",
    "    removed_outliers = df[column_name].between(df[column_name].quantile(lower), df[column_name].quantile(upper))\n",
    "    \n",
    "    print(str(df[column_name][removed_outliers].size) + \"/\" + str(SP_csv[column_name].size) + \" data points remain.\") \n",
    "\n",
    "    index_names = df[~removed_outliers].index # INVERT removed_outliers!!\n",
    "    return df.drop(index_names)\n",
    "\n",
    "# SP_csv_clean = remove_outliers(sp_csv_clean,\"average score\",0.05,0.95)"
   ]
  },
  {
   "cell_type": "code",
   "execution_count": 3,
   "id": "a9fce50d",
   "metadata": {},
   "outputs": [],
   "source": [
    "#OUTLIERS\n",
    "# SP_csv_clean = remove_outliers(sp_csv_clean,\"average score\",0.05,0.95)\n",
    "SP_csv_clean = data_csv.copy()\n"
   ]
  },
  {
   "cell_type": "markdown",
   "id": "508fbd4c",
   "metadata": {},
   "source": [
    "# 2.Feature selection"
   ]
  },
  {
   "cell_type": "markdown",
   "id": "cf8d216b",
   "metadata": {},
   "source": [
    "## 1.0. Encoding\n",
    "\n"
   ]
  },
  {
   "cell_type": "code",
   "execution_count": 54,
   "id": "fd105c1e",
   "metadata": {
    "scrolled": true
   },
   "outputs": [],
   "source": [
    "def encode_data(table_input,enc_type=\"ONEHOT\",removeY=True):\n",
    "    \n",
    "    table= table_input.copy()\n",
    "    #target= table[\"AVERAGE\"]\n",
    "    if removeY:\n",
    "        table = table.drop([\"math score\",\"reading score\",\"writing score\",\"AVERAGE\"],axis = 'columns') \n",
    "    \n",
    "    \n",
    "    if enc_type == \"ONEHOT\":\n",
    "        table = table.apply(lambda x: x.astype('category')) \n",
    "        table = pd.get_dummies(table,drop_first= True)\n",
    "        return table\n",
    "        \n",
    "    elif enc_type == \"LABEL\":\n",
    "        categorical_features = table.select_dtypes(['object','category']).columns.to_list()\n",
    "        labelencoder = LabelEncoder()\n",
    "        for i in categorical_features:\n",
    "            table[i] = labelencoder.fit_transform(table[i])\n",
    "            \n",
    "        return table\n",
    "    else:\n",
    "        pass\n",
    "    \n",
    "#X_features_encoded = encode_data(SP_csv_clean,enc_type=\"ONE HOT\")\n",
    "#X_features_encoded\n",
    "\n",
    "#X_features_encoded = encode_data(SP_csv_clean,enc_type=\"LABEL\")\n",
    "#X_features_encoded"
   ]
  },
  {
   "cell_type": "markdown",
   "id": "4dfb2afc",
   "metadata": {},
   "source": [
    "## 1.1 Nadzirani univarijantni odabir značajki  \n",
    "(koristio to u vjezbama,nisam siguran jel dobar kod REGRES+ KATEG. ZNACAJKE\n",
    "### pomoću f-reggres kao mjere povezanosti značajke s ciljnom varijablom"
   ]
  },
  {
   "cell_type": "code",
   "execution_count": null,
   "id": "7beabda9",
   "metadata": {},
   "outputs": [],
   "source": [
    "X_features_encoded_label = encode_data(SP_csv_clean,enc_type=\"LABEL\")\n",
    "Y = SP_csv_clean[\"AVERAGE\"]\n",
    "\n",
    "k_best = int(len(X_features_encoded_label.columns)*0.8) "
   ]
  },
  {
   "cell_type": "code",
   "execution_count": null,
   "id": "1080d6f6",
   "metadata": {},
   "outputs": [],
   "source": [
    "train_X_N, valid_X_N, train_y_N, valid_y_N = train_test_split(\n",
    "    X_features_encoded_label, \n",
    "    Y, \n",
    "    test_size=0.2, \n",
    "    shuffle = True, \n",
    "    random_state=1\n",
    ")\n",
    "\n",
    "train_y_N=train_y_N.astype('int')\n"
   ]
  },
  {
   "cell_type": "code",
   "execution_count": null,
   "id": "10ec094a",
   "metadata": {},
   "outputs": [],
   "source": [
    "def odaberi(algorithm,k,train_X, train_y,yname=\"not given\"):\n",
    "    selector = feature_selection.SelectKBest(algorithm, k)\n",
    "    selector.fit(train_X, train_y)\n",
    "    scores = -np.log10(selector.pvalues_)\n",
    "    indices = np.argsort(scores)[::-1] # Vrati indekse koji sortiraju polje (obratno)\n",
    "\n",
    "    plt.figure(figsize=(7,5))\n",
    "    plt.plot(range(train_X.shape[1]), scores[indices], 'o', color='gray')\n",
    "    plt.title(f'Univarijantni odabir znacajki za najvaznijih {k_best} znacajki')\n",
    "    plt.ylabel(f'log p-vrijednosti metode {yname}')\n",
    "    plt.xlim([-1, train_X.shape[1]])\n",
    "    plt.xticks(range(train_X.shape[1]), train_X.columns.values[indices], rotation=90)\n",
    "    plt.vlines(k_best-0.5, 0, np.max(scores), color='red', linestyle='--')\n",
    "    plt.grid(True,linestyle='--')\n",
    "    plt.tight_layout()\n",
    "\n",
    "    [ i.set_color(\"red\") for i in plt.gca().get_xticklabels() if i.get_text()[:5] == 'noise' ]\n",
    "\n",
    "    plt.show()"
   ]
  },
  {
   "cell_type": "code",
   "execution_count": null,
   "id": "dc306efa",
   "metadata": {
    "scrolled": true
   },
   "outputs": [],
   "source": [
    "odaberi(feature_selection.f_regression,k_best,train_X_N, train_y_N,yname=\"f_regression\")"
   ]
  },
  {
   "cell_type": "code",
   "execution_count": null,
   "id": "fc0d4123",
   "metadata": {
    "scrolled": true
   },
   "outputs": [],
   "source": [
    "odaberi(feature_selection.chi2,k_best,train_X_N, train_y_N,yname=\"Chi2\")"
   ]
  },
  {
   "cell_type": "code",
   "execution_count": null,
   "id": "7601e3d3",
   "metadata": {},
   "outputs": [],
   "source": []
  },
  {
   "cell_type": "markdown",
   "id": "a455fd70",
   "metadata": {},
   "source": [
    "# 3.Modeli"
   ]
  },
  {
   "cell_type": "markdown",
   "id": "6c27bce9",
   "metadata": {},
   "source": [
    "## Podaci za modele"
   ]
  },
  {
   "cell_type": "code",
   "execution_count": 5,
   "id": "13b5a493",
   "metadata": {},
   "outputs": [],
   "source": [
    "def residual(true,pred):\n",
    "    resid = true - pred\n",
    "    print( np.sqrt(np.mean(resid*resid)) )\n",
    "def evaluateRegressor(true,predicted,message = \"Test set\"):\n",
    "    MSE = mean_squared_error(true,predicted,squared = True)\n",
    "    MAE = mean_absolute_error(true,predicted)\n",
    "    RMSE = mean_squared_error(true,predicted,squared = False)\n",
    "    R_squared = r2_score(true,predicted)\n",
    "    print(message)\n",
    "    print(\"MSE:\", MSE)\n",
    "    print(\"MAE:\", MAE)\n",
    "    print(\"RMSE:\", RMSE)\n",
    "    print(f\"R-squared: {R_squared} , from <0,1> \")\n",
    "    "
   ]
  },
  {
   "cell_type": "code",
   "execution_count": 73,
   "id": "c2b26947",
   "metadata": {},
   "outputs": [],
   "source": [
    "X_features_encoded = encode_data(SP_csv_clean,enc_type=\"LABEL\")\n",
    "Y = SP_csv_clean[\"AVERAGE\"]\n",
    "\n",
    "train_X, valid_X, train_y, valid_y = train_test_split(\n",
    "    X_features_encoded, \n",
    "    Y, \n",
    "    test_size=0.2, \n",
    "    shuffle = True, \n",
    "    #random_state=1\n",
    ")\n",
    "\n",
    "#train_y_N=train_y_N.astype('int')"
   ]
  },
  {
   "cell_type": "code",
   "execution_count": 39,
   "id": "f58e15f4",
   "metadata": {},
   "outputs": [],
   "source": [
    "from sklearn.preprocessing import StandardScaler\n",
    "scaler = StandardScaler()\n",
    "\n",
    "train_X_scaled = scaler.fit_transform(train_X)\n",
    "valid_X_scaled = scaler.transform(valid_X)"
   ]
  },
  {
   "cell_type": "markdown",
   "id": "92a0c989",
   "metadata": {},
   "source": [
    "## Linearna regresija"
   ]
  },
  {
   "cell_type": "code",
   "execution_count": 23,
   "id": "4dc94f00",
   "metadata": {},
   "outputs": [],
   "source": [
    "def lin_reg(X,y):\n",
    "    LinearReg = LinearRegression(normalize = True)\n",
    "    LinearReg = LinearReg.fit(X,y)\n",
    "\n",
    "    return LinearReg\n"
   ]
  },
  {
   "cell_type": "markdown",
   "id": "732528ba",
   "metadata": {},
   "source": [
    "TESTIRANJE"
   ]
  },
  {
   "cell_type": "code",
   "execution_count": 24,
   "id": "af17679a",
   "metadata": {},
   "outputs": [],
   "source": [
    "model_LINEAR = lin_reg(train_X,train_y)\n",
    "\n",
    "predicted_valid_y = model_LINEAR.predict(valid_X)"
   ]
  },
  {
   "cell_type": "code",
   "execution_count": 25,
   "id": "c08a4c5d",
   "metadata": {},
   "outputs": [
    {
     "name": "stdout",
     "output_type": "stream",
     "text": [
      "12.939420860929319\n",
      "Test set\n",
      "MSE: 167.42861221625284\n",
      "MAE: 10.485144891679747\n",
      "RMSE: 12.939420860929319\n",
      "R-squared: 0.20641049755063345 , from <0,1> \n"
     ]
    }
   ],
   "source": [
    "residual(valid_y, predicted_valid_y)\n",
    "evaluateRegressor(valid_y, predicted_valid_y)"
   ]
  },
  {
   "cell_type": "markdown",
   "id": "62116a3d",
   "metadata": {},
   "source": [
    "SKALIRANO? NEMA PROMJENE"
   ]
  },
  {
   "cell_type": "code",
   "execution_count": 26,
   "id": "a3a803e6",
   "metadata": {},
   "outputs": [],
   "source": [
    "model_LINEAR_scaled = lin_reg(train_X_scaled,train_y)\n",
    "\n",
    "predicted_valid_y = model_LINEAR_scaled.predict(valid_X_scaled)"
   ]
  },
  {
   "cell_type": "code",
   "execution_count": 27,
   "id": "71565d69",
   "metadata": {},
   "outputs": [
    {
     "name": "stdout",
     "output_type": "stream",
     "text": [
      "12.93942086092932\n",
      "Test set\n",
      "MSE: 167.42861221625287\n",
      "MAE: 10.485144891679749\n",
      "RMSE: 12.93942086092932\n",
      "R-squared: 0.20641049755063323 , from <0,1> \n"
     ]
    }
   ],
   "source": [
    "residual(valid_y, predicted_valid_y)\n",
    "evaluateRegressor(valid_y, predicted_valid_y)"
   ]
  },
  {
   "cell_type": "markdown",
   "id": "a55f385f",
   "metadata": {},
   "source": [
    "## MULTITASK LASSO (3 izlaza)"
   ]
  },
  {
   "cell_type": "markdown",
   "id": "758929b3",
   "metadata": {},
   "source": [
    "Priprema podataka"
   ]
  },
  {
   "cell_type": "code",
   "execution_count": 64,
   "id": "5040159e",
   "metadata": {},
   "outputs": [],
   "source": [
    "\n",
    "X_lasso =SP_csv_clean.drop([\"math score\",\"reading score\",\"writing score\",\"AVERAGE\"],axis = 'columns') \n",
    "Y_3_lasso =SP_csv_clean[[\"math score\",\"reading score\",\"writing score\"]]\n",
    "\n",
    "X_lasso = encode_data(X_lasso,enc_type=\"LABEL\",removeY=False)"
   ]
  },
  {
   "cell_type": "code",
   "execution_count": 65,
   "id": "c1edc023",
   "metadata": {},
   "outputs": [],
   "source": [
    "train_X_lasso, valid_X_lasso, train_y_lasso, valid_y_lasso = train_test_split(\n",
    "    X_lasso, \n",
    "    Y_3_lasso, \n",
    "    test_size=0.2, \n",
    "    shuffle = True, \n",
    "    #random_state=1\n",
    ")"
   ]
  },
  {
   "cell_type": "markdown",
   "id": "d051dd5b",
   "metadata": {},
   "source": [
    "Učenje modela"
   ]
  },
  {
   "cell_type": "code",
   "execution_count": 66,
   "id": "5052c34f",
   "metadata": {},
   "outputs": [],
   "source": [
    "# import linear model library\n",
    "from sklearn import linear_model\n",
    "  \n",
    "# create MultiTaskLasso model\n",
    "MTL = linear_model.MultiTaskLasso(alpha = 0.5)\n",
    "\n",
    "# fit the model to a data\n",
    "#MTL.fit([[1, 0], [1, 3], [2, 2]], [[0, 2], [1, 4], [2, 4]])\n",
    "MTL.fit(train_X_lasso,train_y_lasso)\n",
    "\n",
    "pred=MTL.predict(valid_X_lasso)\n",
    "# perform prediction and print the result\n",
    "#print(\"Prediciton result: \\n\", MTL.predict(valid_X_lasso), \"\\n\")\n",
    "  \n",
    "# print the coefficients\n",
    "#print(\"Coefficients: \\n\", MTL.coef_, \"\\n\")\n",
    "  \n",
    "# print the intercepts\n",
    "#print(\"Intercepts: \\n\", MTL.intercept_, \"\\n\")\n",
    "  \n",
    "# print the number of iterations performed\n",
    "#print(\"Number of Iterations: \", MTL.n_iter_, \"\\n\")"
   ]
  },
  {
   "cell_type": "code",
   "execution_count": 67,
   "id": "18562978",
   "metadata": {},
   "outputs": [
    {
     "name": "stdout",
     "output_type": "stream",
     "text": [
      "math score       13.478359\n",
      "reading score    13.100779\n",
      "writing score    12.773533\n",
      "dtype: float64\n",
      "\n",
      "Scores:\n",
      "Test set\n",
      "MSE: 172.15324006688198\n",
      "MAE: 10.263241119676945\n",
      "RMSE: 13.117557036868016\n",
      "R-squared: 0.24203762234503381 , from <0,1> \n"
     ]
    }
   ],
   "source": [
    "residual(valid_y_lasso, pred)\n",
    "\n",
    "print(\"\\nScores:\")\n",
    "evaluateRegressor(valid_y_lasso, pred)"
   ]
  },
  {
   "cell_type": "markdown",
   "id": "e26d7cd1",
   "metadata": {},
   "source": [
    "## DODATI  XGBoost"
   ]
  },
  {
   "cell_type": "code",
   "execution_count": null,
   "id": "8d211491",
   "metadata": {},
   "outputs": [],
   "source": []
  },
  {
   "cell_type": "code",
   "execution_count": null,
   "id": "ec37b1a7",
   "metadata": {},
   "outputs": [],
   "source": []
  },
  {
   "cell_type": "code",
   "execution_count": null,
   "id": "a9ffaead",
   "metadata": {},
   "outputs": [],
   "source": []
  },
  {
   "cell_type": "markdown",
   "id": "3deffcfc",
   "metadata": {},
   "source": [
    "## LightGBM"
   ]
  },
  {
   "cell_type": "code",
   "execution_count": 74,
   "id": "e1652afb",
   "metadata": {},
   "outputs": [
    {
     "name": "stdout",
     "output_type": "stream",
     "text": [
      "    Training Set\n",
      "MSE: 135.03610464240282\n",
      "MAE: 9.272558419639026\n",
      "RMSE: 11.62050363118582\n",
      "R-squared: 0.33434753145964746 , from <0,1> \n",
      "    Test Set\n",
      "MSE: 171.8251678652093\n",
      "MAE: 10.47102066223948\n",
      "RMSE: 13.108209941300501\n",
      "R-squared: 0.1413364555855603 , from <0,1> \n"
     ]
    }
   ],
   "source": [
    "LGBMReg = lgb.LGBMRegressor(random_state=0).fit(train_X,train_y)\n",
    "\n",
    "predicted_train_y = LGBMReg.predict(train_X)\n",
    "evaluateRegressor(train_y,predicted_train_y,\"    Training Set\")\n",
    "predicted_valid_y = LGBMReg.predict(valid_X)\n",
    "evaluateRegressor(valid_y,predicted_valid_y,\"    Test Set\")"
   ]
  },
  {
   "cell_type": "code",
   "execution_count": 75,
   "id": "86bbb8d7",
   "metadata": {
    "scrolled": true
   },
   "outputs": [
    {
     "data": {
      "text/plain": [
       "<AxesSubplot:title={'center':'Feature importance'}, xlabel='Feature importance', ylabel='Features'>"
      ]
     },
     "execution_count": 75,
     "metadata": {},
     "output_type": "execute_result"
    },
    {
     "data": {
      "image/png": "[encoded data removed]",
      "text/plain": [
       "<Figure size 1800x1440 with 1 Axes>"
      ]
     },
     "metadata": {
      "needs_background": "light"
     },
     "output_type": "display_data"
    }
   ],
   "source": [
    "lgb.plot_importance(LGBMReg,figsize=(25,20))"
   ]
  },
  {
   "cell_type": "code",
   "execution_count": 79,
   "id": "d3718b65",
   "metadata": {
    "scrolled": true
   },
   "outputs": [
    {
     "data": {
      "image/png": "[encoded data removed]",
      "text/plain": [
       "<Figure size 576x252 with 2 Axes>"
      ]
     },
     "metadata": {
      "needs_background": "light"
     },
     "output_type": "display_data"
    }
   ],
   "source": [
    "#LGBMReg.params['objective'] = 'regression'\n",
    "shap_values = shap.TreeExplainer(LGBMReg).shap_values(train_X)\n",
    "shap.summary_plot(shap_values, train_X)"
   ]
  },
  {
   "cell_type": "markdown",
   "id": "e1e99804",
   "metadata": {},
   "source": [
    "## CATBoost"
   ]
  },
  {
   "cell_type": "code",
   "execution_count": null,
   "id": "b9426ad5",
   "metadata": {
    "scrolled": true
   },
   "outputs": [],
   "source": [
    "from catboost import CatBoostRegressor\n",
    "# Initialize data\n",
    "\n",
    "train_data = train_X\n",
    "\n",
    "eval_data = valid_X\n",
    "\n",
    "train_labels = train_y\n",
    "\n",
    "# Initialize CatBoostRegressor\n",
    "model = CatBoostRegressor(iterations=2000,\n",
    "                          learning_rate=1,\n",
    "                          depth=2)\n",
    "# Fit model\n",
    "model.fit(train_data, train_labels)\n"
   ]
  },
  {
   "cell_type": "code",
   "execution_count": 107,
   "id": "f0762dba",
   "metadata": {},
   "outputs": [],
   "source": [
    "# Get predictions\n",
    "pred_train= model.predict(train_data)\n",
    "pred = model.predict(eval_data)"
   ]
  },
  {
   "cell_type": "code",
   "execution_count": 108,
   "id": "b4ba25ce",
   "metadata": {},
   "outputs": [
    {
     "name": "stdout",
     "output_type": "stream",
     "text": [
      "12.730170829055233\n",
      "\n",
      "Scores:\n",
      "Test set\n",
      "MSE: 148.9607596040786\n",
      "MAE: 9.76538646451899\n",
      "RMSE: 12.204948160646918\n",
      "R-squared: 0.26570677072859783 , from <0,1> \n",
      "Test set\n",
      "MSE: 162.0572493369288\n",
      "MAE: 10.280159951339769\n",
      "RMSE: 12.730170829055233\n",
      "R-squared: 0.19014976768210012 , from <0,1> \n"
     ]
    }
   ],
   "source": [
    "residual(valid_y, pred)\n",
    "\n",
    "print(\"\\nScores:\")\n",
    "evaluateRegressor(train_y, pred_train)\n",
    "evaluateRegressor(valid_y, pred)"
   ]
  },
  {
   "cell_type": "code",
   "execution_count": null,
   "id": "a549e7fc",
   "metadata": {},
   "outputs": [],
   "source": []
  },
  {
   "cell_type": "markdown",
   "id": "a59cbee7",
   "metadata": {},
   "source": [
    "## ANN"
   ]
  },
  {
   "cell_type": "code",
   "execution_count": null,
   "id": "c71b6186",
   "metadata": {},
   "outputs": [],
   "source": [
    "import tensorflow as tf\n",
    "from tensorflow import keras\n",
    "from tensorflow.keras.models import Sequential\n",
    "from tensorflow.keras.layers import Dense\n",
    "# Importing necessary models for implementation of ANN\n",
    "\n",
    "\n",
    "\n",
    "model = Sequential()\n",
    "model.add(Dense(100, input_dim=train_X.columns.value_counts().sum(), activation=\"softmax\"))\n",
    "model.add(Dense(100, activation=\"relu\"))\n",
    "model.add(Dense(1, kernel_initializer=\"normal\"))\n",
    "model.compile(loss=\"mean_squared_error\", optimizer = \"adam\", metrics = [\"mse\"])\n",
    "\n",
    "model.fit(train_X, train_y, epochs=300)"
   ]
  },
  {
   "cell_type": "markdown",
   "id": "c0c7e283",
   "metadata": {},
   "source": [
    "TESTIRANJE"
   ]
  },
  {
   "cell_type": "code",
   "execution_count": 68,
   "id": "588fc688",
   "metadata": {},
   "outputs": [],
   "source": [
    "from tensorflow.keras.models import Model, load_model\n",
    "#model.save('cnn_model.h5')\n",
    "model = load_model('cnn_model.h5')\n",
    "\n",
    "predicted_valid_y = model.predict(valid_X)\n",
    "predicted_valid_y = pd.Series([i[0] for i in predicted_valid_y])"
   ]
  },
  {
   "cell_type": "code",
   "execution_count": 69,
   "id": "93573df4",
   "metadata": {
    "scrolled": true
   },
   "outputs": [
    {
     "name": "stdout",
     "output_type": "stream",
     "text": [
      "15.377039470135166\n",
      "Test set\n",
      "MSE: 128.2216772375312\n",
      "MAE: 9.298129488627117\n",
      "RMSE: 11.323501103348345\n",
      "R-squared: 0.3397466131616288 , from <0,1> \n"
     ]
    }
   ],
   "source": [
    "residual(valid_y, predicted_valid_y)\n",
    "evaluateRegressor(valid_y, predicted_valid_y)"
   ]
  },
  {
   "cell_type": "markdown",
   "id": "79d66ae7",
   "metadata": {},
   "source": [
    "## LOGISTIČKA"
   ]
  },
  {
   "cell_type": "code",
   "execution_count": null,
   "id": "3b930704",
   "metadata": {},
   "outputs": [],
   "source": []
  },
  {
   "cell_type": "code",
   "execution_count": null,
   "id": "3255052f",
   "metadata": {},
   "outputs": [],
   "source": []
  },
  {
   "cell_type": "code",
   "execution_count": null,
   "id": "14dfe60b",
   "metadata": {},
   "outputs": [],
   "source": []
  },
  {
   "cell_type": "markdown",
   "id": "7b35251c",
   "metadata": {},
   "source": [
    "## SLUČAJNE SUME"
   ]
  },
  {
   "cell_type": "code",
   "execution_count": null,
   "id": "9b961193",
   "metadata": {},
   "outputs": [],
   "source": []
  },
  {
   "cell_type": "code",
   "execution_count": 16,
   "id": "7eae8009",
   "metadata": {},
   "outputs": [
    {
     "data": {
      "text/plain": [
       "RandomForestRegressor(n_estimators=400)"
      ]
     },
     "execution_count": 16,
     "metadata": {},
     "output_type": "execute_result"
    }
   ],
   "source": [
    "from sklearn.ensemble import RandomForestRegressor\n",
    "\n",
    "# Creating Random Forest Model\n",
    "rf = RandomForestRegressor(n_estimators=400)\n",
    "\n",
    "# Training Model\n",
    "rf.fit(train_X , train_y)"
   ]
  },
  {
   "cell_type": "code",
   "execution_count": 17,
   "id": "d7600ef7",
   "metadata": {},
   "outputs": [],
   "source": [
    "# Predictions\n",
    "predictions = rf.predict(valid_X)"
   ]
  },
  {
   "cell_type": "code",
   "execution_count": 18,
   "id": "5c09f0fd",
   "metadata": {
    "scrolled": true
   },
   "outputs": [
    {
     "name": "stdout",
     "output_type": "stream",
     "text": [
      "14.522529864447256\n",
      "Test set\n",
      "MSE: 210.90387366376243\n",
      "MAE: 11.311023309589608\n",
      "RMSE: 14.522529864447256\n",
      "R-squared: 0.00034350192611809494 , from <0,1> \n"
     ]
    }
   ],
   "source": [
    "residual(valid_y, predictions)\n",
    "evaluateRegressor(valid_y, predictions)"
   ]
  },
  {
   "cell_type": "markdown",
   "id": "07c719ec",
   "metadata": {},
   "source": [
    "## SVM"
   ]
  },
  {
   "cell_type": "code",
   "execution_count": null,
   "id": "b309e70a",
   "metadata": {},
   "outputs": [],
   "source": [
    "SVM = svm.SVR().fit(train_X, train_y) "
   ]
  },
  {
   "cell_type": "code",
   "execution_count": null,
   "id": "473dedb8",
   "metadata": {},
   "outputs": [],
   "source": [
    "predicted_train_y = SVM.predict(train_X)                           #<----SVM -- Support Vector Machine\n",
    "evaluateRegressor(train_y,predicted_train_y,\"    Training Set\")\n",
    "predicted_valid_y = SVM.predict(valid_X)\n",
    "evaluateRegressor(valid_y,predicted_valid_y,\"    Test Set\")"
   ]
  },
  {
   "cell_type": "code",
   "execution_count": null,
   "id": "011eb66f",
   "metadata": {},
   "outputs": [],
   "source": [
    "from sklearn.svm import SVR\n",
    "def SV_reg(kernel,train_X, train_Y):\n",
    "    model=SVR(kernel)\n",
    "    model.fit(train_X, train_Y)\n",
    "    return model\n",
    "\n",
    "\n",
    "SVM_model= SV_reg(\"linear\",train_X, train_y)\n",
    "pred_linear = SVM_model.predict(valid_X)\n",
    "linear_rmse = np.sqrt(mean_squared_error(valid_y,pred_linear))\n",
    "\n",
    "SVM_model= SV_reg(\"poly\",train_X, train_y)\n",
    "pred_poly = SVM_model.predict(valid_X)\n",
    "poly_rmse = np.sqrt(mean_squared_error(valid_y,pred_poly))\n",
    "\n",
    "SVM_model= SV_reg(\"sigmoid\",train_X, train_y)\n",
    "pred_sigmoid = SVM_model.predict(valid_X)\n",
    "sigmoid_rmse = np.sqrt(mean_squared_error(valid_y,pred_sigmoid))\n",
    "\n",
    "SVM_model= SV_reg(\"rbf\",train_X, train_y)\n",
    "pred_rbf = SVM_model.predict(valid_X)\n",
    "rbf_rmse = np.sqrt(mean_squared_error(valid_y,pred_rbf))\n",
    "\n",
    "\n",
    "\n",
    "data = {\"kernel\":pd.Series([\"linear\",\"polynomial\",\"sigmoid\",\"rbf\"]),\n",
    "            \"Test RMSE\":pd.Series([linear_rmse,poly_rmse,sigmoid_rmse,rbf_rmse]),\n",
    "            \"Pred\":pd.Series([pred_linear,pred_poly,pred_sigmoid,pred_rbf])}\n",
    "table_rmse=pd.DataFrame(data)\n",
    "table_rmse"
   ]
  },
  {
   "cell_type": "markdown",
   "id": "3a1162a8",
   "metadata": {},
   "source": [
    "SLJEDECA SE DUGO IZVRSAVA"
   ]
  },
  {
   "cell_type": "code",
   "execution_count": null,
   "id": "a78704bb",
   "metadata": {},
   "outputs": [],
   "source": [
    "from sklearn.metrics import make_scorer\n",
    "from sklearn.model_selection import GridSearchCV\n",
    "\n",
    "K = 15\n",
    "parameters = [{'kernel': ['linear','sigmoid','rbf'], 'gamma': [2e-3,2e-2, 2e-1, 1, 2, 4, 8, 16],'C': [2e-5,2e-4,2e-3,2e-2, 2e-1, 1, 2, 4, 8, 16]}]\n",
    "scorer = make_scorer(mean_squared_error, greater_is_better=False)\n",
    "svr_gs = GridSearchCV(SVR(epsilon = 0.01), parameters, cv = K, scoring=scorer)\n",
    "\n",
    "svr_gs.fit(train_X, train_y)\n",
    "print(svr_gs.best_params_)"
   ]
  },
  {
   "cell_type": "markdown",
   "id": "d2475ca9",
   "metadata": {},
   "source": [
    "ONCE WE GET BEST RESULTS , WE ONCE AGAIN TRAIN OUR MODEL\n",
    "Results:\n",
    "    \n",
    "    {'C': 2, 'gamma': 0.002, 'kernel': 'linear'}"
   ]
  },
  {
   "cell_type": "code",
   "execution_count": null,
   "id": "b9d631b9",
   "metadata": {},
   "outputs": [],
   "source": [
    "regressor = SVR(**svr_gs.best_params_)\n",
    "regressor.fit(train_X,train_y)\n",
    "pred=regressor.predict(valid_X)\n",
    "\n",
    "error = np.sqrt(mean_squared_error(valid_y,pred))\n",
    "data = {\"kernel\":pd.Series([\"GS Output\"]),\"Test RMSE\":pd.Series([error]),\"Pred\":pd.Series([pred])}\n",
    "table_rmse = table_rmse.append(pd.DataFrame(data))\n",
    "print(table_rmse)"
   ]
  },
  {
   "cell_type": "markdown",
   "id": "56345b25",
   "metadata": {},
   "source": [
    "Final "
   ]
  },
  {
   "cell_type": "code",
   "execution_count": null,
   "id": "02043f77",
   "metadata": {},
   "outputs": [],
   "source": [
    "svr_test_rmse = table_rmse[\"Test RMSE\"].min()\n",
    "print(\"Test RMSE using SVR is:\",svr_test_rmse)"
   ]
  },
  {
   "cell_type": "markdown",
   "id": "0192e4af",
   "metadata": {},
   "source": [
    "# 4. Rezultati"
   ]
  },
  {
   "cell_type": "code",
   "execution_count": null,
   "id": "752daab2",
   "metadata": {},
   "outputs": [],
   "source": []
  }
 ],
 "metadata": {
  "kernelspec": {
   "display_name": "Python 3",
   "language": "python",
   "name": "python3"
  },
  "language_info": {
   "codemirror_mode": {
    "name": "ipython",
    "version": 3
   },
   "file_extension": ".py",
   "mimetype": "text/x-python",
   "name": "python",
   "nbconvert_exporter": "python",
   "pygments_lexer": "ipython3",
   "version": "3.8.6"
  }
 },
 "nbformat": 4,
 "nbformat_minor": 5
}
